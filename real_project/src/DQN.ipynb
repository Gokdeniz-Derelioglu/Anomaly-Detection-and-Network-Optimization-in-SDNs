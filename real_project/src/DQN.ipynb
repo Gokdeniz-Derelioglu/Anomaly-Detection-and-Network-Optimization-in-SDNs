{
 "cells": [
  {
   "cell_type": "markdown",
   "id": "16b1d2b6",
   "metadata": {},
   "source": [
    "# Making a DQN for our SDN system"
   ]
  },
  {
   "cell_type": "markdown",
   "id": "69289296",
   "metadata": {},
   "source": []
  }
 ],
 "metadata": {
  "language_info": {
   "name": "python"
  }
 },
 "nbformat": 4,
 "nbformat_minor": 5
}
