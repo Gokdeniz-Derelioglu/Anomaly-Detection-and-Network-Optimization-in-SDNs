{
 "cells": [
  {
   "cell_type": "markdown",
   "id": "16b1d2b6",
   "metadata": {},
   "source": [
    "# Making a DQN for our SDN system"
   ]
  },
  {
   "cell_type": "code",
   "execution_count": null,
   "id": "5f8a161d",
   "metadata": {},
   "outputs": [],
   "source": [
    "import torch\n",
    "import torch.nn as nn\n",
    "import torch.optim as optim\n",
    "import random\n",
    "import numpy as np\n",
    "\n",
    "class DQN(nn.Module):\n",
    "    def __init__(self, state_dim, action_dim, hidden_dim=128):\n",
    "        super(DQN, self).__init__()\n",
    "        self.net = nn.Sequential(\n",
    "            nn.Linear(state_dim, hidden_dim),\n",
    "            nn.ReLU(),\n",
    "            nn.Linear(hidden_dim, action_dim)\n",
    "        )\n",
    "\n",
    "    def forward(self, x):\n",
    "        return self.net(x)\n",
    "    \n",
    "    def compute_reward(packet, delivered=True):\n",
    "        if packet.dropped:\n",
    "            return -1.0  # penalty for dropping benign packet\n",
    "        elif packet.suspicion >= upper_thresh:\n",
    "            return 1.0   # reward for correctly blocking malicious packet\n",
    "        else:\n",
    "            # reward = negative latency to encourage fast delivery\n",
    "            return -packet.finish_t + packet.spawn_t\n"
   ]
  },
  {
   "cell_type": "code",
   "execution_count": null,
   "id": "a2e1082d",
   "metadata": {},
   "outputs": [],
   "source": []
  }
 ],
 "metadata": {
  "kernelspec": {
   "display_name": "torch_gpu",
   "language": "python",
   "name": "python3"
  },
  "language_info": {
   "name": "python",
   "version": "3.11.13"
  }
 },
 "nbformat": 4,
 "nbformat_minor": 5
}
