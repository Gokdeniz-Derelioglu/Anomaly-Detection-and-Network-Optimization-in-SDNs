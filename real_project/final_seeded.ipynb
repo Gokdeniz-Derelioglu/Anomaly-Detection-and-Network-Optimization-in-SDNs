{
 "cells": [
  {
   "cell_type": "markdown",
   "id": "24f81820",
   "metadata": {},
   "source": [
    "# Final Notebook"
   ]
  },
  {
   "cell_type": "code",
   "execution_count": 2,
   "id": "5cb8d36b",
   "metadata": {},
   "outputs": [],
   "source": [
    "import random, numpy as np, torch\n",
    "\n",
    "SEED = 42\n",
    "\n",
    "# Python\n",
    "random.seed(SEED)\n",
    "\n",
    "# NumPy\n",
    "np.random.seed(SEED)\n",
    "\n",
    "# Torch\n",
    "torch.manual_seed(SEED)\n",
    "torch.cuda.manual_seed(SEED)\n",
    "torch.backends.cudnn.deterministic = True\n",
    "torch.backends.cudnn.benchmark = False\n"
   ]
  },
  {
   "cell_type": "code",
   "execution_count": 3,
   "id": "28159035",
   "metadata": {},
   "outputs": [
    {
     "name": "stderr",
     "output_type": "stream",
     "text": [
      "wandb: Currently logged in as: derelioglugokdeniz (derelioglugokdeniz-bilkent-university) to https://api.wandb.ai. Use `wandb login --relogin` to force relogin\n"
     ]
    },
    {
     "data": {
      "text/html": [
       "Changes to your `wandb` environment variables will be ignored because your `wandb` session has already started. For more information on how to modify your settings with `wandb.init()` arguments, please refer to <a href='https://wandb.me/wandb-init' target=\"_blank\">the W&B docs</a>."
      ],
      "text/plain": [
       "<IPython.core.display.HTML object>"
      ]
     },
     "metadata": {},
     "output_type": "display_data"
    },
    {
     "name": "stderr",
     "output_type": "stream",
     "text": [
      "wandb: WARNING Using a boolean value for 'reinit' is deprecated. Use 'return_previous' or 'finish_previous' instead.\n"
     ]
    },
    {
     "data": {
      "text/html": [
       "creating run (0.0s)"
      ],
      "text/plain": [
       "<IPython.core.display.HTML object>"
      ]
     },
     "metadata": {},
     "output_type": "display_data"
    },
    {
     "data": {
      "text/html": [
       "Tracking run with wandb version 0.21.2"
      ],
      "text/plain": [
       "<IPython.core.display.HTML object>"
      ]
     },
     "metadata": {},
     "output_type": "display_data"
    },
    {
     "data": {
      "text/html": [
       "Run data is saved locally in <code>c:\\Users\\gokde\\OneDrive\\Masaüstü\\Anomaly-Detection-and-Network-Optimization-in-SDNs\\real_project\\wandb\\run-20250902_114617-gniy7pjk</code>"
      ],
      "text/plain": [
       "<IPython.core.display.HTML object>"
      ]
     },
     "metadata": {},
     "output_type": "display_data"
    },
    {
     "data": {
      "text/html": [
       "Syncing run <strong><a href='https://wandb.ai/derelioglugokdeniz-bilkent-university/AnomalyDetectionInSDNs/runs/gniy7pjk' target=\"_blank\">experiment_run</a></strong> to <a href='https://wandb.ai/derelioglugokdeniz-bilkent-university/AnomalyDetectionInSDNs' target=\"_blank\">Weights & Biases</a> (<a href='https://wandb.me/developer-guide' target=\"_blank\">docs</a>)<br>"
      ],
      "text/plain": [
       "<IPython.core.display.HTML object>"
      ]
     },
     "metadata": {},
     "output_type": "display_data"
    },
    {
     "data": {
      "text/html": [
       " View project at <a href='https://wandb.ai/derelioglugokdeniz-bilkent-university/AnomalyDetectionInSDNs' target=\"_blank\">https://wandb.ai/derelioglugokdeniz-bilkent-university/AnomalyDetectionInSDNs</a>"
      ],
      "text/plain": [
       "<IPython.core.display.HTML object>"
      ]
     },
     "metadata": {},
     "output_type": "display_data"
    },
    {
     "data": {
      "text/html": [
       " View run at <a href='https://wandb.ai/derelioglugokdeniz-bilkent-university/AnomalyDetectionInSDNs/runs/gniy7pjk' target=\"_blank\">https://wandb.ai/derelioglugokdeniz-bilkent-university/AnomalyDetectionInSDNs/runs/gniy7pjk</a>"
      ],
      "text/plain": [
       "<IPython.core.display.HTML object>"
      ]
     },
     "metadata": {},
     "output_type": "display_data"
    },
    {
     "data": {
      "text/html": [
       "<button onClick=\"this.nextSibling.style.display='block';this.style.display='none';\">Display W&B run</button><iframe src='https://wandb.ai/derelioglugokdeniz-bilkent-university/AnomalyDetectionInSDNs/runs/gniy7pjk?jupyter=true' style='border:none;width:100%;height:420px;display:none;'></iframe>"
      ],
      "text/plain": [
       "<wandb.sdk.wandb_run.Run at 0x29e53930690>"
      ]
     },
     "execution_count": 3,
     "metadata": {},
     "output_type": "execute_result"
    }
   ],
   "source": [
    "import wandb\n",
    "import os\n",
    "\n",
    "# Set your API key here\n",
    "os.environ[\"WANDB_API_KEY\"] = \"4cac7a348a78f711d2890b70c3252efbe9c16fe5\"\n",
    "\n",
    "wandb.init(\n",
    "    project=\"AnomalyDetectionInSDNs\",\n",
    "    name=\"experiment_run\",\n",
    "    reinit=True\n",
    ")\n"
   ]
  },
  {
   "cell_type": "markdown",
   "id": "df655de2",
   "metadata": {},
   "source": [
    "# Hopefully the FINAL notebook I'll need"
   ]
  },
  {
   "cell_type": "code",
   "execution_count": 4,
   "id": "c7b528c5",
   "metadata": {},
   "outputs": [],
   "source": [
    "import pandas as pd\n",
    "import glob\n",
    "import os\n",
    "import numpy as np"
   ]
  },
  {
   "cell_type": "code",
   "execution_count": 5,
   "id": "151b693f",
   "metadata": {},
   "outputs": [],
   "source": [
    "def merge_csv_files(folder_path, output_file=\"merged.csv\"):\n",
    "    csv_files = [os.path.join(folder_path, f) for f in os.listdir(folder_path) if f.endswith('.csv')]\n",
    "    dfs = []\n",
    "    for file in csv_files:\n",
    "        df = pd.read_csv(file)\n",
    "        df.columns = [col.strip() for col in df.columns]\n",
    "        dfs.append(df)\n",
    "    merged_df = pd.concat(dfs, ignore_index=True)\n",
    "    merged_df.to_csv(output_file, index=False)\n",
    "\n",
    "# Use correct relative path for CICIDS2017 folder\n",
    "merge_csv_files(\"../CICIDS2017\", \"merged.csv\")"
   ]
  },
  {
   "cell_type": "markdown",
   "id": "e6c96479",
   "metadata": {},
   "source": [
    "need to get this part to only include the top 50 features:"
   ]
  },
  {
   "cell_type": "code",
   "execution_count": 5,
   "id": "dcbb6e12",
   "metadata": {},
   "outputs": [
    {
     "name": "stdout",
     "output_type": "stream",
     "text": [
      "\n",
      "Top 50 selected features:\n",
      "['Destination Port', 'Init_Win_bytes_forward', 'Max Packet Length', 'Average Packet Size', 'Bwd Packet Length Max', 'Init_Win_bytes_backward', 'Min Packet Length', 'Bwd Packet Length Min', 'Packet Length Std', 'Subflow Fwd Bytes', 'Bwd Packet Length Mean', 'Bwd Packet Length Std', 'Total Length of Fwd Packets', 'Avg Fwd Segment Size', 'Avg Bwd Segment Size', 'Packet Length Mean', 'Packet Length Variance', 'Fwd Packet Length Mean', 'Fwd Header Length.1', 'Fwd Header Length', 'Total Length of Bwd Packets', 'Fwd Packet Length Max', 'Fwd Packet Length Min', 'Subflow Bwd Bytes', 'Bwd Header Length', 'act_data_pkt_fwd', 'Fwd IAT Min', 'Total Fwd Packets', 'Bwd Packets/s', 'min_seg_size_forward', 'Subflow Fwd Packets', 'Fwd IAT Std', 'URG Flag Count', 'ACK Flag Count', 'Flow IAT Max', 'Flow Bytes/s', 'Subflow Bwd Packets', 'Fwd IAT Max', 'Bwd IAT Total', 'Total Backward Packets', 'Flow Packets/s', 'Bwd IAT Max', 'Flow IAT Mean', 'PSH Flag Count', 'Flow IAT Std', 'Fwd Packet Length Std', 'Fwd IAT Total', 'Idle Min', 'Fwd IAT Mean', 'Flow IAT Min']\n",
      "\n",
      "Final shape: (1162445, 51)\n",
      "Number of features: 50\n",
      "First few feature names: ['Destination Port', 'Init_Win_bytes_forward', 'Max Packet Length', 'Average Packet Size', 'Bwd Packet Length Max', 'Init_Win_bytes_backward', 'Min Packet Length', 'Bwd Packet Length Min', 'Packet Length Std', 'Subflow Fwd Bytes']\n",
      "Label distribution:\n",
      " Label\n",
      "0    664425\n",
      "1    498020\n",
      "Name: count, dtype: int64\n"
     ]
    }
   ],
   "source": [
    "import pandas as pd\n",
    "import numpy as np\n",
    "from collections import Counter\n",
    "from sklearn.ensemble import RandomForestClassifier\n",
    "\n",
    "# ----------------------------\n",
    "# SETTINGS\n",
    "# ----------------------------\n",
    "file_path = \"merged.csv\"\n",
    "fraction = 0.85     # % of data to sample overall (keeps earliest fraction, preserves timeline)\n",
    "seq_length = 10     # default LSTM sequence length (adjust as needed)\n",
    "\n",
    "# ----------------------------\n",
    "# 1) Load in chunks (preserve order)\n",
    "# ----------------------------\n",
    "chunks = []\n",
    "chunk_size = 10_000\n",
    "for chunk in pd.read_csv(file_path, chunksize=chunk_size):\n",
    "    # Strip whitespace from column names\n",
    "    chunk.columns = chunk.columns.str.strip()\n",
    "\n",
    "    # Downcast numerics\n",
    "    for col in chunk.select_dtypes(include=['int', 'float']).columns:\n",
    "        if pd.api.types.is_integer_dtype(chunk[col]):\n",
    "            chunk[col] = pd.to_numeric(chunk[col], downcast='integer')\n",
    "        else:\n",
    "            chunk[col] = pd.to_numeric(chunk[col], downcast='float')\n",
    "\n",
    "    # Replace NaN/Inf inside chunk\n",
    "    chunk = chunk.replace([np.inf, -np.inf], np.nan).fillna(0)\n",
    "\n",
    "    chunks.append(chunk)\n",
    "\n",
    "data = pd.concat(chunks, ignore_index=True)\n",
    "del chunks  # free memory\n",
    "\n",
    "# ----------------------------\n",
    "# 2) Label to binary\n",
    "# ----------------------------\n",
    "if \"Label\" not in data.columns:\n",
    "    raise KeyError(\"Expected a 'Label' column.\")\n",
    "\n",
    "data[\"Label\"] = data[\"Label\"].apply(\n",
    "    lambda x: 0 if str(x).strip().upper() == \"BENIGN\" else 1\n",
    ").astype(np.int32)\n",
    "\n",
    "# ----------------------------\n",
    "# 3) Optional overall fraction (preserves order)\n",
    "# ----------------------------\n",
    "if fraction < 1.0:\n",
    "    n_sample = max(1, int(len(data) * fraction))\n",
    "    data = data.iloc[:n_sample].copy()\n",
    "\n",
    "# ----------------------------\n",
    "# 4) Time-aware benign downsampling (keeps chronology)\n",
    "# ----------------------------\n",
    "def time_aware_downsample_benign(df, label_col=\"Label\", max_benign_ratio=0.55):\n",
    "    keep_mask = np.zeros(len(df), dtype=bool)\n",
    "    benign_kept = 0\n",
    "    attack_kept = 0\n",
    "\n",
    "    label = df[label_col].to_numpy()\n",
    "\n",
    "    for i in range(len(df)):\n",
    "        if label[i] == 1:\n",
    "            keep_mask[i] = True\n",
    "            attack_kept += 1\n",
    "        else:\n",
    "            proposed_benign = benign_kept + 1\n",
    "            proposed_total  = proposed_benign + attack_kept\n",
    "            if proposed_total == 0:\n",
    "                keep_mask[i] = True\n",
    "                benign_kept += 1\n",
    "            else:\n",
    "                if (proposed_benign / proposed_total) <= max_benign_ratio:\n",
    "                    keep_mask[i] = True\n",
    "                    benign_kept += 1\n",
    "\n",
    "    kept = df.loc[keep_mask]\n",
    "    return kept\n",
    "\n",
    "def time_aware_stratified_downsample(df, label_col=\"Label\", max_benign_ratio=0.55, \n",
    "                                   time_window_size=1000):\n",
    "    \"\"\"\n",
    "    Downsample benign samples while maintaining both chronology AND \n",
    "    better class balance across time windows.\n",
    "    \"\"\"\n",
    "    keep_mask = np.zeros(len(df), dtype=bool)\n",
    "    label = df[label_col].to_numpy()\n",
    "    \n",
    "    # Process in time windows to ensure stratification across time\n",
    "    for window_start in range(0, len(df), time_window_size):\n",
    "        window_end = min(window_start + time_window_size, len(df))\n",
    "        window_labels = label[window_start:window_end]\n",
    "        \n",
    "        # Count attacks in this window\n",
    "        attack_count = np.sum(window_labels == 1)\n",
    "        benign_count = np.sum(window_labels == 0)\n",
    "        \n",
    "        # Calculate how many benign samples to keep in this window\n",
    "        if attack_count == 0:\n",
    "            # If no attacks, keep some benign samples\n",
    "            benign_to_keep = min(benign_count, int(time_window_size * (1 - max_benign_ratio)))\n",
    "        else:\n",
    "            # Calculate based on desired ratio\n",
    "            total_attacks_kept = attack_count\n",
    "            max_benign_to_keep = int(total_attacks_kept * max_benign_ratio / (1 - max_benign_ratio))\n",
    "            benign_to_keep = min(benign_count, max_benign_to_keep)\n",
    "        \n",
    "        # Keep all attacks in this window\n",
    "        attack_indices = np.where(window_labels == 1)[0] + window_start\n",
    "        keep_mask[attack_indices] = True\n",
    "        \n",
    "        # Keep chronologically first benign samples in this window\n",
    "        benign_indices = np.where(window_labels == 0)[0] + window_start\n",
    "        if len(benign_indices) > 0 and benign_to_keep > 0:\n",
    "            keep_benign = benign_indices[:benign_to_keep]  # Keep first ones chronologically\n",
    "            keep_mask[keep_benign] = True\n",
    "    \n",
    "    return df.loc[keep_mask].reset_index(drop=True)\n",
    "\n",
    "# Apply chronology-safe downsampling\n",
    "data = time_aware_stratified_downsample(data, label_col=\"Label\", max_benign_ratio=0.55)\n",
    "\n",
    "# ----------------------------\n",
    "# 5) Cap extreme values (exclude the label)\n",
    "# ----------------------------\n",
    "numeric_cols = [c for c in data.select_dtypes(include=[np.number]).columns if c != \"Label\"]\n",
    "for col in numeric_cols:\n",
    "    cap_value = data[col].quantile(0.999)\n",
    "    data[col] = np.clip(data[col], a_min=None, a_max=cap_value)\n",
    "\n",
    "# ----------------------------\n",
    "# 6) Feature selection: keep only TOP 50 features\n",
    "# ----------------------------\n",
    "X = data.drop(columns=[\"Label\"])\n",
    "y = data[\"Label\"]\n",
    "\n",
    "rf = RandomForestClassifier(\n",
    "    n_estimators=100,\n",
    "    random_state=42,\n",
    "    n_jobs=-1,\n",
    "    class_weight=\"balanced\"\n",
    ")\n",
    "rf.fit(X, y)\n",
    "\n",
    "importances = pd.Series(rf.feature_importances_, index=X.columns)\n",
    "top_features = importances.sort_values(ascending=False).head(50).index.tolist()\n",
    "\n",
    "print(\"\\nTop 50 selected features:\")\n",
    "print(top_features)\n",
    "\n",
    "data = data[top_features + [\"Label\"]]\n",
    "\n",
    "# ----------------------------\n",
    "# 7) Dtypes for ML (features float32, label int32)\n",
    "# ----------------------------\n",
    "for col in top_features:\n",
    "    data[col] = data[col].astype(np.float32)\n",
    "data[\"Label\"] = data[\"Label\"].astype(np.int32)\n",
    "\n",
    "# ----------------------------\n",
    "# Save final reduced dataset\n",
    "# ----------------------------\n",
    "data.to_csv(\"new_merged.csv\", index=False)\n",
    "\n",
    "# ----------------------------\n",
    "# Final assignment for downstream code\n",
    "# ----------------------------\n",
    "datadf = data.copy()\n",
    "ftnames = [c.strip() for c in datadf.columns if c.strip() != \"Label\"]\n",
    "\n",
    "print(f\"\\nFinal shape: {datadf.shape}\")\n",
    "print(f\"Number of features: {len(ftnames)}\")\n",
    "print(\"First few feature names:\", ftnames[:10])\n",
    "print(\"Label distribution:\\n\", datadf['Label'].value_counts())\n",
    "\n",
    "# ======================================================================\n",
    "# Chronology-safe sequence utilities (NO shuffling, NO stratify anywhere)\n",
    "# ======================================================================\n",
    "\n",
    "def create_sequences(X, y, sequence_length=10, label_strategy='last'):\n",
    "    \"\"\"\n",
    "    Create overlapping sequences without breaking chronology.\n",
    "    label_strategy: 'last' | 'majority' | 'any_attack'\n",
    "    \"\"\"\n",
    "    if len(X) < sequence_length:\n",
    "        sequence_length = len(X)\n",
    "        print(f\"[create_sequences] Adjusted sequence_length to {sequence_length}\")\n",
    "\n",
    "    X_sequences, y_sequences = [], []\n",
    "    for i in range(len(X) - sequence_length + 1):\n",
    "        X_seq = X[i:i+sequence_length]\n",
    "        y_seq = y[i:i+sequence_length]\n",
    "        X_sequences.append(X_seq)\n",
    "\n",
    "        if label_strategy == 'last':\n",
    "            y_sequences.append(y_seq[-1])\n",
    "        elif label_strategy == 'majority':\n",
    "            y_sequences.append(1 if np.sum(y_seq) > (len(y_seq) // 2) else 0)\n",
    "        elif label_strategy == 'any_attack':\n",
    "            y_sequences.append(1 if (y_seq == 1).any() else 0)\n",
    "        else:\n",
    "            raise ValueError(f\"Unknown label_strategy: {label_strategy}\")\n",
    "\n",
    "    X_sequences = np.asarray(X_sequences, dtype=np.float32)\n",
    "    y_sequences = np.asarray(y_sequences, dtype=np.float32)\n",
    "\n",
    "    return X_sequences, y_sequences\n",
    "\n",
    "def chrono_split_train_val_test(df, label_col=\"Label\", train_ratio=0.7, val_ratio=0.15):\n",
    "    \"\"\"\n",
    "    Chronological split on rows (NO shuffle). Test gets the tail.\n",
    "    \"\"\"\n",
    "    n = len(df)\n",
    "    n_train = int(n * train_ratio)\n",
    "    n_val = int(n * val_ratio)\n",
    "    n_test = n - n_train - n_val\n",
    "\n",
    "    train_df = df.iloc[:n_train]\n",
    "    val_df   = df.iloc[n_train:n_train+n_val]\n",
    "    test_df  = df.iloc[n_train+n_val:]\n",
    "\n",
    "    def xy(d):\n",
    "        X = d.drop(columns=[label_col]).to_numpy(dtype=np.float32)\n",
    "        y = d[label_col].to_numpy(dtype=np.int32)\n",
    "        return X, y\n",
    "\n",
    "    return xy(train_df), xy(val_df), xy(test_df)\n",
    "\n",
    "def build_chrono_sequences(df, label_col=\"Label\", sequence_length=10, label_strategy='last'):\n",
    "    \"\"\"\n",
    "    Split chronologically on raw rows, then build sequences inside each split so\n",
    "    no sequence crosses split boundaries.\n",
    "    \"\"\"\n",
    "    (X_tr, y_tr), (X_va, y_va), (X_te, y_te) = chrono_split_train_val_test(df, label_col=label_col)\n",
    "\n",
    "    X_train_seq, y_train_seq = create_sequences(X_tr, y_tr, sequence_length, label_strategy)\n",
    "    X_val_seq,   y_val_seq   = create_sequences(X_va, y_va, sequence_length, label_strategy)\n",
    "    X_test_seq,  y_test_seq  = create_sequences(X_te, y_te, sequence_length, label_strategy)\n",
    "\n",
    "    # Quick sanity print\n",
    "    def _dist(y):\n",
    "        c = Counter(y.astype(int).tolist())\n",
    "        total = len(y)\n",
    "        if total == 0:\n",
    "            return {}\n",
    "        return {k: f\"{v} ({v/total:.2%})\" for k, v in sorted(c.items())}\n",
    "\n",
    "    print(\"\\n=== Chronological split (sequence-level) ===\")\n",
    "    print(f\"Train seq: {X_train_seq.shape}, dist: { _dist(y_train_seq) }\")\n",
    "    print(f\"Val   seq: {X_val_seq.shape}, dist: { _dist(y_val_seq) }\")\n",
    "    print(f\"Test  seq: {X_test_seq.shape}, dist: { _dist(y_test_seq) }\")\n",
    "\n",
    "    return X_train_seq, y_train_seq, X_val_seq, y_val_seq, X_test_seq, y_test_seq\n",
    "\n",
    "from sklearn.model_selection import TimeSeriesSplit\n",
    "\n",
    "def build_chrono_kfold_sequences(df, label_col=\"Label\", sequence_length=10, \n",
    "                                label_strategy='last', n_splits=5):\n",
    "    \"\"\"\n",
    "    K-fold cross-validation that maintains chronological order.\n",
    "    Each fold uses progressively more past data for training.\n",
    "    \"\"\"\n",
    "    # Convert to numpy arrays first\n",
    "    X_full = df.drop(columns=[label_col]).to_numpy(dtype=np.float32)\n",
    "    y_full = df[label_col].to_numpy(dtype=np.int32)\n",
    "    \n",
    "    tscv = TimeSeriesSplit(n_splits=n_splits)\n",
    "    fold_data = []\n",
    "    \n",
    "    print(f\"\\n=== Chronological K-Fold ({n_splits} splits) ===\")\n",
    "    \n",
    "    for fold_idx, (train_idx, val_idx) in enumerate(tscv.split(X_full)):\n",
    "        # Maintain chronological order (TimeSeriesSplit already does this)\n",
    "        X_train_fold = X_full[train_idx]\n",
    "        y_train_fold = y_full[train_idx]\n",
    "        X_val_fold = X_full[val_idx]\n",
    "        y_val_fold = y_full[val_idx]\n",
    "        \n",
    "        # Create sequences within each fold (no cross-contamination)\n",
    "        X_train_seq, y_train_seq = create_sequences(X_train_fold, y_train_fold, \n",
    "                                                   sequence_length, label_strategy)\n",
    "        X_val_seq, y_val_seq = create_sequences(X_val_fold, y_val_fold, \n",
    "                                               sequence_length, label_strategy)\n",
    "        \n",
    "        # Distribution info\n",
    "        def _dist(y):\n",
    "            c = Counter(y.astype(int).tolist())\n",
    "            total = len(y)\n",
    "            if total == 0:\n",
    "                return {}\n",
    "            return {k: f\"{v} ({v/total:.2%})\" for k, v in sorted(c.items())}\n",
    "        \n",
    "        print(f\"Fold {fold_idx+1}: Train={X_train_seq.shape}, Val={X_val_seq.shape}\")\n",
    "        print(f\"  Train dist: {_dist(y_train_seq)}\")\n",
    "        print(f\"  Val dist: {_dist(y_val_seq)}\")\n",
    "        \n",
    "        fold_data.append({\n",
    "            'fold': fold_idx,\n",
    "            'X_train': X_train_seq,\n",
    "            'y_train': y_train_seq,\n",
    "            'X_val': X_val_seq,\n",
    "            'y_val': y_val_seq\n",
    "        })\n",
    "    \n",
    "    return fold_data"
   ]
  },
  {
   "cell_type": "markdown",
   "id": "f59fa15c",
   "metadata": {},
   "source": [
    "chunking -> dataset large, loading it all at once is not possible with our hardware\n",
    "preserving order -> this dataset is time-sensitive so we need to maintain the order\n",
    "labels -> string to int\n",
    "fractioning was something done to try out with less data at first (found out how much it can change later on in the project)\n",
    "downsampling -> too many benign samples\n",
    "RF used to determine most important 50 features\n",
    "\n",
    "\"chrono-sequences\" -> LSTM looks at past sequences. sequences must be split in order\n",
    "K-Fold -> splits data randomly into chunks but we needed chronological sequences. So we did that."
   ]
  },
  {
   "cell_type": "code",
   "execution_count": 6,
   "id": "79bb2633",
   "metadata": {},
   "outputs": [
    {
     "name": "stdout",
     "output_type": "stream",
     "text": [
      "Using device: cuda\n"
     ]
    }
   ],
   "source": [
    "import torch\n",
    "import torch.nn as nn\n",
    "from torch.utils.data import TensorDataset, DataLoader, WeightedRandomSampler\n",
    "import numpy as np\n",
    "import pandas as pd\n",
    "import matplotlib.pyplot as plt\n",
    "from sklearn.preprocessing import StandardScaler, RobustScaler, LabelEncoder\n",
    "from sklearn.model_selection import train_test_split, StratifiedKFold\n",
    "from sklearn.metrics import (\n",
    "    confusion_matrix, precision_score, recall_score, f1_score,\n",
    "    roc_auc_score, average_precision_score, roc_curve, precision_recall_curve,\n",
    "    classification_report, accuracy_score\n",
    ")\n",
    "from sklearn.linear_model import LogisticRegression\n",
    "from sklearn.ensemble import RandomForestClassifier\n",
    "from sklearn.neighbors import KNeighborsClassifier\n",
    "from sklearn.dummy import DummyClassifier\n",
    "import optuna\n",
    "import seaborn as sns\n",
    "from collections import Counter\n",
    "import warnings\n",
    "warnings.filterwarnings('ignore')\n",
    "\n",
    "# Set device\n",
    "device = torch.device('cuda' if torch.cuda.is_available() else 'cpu')\n",
    "print(f\"Using device: {device}\")"
   ]
  },
  {
   "cell_type": "code",
   "execution_count": 7,
   "id": "b267374b",
   "metadata": {},
   "outputs": [],
   "source": [
    "def print_data_info(X, y, stage_name):\n",
    "    \"\"\"Print comprehensive data information\"\"\"\n",
    "    print(f\"\\n=== {stage_name} Data Info ===\")\n",
    "    print(f\"Feature matrix shape: {X.shape}\")\n",
    "    print(f\"Labels shape: {y.shape}\")\n",
    "    print(f\"Feature data type: {X.dtype}\")\n",
    "    print(f\"Label data type: {y.dtype}\")\n",
    "    \n",
    "    # Check for NaN/inf values\n",
    "    nan_count = np.isnan(X).sum()\n",
    "    inf_count = np.isinf(X).sum()\n",
    "    print(f\"NaN values in features: {nan_count}\")\n",
    "    print(f\"Inf values in features: {inf_count}\")\n",
    "    \n",
    "    # Basic statistics\n",
    "    print(f\"Feature matrix - Min: {X.min():.4f}, Max: {X.max():.4f}, Mean: {X.mean():.4f}\")\n",
    "    \n",
    "    # Label distribution\n",
    "    unique_labels, counts = np.unique(y, return_counts=True)\n",
    "    print(f\"Label distribution:\")\n",
    "    for label, count in zip(unique_labels, counts):\n",
    "        percentage = (count / len(y)) * 100\n",
    "        print(f\"  Class {int(label)}: {count} samples ({percentage:.2f}%)\")\n",
    "    \n",
    "    # Sample some labels\n",
    "    print(f\"First 20 labels: {y[:20]}\")\n",
    "    print(f\"Last 20 labels: {y[-20:]}\")\n",
    "\n",
    "def validate_data_splits(X_train, y_train, X_val, y_val, X_test, y_test):\n",
    "    \"\"\"Validate that data splits preserve class distribution\"\"\"\n",
    "    print(\"\\n=== Data Split Validation ===\")\n",
    "    \n",
    "    # Check shapes\n",
    "    print(f\"Original total samples: {len(X_train) + len(X_val) + len(X_test)}\")\n",
    "    print(f\"Train: {X_train.shape[0]} ({X_train.shape[0]/(len(X_train) + len(X_val) + len(X_test))*100:.1f}%)\")\n",
    "    print(f\"Val: {X_val.shape[0]} ({X_val.shape[0]/(len(X_train) + len(X_val) + len(X_test))*100:.1f}%)\")\n",
    "    print(f\"Test: {X_test.shape[0]} ({X_test.shape[0]/(len(X_train) + len(X_val) + len(X_test))*100:.1f}%)\")\n",
    "    \n",
    "    # Check class distributions\n",
    "    datasets = [(\"Train\", y_train), (\"Val\", y_val), (\"Test\", y_test)]\n",
    "    \n",
    "    print(\"\\nClass distributions across splits:\")\n",
    "    for name, y_split in datasets:\n",
    "        unique_labels, counts = np.unique(y_split, return_counts=True)\n",
    "        print(f\"{name}:\")\n",
    "        for label, count in zip(unique_labels, counts):\n",
    "            percentage = (count / len(y_split)) * 100\n",
    "            print(f\"  Class {int(label)}: {count} samples ({percentage:.2f}%)\")\n",
    "    \n",
    "    # Check for data leakage indicators\n",
    "    print(f\"\\nFeature statistics consistency check:\")\n",
    "    print(f\"Train mean: {X_train.mean():.6f}\")\n",
    "    print(f\"Val mean: {X_val.mean():.6f}\")\n",
    "    print(f\"Test mean: {X_test.mean():.6f}\")\n",
    "\n",
    "def check_preprocessing_integrity(X_before, y_before, X_after, y_after, stage_name):\n",
    "    \"\"\"Check if preprocessing preserved data integrity\"\"\"\n",
    "    print(f\"\\n=== {stage_name} Preprocessing Integrity Check ===\")\n",
    "    \n",
    "    # Shape consistency\n",
    "    assert X_before.shape[0] == X_after.shape[0], f\"Sample count mismatch: {X_before.shape[0]} vs {X_after.shape[0]}\"\n",
    "    assert len(y_before) == len(y_after), f\"Label count mismatch: {len(y_before)} vs {len(y_after)}\"\n",
    "    print(\"✓ Sample counts preserved\")\n",
    "    \n",
    "    # Label consistency\n",
    "    assert np.array_equal(y_before, y_after), \"Labels were modified during preprocessing!\"\n",
    "    print(\"✓ Labels preserved\")\n",
    "    \n",
    "    # Feature scaling check\n",
    "    if stage_name == \"Scaling\":\n",
    "        print(f\"Before scaling - Min: {X_before.min():.4f}, Max: {X_before.max():.4f}\")\n",
    "        print(f\"After scaling - Min: {X_after.min():.4f}, Max: {X_after.max():.4f}\")\n",
    "        print(f\"After scaling - Mean: {X_after.mean():.6f}, Std: {X_after.std():.6f}\")\n"
   ]
  },
  {
   "cell_type": "code",
   "execution_count": 8,
   "id": "13ed8c7a",
   "metadata": {},
   "outputs": [],
   "source": [
    "class BaselineEvaluator:\n",
    "    def __init__(self):\n",
    "        self.models = {}\n",
    "        self.results = {}\n",
    "    \n",
    "    def add_dummy_classifier(self, X_train, y_train):\n",
    "        \"\"\"Add majority class predictor\"\"\"\n",
    "        print(\"Adding Majority Class Predictor...\")\n",
    "        self.models['majority_class'] = DummyClassifier(strategy='most_frequent', random_state=42)\n",
    "        self.models['majority_class'].fit(X_train, y_train)\n",
    "    \n",
    "    def add_logistic_regression(self, X_train, y_train):\n",
    "        \"\"\"Add logistic regression baseline\"\"\"\n",
    "        print(\"Adding Logistic Regression...\")\n",
    "        self.models['logistic_regression'] = LogisticRegression(\n",
    "            random_state=42, \n",
    "            max_iter=1000,\n",
    "            class_weight='balanced'\n",
    "        )\n",
    "        self.models['logistic_regression'].fit(X_train, y_train)\n",
    "    \n",
    "    def add_random_forest(self, X_train, y_train):\n",
    "        \"\"\"Add random forest baseline\"\"\"\n",
    "        print(\"Adding Random Forest...\")\n",
    "        self.models['random_forest'] = RandomForestClassifier(\n",
    "            n_estimators=100,\n",
    "            random_state=42,\n",
    "            class_weight='balanced',\n",
    "            n_jobs=-1\n",
    "        )\n",
    "        self.models['random_forest'].fit(X_train, y_train)\n",
    "    \n",
    "    def add_knn(self, X_train, y_train):\n",
    "        \"\"\"Add KNN baseline\"\"\"\n",
    "        print(\"Adding KNN...\")\n",
    "        # Use smaller sample for KNN if dataset is too large\n",
    "        if len(X_train) > 10000:\n",
    "            print(f\"Using subset of {min(5000, len(X_train))} samples for KNN training...\")\n",
    "            indices = np.random.choice(len(X_train), min(5000, len(X_train)), replace=False)\n",
    "            X_train_knn = X_train[indices]\n",
    "            y_train_knn = y_train[indices]\n",
    "        else:\n",
    "            X_train_knn = X_train\n",
    "            y_train_knn = y_train\n",
    "            \n",
    "        self.models['knn'] = KNeighborsClassifier(n_neighbors=5, n_jobs=-1)\n",
    "        self.models['knn'].fit(X_train_knn, y_train_knn)\n",
    "    \n",
    "    def evaluate_all(self, X_test, y_test, model_name_prefix=\"Baseline\"):\n",
    "        \"\"\"Evaluate all baseline models\"\"\"\n",
    "        print(f\"\\n=== {model_name_prefix} Model Evaluation ===\")\n",
    "        \n",
    "        for name, model in self.models.items():\n",
    "            print(f\"\\nEvaluating {name.replace('_', ' ').title()}...\")\n",
    "            \n",
    "            # Predictions\n",
    "            try:\n",
    "                y_pred = model.predict(X_test)\n",
    "                y_prob = model.predict_proba(X_test)[:, 1] if hasattr(model, 'predict_proba') else y_pred\n",
    "            except Exception as e:\n",
    "                print(f\"Error with {name}: {e}\")\n",
    "                continue\n",
    "            \n",
    "            # Calculate metrics\n",
    "            accuracy = accuracy_score(y_test, y_pred)\n",
    "            precision = precision_score(y_test, y_pred, zero_division=0)\n",
    "            recall = recall_score(y_test, y_pred, zero_division=0)\n",
    "            f1 = f1_score(y_test, y_pred, zero_division=0)\n",
    "            \n",
    "            # AUC calculation\n",
    "            try:\n",
    "                if len(np.unique(y_test)) > 1:\n",
    "                    auc = roc_auc_score(y_test, y_prob)\n",
    "                    pr_auc = average_precision_score(y_test, y_prob)\n",
    "                else:\n",
    "                    auc = pr_auc = 0.5\n",
    "            except:\n",
    "                auc = pr_auc = 0.5\n",
    "            \n",
    "            # Store results\n",
    "            self.results[name] = {\n",
    "                'accuracy': accuracy,\n",
    "                'precision': precision,\n",
    "                'recall': recall,\n",
    "                'f1': f1,\n",
    "                'auc': auc,\n",
    "                'pr_auc': pr_auc,\n",
    "                'y_pred': y_pred,\n",
    "                'y_prob': y_prob\n",
    "            }\n",
    "            \n",
    "            # Print results\n",
    "            print(f\"  Accuracy:  {accuracy:.4f}\")\n",
    "            print(f\"  Precision: {precision:.4f}\")\n",
    "            print(f\"  Recall:    {recall:.4f}\")\n",
    "            print(f\"  F1 Score:  {f1:.4f}\")\n",
    "            print(f\"  AUC:       {auc:.4f}\")\n",
    "            print(f\"  PR-AUC:    {pr_auc:.4f}\")\n",
    "    \n",
    "    def plot_confusion_matrices(self, y_test):\n",
    "        \"\"\"Plot confusion matrices for all models with robust error handling\"\"\"\n",
    "        n_models = len(self.results)  # Use results, not models\n",
    "        if n_models == 0:\n",
    "            print(\"No model results available for confusion matrix plotting\")\n",
    "            return\n",
    "        \n",
    "        print(f\"Plotting confusion matrices for {n_models} models...\")\n",
    "        \n",
    "        # Try the subplot approach first\n",
    "        try:\n",
    "            cols = min(3, n_models)\n",
    "            rows = (n_models + cols - 1) // cols\n",
    "            \n",
    "            fig, axes = plt.subplots(rows, cols, figsize=(5*cols, 4*rows))\n",
    "            \n",
    "            # Convert to 2D array for consistent indexing\n",
    "            if n_models == 1:\n",
    "                axes = np.array([[axes]])\n",
    "            elif rows == 1:\n",
    "                axes = axes.reshape(1, -1)\n",
    "            elif cols == 1:\n",
    "                axes = axes.reshape(-1, 1)\n",
    "            \n",
    "            plot_idx = 0\n",
    "            for name, results in self.results.items():\n",
    "                try:\n",
    "                    row = plot_idx // cols\n",
    "                    col = plot_idx % cols\n",
    "                    \n",
    "                    ax = axes[row, col]\n",
    "                    \n",
    "                    cm = confusion_matrix(y_test, results['y_pred'])\n",
    "                    sns.heatmap(cm, annot=True, fmt='d', ax=ax, cmap='Blues')\n",
    "                    ax.set_title(f'{name.replace(\"_\", \" \").title()}\\nF1: {results[\"f1\"]:.3f}, AUC: {results[\"auc\"]:.3f}')\n",
    "                    ax.set_xlabel('Predicted')\n",
    "                    ax.set_ylabel('Actual')\n",
    "                    \n",
    "                    plot_idx += 1\n",
    "                    \n",
    "                except Exception as e:\n",
    "                    print(f\"Error plotting confusion matrix for {name}: {e}\")\n",
    "                    plot_idx += 1\n",
    "                    continue\n",
    "            \n",
    "            # Hide empty subplots\n",
    "            for idx in range(n_models, rows * cols):\n",
    "                try:\n",
    "                    row = idx // cols\n",
    "                    col = idx % cols\n",
    "                    axes[row, col].axis('off')\n",
    "                except:\n",
    "                    continue\n",
    "            \n",
    "            plt.tight_layout()\n",
    "            plt.show()\n",
    "            print(\"✅ Confusion matrices plotted successfully\")\n",
    "            \n",
    "        except Exception as e:\n",
    "            print(f\"Subplot approach failed: {e}\")\n",
    "            print(\"Falling back to individual plots...\")\n",
    "            \n",
    "            # Fallback: individual plots\n",
    "            try:\n",
    "                for name, results in self.results.items():\n",
    "                    try:\n",
    "                        plt.figure(figsize=(6, 4))\n",
    "                        cm = confusion_matrix(y_test, results['y_pred'])\n",
    "                        sns.heatmap(cm, annot=True, fmt='d', cmap='Blues')\n",
    "                        plt.title(f'{name.replace(\"_\", \" \").title()}\\nF1: {results[\"f1\"]:.3f}, AUC: {results[\"auc\"]:.3f}')\n",
    "                        plt.xlabel('Predicted')\n",
    "                        plt.ylabel('Actual')\n",
    "                        plt.tight_layout()\n",
    "                        plt.show()\n",
    "                        print(f\"✅ Confusion matrix for {name} plotted\")\n",
    "                    except Exception as e2:\n",
    "                        print(f\"❌ Failed to plot confusion matrix for {name}: {e2}\")\n",
    "                        \n",
    "            except Exception as e3:\n",
    "                print(f\"❌ All plotting approaches failed: {e3}\")\n",
    "                print(\"Skipping confusion matrix plots...\")\n",
    "    \n",
    "    def get_results_summary(self):\n",
    "        \"\"\"Get summary of all baseline results\"\"\"\n",
    "        if not self.results:\n",
    "            print(\"No results available for summary\")\n",
    "            return pd.DataFrame()\n",
    "            \n",
    "        summary_data = []\n",
    "        for name, results in self.results.items():\n",
    "            summary_data.append({\n",
    "                'Model': name.replace('_', ' ').title(),\n",
    "                'Accuracy': results['accuracy'],\n",
    "                'Precision': results['precision'],\n",
    "                'Recall': results['recall'],\n",
    "                'F1': results['f1'],\n",
    "                'AUC': results['auc'],\n",
    "                'PR-AUC': results['pr_auc']\n",
    "            })\n",
    "        \n",
    "        return pd.DataFrame(summary_data).round(4)\n",
    "    \n",
    "    # Replace your plot_confusion_matrices method with this simple version\n",
    "    def plot_confusion_matrices(self, y_test):\n",
    "        \"\"\"Plot confusion matrices for all models - Simple version\"\"\"\n",
    "        if not self.results:\n",
    "            print(\"No results available for plotting\")\n",
    "            return\n",
    "        \n",
    "        print(f\"Plotting confusion matrices for {len(self.results)} models...\")\n",
    "        \n",
    "        # Use simple individual plots to avoid matplotlib axes issues\n",
    "        for name, results in self.results.items():\n",
    "            try:\n",
    "                print(f\"Plotting confusion matrix for {name}...\")\n",
    "                \n",
    "                # Create a new figure for each model\n",
    "                plt.figure(figsize=(6, 5))\n",
    "                \n",
    "                # Calculate confusion matrix\n",
    "                cm = confusion_matrix(y_test, results['y_pred'])\n",
    "                \n",
    "                # Use matplotlib directly instead of seaborn to avoid axes issues\n",
    "                plt.imshow(cm, interpolation='nearest', cmap='Blues')\n",
    "                plt.colorbar()\n",
    "                \n",
    "                # Add text annotations\n",
    "                for i in range(cm.shape[0]):\n",
    "                    for j in range(cm.shape[1]):\n",
    "                        plt.text(j, i, str(cm[i, j]), \n",
    "                                ha='center', va='center', \n",
    "                                color='white' if cm[i, j] > cm.max() / 2 else 'black',\n",
    "                                fontsize=14, fontweight='bold')\n",
    "                \n",
    "                # Labels and title\n",
    "                plt.title(f'{name.replace(\"_\", \" \").title()}\\nF1: {results[\"f1\"]:.3f}, AUC: {results[\"auc\"]:.3f}', \n",
    "                        fontsize=12, pad=20)\n",
    "                plt.xlabel('Predicted Label', fontsize=11)\n",
    "                plt.ylabel('True Label', fontsize=11)\n",
    "                \n",
    "                # Set tick labels\n",
    "                tick_labels = ['Benign', 'Attack']\n",
    "                plt.xticks(range(len(tick_labels)), tick_labels)\n",
    "                plt.yticks(range(len(tick_labels)), tick_labels)\n",
    "                \n",
    "                plt.tight_layout()\n",
    "                plt.show()\n",
    "                \n",
    "            except Exception as e:\n",
    "                print(f\"Error plotting confusion matrix for {name}: {e}\")\n",
    "                # Still try to show basic metrics\n",
    "                try:\n",
    "                    cm = confusion_matrix(y_test, results['y_pred'])\n",
    "                    print(f\"  Confusion Matrix for {name}:\")\n",
    "                    print(f\"    {cm}\")\n",
    "                except:\n",
    "                    print(f\"  Could not generate any visualization for {name}\")\n",
    "        \n",
    "        print(\"✅ Confusion matrix plotting completed\")\n",
    "    \n",
    "    def get_results_summary(self):\n",
    "        \"\"\"Get summary of all baseline results\"\"\"\n",
    "        if not self.results:\n",
    "            return pd.DataFrame()\n",
    "            \n",
    "        summary_data = []\n",
    "        for name, results in self.results.items():\n",
    "            summary_data.append({\n",
    "                'Model': name.replace('_', ' ').title(),\n",
    "                'Accuracy': results['accuracy'],\n",
    "                'Precision': results['precision'],\n",
    "                'Recall': results['recall'],\n",
    "                'F1': results['f1'],\n",
    "                'AUC': results['auc'],\n",
    "                'PR-AUC': results['pr_auc']\n",
    "            })\n",
    "        \n",
    "        return pd.DataFrame(summary_data).round(4)"
   ]
  },
  {
   "cell_type": "code",
   "execution_count": 9,
   "id": "62df0cc0",
   "metadata": {},
   "outputs": [],
   "source": [
    "SEQ_LENGTH = 30"
   ]
  },
  {
   "cell_type": "code",
   "execution_count": 10,
   "id": "4a7071be",
   "metadata": {},
   "outputs": [],
   "source": [
    "from collections import Counter\n",
    "import numpy as np\n",
    "\n",
    "# ==========================================================\n",
    "# Chronology-safe prepare_lstm_sequences_fixed\n",
    "# ==========================================================\n",
    "def prepare_lstm_sequences_fixed(X, y, sequence_length=SEQ_LENGTH, label_strategy='majority'):\n",
    "    \"\"\"\n",
    "    Convert tabular data to sequences for LSTM training with better label handling.\n",
    "    Chronology preserved (NO shuffling).\n",
    "    \"\"\"\n",
    "    print(f\"Creating sequences of length {sequence_length} with {label_strategy} labeling...\")\n",
    "\n",
    "    if len(X) < sequence_length:\n",
    "        sequence_length = len(X)\n",
    "        print(f\"Adjusted sequence length to {sequence_length} due to limited data\")\n",
    "\n",
    "    X_sequences = []\n",
    "    y_sequences = []\n",
    "\n",
    "    for i in range(len(X) - sequence_length + 1):\n",
    "        X_seq = X[i:i + sequence_length]\n",
    "        y_seq = y[i:i + sequence_length]\n",
    "        X_sequences.append(X_seq)\n",
    "\n",
    "        if label_strategy == 'last':\n",
    "            y_sequences.append(y_seq[-1])\n",
    "        elif label_strategy == 'majority':\n",
    "            y_sequences.append(1 if np.sum(y_seq) > len(y_seq) // 2 else 0)\n",
    "        elif label_strategy == 'any_attack':\n",
    "            y_sequences.append(1 if np.any(y_seq == 1) else 0)\n",
    "\n",
    "    X_sequences = np.array(X_sequences, dtype=np.float32)\n",
    "    y_sequences = np.array(y_sequences, dtype=np.int32)\n",
    "\n",
    "    print(f\"Created {len(X_sequences)} sequences\")\n",
    "    print(f\"Sequence shape: {X_sequences.shape}\")\n",
    "\n",
    "    # Distribution debug\n",
    "    original_dist = Counter(y)\n",
    "    sequence_dist = Counter(y_sequences)\n",
    "    print(f\"Original distribution: {dict(original_dist)}\")\n",
    "    print(f\"Sequence distribution: {dict(sequence_dist)}\")\n",
    "\n",
    "    return X_sequences, y_sequences\n",
    "\n",
    "\n",
    "# ==========================================================\n",
    "# Chronology-safe create_stratified_sequences\n",
    "# (renamed internally but kept external name)\n",
    "# ==========================================================\n",
    "def create_stratified_sequences(X, y, sequence_length=SEQ_LENGTH, test_size=0.4, val_split=0.5, random_state=42):\n",
    "    \"\"\"\n",
    "    Chronology-safe split of sequences (replaces stratified split).\n",
    "    \"\"\"\n",
    "    print(\"Creating chronology-safe sequences (no stratify)...\")\n",
    "\n",
    "    # Step 1: build sequences\n",
    "    X_seq, y_seq = prepare_lstm_sequences_fixed(X, y, sequence_length, label_strategy='majority')\n",
    "\n",
    "    # Step 2: split chronologically\n",
    "    n_total = len(X_seq)\n",
    "    n_test = int(n_total * test_size)\n",
    "    n_val = int((n_total - n_test) * val_split)\n",
    "\n",
    "    train_end = n_total - n_test - n_val\n",
    "    val_end   = n_total - n_test\n",
    "\n",
    "    X_train_seq, y_train_seq = X_seq[:train_end], y_seq[:train_end]\n",
    "    X_val_seq,   y_val_seq   = X_seq[train_end:val_end], y_seq[train_end:val_end]\n",
    "    X_test_seq,  y_test_seq  = X_seq[val_end:], y_seq[val_end:]\n",
    "\n",
    "    validate_sequence_splits(X_train_seq, y_train_seq, X_val_seq, y_val_seq, X_test_seq, y_test_seq)\n",
    "\n",
    "    return X_train_seq, y_train_seq, X_val_seq, y_val_seq, X_test_seq, y_test_seq\n",
    "\n",
    "\n",
    "# ==========================================================\n",
    "# validate_sequence_splits (unchanged, still works)\n",
    "# ==========================================================\n",
    "def validate_sequence_splits(X_train, y_train, X_val, y_val, X_test, y_test):\n",
    "    \"\"\"Validate sequence splits maintain reasonable class distribution\"\"\"\n",
    "    print(\"\\n=== Sequence Split Validation ===\")\n",
    "    splits = [(\"Train\", y_train), (\"Val\", y_val), (\"Test\", y_test)]\n",
    "\n",
    "    for name, y_split in splits:\n",
    "        if len(y_split) > 0:\n",
    "            attack_ratio = np.sum(y_split) / len(y_split)\n",
    "            benign_count = len(y_split) - np.sum(y_split)\n",
    "            attack_count = np.sum(y_split)\n",
    "            print(f\"{name}: {benign_count} benign, {attack_count} attack (ratio: {attack_ratio:.3f})\")\n",
    "        else:\n",
    "            print(f\"{name}: Empty split!\")\n",
    "\n",
    "\n",
    "# ==========================================================\n",
    "# get_balanced_class_weights (no change needed)\n",
    "# ==========================================================\n",
    "def get_balanced_class_weights(y_train):\n",
    "    \"\"\"Calculate balanced class weights with safety checks\"\"\"\n",
    "    class_counts = Counter(y_train)\n",
    "    print(f\"Training class counts: {dict(class_counts)}\")\n",
    "\n",
    "    if len(class_counts) < 2:\n",
    "        print(\"⚠️  WARNING: Only one class in training data!\")\n",
    "        return {0: 1.0, 1: 1.0}\n",
    "\n",
    "    total_samples = len(y_train)\n",
    "    n_classes = len(class_counts)\n",
    "    class_weights = {cls: total_samples / (n_classes * count) for cls, count in class_counts.items()}\n",
    "\n",
    "    print(f\"Calculated class weights: {class_weights}\")\n",
    "    return class_weights\n"
   ]
  },
  {
   "cell_type": "code",
   "execution_count": 11,
   "id": "82f5d8e3",
   "metadata": {},
   "outputs": [],
   "source": [
    "class AdvancedLSTM(nn.Module):\n",
    "    def __init__(self, input_dim, hidden_dim=64, num_layers=2, dropout=0.3, \n",
    "                 use_attention=True, bidirectional=True):\n",
    "        super().__init__()\n",
    "        \n",
    "        self.use_attention = use_attention\n",
    "        self.hidden_dim = hidden_dim\n",
    "        self.num_layers = num_layers\n",
    "        self.bidirectional = bidirectional\n",
    "        \n",
    "        print(f\"Initializing AdvancedLSTM:\")\n",
    "        print(f\"  Input dim: {input_dim}\")\n",
    "        print(f\"  Hidden dim: {hidden_dim}\")\n",
    "        print(f\"  Num layers: {num_layers}\")\n",
    "        print(f\"  Dropout: {dropout}\")\n",
    "        print(f\"  Attention: {use_attention}\")\n",
    "        print(f\"  Bidirectional: {bidirectional}\")\n",
    "        \n",
    "        # LSTM layers\n",
    "        self.lstm = nn.LSTM(\n",
    "            input_size=input_dim,\n",
    "            hidden_size=hidden_dim,\n",
    "            num_layers=num_layers,\n",
    "            batch_first=True,\n",
    "            dropout=dropout if num_layers > 1 else 0,\n",
    "            bidirectional=bidirectional\n",
    "        )\n",
    "        \n",
    "        lstm_output_dim = hidden_dim * 2 if bidirectional else hidden_dim\n",
    "        \n",
    "        # Attention mechanism\n",
    "        if use_attention:\n",
    "            self.attention = nn.MultiheadAttention(\n",
    "                embed_dim=lstm_output_dim,\n",
    "                num_heads=4,\n",
    "                dropout=dropout,\n",
    "                batch_first=True\n",
    "            )\n",
    "        \n",
    "        # Classification head with residual connection\n",
    "        self.classifier = nn.Sequential(\n",
    "            nn.Dropout(dropout),\n",
    "            nn.Linear(lstm_output_dim, hidden_dim),\n",
    "            nn.ReLU(),\n",
    "            nn.BatchNorm1d(hidden_dim),\n",
    "            nn.Dropout(dropout),\n",
    "            nn.Linear(hidden_dim, hidden_dim // 2),\n",
    "            nn.ReLU(),\n",
    "            nn.Dropout(dropout),\n",
    "            nn.Linear(hidden_dim // 2, 1)\n",
    "        )\n",
    "        \n",
    "        # Count parameters\n",
    "        total_params = sum(p.numel() for p in self.parameters())\n",
    "        trainable_params = sum(p.numel() for p in self.parameters() if p.requires_grad)\n",
    "        print(f\"  Total parameters: {total_params:,}\")\n",
    "        print(f\"  Trainable parameters: {trainable_params:,}\")\n",
    "        \n",
    "    def forward(self, x, return_features=False):\n",
    "        # LSTM forward pass\n",
    "        lstm_out, (hidden, cell) = self.lstm(x)\n",
    "        \n",
    "        if self.use_attention:\n",
    "            # Apply attention to all time steps\n",
    "            attended_out, attention_weights = self.attention(lstm_out, lstm_out, lstm_out)\n",
    "            # Use mean of attended outputs\n",
    "            features = attended_out.mean(dim=1)\n",
    "        else:\n",
    "            # Use last time step\n",
    "            features = lstm_out[:, -1, :]\n",
    "\n",
    "        if return_features:\n",
    "            return features  # Return the hidden layer values (pre-classifier)\n",
    "        \n",
    "        # Classification\n",
    "        logits = self.classifier(features)\n",
    "        \n",
    "        return logits.squeeze(-1)"
   ]
  },
  {
   "cell_type": "markdown",
   "id": "dcfde727",
   "metadata": {},
   "source": []
  },
  {
   "cell_type": "code",
   "execution_count": 12,
   "id": "6475f94e",
   "metadata": {},
   "outputs": [],
   "source": [
    "def train_advanced_lstm_enhanced(X_train, y_train, X_val, y_val, params, model, epochs=30, min_delta=1e-4):\n",
    "    \"\"\"\n",
    "    Enhanced training with better overfitting prevention and chronology preservation.\n",
    "    \"\"\"\n",
    "    import torch\n",
    "    import torch.nn as nn\n",
    "    from torch.utils.data import TensorDataset, DataLoader\n",
    "    import numpy as np\n",
    "    from collections import Counter\n",
    "    from sklearn.metrics import roc_auc_score, f1_score\n",
    "\n",
    "    # Ensure float32 for GPU efficiency\n",
    "    X_train = X_train.astype(np.float32)\n",
    "    X_val = X_val.astype(np.float32)\n",
    "    y_train = y_train.astype(np.float32)\n",
    "    y_val = y_val.astype(np.float32)\n",
    "\n",
    "    # Prepare datasets with NO shuffling (chronology preserved)\n",
    "    train_dataset = TensorDataset(torch.from_numpy(X_train), torch.from_numpy(y_train))\n",
    "    val_dataset = TensorDataset(torch.from_numpy(X_val), torch.from_numpy(y_val))\n",
    "\n",
    "    train_loader = DataLoader(\n",
    "        train_dataset,\n",
    "        batch_size=params['batch_size'],\n",
    "        shuffle=False,  # CRITICAL: NO shuffling to preserve chronology\n",
    "        pin_memory=True,\n",
    "        num_workers=2,\n",
    "        persistent_workers=True\n",
    "    )\n",
    "\n",
    "    val_loader = DataLoader(\n",
    "        val_dataset,\n",
    "        batch_size=params['batch_size'],\n",
    "        shuffle=False,  # CRITICAL: NO shuffling\n",
    "        pin_memory=True,\n",
    "        num_workers=2,\n",
    "        persistent_workers=True\n",
    "    )\n",
    "\n",
    "    # Optimizer with stronger weight decay if specified\n",
    "    weight_decay = params.get('l2_reg', 1e-5)\n",
    "    if params.get('optimizer') == 'adamw':\n",
    "        optimizer = torch.optim.AdamW(\n",
    "            model.parameters(), \n",
    "            lr=params['lr'], \n",
    "            weight_decay=weight_decay\n",
    "        )\n",
    "    else:\n",
    "        optimizer = torch.optim.Adam(\n",
    "            model.parameters(), \n",
    "            lr=params['lr'],\n",
    "            weight_decay=weight_decay\n",
    "        )\n",
    "\n",
    "    # Conservative learning rate scheduler\n",
    "    scheduler = torch.optim.lr_scheduler.ReduceLROnPlateau(\n",
    "        optimizer, \n",
    "        mode='max',  # Monitor validation F1 (maximize)\n",
    "        factor=0.5,  # Reduce LR by half\n",
    "        patience=params.get('reduce_lr_patience', 8),\n",
    "        verbose=True,\n",
    "        min_lr=params.get('min_lr', 1e-6)\n",
    "    )\n",
    "\n",
    "    # Loss function with class balancing\n",
    "    device = next(model.parameters()).device\n",
    "    class_counts = Counter(y_train)\n",
    "    \n",
    "    if len(class_counts) > 1:\n",
    "        pos_weight = torch.tensor([class_counts[0] / class_counts[1]], device=device)\n",
    "        print(f\"Using pos_weight: {pos_weight.item():.3f} (Benign/Attack ratio)\")\n",
    "    else:\n",
    "        pos_weight = torch.tensor([1.0], device=device)\n",
    "    \n",
    "    criterion = nn.BCEWithLogitsLoss(pos_weight=pos_weight)\n",
    "\n",
    "    # Training monitoring\n",
    "    train_losses, val_aucs, val_f1s = [], [], []\n",
    "    best_val_f1 = 0\n",
    "    best_model_state = None\n",
    "    patience = params.get('early_stopping_patience', 20)\n",
    "    patience_counter = 0\n",
    "    \n",
    "    # Overfitting detection variables\n",
    "    consecutive_loss_drops = 0\n",
    "    loss_drop_threshold = 0.9  # If loss drops by 90% in one epoch, flag it\n",
    "\n",
    "    print(f\"Training for max {epochs} epochs with early stopping (patience={patience})\")\n",
    "    print(f\"Batch size: {params['batch_size']}, Learning rate: {params['lr']}\")\n",
    "    \n",
    "    for epoch in range(epochs):\n",
    "        # Training phase\n",
    "        model.train()\n",
    "        epoch_loss = 0.0\n",
    "        batch_count = 0\n",
    "\n",
    "        for batch_X, batch_y in train_loader:\n",
    "            batch_X, batch_y = batch_X.to(device), batch_y.to(device)\n",
    "\n",
    "            optimizer.zero_grad()\n",
    "            outputs = model(batch_X)\n",
    "\n",
    "            # Primary loss\n",
    "            loss = criterion(outputs, batch_y)\n",
    "            \n",
    "            # L2 regularization (if not using weight_decay in optimizer)\n",
    "            if params.get('l2_reg', 0) > 0 and params.get('optimizer') != 'adamw':\n",
    "                l2_norm = sum(p.pow(2.0).sum() for p in model.parameters())\n",
    "                loss += params['l2_reg'] * l2_norm\n",
    "\n",
    "            loss.backward()\n",
    "            \n",
    "            # Gradient clipping\n",
    "            clip_value = params.get('gradient_clip', 1.0)\n",
    "            torch.nn.utils.clip_grad_norm_(model.parameters(), max_norm=clip_value)\n",
    "            \n",
    "            optimizer.step()\n",
    "            epoch_loss += loss.item()\n",
    "            batch_count += 1\n",
    "\n",
    "        avg_train_loss = epoch_loss / batch_count\n",
    "        train_losses.append(avg_train_loss)\n",
    "\n",
    "        # Overfitting detection: Check for suspiciously fast loss drops\n",
    "        if epoch > 0:\n",
    "            loss_drop_ratio = (train_losses[-2] - avg_train_loss) / train_losses[-2]\n",
    "            if loss_drop_ratio > loss_drop_threshold:\n",
    "                consecutive_loss_drops += 1\n",
    "                print(f\"WARNING: Large loss drop detected: {loss_drop_ratio:.1%}\")\n",
    "                if consecutive_loss_drops >= 2:\n",
    "                    print(\"ALERT: Multiple consecutive large loss drops - possible overfitting!\")\n",
    "            else:\n",
    "                consecutive_loss_drops = 0\n",
    "\n",
    "        # Validation phase\n",
    "        model.eval()\n",
    "        val_probs, val_targets = [], []\n",
    "\n",
    "        with torch.no_grad():\n",
    "            for batch_X, batch_y in val_loader:\n",
    "                batch_X = batch_X.to(device)\n",
    "                outputs = model(batch_X)\n",
    "                \n",
    "                # Check for NaN outputs\n",
    "                if torch.isnan(outputs).any():\n",
    "                    print(f\"WARNING: NaN detected in outputs at epoch {epoch+1}\")\n",
    "                    continue\n",
    "                \n",
    "                val_probs.extend(torch.sigmoid(outputs).cpu().numpy())\n",
    "                val_targets.extend(batch_y.numpy())\n",
    "\n",
    "        if len(val_probs) == 0:\n",
    "            print(f\"ERROR: No valid validation predictions at epoch {epoch+1}\")\n",
    "            break\n",
    "\n",
    "        val_probs = np.array(val_probs)\n",
    "        val_targets = np.array(val_targets)\n",
    "\n",
    "        # Calculate validation metrics\n",
    "        if len(np.unique(val_targets)) > 1:\n",
    "            val_auc = roc_auc_score(val_targets, val_probs)\n",
    "        else:\n",
    "            val_auc = 0.5\n",
    "            print(f\"WARNING: Only one class in validation set at epoch {epoch+1}\")\n",
    "\n",
    "        # Find best F1 threshold\n",
    "        thresholds = np.linspace(0.1, 0.9, 50)\n",
    "        f1_scores = []\n",
    "        for t in thresholds:\n",
    "            try:\n",
    "                f1 = f1_score(val_targets, (val_probs >= t).astype(int), zero_division=0)\n",
    "                f1_scores.append(f1)\n",
    "            except:\n",
    "                f1_scores.append(0.0)\n",
    "        \n",
    "        best_f1 = max(f1_scores) if f1_scores else 0.0\n",
    "        val_aucs.append(val_auc)\n",
    "        val_f1s.append(best_f1)\n",
    "\n",
    "        # Early stopping logic\n",
    "        if best_f1 > best_val_f1 + min_delta:\n",
    "            best_val_f1 = best_f1\n",
    "            best_model_state = {k: v.cpu() for k, v in model.state_dict().items()}\n",
    "            patience_counter = 0\n",
    "        else:\n",
    "            patience_counter += 1\n",
    "\n",
    "        # Step the scheduler (monitoring validation F1)\n",
    "        scheduler.step(best_f1)\n",
    "\n",
    "        # Early stopping check\n",
    "        if patience_counter >= patience:\n",
    "            print(f\"Early stopping at epoch {epoch+1} (no improvement for {patience} epochs)\")\n",
    "            break\n",
    "\n",
    "        # Progress reporting\n",
    "        current_lr = optimizer.param_groups[0]['lr']\n",
    "        print(f\"Epoch {epoch+1:2d}/{epochs} | \"\n",
    "              f\"Train Loss: {avg_train_loss:.4f} | \"\n",
    "              f\"Val F1: {best_f1:.4f} | \"\n",
    "              f\"Val AUC: {val_auc:.4f} | \"\n",
    "              f\"LR: {current_lr:.2e}\")\n",
    "\n",
    "        # Additional overfitting warnings\n",
    "        if epoch >= 5 and best_f1 > 0.995:\n",
    "            print(\"WARNING: Suspiciously high validation F1 (>99.5%) - check for data leakage!\")\n",
    "        \n",
    "        if epoch >= 3 and avg_train_loss < 0.01:\n",
    "            print(\"WARNING: Very low training loss - possible overfitting\")\n",
    "\n",
    "    # Load best model\n",
    "    if best_model_state is not None:\n",
    "        model.load_state_dict({k: v.to(device) for k, v in best_model_state.items()})\n",
    "        print(f\"Loaded best model with validation F1: {best_val_f1:.4f}\")\n",
    "    else:\n",
    "        print(\"WARNING: No improvement found, using final epoch model\")\n",
    "    \n",
    "    # Save the best model to disk\n",
    "    torch.save(model.state_dict(), \"best_lstm_model.pth\")\n",
    "    print(\"✅ Best model saved to best_lstm_model.pth\")\n",
    "\n",
    "    return model, train_losses, val_aucs, val_f1s\n"
   ]
  },
  {
   "cell_type": "code",
   "execution_count": 13,
   "id": "0cf59756",
   "metadata": {},
   "outputs": [],
   "source": [
    "def advanced_objective(trial, X_train_seq, y_train_seq):\n",
    "    params = {\n",
    "        'hidden_dim': trial.suggest_categorical('hidden_dim', [64, 128, 256]),\n",
    "        'num_layers': trial.suggest_int('num_layers', 2, 4),\n",
    "        'dropout': trial.suggest_float('dropout', 0.2, 0.5),\n",
    "        'lr': trial.suggest_float('lr', 5e-5, 5e-3, log=True),\n",
    "        'batch_size': trial.suggest_categorical('batch_size', [32, 64, 128]),\n",
    "        'use_attention': trial.suggest_categorical('use_attention', [True, False]),\n",
    "        'bidirectional': trial.suggest_categorical('bidirectional', [True, False]),\n",
    "        'optimizer': trial.suggest_categorical('optimizer', ['adam', 'adamw']),\n",
    "        'l2_reg': trial.suggest_float('l2_reg', 1e-6, 1e-3, log=True),\n",
    "    }\n",
    "    \n",
    "    if params['optimizer'] == 'adamw':\n",
    "        params['weight_decay'] = trial.suggest_float('weight_decay', 1e-5, 1e-3, log=True)\n",
    "    \n",
    "    try:\n",
    "        # Use cross-validation for more robust evaluation\n",
    "        kf = StratifiedKFold(n_splits=3, shuffle=True, random_state=42)\n",
    "        cv_scores = []\n",
    "        \n",
    "        for train_idx, val_idx in kf.split(X_train_seq, y_train_seq):\n",
    "            X_cv_train, X_cv_val = X_train_seq[train_idx], X_train_seq[val_idx]\n",
    "            y_cv_train, y_cv_val = y_train_seq[train_idx], y_train_seq[val_idx]\n",
    "\n",
    "            # 🔹 Build a fresh model for each CV split\n",
    "            input_dim = X_train_seq.shape[2]\n",
    "            num_classes = len(np.unique(y_train_seq))\n",
    "            \n",
    "            model = AdvancedLSTM(\n",
    "                input_dim=input_dim,\n",
    "                hidden_dim=params['hidden_dim'],\n",
    "                num_layers=params['num_layers'],\n",
    "                dropout=params['dropout'],\n",
    "                use_attention=params['use_attention'],\n",
    "                bidirectional=params['bidirectional']\n",
    "            ).to(device)\n",
    "\n",
    "\n",
    "            _, _, _, val_f1s = train_advanced_lstm_enhanced(\n",
    "                X_cv_train, y_cv_train,\n",
    "                X_cv_val, y_cv_val,\n",
    "                params,\n",
    "                model,\n",
    "                epochs=40\n",
    "            )\n",
    "            \n",
    "            cv_scores.append(max(val_f1s))\n",
    "        \n",
    "        return np.mean(cv_scores)\n",
    "    \n",
    "    except Exception as e:\n",
    "        print(f\"Trial failed: {e}\")\n",
    "        return 0.0\n"
   ]
  },
  {
   "cell_type": "code",
   "execution_count": 14,
   "id": "5e628c45",
   "metadata": {},
   "outputs": [],
   "source": [
    "def analyze_feature_importance(model, X_sample, feature_names):\n",
    "    \"\"\"Analyze which features are most important for predictions\"\"\"\n",
    "    # Store original model state\n",
    "    original_training_state = model.training\n",
    "    \n",
    "    # Set model to training mode for gradient computation\n",
    "    model.train()\n",
    "    \n",
    "    try:\n",
    "        # Use gradient-based feature importance\n",
    "        X_tensor = torch.FloatTensor(X_sample[:100]).to(device)  # Use subset for speed\n",
    "        X_tensor.requires_grad_(True)\n",
    "        \n",
    "        outputs = model(X_tensor)\n",
    "        \n",
    "        # Calculate gradients\n",
    "        outputs.sum().backward()\n",
    "        gradients = X_tensor.grad.abs().mean(dim=[0, 1]).cpu().numpy()\n",
    "        \n",
    "        # Create feature importance DataFrame\n",
    "        importance_df = pd.DataFrame({\n",
    "            'feature': feature_names,\n",
    "            'importance': gradients\n",
    "        }).sort_values('importance', ascending=False)\n",
    "        \n",
    "        return importance_df\n",
    "    \n",
    "    except Exception as e:\n",
    "        print(f\"Error in feature importance analysis: {e}\")\n",
    "        # Return dummy DataFrame in case of error\n",
    "        return pd.DataFrame({\n",
    "            'feature': feature_names,\n",
    "            'importance': np.zeros(len(feature_names))\n",
    "        })\n",
    "    \n",
    "    finally:\n",
    "        # Restore original model state\n",
    "        model.train(original_training_state)\n",
    "\n",
    "def plot_advanced_results(train_losses, val_aucs, val_f1s, test_results):\n",
    "    \"\"\"Create comprehensive result plots\"\"\"\n",
    "    fig, axes = plt.subplots(2, 3, figsize=(18, 10))\n",
    "    \n",
    "    # Training history\n",
    "    axes[0, 0].plot(train_losses)\n",
    "    axes[0, 0].set_title('Training Loss')\n",
    "    axes[0, 0].set_xlabel('Epoch')\n",
    "    axes[0, 0].set_ylabel('Loss')\n",
    "    axes[0, 0].grid(True, alpha=0.3)\n",
    "    \n",
    "    axes[0, 1].plot(val_aucs, label='AUC', color='blue')\n",
    "    axes[0, 1].plot(val_f1s, label='F1', color='red')\n",
    "    axes[0, 1].set_title('Validation Metrics')\n",
    "    axes[0, 1].set_xlabel('Epoch')\n",
    "    axes[0, 1].set_ylabel('Score')\n",
    "    axes[0, 1].legend()\n",
    "    axes[0, 1].grid(True, alpha=0.3)\n",
    "    \n",
    "    # ROC and PR curves\n",
    "    fpr, tpr, _ = roc_curve(test_results['y_true'], test_results['y_prob'])\n",
    "    axes[0, 2].plot(fpr, tpr, label=f'AUC = {test_results[\"auc\"]:.4f}')\n",
    "    axes[0, 2].plot([0, 1], [0, 1], 'k--', alpha=0.5)\n",
    "    axes[0, 2].set_title('ROC Curve')\n",
    "    axes[0, 2].set_xlabel('False Positive Rate')\n",
    "    axes[0, 2].set_ylabel('True Positive Rate')\n",
    "    axes[0, 2].legend()\n",
    "    axes[0, 2].grid(True, alpha=0.3)\n",
    "    \n",
    "    precision, recall, _ = precision_recall_curve(test_results['y_true'], test_results['y_prob'])\n",
    "    axes[1, 0].plot(recall, precision, label=f'PR-AUC = {test_results[\"pr_auc\"]:.4f}')\n",
    "    axes[1, 0].set_title('Precision-Recall Curve')\n",
    "    axes[1, 0].set_xlabel('Recall')\n",
    "    axes[1, 0].set_ylabel('Precision')\n",
    "    axes[1, 0].legend()\n",
    "    axes[1, 0].grid(True, alpha=0.3)\n",
    "    \n",
    "    # Confusion matrix\n",
    "    cm = confusion_matrix(test_results['y_true'], test_results['y_pred'])\n",
    "    sns.heatmap(cm, annot=True, fmt='d', ax=axes[1, 1], cmap='Blues')\n",
    "    axes[1, 1].set_title('Confusion Matrix')\n",
    "    axes[1, 1].set_xlabel('Predicted')\n",
    "    axes[1, 1].set_ylabel('Actual')\n",
    "    \n",
    "    # Threshold analysis\n",
    "    thresholds = np.linspace(0.1, 0.9, 100)\n",
    "    f1_scores = []\n",
    "    for t in thresholds:\n",
    "        try:\n",
    "            f1 = f1_score(test_results['y_true'], (test_results['y_prob'] >= t).astype(int))\n",
    "            f1_scores.append(f1)\n",
    "        except:\n",
    "            f1_scores.append(0.0)\n",
    "    \n",
    "    axes[1, 2].plot(thresholds, f1_scores)\n",
    "    axes[1, 2].axvline(x=test_results['best_threshold'], color='red', linestyle='--')\n",
    "    axes[1, 2].set_title('F1 Score vs Threshold')\n",
    "    axes[1, 2].set_xlabel('Threshold')\n",
    "    axes[1, 2].set_ylabel('F1 Score')\n",
    "    axes[1, 2].grid(True, alpha=0.3)\n",
    "    \n",
    "    plt.tight_layout()\n",
    "    plt.show()\n",
    "\n",
    "def plot_model_comparison(baseline_results_df, lstm_results):\n",
    "    \"\"\"Plot comparison between baseline models and LSTM\"\"\"\n",
    "    # Add LSTM results to comparison\n",
    "    lstm_row = pd.DataFrame({\n",
    "        'Model': ['Advanced LSTM'],\n",
    "        'Accuracy': [lstm_results.get('accuracy', 0)],\n",
    "        'Precision': [lstm_results['precision']],\n",
    "        'Recall': [lstm_results['recall']],\n",
    "        'F1': [lstm_results['f1']],\n",
    "        'AUC': [lstm_results['auc']],\n",
    "        'PR-AUC': [lstm_results['pr_auc']]\n",
    "    })\n",
    "    \n",
    "    comparison_df = pd.concat([baseline_results_df, lstm_row], ignore_index=True)\n",
    "    \n",
    "    # Create comparison plots\n",
    "    fig, axes = plt.subplots(2, 3, figsize=(18, 10))\n",
    "    \n",
    "    metrics = ['Accuracy', 'Precision', 'Recall', 'F1', 'AUC', 'PR-AUC']\n",
    "    colors = ['skyblue', 'lightgreen', 'lightcoral', 'gold', 'plum', 'lightpink']\n",
    "    \n",
    "    for i, (metric, color) in enumerate(zip(metrics, colors)):\n",
    "        row, col = i // 3, i % 3\n",
    "        ax = axes[row, col]\n",
    "        \n",
    "        bars = ax.bar(comparison_df['Model'], comparison_df[metric], color=color, alpha=0.7)\n",
    "        ax.set_title(f'{metric} Comparison')\n",
    "        ax.set_ylabel(metric)\n",
    "        ax.tick_params(axis='x', rotation=45)\n",
    "        ax.grid(True, alpha=0.3, axis='y')\n",
    "        \n",
    "        # Highlight best model\n",
    "        best_idx = comparison_df[metric].idxmax()\n",
    "        bars[best_idx].set_color('red')\n",
    "        bars[best_idx].set_alpha(0.9)\n",
    "        \n",
    "        # Add value labels on bars\n",
    "        for bar in bars:\n",
    "            height = bar.get_height()\n",
    "            ax.text(bar.get_x() + bar.get_width()/2., height + 0.01,\n",
    "                   f'{height:.3f}', ha='center', va='bottom', fontsize=8)\n",
    "    \n",
    "    plt.tight_layout()\n",
    "    plt.show()\n",
    "    \n",
    "    return comparison_df"
   ]
  },
  {
   "cell_type": "code",
   "execution_count": 15,
   "id": "3f9b38f3",
   "metadata": {},
   "outputs": [],
   "source": [
    "import tqdm\n",
    "from tqdm import tqdm  "
   ]
  },
  {
   "cell_type": "code",
   "execution_count": 16,
   "id": "ba5f9384",
   "metadata": {},
   "outputs": [
    {
     "name": "stdout",
     "output_type": "stream",
     "text": [
      "\n",
      "=== STEP 1: Data Loading and Initial Validation ===\n",
      "Loading CICIDS2017 dataset...\n",
      "Labels already appear to be binary\n",
      "Dataset loaded successfully!\n",
      "Total samples: 1162445\n",
      "Total features: 50\n",
      "Final class distribution after conversion:\n",
      "  Benign (label=0): 664425 samples\n",
      "  Attack (label=1): 498020 samples\n",
      "Attack ratio: 0.428\n"
     ]
    }
   ],
   "source": [
    "# ==============================\n",
    "# STEP 1: Data Loading and Initial Sanity Checks\n",
    "# ==============================\n",
    "print(\"\\n=== STEP 1: Data Loading and Initial Validation ===\")    \n",
    "try:\n",
    "    # Load data\n",
    "    print(\"Loading CICIDS2017 dataset...\")\n",
    "    df, feature_names = datadf, ftnames  # pre-loaded globals\n",
    "        \n",
    "    # Extract features and labels\n",
    "    if 'Label' in df.columns:\n",
    "        X = df.drop('Label', axis=1).values\n",
    "        y = df['Label'].values\n",
    "    elif 'label' in df.columns:\n",
    "        X = df.drop('label', axis=1).values\n",
    "        y = df['label'].values\n",
    "    else:\n",
    "        X = df.iloc[:, :-1].values\n",
    "        y = df.iloc[:, -1].values\n",
    "        \n",
    "    # Convert labels to binary - FIXED VERSION\n",
    "    if y.dtype == 'object' or len(np.unique(y)) > 2:\n",
    "        print(\"Converting labels to binary classification...\")\n",
    "        benign_labels = ['BENIGN', 'Normal', 'normal', 'benign', 0, '0']\n",
    "        \n",
    "        unique_labels, counts = np.unique(y, return_counts=True)\n",
    "        print(\"Original label distribution:\")\n",
    "        for label, count in zip(unique_labels, counts):\n",
    "            print(f\"  {label}: {count} samples\")\n",
    "            \n",
    "        # FIXED: Proper binary conversion using boolean indexing\n",
    "        y_binary = np.ones(len(y), dtype=int)  # Start with all as attack (1)\n",
    "        \n",
    "        # Create boolean mask for benign samples\n",
    "        benign_mask = np.isin(y, benign_labels)\n",
    "        y_binary[benign_mask] = 0  # Set benign samples to 0\n",
    "        \n",
    "        print(f\"Benign samples found: {np.sum(benign_mask)} out of {len(y)}\")\n",
    "        print(f\"Attack samples: {np.sum(~benign_mask)} out of {len(y)}\")\n",
    "        \n",
    "        y = y_binary\n",
    "        print(\"Converted to binary classification (0=Benign, 1=Attack)\")\n",
    "    else:\n",
    "        print(\"Labels already appear to be binary\")\n",
    "        \n",
    "    # Ensure numeric features\n",
    "    if X.dtype == 'object':\n",
    "        print(\"Converting features to numeric...\")\n",
    "        from sklearn.preprocessing import LabelEncoder\n",
    "        le = LabelEncoder()\n",
    "        for col in range(X.shape[1]):\n",
    "            if df.iloc[:, col].dtype == 'object':\n",
    "                X[:, col] = le.fit_transform(X[:, col].astype(str))\n",
    "        X = X.astype(float)\n",
    "        \n",
    "    # Data quality checks\n",
    "    nan_count = np.isnan(X).sum()\n",
    "    inf_count = np.isinf(X).sum()\n",
    "        \n",
    "    if nan_count > 0:\n",
    "        print(f\"Replacing {nan_count} NaN values with median...\")\n",
    "        from sklearn.impute import SimpleImputer\n",
    "        imputer = SimpleImputer(strategy='median')\n",
    "        X = imputer.fit_transform(X)\n",
    "            \n",
    "    if inf_count > 0:\n",
    "        print(f\"Replacing {inf_count} infinite values...\")\n",
    "        X = np.nan_to_num(X, nan=0.0, posinf=1e10, neginf=-1e10)\n",
    "        \n",
    "    print(f\"Dataset loaded successfully!\")\n",
    "    print(f\"Total samples: {len(X)}\")\n",
    "    print(f\"Total features: {X.shape[1]}\")\n",
    "        \n",
    "    # FIXED: More robust class distribution check\n",
    "    unique_labels, counts = np.unique(y, return_counts=True)\n",
    "    print(f\"Final class distribution after conversion:\")\n",
    "    for label, count in zip(unique_labels, counts):\n",
    "        class_name = \"Benign\" if label == 0 else \"Attack\"\n",
    "        print(f\"  {class_name} (label={label}): {count} samples\")\n",
    "    \n",
    "    # Calculate attack ratio safely\n",
    "    if len(counts) >= 2:\n",
    "        benign_count = counts[unique_labels == 0][0] if 0 in unique_labels else 0\n",
    "        attack_count = counts[unique_labels == 1][0] if 1 in unique_labels else 0\n",
    "        attack_ratio = attack_count / len(y)\n",
    "    else:\n",
    "        # Only one class present\n",
    "        if unique_labels[0] == 0:\n",
    "            benign_count, attack_count = counts[0], 0\n",
    "        else:\n",
    "            benign_count, attack_count = 0, counts[0]\n",
    "        attack_ratio = attack_count / len(y)\n",
    "    \n",
    "    print(f\"Attack ratio: {attack_ratio:.3f}\")\n",
    "        \n",
    "    if attack_ratio < 0.01:\n",
    "        print(f\"⚠️  SEVERE CLASS IMBALANCE: Only {attack_ratio:.3%} attacks!\")\n",
    "    elif attack_ratio > 0.99:\n",
    "        print(f\"⚠️  SEVERE CLASS IMBALANCE: Only {(1-attack_ratio):.3%} benign!\")\n",
    "        \n",
    "    # 🔍 EXTRA: Feature-label correlation check\n",
    "    try:\n",
    "        corrs = [np.corrcoef(X[:, i], y)[0, 1] for i in range(X.shape[1])]\n",
    "        max_corr = np.nanmax(np.abs(corrs))\n",
    "        if max_corr > 0.95:\n",
    "            print(f\"🚨 POTENTIAL DATA LEAKAGE: Feature correlates with label at {max_corr:.3f}\")\n",
    "    except Exception as e:\n",
    "        print(f\"Could not compute feature-label correlation: {e}\")\n",
    "        \n",
    "except Exception as e:\n",
    "    print(f\"Error loading data: {e}\")"
   ]
  },
  {
   "cell_type": "code",
   "execution_count": 17,
   "id": "44cf8a74",
   "metadata": {},
   "outputs": [
    {
     "name": "stdout",
     "output_type": "stream",
     "text": [
      "\n",
      "=== STEP 2: Chunk-Based Balanced Temporal Splitting ===\n",
      "🍭 'Candy Store' Approach: Distribute temporal chunks to achieve balance\n",
      "\n",
      "🔍 ANALYZING TEMPORAL CHUNKS...\n",
      "Chunk  1 (  0%-  5%): A=42483 B=15639 | Ratio=0.731 | attack_heavy\n",
      "Chunk  2 (  5%- 10%): A=50829 B= 7293 | Ratio=0.875 | attack_heavy\n",
      "Chunk  3 ( 10%- 15%): A=34722 B=23400 | Ratio=0.597 | mixed\n",
      "Chunk  4 ( 15%- 20%): A=24718 B=33404 | Ratio=0.425 | mixed\n",
      "Chunk  5 ( 20%- 25%): A=56092 B= 2030 | Ratio=0.965 | attack_heavy\n",
      "Chunk  6 ( 25%- 30%): A=56184 B= 1938 | Ratio=0.967 | attack_heavy\n",
      "Chunk  7 ( 30%- 35%): A=21931 B=36191 | Ratio=0.377 | benign_heavy\n",
      "Chunk  8 ( 35%- 40%): A= 1964 B=56158 | Ratio=0.034 | benign_heavy\n",
      "Chunk  9 ( 40%- 45%): A=    0 B=58122 | Ratio=0.000 | benign_heavy\n",
      "Chunk 10 ( 45%- 50%): A=    0 B=58122 | Ratio=0.000 | benign_heavy\n",
      "Chunk 11 ( 50%- 55%): A=    0 B=58122 | Ratio=0.000 | benign_heavy\n",
      "Chunk 12 ( 55%- 60%): A=   18 B=58104 | Ratio=0.000 | benign_heavy\n",
      "Chunk 13 ( 60%- 65%): A=   18 B=58104 | Ratio=0.000 | benign_heavy\n",
      "Chunk 14 ( 65%- 70%): A= 2180 B=55942 | Ratio=0.038 | benign_heavy\n",
      "Chunk 15 ( 70%- 75%): A= 7921 B=50201 | Ratio=0.136 | benign_heavy\n",
      "Chunk 16 ( 75%- 80%): A= 2991 B=55131 | Ratio=0.051 | benign_heavy\n",
      "Chunk 17 ( 80%- 85%): A=32628 B=25494 | Ratio=0.561 | mixed\n",
      "Chunk 18 ( 85%- 90%): A=54860 B= 3262 | Ratio=0.944 | attack_heavy\n",
      "Chunk 19 ( 90%- 95%): A=54753 B= 3369 | Ratio=0.942 | attack_heavy\n",
      "Chunk 20 ( 95%-100%): A=53723 B= 4399 | Ratio=0.924 | attack_heavy\n",
      "\n",
      "Chunk categories:\n",
      "  Attack-heavy: 7 chunks\n",
      "  Benign-heavy: 10 chunks\n",
      "  Mixed: 3 chunks\n",
      "\n",
      "🎯 ALLOCATING CHUNKS TO SPLITS...\n",
      "Target allocation: Train=12, Val=4, Test=4\n",
      "  train: Added benign-heavy chunk 6 (ratio=0.377)\n",
      "  train: Added benign-heavy chunk 7 (ratio=0.034)\n",
      "  train: Added attack-heavy chunk 1 (ratio=0.875)\n",
      "  train: Added benign-heavy chunk 8 (ratio=0.000)\n",
      "  train: Added benign-heavy chunk 9 (ratio=0.000)\n",
      "  train: Added benign-heavy chunk 10 (ratio=0.000)\n",
      "  val: Added attack-heavy chunk 19 (ratio=0.924)\n",
      "  val: Added benign-heavy chunk 11 (ratio=0.000)\n",
      "  test: Added benign-heavy chunk 13 (ratio=0.038)\n",
      "\n",
      "🔧 COMBINING CHUNKS INTO FINAL SPLITS...\n",
      "TRAIN:\n",
      "  Chunks: [0, 1, 2, 4, 5, 6, 7, 8, 9, 10, 17, 18]\n",
      "  Samples: 697,464 | Benign: 323,646 (46.4%) | Attack: 373,818 (53.6%)\n",
      "VAL:\n",
      "  Chunks: [3, 11, 12, 19]\n",
      "  Samples: 232,488 | Benign: 154,011 (66.2%) | Attack: 78,477 (33.8%)\n",
      "TEST:\n",
      "  Chunks: [13, 14, 15, 16]\n",
      "  Samples: 232,488 | Benign: 186,768 (80.3%) | Attack: 45,720 (19.7%)\n",
      "\n",
      "============================================================\n",
      "🎯 FINAL CHUNK-BASED RESULTS\n",
      "============================================================\n",
      "Dataset size: 1,162,445 → 1,162,440 (100.0% retained)\n",
      "Split sizes: Train=697,464 | Val=232,488 | Test=232,488\n",
      "\n",
      "FINAL CLASS DISTRIBUTIONS:\n",
      "Train: Benign=46.4% | Attack=53.6% | Minority=46.4% ✅ USABLE\n",
      "Val  : Benign=66.2% | Attack=33.8% | Minority=33.8% ✅ USABLE\n",
      "Test : Benign=80.3% | Attack=19.7% | Minority=19.7% ⚠️  STILL IMBALANCED\n",
      "\n",
      "✅ Data integrity: 1,162,445 → 1,162,440 samples\n",
      "🍭 Temporal chunks successfully distributed!\n",
      "\n",
      "🚀 Ready for training with chunk-balanced splits!\n"
     ]
    }
   ],
   "source": [
    "# ==============================\n",
    "# STEP 2: CHUNK-BASED BALANCED TEMPORAL SPLITTING\n",
    "# ==============================\n",
    "print(\"\\n=== STEP 2: Chunk-Based Balanced Temporal Splitting ===\")\n",
    "print(\"🍭 'Candy Store' Approach: Distribute temporal chunks to achieve balance\")\n",
    "\n",
    "# ==============================\n",
    "# CHUNK ANALYSIS & PREPARATION\n",
    "# ==============================\n",
    "print(\"\\n🔍 ANALYZING TEMPORAL CHUNKS...\")\n",
    "\n",
    "# Create temporal chunks\n",
    "n_chunks = 20  # More chunks = finer control\n",
    "chunk_size = len(y) // n_chunks\n",
    "chunks_info = []\n",
    "\n",
    "for i in range(n_chunks):\n",
    "    start_idx = i * chunk_size\n",
    "    end_idx = min((i + 1) * chunk_size, len(y))\n",
    "    \n",
    "    chunk_X = X[start_idx:end_idx]\n",
    "    chunk_y = y[start_idx:end_idx]\n",
    "    \n",
    "    # Analyze chunk composition\n",
    "    unique_vals, counts = np.unique(chunk_y, return_counts=True)\n",
    "    total_samples = len(chunk_y)\n",
    "    benign_count = counts[unique_vals == 0][0] if 0 in unique_vals else 0\n",
    "    attack_count = counts[unique_vals == 1][0] if 1 in unique_vals else 0\n",
    "    \n",
    "    attack_ratio = attack_count / total_samples\n",
    "    \n",
    "    chunk_info = {\n",
    "        'id': i,\n",
    "        'start_pct': start_idx / len(y) * 100,\n",
    "        'end_pct': end_idx / len(y) * 100,\n",
    "        'X': chunk_X,\n",
    "        'y': chunk_y,\n",
    "        'total_samples': total_samples,\n",
    "        'benign_count': benign_count,\n",
    "        'attack_count': attack_count,\n",
    "        'attack_ratio': attack_ratio,\n",
    "        'chunk_type': 'attack_heavy' if attack_ratio > 0.6 else 'benign_heavy' if attack_ratio < 0.4 else 'mixed'\n",
    "    }\n",
    "    chunks_info.append(chunk_info)\n",
    "    \n",
    "    print(f\"Chunk {i+1:2d} ({chunk_info['start_pct']:3.0f}%-{chunk_info['end_pct']:3.0f}%): \"\n",
    "          f\"A={attack_count:5d} B={benign_count:5d} | Ratio={attack_ratio:.3f} | {chunk_info['chunk_type']}\")\n",
    "\n",
    "# Categorize chunks\n",
    "attack_heavy_chunks = [c for c in chunks_info if c['chunk_type'] == 'attack_heavy']\n",
    "benign_heavy_chunks = [c for c in chunks_info if c['chunk_type'] == 'benign_heavy']\n",
    "mixed_chunks = [c for c in chunks_info if c['chunk_type'] == 'mixed']\n",
    "\n",
    "print(f\"\\nChunk categories:\")\n",
    "print(f\"  Attack-heavy: {len(attack_heavy_chunks)} chunks\")\n",
    "print(f\"  Benign-heavy: {len(benign_heavy_chunks)} chunks\") \n",
    "print(f\"  Mixed: {len(mixed_chunks)} chunks\")\n",
    "\n",
    "# ==============================\n",
    "# SMART CHUNK ALLOCATION\n",
    "# ==============================\n",
    "print(f\"\\n🎯 ALLOCATING CHUNKS TO SPLITS...\")\n",
    "\n",
    "def allocate_chunks_for_balance(chunks_info, target_attack_ratio=0.5, train_ratio=0.6, val_ratio=0.2):\n",
    "    \"\"\"\n",
    "    Allocate chunks to splits to achieve target balance\n",
    "    \"\"\"\n",
    "    total_chunks = len(chunks_info)\n",
    "    target_train_chunks = int(total_chunks * train_ratio)\n",
    "    target_val_chunks = int(total_chunks * val_ratio) \n",
    "    target_test_chunks = total_chunks - target_train_chunks - target_val_chunks\n",
    "    \n",
    "    print(f\"Target allocation: Train={target_train_chunks}, Val={target_val_chunks}, Test={target_test_chunks}\")\n",
    "    \n",
    "    # Strategy: Distribute chunk types across splits to balance attack ratios\n",
    "    train_chunks = []\n",
    "    val_chunks = []\n",
    "    test_chunks = []\n",
    "    \n",
    "    # Start with mixed chunks (easiest to balance)\n",
    "    mixed_per_split = len(mixed_chunks) // 3\n",
    "    train_chunks.extend(mixed_chunks[:mixed_per_split])\n",
    "    val_chunks.extend(mixed_chunks[mixed_per_split:2*mixed_per_split])\n",
    "    test_chunks.extend(mixed_chunks[2*mixed_per_split:])\n",
    "    \n",
    "    # Distribute attack-heavy and benign-heavy chunks\n",
    "    remaining_attack_heavy = attack_heavy_chunks.copy()\n",
    "    remaining_benign_heavy = benign_heavy_chunks.copy()\n",
    "    \n",
    "    # Fill remaining slots, balancing attack ratios\n",
    "    splits = [\n",
    "        ('train', train_chunks, target_train_chunks),\n",
    "        ('val', val_chunks, target_val_chunks), \n",
    "        ('test', test_chunks, target_test_chunks)\n",
    "    ]\n",
    "    \n",
    "    for split_name, split_chunks, target_size in splits:\n",
    "        while len(split_chunks) < target_size:\n",
    "            # Calculate current attack ratio for this split\n",
    "            current_attacks = sum(c['attack_count'] for c in split_chunks)\n",
    "            current_total = sum(c['total_samples'] for c in split_chunks)\n",
    "            current_ratio = current_attacks / current_total if current_total > 0 else 0\n",
    "            \n",
    "            # Decide what type of chunk to add\n",
    "            if current_ratio < target_attack_ratio - 0.05 and remaining_attack_heavy:\n",
    "                # Need more attacks\n",
    "                chunk = remaining_attack_heavy.pop(0)\n",
    "                split_chunks.append(chunk)\n",
    "                print(f\"  {split_name}: Added attack-heavy chunk {chunk['id']} (ratio={chunk['attack_ratio']:.3f})\")\n",
    "            elif current_ratio > target_attack_ratio + 0.05 and remaining_benign_heavy:\n",
    "                # Need more benign\n",
    "                chunk = remaining_benign_heavy.pop(0)\n",
    "                split_chunks.append(chunk)\n",
    "                print(f\"  {split_name}: Added benign-heavy chunk {chunk['id']} (ratio={chunk['attack_ratio']:.3f})\")\n",
    "            elif remaining_attack_heavy:\n",
    "                chunk = remaining_attack_heavy.pop(0)\n",
    "                split_chunks.append(chunk)\n",
    "            elif remaining_benign_heavy:\n",
    "                chunk = remaining_benign_heavy.pop(0)\n",
    "                split_chunks.append(chunk)\n",
    "            else:\n",
    "                break\n",
    "    \n",
    "    # Add any remaining chunks to the splits\n",
    "    all_remaining = remaining_attack_heavy + remaining_benign_heavy\n",
    "    for i, chunk in enumerate(all_remaining):\n",
    "        target_split = i % 3\n",
    "        if target_split == 0:\n",
    "            train_chunks.append(chunk)\n",
    "        elif target_split == 1:\n",
    "            val_chunks.append(chunk)\n",
    "        else:\n",
    "            test_chunks.append(chunk)\n",
    "    \n",
    "    return train_chunks, val_chunks, test_chunks\n",
    "\n",
    "# Allocate chunks\n",
    "train_chunk_list, val_chunk_list, test_chunk_list = allocate_chunks_for_balance(chunks_info)\n",
    "\n",
    "# ==============================\n",
    "# COMBINE CHUNKS INTO SPLITS\n",
    "# ==============================\n",
    "print(f\"\\n🔧 COMBINING CHUNKS INTO FINAL SPLITS...\")\n",
    "\n",
    "def combine_chunks(chunk_list, split_name):\n",
    "    \"\"\"Combine chunks while maintaining temporal order within each chunk\"\"\"\n",
    "    if not chunk_list:\n",
    "        print(f\"⚠️  {split_name}: No chunks allocated!\")\n",
    "        return np.array([]), np.array([])\n",
    "    \n",
    "    # Sort chunks by temporal order (chunk ID)\n",
    "    chunk_list.sort(key=lambda x: x['id'])\n",
    "    \n",
    "    X_combined = []\n",
    "    y_combined = []\n",
    "    \n",
    "    total_samples = 0\n",
    "    total_attacks = 0\n",
    "    total_benign = 0\n",
    "    \n",
    "    chunk_ids = []\n",
    "    for chunk in chunk_list:\n",
    "        X_combined.append(chunk['X'])\n",
    "        y_combined.append(chunk['y'])\n",
    "        total_samples += chunk['total_samples']\n",
    "        total_attacks += chunk['attack_count']\n",
    "        total_benign += chunk['benign_count']\n",
    "        chunk_ids.append(chunk['id'])\n",
    "    \n",
    "    X_final = np.vstack(X_combined) if X_combined else np.array([]).reshape(0, X.shape[1])\n",
    "    y_final = np.hstack(y_combined) if y_combined else np.array([])\n",
    "    \n",
    "    attack_ratio = total_attacks / total_samples if total_samples > 0 else 0\n",
    "    \n",
    "    print(f\"{split_name}:\")\n",
    "    print(f\"  Chunks: {chunk_ids}\")\n",
    "    print(f\"  Samples: {total_samples:,} | Benign: {total_benign:,} ({total_benign/total_samples:.1%}) | Attack: {total_attacks:,} ({attack_ratio:.1%})\")\n",
    "    \n",
    "    return X_final, y_final\n",
    "\n",
    "# Create final splits\n",
    "X_train, y_train = combine_chunks(train_chunk_list, \"TRAIN\")\n",
    "X_val, y_val = combine_chunks(val_chunk_list, \"VAL\")\n",
    "X_test, y_test = combine_chunks(test_chunk_list, \"TEST\")\n",
    "\n",
    "# ==============================\n",
    "# FINAL VALIDATION & REPORTING\n",
    "# ==============================\n",
    "print(f\"\\n{'='*60}\")\n",
    "print(f\"🎯 FINAL CHUNK-BASED RESULTS\")\n",
    "print(f\"{'='*60}\")\n",
    "\n",
    "total_retained = len(X_train) + len(X_val) + len(X_test)\n",
    "retention_rate = total_retained / len(X) * 100\n",
    "\n",
    "print(f\"Dataset size: {len(X):,} → {total_retained:,} ({retention_rate:.1f}% retained)\")\n",
    "print(f\"Split sizes: Train={len(X_train):,} | Val={len(X_val):,} | Test={len(X_test):,}\")\n",
    "\n",
    "# Final balance check\n",
    "print(f\"\\nFINAL CLASS DISTRIBUTIONS:\")\n",
    "for name, y_split in [(\"Train\", y_train), (\"Val\", y_val), (\"Test\", y_test)]:\n",
    "    if len(y_split) == 0:\n",
    "        print(f\"{name:5s}: 🚨 EMPTY SPLIT!\")\n",
    "        continue\n",
    "        \n",
    "    unique_vals, counts = np.unique(y_split, return_counts=True)\n",
    "    total = len(y_split)\n",
    "    \n",
    "    if len(unique_vals) >= 2:\n",
    "        benign_count = counts[unique_vals == 0][0] if 0 in unique_vals else 0\n",
    "        attack_count = counts[unique_vals == 1][0] if 1 in unique_vals else 0\n",
    "        \n",
    "        benign_pct = benign_count / total\n",
    "        attack_pct = attack_count / total\n",
    "        minority_pct = min(benign_pct, attack_pct) * 100\n",
    "        \n",
    "        print(f\"{name:5s}: Benign={benign_pct:.1%} | Attack={attack_pct:.1%} | Minority={minority_pct:.1f}%\", end=\"\")\n",
    "        \n",
    "        if minority_pct >= 25:  # More relaxed for test set\n",
    "            print(\" ✅ USABLE\")\n",
    "        else:\n",
    "            print(f\" ⚠️  STILL IMBALANCED\")\n",
    "    else:\n",
    "        print(f\"{name:5s}: 🚨 SINGLE CLASS ({unique_vals[0]}) - {counts[0]:,} samples!\")\n",
    "\n",
    "# Verify data integrity\n",
    "if total_retained > 0:\n",
    "    print(f\"\\n✅ Data integrity: {len(X):,} → {total_retained:,} samples\")\n",
    "    print(f\"🍭 Temporal chunks successfully distributed!\")\n",
    "else:\n",
    "    print(f\"\\n🚨 ERROR: No samples retained!\")\n",
    "\n",
    "print(f\"\\n🚀 Ready for training with chunk-balanced splits!\")"
   ]
  },
  {
   "cell_type": "code",
   "execution_count": 18,
   "id": "72b7b78a",
   "metadata": {},
   "outputs": [
    {
     "name": "stdout",
     "output_type": "stream",
     "text": [
      "\n",
      "=== STEP 3: Chronological Feature Scaling ===\n",
      "📊 Scaling based on training data only (no future information)\n",
      "Training data after scaling - Mean range: [-0.000000, 0.000000]\n",
      "Training data after scaling - Std range: [1.000000, 1.000000]\n",
      "✅ Feature scaling completed with temporal integrity\n"
     ]
    }
   ],
   "source": [
    "# ==============================\n",
    "# STEP 3: Feature Scaling (Applied Chronologically)\n",
    "# ==============================\n",
    "print(\"\\n=== STEP 3: Chronological Feature Scaling ===\")\n",
    "print(\"📊 Scaling based on training data only (no future information)\")\n",
    "    \n",
    "    # Fit scaler ONLY on training data\n",
    "scaler = StandardScaler()\n",
    "X_train_scaled = scaler.fit_transform(X_train)\n",
    "X_val_scaled = scaler.transform(X_val)  # Transform only, no fitting\n",
    "X_test_scaled = scaler.transform(X_test)  # Transform only, no fitting\n",
    "    \n",
    "    # DEBUG: Check for scaling issues\n",
    "train_mean = np.mean(X_train_scaled, axis=0)\n",
    "train_std = np.std(X_train_scaled, axis=0)\n",
    "    \n",
    "print(f\"Training data after scaling - Mean range: [{train_mean.min():.6f}, {train_mean.max():.6f}]\")\n",
    "print(f\"Training data after scaling - Std range: [{train_std.min():.6f}, {train_std.max():.6f}]\")\n",
    "    \n",
    "    # Check for constant features (std = 0)\n",
    "constant_features = np.sum(train_std < 1e-8)\n",
    "if constant_features > 0:\n",
    "    print(f\"⚠️  {constant_features} constant features detected - these won't help learning\")\n",
    "    \n",
    "print(\"✅ Feature scaling completed with temporal integrity\")"
   ]
  },
  {
   "cell_type": "code",
   "execution_count": 19,
   "id": "c912ea8a",
   "metadata": {},
   "outputs": [
    {
     "name": "stdout",
     "output_type": "stream",
     "text": [
      "\n",
      "=== STEP 4: Baseline Model Evaluation ===\n",
      "Training baseline models...\n",
      "Adding Majority Class Predictor...\n",
      "Adding Logistic Regression...\n",
      "Adding Random Forest...\n",
      "\n",
      "=== Baseline Model Evaluation ===\n",
      "\n",
      "Evaluating Majority Class...\n",
      "  Accuracy:  0.1967\n",
      "  Precision: 0.1967\n",
      "  Recall:    1.0000\n",
      "  F1 Score:  0.3287\n",
      "  AUC:       0.5000\n",
      "  PR-AUC:    0.1967\n",
      "\n",
      "Evaluating Logistic Regression...\n",
      "  Accuracy:  0.8747\n",
      "  Precision: 0.7716\n",
      "  Recall:    0.5151\n",
      "  F1 Score:  0.6178\n",
      "  AUC:       0.8322\n",
      "  PR-AUC:    0.7056\n",
      "\n",
      "Evaluating Random Forest...\n",
      "  Accuracy:  0.8869\n",
      "  Precision: 0.9617\n",
      "  Recall:    0.4426\n",
      "  F1 Score:  0.6062\n",
      "  AUC:       0.9190\n",
      "  PR-AUC:    0.8415\n",
      "\n",
      "=== Baseline Results Summary ===\n",
      "              Model  Accuracy  Precision  Recall     F1    AUC  PR-AUC\n",
      "     Majority Class    0.1967     0.1967  1.0000 0.3287 0.5000  0.1967\n",
      "Logistic Regression    0.8747     0.7716  0.5151 0.6178 0.8322  0.7056\n",
      "      Random Forest    0.8869     0.9617  0.4426 0.6062 0.9190  0.8415\n"
     ]
    }
   ],
   "source": [
    "print(\"\\n=== STEP 4: Baseline Model Evaluation ===\")\n",
    "    \n",
    "baseline_eval = BaselineEvaluator()\n",
    "print(\"Training baseline models...\")\n",
    "baseline_eval.add_dummy_classifier(X_train_scaled, y_train)\n",
    "baseline_eval.add_logistic_regression(X_train_scaled, y_train)\n",
    "baseline_eval.add_random_forest(X_train_scaled, y_train)\n",
    "    \n",
    "if len(X_train_scaled) <= 50000:\n",
    "    baseline_eval.add_knn(X_train_scaled, y_train)\n",
    "    \n",
    "baseline_eval.evaluate_all(X_test_scaled, y_test, \"Baseline\")\n",
    "baseline_results_df = baseline_eval.get_results_summary()\n",
    "print(\"\\n=== Baseline Results Summary ===\")\n",
    "print(baseline_results_df.to_string(index=False))"
   ]
  },
  {
   "cell_type": "code",
   "execution_count": 20,
   "id": "522d6e12",
   "metadata": {},
   "outputs": [],
   "source": [
    "window_length = 64"
   ]
  },
  {
   "cell_type": "code",
   "execution_count": 21,
   "id": "2da1828d",
   "metadata": {},
   "outputs": [
    {
     "name": "stdout",
     "output_type": "stream",
     "text": [
      "\n",
      "=== STEP 5: IMPROVED Chronological Sequence Creation ===\n",
      "Creating robust sequences for all splits...\n",
      "  Input: 697464 samples, sequence length: 64\n",
      "  Using stride: 51 (overlap: 20.3%)\n",
      "  Created 13675 sequences\n",
      "    Class distribution: {np.int64(0): np.int64(6018), np.int64(1): np.int64(7657)}\n",
      "    Minority class ratio: 0.440\n",
      "  Input: 232488 samples, sequence length: 64\n",
      "  Using stride: 32 (overlap: 50.0%)\n",
      "  Created 7264 sequences\n",
      "    Class distribution: {np.int64(0): np.int64(4614), np.int64(1): np.int64(2650)}\n",
      "    Minority class ratio: 0.365\n",
      "  Input: 232488 samples, sequence length: 64\n",
      "  Using stride: 32 (overlap: 50.0%)\n",
      "  Created 7264 sequences\n",
      "    Class distribution: {np.int64(0): np.int64(5107), np.int64(1): np.int64(2157)}\n",
      "    Minority class ratio: 0.297\n",
      "\n",
      "Final sequence shapes:\n",
      "  Training: (13675, 64, 50)\n",
      "  Validation: (7264, 64, 50)\n",
      "  Test: (7264, 64, 50)\n"
     ]
    }
   ],
   "source": [
    "print(\"\\n=== STEP 5: IMPROVED Chronological Sequence Creation ===\")\n",
    "\n",
    "def create_robust_sequences(X, y, seq_len, overlap_ratio=0.7, min_attack_ratio=0.01):\n",
    "    \"\"\"\n",
    "    Create sequences with improved labeling and class balance validation\n",
    "    \"\"\"\n",
    "    print(f\"  Input: {len(X)} samples, sequence length: {seq_len}\")\n",
    "    \n",
    "    if len(X) < seq_len:\n",
    "        print(f\"⚠️  Not enough samples for sequences (need {seq_len}, have {len(X)})\")\n",
    "        return np.array([]), np.array([])\n",
    "    \n",
    "    sequences = []\n",
    "    labels = []\n",
    "    \n",
    "    # Use controlled overlap to prevent overfitting while maximizing data\n",
    "    stride = max(1, int(seq_len * overlap_ratio))\n",
    "    print(f\"  Using stride: {stride} (overlap: {1-stride/seq_len:.1%})\")\n",
    "    \n",
    "    for i in range(0, len(X) - seq_len + 1, stride):\n",
    "        sequence = X[i:i + seq_len]\n",
    "        sequence_labels = y[i:i + seq_len]\n",
    "        \n",
    "        # IMPROVED LABELING: Multiple strategies with validation\n",
    "        attack_ratio = np.mean(sequence_labels)\n",
    "        \n",
    "        # Strategy: Attack if significant portion of sequence contains attacks\n",
    "        sequence_label = 1 if attack_ratio >= min_attack_ratio else 0\n",
    "        \n",
    "        sequences.append(sequence)\n",
    "        labels.append(sequence_label)\n",
    "    \n",
    "    sequences = np.array(sequences)\n",
    "    labels = np.array(labels)\n",
    "    \n",
    "    print(f\"  Created {len(sequences)} sequences\")\n",
    "    \n",
    "    # Validate class distribution\n",
    "    unique_seq, counts_seq = np.unique(labels, return_counts=True)\n",
    "    print(f\"    Class distribution: {dict(zip(unique_seq, counts_seq))}\")\n",
    "    \n",
    "    if len(unique_seq) < 2:\n",
    "        print(f\"🚨 SINGLE CLASS DETECTED - Trying alternative labeling...\")\n",
    "        # Fallback: ANY attack in sequence\n",
    "        labels = []\n",
    "        for i in range(0, len(X) - seq_len + 1, stride):\n",
    "            sequence_labels = y[i:i + seq_len]\n",
    "            sequence_label = 1 if np.any(sequence_labels) else 0\n",
    "            labels.append(sequence_label)\n",
    "        \n",
    "        labels = np.array(labels)\n",
    "        unique_seq, counts_seq = np.unique(labels, return_counts=True)\n",
    "        print(f\"    Fallback distribution: {dict(zip(unique_seq, counts_seq))}\")\n",
    "    \n",
    "    # Class balance check\n",
    "    if len(unique_seq) > 1:\n",
    "        minority_ratio = min(counts_seq) / len(labels)\n",
    "        print(f\"    Minority class ratio: {minority_ratio:.3f}\")\n",
    "        \n",
    "        if minority_ratio < 0.05:\n",
    "            print(f\"    ⚠️ Severe class imbalance detected!\")\n",
    "    \n",
    "    return sequences, labels\n",
    "\n",
    "# Apply improved sequence creation\n",
    "print(\"Creating robust sequences for all splits...\")\n",
    "sequence_length = window_length\n",
    "X_train_seq, y_train_seq = create_robust_sequences(\n",
    "    X_train_scaled, y_train, sequence_length, overlap_ratio=0.8\n",
    ")\n",
    "\n",
    "X_val_seq, y_val_seq = create_robust_sequences(\n",
    "    X_val_scaled, y_val, sequence_length, overlap_ratio=0.5\n",
    ")\n",
    "\n",
    "X_test_seq, y_test_seq = create_robust_sequences(\n",
    "    X_test_scaled, y_test, sequence_length, overlap_ratio=0.5\n",
    ")\n",
    "\n",
    "print(f\"\\nFinal sequence shapes:\")\n",
    "print(f\"  Training: {X_train_seq.shape}\")\n",
    "print(f\"  Validation: {X_val_seq.shape}\")\n",
    "print(f\"  Test: {X_test_seq.shape}\")"
   ]
  },
  {
   "cell_type": "code",
   "execution_count": 22,
   "id": "4ddfff7e",
   "metadata": {},
   "outputs": [
    {
     "name": "stdout",
     "output_type": "stream",
     "text": [
      "\n",
      "=== STEP 6: Anti-Overfitting Configuration ===\n",
      "Training class distribution: {np.int64(0): 6018, np.int64(1): 7657}\n",
      "Calculated pos_weight: 0.786\n",
      "Conservative parameters: {'hidden_dim': 64, 'num_layers': 5, 'dropout': 0.5, 'use_attention': False, 'bidirectional': False, 'lr': 0.001, 'batch_size': 64, 'optimizer': 'adam', 'l2_reg': 0.001, 'gradient_clip': 1.0, 'early_stopping_patience': 40, 'reduce_lr_patience': 7, 'min_lr': 1e-06, 'min_delta': 0.0001, 'pos_weight': 0.7859474990205042, 'focal_loss': False}\n",
      "Model complexity ratio: 1.1700\n",
      "⚠️ Still potentially complex - monitor for overfitting\n"
     ]
    }
   ],
   "source": [
    "# ==============================\n",
    "# STEP 6: ANTI-OVERFITTING PARAMETERS\n",
    "# ==============================\n",
    "print(\"\\n=== STEP 6: Anti-Overfitting Configuration ===\")\n",
    "\n",
    "# Calculate class weights for imbalanced data\n",
    "from collections import Counter\n",
    "train_class_counts = Counter(y_train_seq)\n",
    "print(f\"Training class distribution: {dict(train_class_counts)}\")\n",
    "\n",
    "if len(train_class_counts) > 1:\n",
    "    total_samples = sum(train_class_counts.values())\n",
    "    class_weights = {\n",
    "        cls: total_samples / (len(train_class_counts) * count) \n",
    "        for cls, count in train_class_counts.items()\n",
    "    }\n",
    "    pos_weight = class_weights.get(1, 1.0) / class_weights.get(0, 1.0)\n",
    "    print(f\"Calculated pos_weight: {pos_weight:.3f}\")\n",
    "else:\n",
    "    pos_weight = 1.0\n",
    "    print(\"⚠️ Single class detected, using default weight\")\n",
    "\n",
    "# CONSERVATIVE parameters to prevent overfitting\n",
    "n_train = len(X_train_seq)\n",
    "n_features = X_train_seq.shape[2]\n",
    "  \n",
    "# tag \n",
    "\n",
    "best_params = {\n",
    "    # Model architecture - keep simple\n",
    "    'hidden_dim': min(128, max(64, n_features)),  # Scale with features but cap low\n",
    "    'num_layers': 5,                             # Single layer to prevent overfitting\n",
    "    'dropout': 0.5,                              # Strong dropout\n",
    "    'use_attention': False,                       # Disable attention for simplicity\n",
    "    'bidirectional': False,                       # Disable bidirectional\n",
    "    \n",
    "    # Training parameters\n",
    "    'lr': 0.001,                                 # Conservative learning rate\n",
    "    'batch_size': min(64, max(16, n_train // 20)), # Reasonable batch size\n",
    "    'optimizer': 'adam',                         # Standard Adam\n",
    "    'l2_reg': 1e-3,                             # Strong L2 regularization\n",
    "    'gradient_clip': 1.0,                       # Gradient clipping\n",
    "    \n",
    "    # Early stopping\n",
    "    'early_stopping_patience': 40,              # Increased patience\n",
    "    'reduce_lr_patience': 7,                    # LR reduction patience\n",
    "    'min_lr': 1e-6,                             # Minimum learning rate\n",
    "    'min_delta': 1e-4,                          # Minimum improvement\n",
    "    \n",
    "    # Class imbalance handling\n",
    "    'pos_weight': pos_weight,\n",
    "    'focal_loss': False  # Keep simple for now\n",
    "}\n",
    "\n",
    "print(f\"Conservative parameters: {best_params}\")\n",
    "\n",
    "# Model complexity check\n",
    "model_params = best_params['hidden_dim'] * best_params['num_layers'] * n_features\n",
    "complexity_ratio = model_params / n_train\n",
    "print(f\"Model complexity ratio: {complexity_ratio:.4f}\")\n",
    "if complexity_ratio > 0.1:\n",
    "    print(\"⚠️ Still potentially complex - monitor for overfitting\")"
   ]
  },
  {
   "cell_type": "code",
   "execution_count": 51,
   "id": "d872fe5d",
   "metadata": {},
   "outputs": [
    {
     "name": "stdout",
     "output_type": "stream",
     "text": [
      "Using device: cuda\n",
      "\n",
      "=== IMMEDIATE FIXES FOR DECLINING PERFORMANCE ===\n",
      "\n",
      "1. Reduce Regularization:\n",
      "   - Set dropout to 0.1-0.2 (not 0.2-0.6)\n",
      "   - Reduce l2_reg to 1e-4 or 1e-5\n",
      "   - Remove L1 regularization entirely\n",
      "   - Remove excessive batch normalization\n",
      "\n",
      "2. Fix Loss Function:\n",
      "   - Use standard BCEWithLogitsLoss instead of focal loss\n",
      "   - Reduce pos_weight to sqrt((1-pos_ratio)/pos_ratio)\n",
      "   - Remove alpha and gamma parameters from focal loss\n",
      "\n",
      "3. Adjust Learning:\n",
      "   - Increase learning rate to 0.001-0.005\n",
      "   - Use factor=0.7 in ReduceLROnPlateau (not 0.5)\n",
      "   - Increase patience to 7-10 epochs\n",
      "   - Monitor combined performance metric\n",
      "\n",
      "4. Architecture Changes:\n",
      "   - Simplify to max 2 LSTM layers\n",
      "   - Remove input layer normalization\n",
      "   - Use wider intermediate layers (less bottlenecking)\n",
      "   - Remove excessive dropout layers\n",
      "\n",
      "5. Data Preprocessing:\n",
      "   - Use StandardScaler instead of RobustScaler\n",
      "   - Increase clipping threshold to 6.0 (from 5.0)\n",
      "   - Don't over-preprocess time series data\n",
      "\n",
      "============================================================\n",
      "KEY INSIGHTS ON YOUR DECLINING PERFORMANCE:\n",
      "============================================================\n",
      "Your F1/AUC decline is likely due to:\n",
      "1. Over-regularization preventing learning\n",
      "2. Focal loss fighting against reasonable predictions\n",
      "3. Aggressive preprocessing removing signal\n",
      "4. Model architecture bottlenecks\n",
      "5. Learning rate dropping too quickly\n",
      "\n",
      "The 'good' loss gap was masking poor actual performance!\n",
      "============================================================\n"
     ]
    }
   ],
   "source": [
    "# ==============================\n",
    "# FIXED LSTM TRAINING - ADDRESSING DECLINING PERFORMANCE\n",
    "# ==============================\n",
    "\n",
    "import numpy as np\n",
    "import torch\n",
    "import torch.nn as nn\n",
    "from torch.utils.data import DataLoader, TensorDataset\n",
    "import matplotlib.pyplot as plt\n",
    "import optuna\n",
    "from sklearn.metrics import f1_score, roc_auc_score, classification_report\n",
    "from sklearn.preprocessing import StandardScaler\n",
    "import wandb\n",
    "import pickle\n",
    "import json\n",
    "import warnings\n",
    "import time\n",
    "warnings.filterwarnings('ignore')\n",
    "\n",
    "device = torch.device('cuda' if torch.cuda.is_available() else 'cpu')\n",
    "print(f\"Using device: {device}\")\n",
    "\n",
    "def preprocess_data_fixed(X_train, X_val, X_test, y_train, y_val, y_test):\n",
    "    \"\"\"\n",
    "    FIXED: More conservative preprocessing to preserve signal\n",
    "    \"\"\"\n",
    "    print(\"=== FIXED Data Preprocessing ===\")\n",
    "    \n",
    "    # Convert to numpy if needed\n",
    "    X_train = np.array(X_train, dtype=np.float32)\n",
    "    X_val = np.array(X_val, dtype=np.float32)\n",
    "    X_test = np.array(X_test, dtype=np.float32)\n",
    "    y_train = np.array(y_train, dtype=np.float32)\n",
    "    y_val = np.array(y_val, dtype=np.float32)\n",
    "    y_test = np.array(y_test, dtype=np.float32)\n",
    "    \n",
    "    # Clean data\n",
    "    def clean_sequences(X, y):\n",
    "        valid_mask = ~(np.isnan(X).any(axis=(1,2)) | np.isinf(X).any(axis=(1,2)) | \n",
    "                      np.isnan(y) | np.isinf(y))\n",
    "        return X[valid_mask], y[valid_mask]\n",
    "    \n",
    "    X_train, y_train = clean_sequences(X_train, y_train)\n",
    "    X_val, y_val = clean_sequences(X_val, y_val)\n",
    "    X_test, y_test = clean_sequences(X_test, y_test)\n",
    "    \n",
    "    print(f\"After cleaning - Train: {len(X_train)}, Val: {len(X_val)}, Test: {len(X_test)}\")\n",
    "    \n",
    "    # CONSERVATIVE scaling - preserve more signal\n",
    "    original_shape_train = X_train.shape\n",
    "    original_shape_val = X_val.shape\n",
    "    original_shape_test = X_test.shape\n",
    "    \n",
    "    # Reshape to (samples * timesteps, features)\n",
    "    X_train_flat = X_train.reshape(-1, X_train.shape[-1])\n",
    "    X_val_flat = X_val.reshape(-1, X_val.shape[-1])\n",
    "    X_test_flat = X_test.reshape(-1, X_test.shape[-1])\n",
    "    \n",
    "    # Use StandardScaler (less aggressive than RobustScaler)\n",
    "    scaler = StandardScaler()\n",
    "    X_train_flat = scaler.fit_transform(X_train_flat)\n",
    "    X_val_flat = scaler.transform(X_val_flat)\n",
    "    X_test_flat = scaler.transform(X_test_flat)\n",
    "    \n",
    "    # Reshape back\n",
    "    X_train = X_train_flat.reshape(original_shape_train)\n",
    "    X_val = X_val_flat.reshape(original_shape_val)\n",
    "    X_test = X_test_flat.reshape(original_shape_test)\n",
    "    \n",
    "    # REMOVED: Aggressive clipping that can remove signal\n",
    "    # Only clip extreme outliers (>6 sigma)\n",
    "    clip_value = 6.0\n",
    "    X_train = np.clip(X_train, -clip_value, clip_value)\n",
    "    X_val = np.clip(X_val, -clip_value, clip_value)\n",
    "    X_test = np.clip(X_test, -clip_value, clip_value)\n",
    "    \n",
    "    # Ensure labels are properly shaped\n",
    "    y_train = y_train.reshape(-1)\n",
    "    y_val = y_val.reshape(-1)\n",
    "    y_test = y_test.reshape(-1)\n",
    "    \n",
    "    # More conservative pos_weight calculation\n",
    "    train_pos_ratio = np.mean(y_train)\n",
    "    val_pos_ratio = np.mean(y_val)\n",
    "    \n",
    "    print(f\"Class balance - Train: {train_pos_ratio:.3f}, Val: {val_pos_ratio:.3f}\")\n",
    "    \n",
    "    # Less aggressive pos_weight\n",
    "    if train_pos_ratio > 0:\n",
    "        pos_weight = (1 - train_pos_ratio) / train_pos_ratio  # Remove the sqrt()\n",
    "    else:\n",
    "        pos_weight = 1.0\n",
    "    \n",
    "    print(f\"Calculated pos_weight: {pos_weight:.2f}\")\n",
    "    \n",
    "    return X_train, X_val, X_test, y_train, y_val, y_test, scaler, pos_weight\n",
    "\n",
    "class FixedLSTM(nn.Module):\n",
    "    \"\"\"\n",
    "    FIXED: Reduced over-regularization and better architecture\n",
    "    \"\"\"\n",
    "    def __init__(self, input_dim, hidden_dim, num_layers, dropout=0.2):\n",
    "        super(FixedLSTM, self).__init__()\n",
    "        \n",
    "        self.hidden_dim = hidden_dim\n",
    "        self.num_layers = num_layers\n",
    "        \n",
    "        # REMOVED: Input normalization that can hurt time series patterns\n",
    "        \n",
    "        # LSTM with conservative dropout\n",
    "        self.lstm = nn.LSTM(\n",
    "            input_dim, hidden_dim, num_layers,\n",
    "            batch_first=True, \n",
    "            dropout=dropout if num_layers > 1 else 0,\n",
    "            bidirectional=False  # Keep simple\n",
    "        )\n",
    "        \n",
    "        # SIMPLIFIED architecture - no excessive bottlenecking\n",
    "        self.dropout1 = nn.Dropout(dropout)\n",
    "        \n",
    "        # Wider intermediate layer (less bottlenecking)\n",
    "        intermediate_dim = max(hidden_dim // 2, 32)\n",
    "        self.fc1 = nn.Linear(hidden_dim, intermediate_dim)\n",
    "        \n",
    "        # REMOVED: Excessive batch norm and dropout layers\n",
    "        self.dropout2 = nn.Dropout(dropout * 0.5)  # Lighter dropout\n",
    "        \n",
    "        # Final output layer\n",
    "        self.fc_out = nn.Linear(intermediate_dim, 1)\n",
    "        \n",
    "        # Proper initialization\n",
    "        self.init_weights()\n",
    "        \n",
    "    def init_weights(self):\n",
    "        \"\"\"Conservative weight initialization\"\"\"\n",
    "        for name, param in self.named_parameters():\n",
    "            if 'weight_ih' in name:\n",
    "                torch.nn.init.xavier_uniform_(param.data)\n",
    "            elif 'weight_hh' in name:\n",
    "                torch.nn.init.orthogonal_(param.data)\n",
    "            elif 'bias' in name:\n",
    "                param.data.fill_(0)\n",
    "            elif 'fc' in name and 'weight' in name:\n",
    "                torch.nn.init.xavier_uniform_(param.data)\n",
    "    \n",
    "    def forward(self, x):\n",
    "        # LSTM forward pass\n",
    "        lstm_out, (hidden, cell) = self.lstm(x)\n",
    "        \n",
    "        # Use final hidden state\n",
    "        sequence_output = hidden[-1]\n",
    "        \n",
    "        # Simple forward pass with light regularization\n",
    "        x = self.dropout1(sequence_output)\n",
    "        x = torch.relu(self.fc1(x))\n",
    "        x = self.dropout2(x)\n",
    "        output = self.fc_out(x)\n",
    "        \n",
    "        return output.squeeze(-1)\n",
    "\n",
    "def train_lstm_fixed(X_train, y_train, X_val, y_val, params, model, epochs=50, trial=None):\n",
    "    \"\"\"\n",
    "    FIXED training function addressing declining performance\n",
    "    \"\"\"\n",
    "    print(f\"Training with FIXED approach - monitoring for declining performance\")\n",
    "    \n",
    "    # Ensure proper data types\n",
    "    X_train = X_train.astype(np.float32)\n",
    "    X_val = X_val.astype(np.float32)\n",
    "    y_train = y_train.astype(np.float32)\n",
    "    y_val = y_val.astype(np.float32)\n",
    "    \n",
    "    # Create datasets - No shuffling for time series\n",
    "    train_dataset = TensorDataset(torch.from_numpy(X_train), torch.from_numpy(y_train))\n",
    "    val_dataset = TensorDataset(torch.from_numpy(X_val), torch.from_numpy(y_val))\n",
    "\n",
    "    train_loader = DataLoader(train_dataset, batch_size=params['batch_size'], shuffle=False)\n",
    "    val_loader = DataLoader(val_dataset, batch_size=params['batch_size'], shuffle=False)\n",
    "\n",
    "    # FIXED: Standard Adam with conservative settings\n",
    "    optimizer = torch.optim.Adam(\n",
    "        model.parameters(),\n",
    "        lr=params['lr'],\n",
    "        weight_decay=params['l2_reg'],\n",
    "        betas=(0.9, 0.999)\n",
    "    )\n",
    "\n",
    "    # FIXED: Less aggressive learning rate scheduling\n",
    "    scheduler = torch.optim.lr_scheduler.ReduceLROnPlateau(\n",
    "        optimizer, mode='max', factor=0.7,  # Less aggressive reduction\n",
    "        patience=7,  # More patience\n",
    "        verbose=True,\n",
    "        min_lr=5e-6\n",
    "    )\n",
    "\n",
    "    # FIXED: Use standard BCE loss instead of focal loss\n",
    "    criterion = nn.BCEWithLogitsLoss(\n",
    "        pos_weight=torch.tensor([params['pos_weight']], device=device)\n",
    "    )\n",
    "    \n",
    "    # Tracking variables\n",
    "    train_losses, val_losses = [], []\n",
    "    train_f1s, val_f1s, val_aucs = [], [], []\n",
    "    best_val_f1, patience_counter = 0, 0\n",
    "    best_model_state = None\n",
    "    \n",
    "    # Performance decline detection\n",
    "    performance_history = []\n",
    "    decline_threshold = 3  # Stop if performance declines for 3 epochs\n",
    "\n",
    "    print(f\"Starting training with performance monitoring...\")\n",
    "\n",
    "    for epoch in range(epochs):\n",
    "        # =============\n",
    "        # TRAINING PHASE\n",
    "        # =============\n",
    "        model.train()\n",
    "        epoch_loss, train_preds_all, train_targets_all = 0, [], []\n",
    "\n",
    "        for batch_idx, (X_batch, y_batch) in enumerate(train_loader):\n",
    "            X_batch, y_batch = X_batch.to(device), y_batch.to(device)\n",
    "\n",
    "            optimizer.zero_grad()\n",
    "            outputs = model(X_batch)\n",
    "            \n",
    "            # Ensure proper shapes\n",
    "            if outputs.shape != y_batch.shape:\n",
    "                outputs = outputs.view(-1)\n",
    "                y_batch = y_batch.view(-1)\n",
    "            \n",
    "            # FIXED: Standard BCE loss\n",
    "            loss = criterion(outputs, y_batch)\n",
    "            \n",
    "            # FIXED: Much lighter L1 regularization\n",
    "            if params.get('l1_reg', 0) > 0:\n",
    "                l1_norm = sum(p.abs().sum() for p in model.parameters())\n",
    "                loss = loss + params['l1_reg'] * l1_norm\n",
    "            \n",
    "            loss.backward()\n",
    "            torch.nn.utils.clip_grad_norm_(model.parameters(), params['gradient_clip'])\n",
    "            optimizer.step()\n",
    "\n",
    "            epoch_loss += loss.item()\n",
    "            \n",
    "            # Collect predictions\n",
    "            with torch.no_grad():\n",
    "                probs = torch.sigmoid(outputs).cpu().numpy().flatten()\n",
    "                preds = (probs >= 0.5).astype(int)\n",
    "                train_preds_all.extend(preds)\n",
    "                train_targets_all.extend(y_batch.cpu().numpy().flatten())\n",
    "\n",
    "        avg_train_loss = epoch_loss / len(train_loader)\n",
    "        train_losses.append(avg_train_loss)\n",
    "        \n",
    "        # Training metrics\n",
    "        if len(set(train_targets_all)) > 1:\n",
    "            train_f1 = f1_score(train_targets_all, train_preds_all, zero_division=0)\n",
    "        else:\n",
    "            train_f1 = 0.0\n",
    "        train_f1s.append(train_f1)\n",
    "\n",
    "        # =============\n",
    "        # VALIDATION PHASE\n",
    "        # =============\n",
    "        model.eval()\n",
    "        val_loss, val_probs_all, val_targets_all = 0, [], []\n",
    "\n",
    "        with torch.no_grad():\n",
    "            for X_batch, y_batch in val_loader:\n",
    "                X_batch, y_batch = X_batch.to(device), y_batch.to(device)\n",
    "                outputs = model(X_batch)\n",
    "                \n",
    "                if outputs.shape != y_batch.shape:\n",
    "                    outputs = outputs.view(-1)\n",
    "                    y_batch = y_batch.view(-1)\n",
    "                \n",
    "                batch_loss = criterion(outputs, y_batch)\n",
    "                val_loss += batch_loss.item()\n",
    "                \n",
    "                probs = torch.sigmoid(outputs).cpu().numpy().flatten()\n",
    "                val_probs_all.extend(probs)\n",
    "                val_targets_all.extend(y_batch.cpu().numpy().flatten())\n",
    "\n",
    "        avg_val_loss = val_loss / len(val_loader)\n",
    "        val_losses.append(avg_val_loss)\n",
    "        \n",
    "        # Calculate validation metrics\n",
    "        if len(np.unique(val_targets_all)) > 1:\n",
    "            val_auc = roc_auc_score(val_targets_all, val_probs_all)\n",
    "        else:\n",
    "            val_auc = 0.5\n",
    "        val_aucs.append(val_auc)\n",
    "        \n",
    "        # Find best F1 across thresholds\n",
    "        best_val_f1_epoch = 0\n",
    "        for thresh in np.arange(0.3, 0.7, 0.05):  # Narrower threshold range\n",
    "            preds = (np.array(val_probs_all) >= thresh).astype(int)\n",
    "            f1 = f1_score(val_targets_all, preds, zero_division=0)\n",
    "            best_val_f1_epoch = max(best_val_f1_epoch, f1)\n",
    "        \n",
    "        val_f1s.append(best_val_f1_epoch)\n",
    "        \n",
    "        # FIXED: Performance decline detection\n",
    "        current_performance = (train_f1 + best_val_f1_epoch + val_auc) / 3\n",
    "        performance_history.append(current_performance)\n",
    "        \n",
    "        # Check for consistent decline\n",
    "        if len(performance_history) >= decline_threshold + 1:\n",
    "            recent_trend = performance_history[-decline_threshold:]\n",
    "            if all(recent_trend[i] <= recent_trend[i-1] for i in range(1, len(recent_trend))):\n",
    "                print(f\"PERFORMANCE DECLINE DETECTED - stopping training\")\n",
    "                print(f\"Recent performance: {recent_trend}\")\n",
    "                break\n",
    "\n",
    "        loss_gap = avg_val_loss - avg_train_loss\n",
    "        \n",
    "        print(f\"Epoch {epoch+1:2d} | Loss: T={avg_train_loss:.4f} V={avg_val_loss:.4f} Gap={loss_gap:.4f}\")\n",
    "        print(f\"         | F1: T={train_f1:.4f} V={best_val_f1_epoch:.4f} | AUC: {val_auc:.4f}\")\n",
    "        print(f\"         | Combined Performance: {current_performance:.4f}\")\n",
    "\n",
    "        # Model saving logic\n",
    "        if best_val_f1_epoch > best_val_f1:\n",
    "            best_val_f1 = best_val_f1_epoch\n",
    "            best_model_state = {k: v.cpu().clone() for k, v in model.state_dict().items()}\n",
    "            patience_counter = 0\n",
    "            print(f\"    ✅ New best F1: {best_val_f1:.4f}\")\n",
    "        else:\n",
    "            patience_counter += 1\n",
    "\n",
    "        # FIXED: More conservative early stopping\n",
    "        if patience_counter >= 15:  # Increased patience\n",
    "            print(f\"Early stopping after {patience_counter} epochs without improvement\")\n",
    "            break\n",
    "        \n",
    "        # FIXED: Less aggressive learning rate scheduling\n",
    "        scheduler.step(current_performance)  # Use combined performance metric\n",
    "\n",
    "        # Optuna pruning (if applicable)\n",
    "        if trial is not None:\n",
    "            trial.report(current_performance, epoch)\n",
    "            if trial.should_prune():\n",
    "                raise optuna.exceptions.TrialPruned()\n",
    "\n",
    "    # Restore best model\n",
    "    if best_model_state is not None:\n",
    "        model.load_state_dict({k: v.to(device) for k, v in best_model_state.items()})\n",
    "        print(f\"Restored best model with F1: {best_val_f1:.4f}\")\n",
    "\n",
    "    return model, {\n",
    "        'train_losses': train_losses,\n",
    "        'val_losses': val_losses,\n",
    "        'train_f1s': train_f1s,\n",
    "        'val_f1s': val_f1s,\n",
    "        'val_aucs': val_aucs,\n",
    "        'best_val_f1': best_val_f1,\n",
    "        'performance_history': performance_history\n",
    "    }\n",
    "\n",
    "def fixed_objective(trial):\n",
    "    \"\"\"\n",
    "    FIXED objective with conservative parameter ranges\n",
    "    \"\"\"\n",
    "    print(f\"\\n🔬 FIXED Trial #{trial.number}\")\n",
    "    \n",
    "    # CONSERVATIVE parameter ranges to prevent over-regularization\n",
    "    params = {\n",
    "        # Architecture - keep simple\n",
    "        'hidden_dim': trial.suggest_categorical('hidden_dim', [32, 48, 64, 96]),\n",
    "        'num_layers': trial.suggest_int('num_layers', 1, 2),  # Max 2 layers\n",
    "        'sequence_length': trial.suggest_categorical('sequence_length', [15, 20, 25]),\n",
    "        \n",
    "        # LIGHT regularization only\n",
    "        'dropout': trial.suggest_float('dropout', 0.1, 0.3),  # Much lower dropout\n",
    "        'l2_reg': trial.suggest_float('l2_reg', 1e-5, 1e-3, log=True),  # Lighter L2\n",
    "        'l1_reg': 0.0,  # REMOVED L1 regularization\n",
    "        \n",
    "        # Training parameters\n",
    "        'lr': trial.suggest_float('lr', 0.0005, 0.005, log=True),  # Higher learning rates\n",
    "        'batch_size': trial.suggest_categorical('batch_size', [64, 128, 256]),\n",
    "        'gradient_clip': trial.suggest_float('gradient_clip', 1.0, 5.0),  # Less aggressive clipping\n",
    "        \n",
    "        # Fixed parameters\n",
    "        'early_stopping_patience': 15,\n",
    "        'min_delta': 1e-5\n",
    "    }\n",
    "    \n",
    "    print(f\"Trial params: hidden={params['hidden_dim']}, layers={params['num_layers']}, \"\n",
    "          f\"dropout={params['dropout']:.3f}, lr={params['lr']:.4f}\")\n",
    "    \n",
    "    try:\n",
    "        # Sequence length adjustment\n",
    "        seq_len = params['sequence_length']\n",
    "        if 'X_train_seq' not in globals():\n",
    "            raise ValueError(\"Training data not found\")\n",
    "        \n",
    "        # Adjust sequences\n",
    "        if seq_len != X_train_seq.shape[1]:\n",
    "            if seq_len < X_train_seq.shape[1]:\n",
    "                X_train_trial = X_train_seq[:, -seq_len:, :]\n",
    "                X_val_trial = X_val_seq[:, -seq_len:, :]\n",
    "                X_test_trial = X_test_seq[:, -seq_len:, :]\n",
    "            else:\n",
    "                pad_size = seq_len - X_train_seq.shape[1]\n",
    "                X_train_trial = np.pad(X_train_seq, ((0,0), (pad_size,0), (0,0)), mode='constant')\n",
    "                X_val_trial = np.pad(X_val_seq, ((0,0), (pad_size,0), (0,0)), mode='constant')\n",
    "                X_test_trial = np.pad(X_test_seq, ((0,0), (pad_size,0), (0,0)), mode='constant')\n",
    "        else:\n",
    "            X_train_trial = X_train_seq\n",
    "            X_val_trial = X_val_seq\n",
    "            X_test_trial = X_test_seq\n",
    "        \n",
    "        # Apply FIXED preprocessing\n",
    "        X_train_clean, X_val_clean, X_test_clean, y_train_clean, y_val_clean, y_test_clean, scaler, pos_weight = preprocess_data_fixed(\n",
    "            X_train_trial, X_val_trial, X_test_trial, y_train_seq, y_val_seq, y_test_seq\n",
    "        )\n",
    "        \n",
    "        params['pos_weight'] = pos_weight\n",
    "        \n",
    "        # Create model\n",
    "        model = FixedLSTM(\n",
    "            input_dim=X_train_clean.shape[2],\n",
    "            hidden_dim=params['hidden_dim'],\n",
    "            num_layers=params['num_layers'],\n",
    "            dropout=params['dropout']\n",
    "        ).to(device)\n",
    "        \n",
    "        # Train model\n",
    "        trained_model, history = train_lstm_fixed(\n",
    "            X_train_clean, y_train_clean, X_val_clean, y_val_clean,\n",
    "            params, model, epochs=50, trial=trial\n",
    "        )\n",
    "        \n",
    "        # FIXED scoring: Penalize declining performance\n",
    "        best_f1 = history['best_val_f1']\n",
    "        \n",
    "        # Check if performance declined significantly\n",
    "        if len(history['performance_history']) > 5:\n",
    "            early_performance = np.mean(history['performance_history'][:5])\n",
    "            late_performance = np.mean(history['performance_history'][-5:])\n",
    "            decline_penalty = max(0, early_performance - late_performance) * 10  # Heavy penalty for decline\n",
    "        else:\n",
    "            decline_penalty = 0\n",
    "        \n",
    "        final_score = best_f1 - decline_penalty\n",
    "        \n",
    "        print(f\"Trial {trial.number}: F1={best_f1:.4f}, Decline_penalty={decline_penalty:.4f}, \"\n",
    "              f\"Score={final_score:.4f}\")\n",
    "        \n",
    "        return final_score\n",
    "        \n",
    "    except optuna.exceptions.TrialPruned:\n",
    "        raise\n",
    "    except Exception as e:\n",
    "        print(f\"Trial {trial.number} failed: {str(e)}\")\n",
    "        return 0.0\n",
    "\n",
    "def quick_diagnostic_check(model, X_train, X_val, y_train, y_val):\n",
    "    \"\"\"\n",
    "    Quick check to identify why performance is declining\n",
    "    \"\"\"\n",
    "    print(\"\\n=== PERFORMANCE DECLINE DIAGNOSTIC ===\")\n",
    "    \n",
    "    model.eval()\n",
    "    with torch.no_grad():\n",
    "        # Get predictions for both sets\n",
    "        train_tensor = torch.from_numpy(X_train[:1000].astype(np.float32)).to(device)\n",
    "        val_tensor = torch.from_numpy(X_val.astype(np.float32)).to(device)\n",
    "        \n",
    "        train_outputs = model(train_tensor)\n",
    "        val_outputs = model(val_tensor)\n",
    "        \n",
    "        train_probs = torch.sigmoid(train_outputs).cpu().numpy()\n",
    "        val_probs = torch.sigmoid(val_outputs).cpu().numpy()\n",
    "        \n",
    "        # Check for degenerate predictions\n",
    "        train_prob_range = np.max(train_probs) - np.min(train_probs)\n",
    "        val_prob_range = np.max(val_probs) - np.min(val_probs)\n",
    "        \n",
    "        print(f\"Prediction analysis:\")\n",
    "        print(f\"   Train prob range: {train_prob_range:.4f}\")\n",
    "        print(f\"   Val prob range: {val_prob_range:.4f}\")\n",
    "        print(f\"   Train prob mean: {np.mean(train_probs):.4f}\")\n",
    "        print(f\"   Val prob mean: {np.mean(val_probs):.4f}\")\n",
    "        \n",
    "        # Check for mode collapse\n",
    "        train_entropy = -np.mean(train_probs * np.log(train_probs + 1e-8) + \n",
    "                                (1-train_probs) * np.log(1-train_probs + 1e-8))\n",
    "        val_entropy = -np.mean(val_probs * np.log(val_probs + 1e-8) + \n",
    "                              (1-val_probs) * np.log(1-val_probs + 1e-8))\n",
    "        \n",
    "        print(f\"   Train entropy: {train_entropy:.4f}\")\n",
    "        print(f\"   Val entropy: {val_entropy:.4f}\")\n",
    "        \n",
    "        if train_prob_range < 0.1:\n",
    "            print(\"   🚨 WARNING: Training predictions too narrow (mode collapse)\")\n",
    "        if val_prob_range < 0.1:\n",
    "            print(\"   🚨 WARNING: Validation predictions too narrow\")\n",
    "        if train_entropy < 0.2:\n",
    "            print(\"   🚨 WARNING: Very low prediction entropy on training data\")\n",
    "            \n",
    "        # Gradient analysis\n",
    "        model.train()\n",
    "        dummy_input = torch.from_numpy(X_train[:32].astype(np.float32)).to(device)\n",
    "        dummy_target = torch.from_numpy(y_train[:32].astype(np.float32)).to(device)\n",
    "        \n",
    "        outputs = model(dummy_input)\n",
    "        loss = criterion(outputs.view(-1), dummy_target.view(-1))\n",
    "        loss.backward()\n",
    "        \n",
    "        grad_norms = []\n",
    "        for name, param in model.named_parameters():\n",
    "            if param.grad is not None:\n",
    "                grad_norms.append(param.grad.norm().item())\n",
    "        \n",
    "        avg_grad_norm = np.mean(grad_norms)\n",
    "        print(f\"   Average gradient norm: {avg_grad_norm:.6f}\")\n",
    "        \n",
    "        if avg_grad_norm < 1e-6:\n",
    "            print(\"   🚨 WARNING: Very small gradients (vanishing gradient problem)\")\n",
    "        elif avg_grad_norm > 10:\n",
    "            print(\"   🚨 WARNING: Very large gradients (exploding gradient problem)\")\n",
    "\n",
    "# ==============================\n",
    "# RECOMMENDED QUICK FIXES\n",
    "# ==============================\n",
    "\n",
    "def apply_quick_fixes():\n",
    "    \"\"\"\n",
    "    Immediate changes you can make to fix declining performance\n",
    "    \"\"\"\n",
    "    print(\"\\n=== IMMEDIATE FIXES FOR DECLINING PERFORMANCE ===\")\n",
    "    \n",
    "    fixes = {\n",
    "        \"1. Reduce Regularization\": [\n",
    "            \"Set dropout to 0.1-0.2 (not 0.2-0.6)\",\n",
    "            \"Reduce l2_reg to 1e-4 or 1e-5\",\n",
    "            \"Remove L1 regularization entirely\",\n",
    "            \"Remove excessive batch normalization\"\n",
    "        ],\n",
    "        \n",
    "        \"2. Fix Loss Function\": [\n",
    "            \"Use standard BCEWithLogitsLoss instead of focal loss\",\n",
    "            \"Reduce pos_weight to sqrt((1-pos_ratio)/pos_ratio)\",\n",
    "            \"Remove alpha and gamma parameters from focal loss\"\n",
    "        ],\n",
    "        \n",
    "        \"3. Adjust Learning\": [\n",
    "            \"Increase learning rate to 0.001-0.005\",\n",
    "            \"Use factor=0.7 in ReduceLROnPlateau (not 0.5)\",\n",
    "            \"Increase patience to 7-10 epochs\",\n",
    "            \"Monitor combined performance metric\"\n",
    "        ],\n",
    "        \n",
    "        \"4. Architecture Changes\": [\n",
    "            \"Simplify to max 2 LSTM layers\",\n",
    "            \"Remove input layer normalization\",\n",
    "            \"Use wider intermediate layers (less bottlenecking)\",\n",
    "            \"Remove excessive dropout layers\"\n",
    "        ],\n",
    "        \n",
    "        \"5. Data Preprocessing\": [\n",
    "            \"Use StandardScaler instead of RobustScaler\",\n",
    "            \"Increase clipping threshold to 6.0 (from 5.0)\",\n",
    "            \"Don't over-preprocess time series data\"\n",
    "        ]\n",
    "    }\n",
    "    \n",
    "    for category, fix_list in fixes.items():\n",
    "        print(f\"\\n{category}:\")\n",
    "        for fix in fix_list:\n",
    "            print(f\"   - {fix}\")\n",
    "    \n",
    "    return fixes\n",
    "\n",
    "# ==============================\n",
    "# USAGE\n",
    "# ==============================\n",
    "\n",
    "# Apply immediate fixes\n",
    "quick_fixes = apply_quick_fixes()\n",
    "\n",
    "# Or run the fixed optimization\n",
    "# study_fixed, model_fixed, params_fixed, summary_fixed = run_fixed_optimization()\n",
    "\n",
    "print(\"\\n\" + \"=\"*60)\n",
    "print(\"KEY INSIGHTS ON YOUR DECLINING PERFORMANCE:\")\n",
    "print(\"=\"*60)\n",
    "print(\"Your F1/AUC decline is likely due to:\")\n",
    "print(\"1. Over-regularization preventing learning\")\n",
    "print(\"2. Focal loss fighting against reasonable predictions\") \n",
    "print(\"3. Aggressive preprocessing removing signal\")\n",
    "print(\"4. Model architecture bottlenecks\")\n",
    "print(\"5. Learning rate dropping too quickly\")\n",
    "print(\"\\nThe 'good' loss gap was masking poor actual performance!\")\n",
    "print(\"=\"*60)"
   ]
  },
  {
   "cell_type": "code",
   "execution_count": 52,
   "id": "4d941aaf",
   "metadata": {},
   "outputs": [
    {
     "name": "stderr",
     "output_type": "stream",
     "text": [
      "[I 2025-09-01 14:56:02,044] A new study created in memory with name: no-name-96712735-78cb-41bd-8349-5288bab2e5e8\n"
     ]
    },
    {
     "data": {
      "text/html": [
       "Changes to your `wandb` environment variables will be ignored because your `wandb` session has already started. For more information on how to modify your settings with `wandb.init()` arguments, please refer to <a href='https://wandb.me/wandb-init' target=\"_blank\">the W&B docs</a>."
      ],
      "text/plain": [
       "<IPython.core.display.HTML object>"
      ]
     },
     "metadata": {},
     "output_type": "display_data"
    },
    {
     "data": {
      "text/html": [
       "creating run (0.0s)"
      ],
      "text/plain": [
       "<IPython.core.display.HTML object>"
      ]
     },
     "metadata": {},
     "output_type": "display_data"
    },
    {
     "data": {
      "text/html": [
       "Tracking run with wandb version 0.21.2"
      ],
      "text/plain": [
       "<IPython.core.display.HTML object>"
      ]
     },
     "metadata": {},
     "output_type": "display_data"
    },
    {
     "data": {
      "text/html": [
       "Run data is saved locally in <code>c:\\Users\\gokde\\OneDrive\\Masaüstü\\Anomaly-Detection-and-Network-Optimization-in-SDNs\\real_project\\wandb\\run-20250901_145602-wdmmuxas</code>"
      ],
      "text/plain": [
       "<IPython.core.display.HTML object>"
      ]
     },
     "metadata": {},
     "output_type": "display_data"
    },
    {
     "data": {
      "text/html": [
       "Syncing run <strong><a href='https://wandb.ai/derelioglugokdeniz-bilkent-university/trial-5-/runs/wdmmuxas' target=\"_blank\">trial_0</a></strong> to <a href='https://wandb.ai/derelioglugokdeniz-bilkent-university/trial-5-' target=\"_blank\">Weights & Biases</a> (<a href='https://wandb.me/developer-guide' target=\"_blank\">docs</a>)<br>"
      ],
      "text/plain": [
       "<IPython.core.display.HTML object>"
      ]
     },
     "metadata": {},
     "output_type": "display_data"
    },
    {
     "data": {
      "text/html": [
       " View project at <a href='https://wandb.ai/derelioglugokdeniz-bilkent-university/trial-5-' target=\"_blank\">https://wandb.ai/derelioglugokdeniz-bilkent-university/trial-5-</a>"
      ],
      "text/plain": [
       "<IPython.core.display.HTML object>"
      ]
     },
     "metadata": {},
     "output_type": "display_data"
    },
    {
     "data": {
      "text/html": [
       " View run at <a href='https://wandb.ai/derelioglugokdeniz-bilkent-university/trial-5-/runs/wdmmuxas' target=\"_blank\">https://wandb.ai/derelioglugokdeniz-bilkent-university/trial-5-/runs/wdmmuxas</a>"
      ],
      "text/plain": [
       "<IPython.core.display.HTML object>"
      ]
     },
     "metadata": {},
     "output_type": "display_data"
    },
    {
     "name": "stdout",
     "output_type": "stream",
     "text": [
      "Initializing AdvancedLSTM:\n",
      "  Input dim: 50\n",
      "  Hidden dim: 8\n",
      "  Num layers: 3\n",
      "  Dropout: 0.2\n",
      "  Attention: False\n",
      "  Bidirectional: True\n",
      "  Total parameters: 7,361\n",
      "  Trainable parameters: 7,361\n"
     ]
    },
    {
     "data": {
      "text/html": [
       "Changes to your `wandb` environment variables will be ignored because your `wandb` session has already started. For more information on how to modify your settings with `wandb.init()` arguments, please refer to <a href='https://wandb.me/wandb-init' target=\"_blank\">the W&B docs</a>."
      ],
      "text/plain": [
       "<IPython.core.display.HTML object>"
      ]
     },
     "metadata": {},
     "output_type": "display_data"
    },
    {
     "data": {
      "text/html": [
       "Finishing previous runs because reinit is set to True."
      ],
      "text/plain": [
       "<IPython.core.display.HTML object>"
      ]
     },
     "metadata": {},
     "output_type": "display_data"
    },
    {
     "data": {
      "text/html": [],
      "text/plain": [
       "<IPython.core.display.HTML object>"
      ]
     },
     "metadata": {},
     "output_type": "display_data"
    },
    {
     "data": {
      "text/html": [
       " View run <strong style=\"color:#cdcd00\">trial_0</strong> at: <a href='https://wandb.ai/derelioglugokdeniz-bilkent-university/trial-5-/runs/wdmmuxas' target=\"_blank\">https://wandb.ai/derelioglugokdeniz-bilkent-university/trial-5-/runs/wdmmuxas</a><br> View project at: <a href='https://wandb.ai/derelioglugokdeniz-bilkent-university/trial-5-' target=\"_blank\">https://wandb.ai/derelioglugokdeniz-bilkent-university/trial-5-</a><br>Synced 5 W&B file(s), 0 media file(s), 0 artifact file(s) and 0 other file(s)"
      ],
      "text/plain": [
       "<IPython.core.display.HTML object>"
      ]
     },
     "metadata": {},
     "output_type": "display_data"
    },
    {
     "data": {
      "text/html": [
       "Find logs at: <code>.\\wandb\\run-20250901_145602-wdmmuxas\\logs</code>"
      ],
      "text/plain": [
       "<IPython.core.display.HTML object>"
      ]
     },
     "metadata": {},
     "output_type": "display_data"
    },
    {
     "data": {
      "text/html": [
       "creating run (0.2s)"
      ],
      "text/plain": [
       "<IPython.core.display.HTML object>"
      ]
     },
     "metadata": {},
     "output_type": "display_data"
    },
    {
     "data": {
      "text/html": [
       "Tracking run with wandb version 0.21.2"
      ],
      "text/plain": [
       "<IPython.core.display.HTML object>"
      ]
     },
     "metadata": {},
     "output_type": "display_data"
    },
    {
     "data": {
      "text/html": [
       "Run data is saved locally in <code>c:\\Users\\gokde\\OneDrive\\Masaüstü\\Anomaly-Detection-and-Network-Optimization-in-SDNs\\real_project\\wandb\\run-20250901_145603-6gkbj9zz</code>"
      ],
      "text/plain": [
       "<IPython.core.display.HTML object>"
      ]
     },
     "metadata": {},
     "output_type": "display_data"
    },
    {
     "data": {
      "text/html": [
       "Syncing run <strong><a href='https://wandb.ai/derelioglugokdeniz-bilkent-university/lstm-cybersecurity-optuna/runs/6gkbj9zz' target=\"_blank\">trial_0</a></strong> to <a href='https://wandb.ai/derelioglugokdeniz-bilkent-university/lstm-cybersecurity-optuna' target=\"_blank\">Weights & Biases</a> (<a href='https://wandb.me/developer-guide' target=\"_blank\">docs</a>)<br>"
      ],
      "text/plain": [
       "<IPython.core.display.HTML object>"
      ]
     },
     "metadata": {},
     "output_type": "display_data"
    },
    {
     "data": {
      "text/html": [
       " View project at <a href='https://wandb.ai/derelioglugokdeniz-bilkent-university/lstm-cybersecurity-optuna' target=\"_blank\">https://wandb.ai/derelioglugokdeniz-bilkent-university/lstm-cybersecurity-optuna</a>"
      ],
      "text/plain": [
       "<IPython.core.display.HTML object>"
      ]
     },
     "metadata": {},
     "output_type": "display_data"
    },
    {
     "data": {
      "text/html": [
       " View run at <a href='https://wandb.ai/derelioglugokdeniz-bilkent-university/lstm-cybersecurity-optuna/runs/6gkbj9zz' target=\"_blank\">https://wandb.ai/derelioglugokdeniz-bilkent-university/lstm-cybersecurity-optuna/runs/6gkbj9zz</a>"
      ],
      "text/plain": [
       "<IPython.core.display.HTML object>"
      ]
     },
     "metadata": {},
     "output_type": "display_data"
    },
    {
     "name": "stdout",
     "output_type": "stream",
     "text": [
      "Starting training for 50 epochs...\n",
      "Epoch  1 | Train Loss: 1.0741 | Val Loss: 0.9406 | Train F1: 0.5502 | Val F1: 0.5346 | Val AUC: 0.7519\n",
      "Epoch  2 | Train Loss: 1.0356 | Val Loss: 0.9431 | Train F1: 0.7084 | Val F1: 0.5346 | Val AUC: 0.8003\n",
      "Epoch  3 | Train Loss: 1.0031 | Val Loss: 0.9467 | Train F1: 0.7175 | Val F1: 0.5346 | Val AUC: 0.8811\n",
      "Epoch  4 | Train Loss: 1.0006 | Val Loss: 0.9547 | Train F1: 0.7179 | Val F1: 0.5346 | Val AUC: 0.8381\n",
      "Epoch  5 | Train Loss: 0.9850 | Val Loss: 0.9650 | Train F1: 0.7179 | Val F1: 0.5346 | Val AUC: 0.4986\n",
      "Epoch  6 | Train Loss: 0.9768 | Val Loss: 0.9811 | Train F1: 0.7179 | Val F1: 0.5346 | Val AUC: 0.5000\n",
      "Epoch  7 | Train Loss: 0.9570 | Val Loss: 0.9904 | Train F1: 0.7179 | Val F1: 0.5346 | Val AUC: 0.5000\n",
      "Epoch  8 | Train Loss: 0.9552 | Val Loss: 0.9999 | Train F1: 0.7179 | Val F1: 0.5346 | Val AUC: 0.5000\n",
      "Epoch  9 | Train Loss: 0.9525 | Val Loss: 1.0085 | Train F1: 0.7179 | Val F1: 0.5346 | Val AUC: 0.5000\n",
      "⏹ Early stopping at epoch 9\n",
      "✅ Restored best model with validation F1: 0.5346\n"
     ]
    },
    {
     "data": {
      "text/html": [],
      "text/plain": [
       "<IPython.core.display.HTML object>"
      ]
     },
     "metadata": {},
     "output_type": "display_data"
    },
    {
     "data": {
      "text/html": [
       "<br>    <style><br>        .wandb-row {<br>            display: flex;<br>            flex-direction: row;<br>            flex-wrap: wrap;<br>            justify-content: flex-start;<br>            width: 100%;<br>        }<br>        .wandb-col {<br>            display: flex;<br>            flex-direction: column;<br>            flex-basis: 100%;<br>            flex: 1;<br>            padding: 10px;<br>        }<br>    </style><br><div class=\"wandb-row\"><div class=\"wandb-col\"><h3>Run history:</h3><br/><table class=\"wandb\"><tr><td>epoch_end</td><td>▁▂▃▄▅▅▆▇█</td></tr><tr><td>final_val_auc</td><td>▁</td></tr><tr><td>final_val_f1</td><td>▁</td></tr><tr><td>learning_rate</td><td>██████▁▁▁</td></tr><tr><td>loss_gap</td><td>▁▃▄▄▅▆▇██</td></tr><tr><td>patience_counter</td><td>▁▁▂▃▄▅▆▇█</td></tr><tr><td>total_epochs</td><td>▁</td></tr><tr><td>train_f1</td><td>▁████████</td></tr><tr><td>train_loss</td><td>█▆▄▄▃▂▁▁▁</td></tr><tr><td>val_auc</td><td>▆▇█▇▁▁▁▁▁</td></tr><tr><td>+2</td><td>...</td></tr></table><br/></div><div class=\"wandb-col\"><h3>Run summary:</h3><br/><table class=\"wandb\"><tr><td>converged</td><td>False</td></tr><tr><td>epoch_end</td><td>8</td></tr><tr><td>final_val_auc</td><td>0.5</td></tr><tr><td>final_val_f1</td><td>0.5346</td></tr><tr><td>learning_rate</td><td>0.0006</td></tr><tr><td>loss_gap</td><td>0.05594</td></tr><tr><td>patience_counter</td><td>7</td></tr><tr><td>total_epochs</td><td>9</td></tr><tr><td>train_f1</td><td>0.71789</td></tr><tr><td>train_loss</td><td>0.95253</td></tr><tr><td>+3</td><td>...</td></tr></table><br/></div></div>"
      ],
      "text/plain": [
       "<IPython.core.display.HTML object>"
      ]
     },
     "metadata": {},
     "output_type": "display_data"
    },
    {
     "data": {
      "text/html": [
       " View run <strong style=\"color:#cdcd00\">trial_0</strong> at: <a href='https://wandb.ai/derelioglugokdeniz-bilkent-university/lstm-cybersecurity-optuna/runs/6gkbj9zz' target=\"_blank\">https://wandb.ai/derelioglugokdeniz-bilkent-university/lstm-cybersecurity-optuna/runs/6gkbj9zz</a><br> View project at: <a href='https://wandb.ai/derelioglugokdeniz-bilkent-university/lstm-cybersecurity-optuna' target=\"_blank\">https://wandb.ai/derelioglugokdeniz-bilkent-university/lstm-cybersecurity-optuna</a><br>Synced 5 W&B file(s), 0 media file(s), 0 artifact file(s) and 0 other file(s)"
      ],
      "text/plain": [
       "<IPython.core.display.HTML object>"
      ]
     },
     "metadata": {},
     "output_type": "display_data"
    },
    {
     "data": {
      "text/html": [
       "Find logs at: <code>.\\wandb\\run-20250901_145603-6gkbj9zz\\logs</code>"
      ],
      "text/plain": [
       "<IPython.core.display.HTML object>"
      ]
     },
     "metadata": {},
     "output_type": "display_data"
    },
    {
     "name": "stderr",
     "output_type": "stream",
     "text": [
      "[I 2025-09-01 14:56:22,259] Trial 0 finished with value: 0.5345975388339722 and parameters: {'hidden_dim': 8, 'num_layers': 3, 'dropout': 0.2, 'use_attention': False, 'bidirectional': True, 'sequence_length': 2}. Best is trial 0 with value: 0.5345975388339722.\n"
     ]
    },
    {
     "data": {
      "text/html": [
       "Changes to your `wandb` environment variables will be ignored because your `wandb` session has already started. For more information on how to modify your settings with `wandb.init()` arguments, please refer to <a href='https://wandb.me/wandb-init' target=\"_blank\">the W&B docs</a>."
      ],
      "text/plain": [
       "<IPython.core.display.HTML object>"
      ]
     },
     "metadata": {},
     "output_type": "display_data"
    },
    {
     "data": {
      "text/html": [
       "creating run (0.2s)"
      ],
      "text/plain": [
       "<IPython.core.display.HTML object>"
      ]
     },
     "metadata": {},
     "output_type": "display_data"
    },
    {
     "data": {
      "text/html": [
       "Tracking run with wandb version 0.21.2"
      ],
      "text/plain": [
       "<IPython.core.display.HTML object>"
      ]
     },
     "metadata": {},
     "output_type": "display_data"
    },
    {
     "data": {
      "text/html": [
       "Run data is saved locally in <code>c:\\Users\\gokde\\OneDrive\\Masaüstü\\Anomaly-Detection-and-Network-Optimization-in-SDNs\\real_project\\wandb\\run-20250901_145622-h8m4dw7r</code>"
      ],
      "text/plain": [
       "<IPython.core.display.HTML object>"
      ]
     },
     "metadata": {},
     "output_type": "display_data"
    },
    {
     "data": {
      "text/html": [
       "Syncing run <strong><a href='https://wandb.ai/derelioglugokdeniz-bilkent-university/trial-5-/runs/h8m4dw7r' target=\"_blank\">trial_1</a></strong> to <a href='https://wandb.ai/derelioglugokdeniz-bilkent-university/trial-5-' target=\"_blank\">Weights & Biases</a> (<a href='https://wandb.me/developer-guide' target=\"_blank\">docs</a>)<br>"
      ],
      "text/plain": [
       "<IPython.core.display.HTML object>"
      ]
     },
     "metadata": {},
     "output_type": "display_data"
    },
    {
     "data": {
      "text/html": [
       " View project at <a href='https://wandb.ai/derelioglugokdeniz-bilkent-university/trial-5-' target=\"_blank\">https://wandb.ai/derelioglugokdeniz-bilkent-university/trial-5-</a>"
      ],
      "text/plain": [
       "<IPython.core.display.HTML object>"
      ]
     },
     "metadata": {},
     "output_type": "display_data"
    },
    {
     "data": {
      "text/html": [
       " View run at <a href='https://wandb.ai/derelioglugokdeniz-bilkent-university/trial-5-/runs/h8m4dw7r' target=\"_blank\">https://wandb.ai/derelioglugokdeniz-bilkent-university/trial-5-/runs/h8m4dw7r</a>"
      ],
      "text/plain": [
       "<IPython.core.display.HTML object>"
      ]
     },
     "metadata": {},
     "output_type": "display_data"
    },
    {
     "name": "stdout",
     "output_type": "stream",
     "text": [
      "Initializing AdvancedLSTM:\n",
      "  Input dim: 50\n",
      "  Hidden dim: 32\n",
      "  Num layers: 1\n",
      "  Dropout: 0.8\n",
      "  Attention: True\n",
      "  Bidirectional: True\n",
      "  Total parameters: 40,833\n",
      "  Trainable parameters: 40,833\n"
     ]
    },
    {
     "data": {
      "text/html": [
       "Changes to your `wandb` environment variables will be ignored because your `wandb` session has already started. For more information on how to modify your settings with `wandb.init()` arguments, please refer to <a href='https://wandb.me/wandb-init' target=\"_blank\">the W&B docs</a>."
      ],
      "text/plain": [
       "<IPython.core.display.HTML object>"
      ]
     },
     "metadata": {},
     "output_type": "display_data"
    },
    {
     "data": {
      "text/html": [
       "Finishing previous runs because reinit is set to True."
      ],
      "text/plain": [
       "<IPython.core.display.HTML object>"
      ]
     },
     "metadata": {},
     "output_type": "display_data"
    },
    {
     "data": {
      "text/html": [],
      "text/plain": [
       "<IPython.core.display.HTML object>"
      ]
     },
     "metadata": {},
     "output_type": "display_data"
    },
    {
     "data": {
      "text/html": [
       " View run <strong style=\"color:#cdcd00\">trial_1</strong> at: <a href='https://wandb.ai/derelioglugokdeniz-bilkent-university/trial-5-/runs/h8m4dw7r' target=\"_blank\">https://wandb.ai/derelioglugokdeniz-bilkent-university/trial-5-/runs/h8m4dw7r</a><br> View project at: <a href='https://wandb.ai/derelioglugokdeniz-bilkent-university/trial-5-' target=\"_blank\">https://wandb.ai/derelioglugokdeniz-bilkent-university/trial-5-</a><br>Synced 5 W&B file(s), 0 media file(s), 0 artifact file(s) and 0 other file(s)"
      ],
      "text/plain": [
       "<IPython.core.display.HTML object>"
      ]
     },
     "metadata": {},
     "output_type": "display_data"
    },
    {
     "data": {
      "text/html": [
       "Find logs at: <code>.\\wandb\\run-20250901_145622-h8m4dw7r\\logs</code>"
      ],
      "text/plain": [
       "<IPython.core.display.HTML object>"
      ]
     },
     "metadata": {},
     "output_type": "display_data"
    },
    {
     "data": {
      "text/html": [
       "creating run (0.1s)"
      ],
      "text/plain": [
       "<IPython.core.display.HTML object>"
      ]
     },
     "metadata": {},
     "output_type": "display_data"
    },
    {
     "data": {
      "text/html": [
       "Tracking run with wandb version 0.21.2"
      ],
      "text/plain": [
       "<IPython.core.display.HTML object>"
      ]
     },
     "metadata": {},
     "output_type": "display_data"
    },
    {
     "data": {
      "text/html": [
       "Run data is saved locally in <code>c:\\Users\\gokde\\OneDrive\\Masaüstü\\Anomaly-Detection-and-Network-Optimization-in-SDNs\\real_project\\wandb\\run-20250901_145623-5iiv9g1b</code>"
      ],
      "text/plain": [
       "<IPython.core.display.HTML object>"
      ]
     },
     "metadata": {},
     "output_type": "display_data"
    },
    {
     "data": {
      "text/html": [
       "Syncing run <strong><a href='https://wandb.ai/derelioglugokdeniz-bilkent-university/lstm-cybersecurity-optuna/runs/5iiv9g1b' target=\"_blank\">trial_1</a></strong> to <a href='https://wandb.ai/derelioglugokdeniz-bilkent-university/lstm-cybersecurity-optuna' target=\"_blank\">Weights & Biases</a> (<a href='https://wandb.me/developer-guide' target=\"_blank\">docs</a>)<br>"
      ],
      "text/plain": [
       "<IPython.core.display.HTML object>"
      ]
     },
     "metadata": {},
     "output_type": "display_data"
    },
    {
     "data": {
      "text/html": [
       " View project at <a href='https://wandb.ai/derelioglugokdeniz-bilkent-university/lstm-cybersecurity-optuna' target=\"_blank\">https://wandb.ai/derelioglugokdeniz-bilkent-university/lstm-cybersecurity-optuna</a>"
      ],
      "text/plain": [
       "<IPython.core.display.HTML object>"
      ]
     },
     "metadata": {},
     "output_type": "display_data"
    },
    {
     "data": {
      "text/html": [
       " View run at <a href='https://wandb.ai/derelioglugokdeniz-bilkent-university/lstm-cybersecurity-optuna/runs/5iiv9g1b' target=\"_blank\">https://wandb.ai/derelioglugokdeniz-bilkent-university/lstm-cybersecurity-optuna/runs/5iiv9g1b</a>"
      ],
      "text/plain": [
       "<IPython.core.display.HTML object>"
      ]
     },
     "metadata": {},
     "output_type": "display_data"
    },
    {
     "name": "stdout",
     "output_type": "stream",
     "text": [
      "Starting training for 50 epochs...\n",
      "Epoch  1 | Train Loss: 1.0893 | Val Loss: 0.9656 | Train F1: 0.5323 | Val F1: 0.5346 | Val AUC: 0.3816\n",
      "Epoch  2 | Train Loss: 1.0073 | Val Loss: 0.9646 | Train F1: 0.7041 | Val F1: 0.5346 | Val AUC: 0.4664\n",
      "Epoch  3 | Train Loss: 0.9439 | Val Loss: 1.0225 | Train F1: 0.7179 | Val F1: 0.5346 | Val AUC: 0.4458\n",
      "Epoch  4 | Train Loss: 0.8813 | Val Loss: 1.0626 | Train F1: 0.7179 | Val F1: 0.5346 | Val AUC: 0.4531\n"
     ]
    },
    {
     "data": {
      "text/html": [],
      "text/plain": [
       "<IPython.core.display.HTML object>"
      ]
     },
     "metadata": {},
     "output_type": "display_data"
    },
    {
     "data": {
      "text/html": [
       "<br>    <style><br>        .wandb-row {<br>            display: flex;<br>            flex-direction: row;<br>            flex-wrap: wrap;<br>            justify-content: flex-start;<br>            width: 100%;<br>        }<br>        .wandb-col {<br>            display: flex;<br>            flex-direction: column;<br>            flex-basis: 100%;<br>            flex: 1;<br>            padding: 10px;<br>        }<br>    </style><br><div class=\"wandb-row\"><div class=\"wandb-col\"><h3>Run history:</h3><br/><table class=\"wandb\"><tr><td>epoch_end</td><td>▁▃▆█</td></tr><tr><td>learning_rate</td><td>▁▁▁▁</td></tr><tr><td>loss_gap</td><td>▁▃▆█</td></tr><tr><td>patience_counter</td><td>▁▁▅█</td></tr><tr><td>train_f1</td><td>▁▇██</td></tr><tr><td>train_loss</td><td>█▅▃▁</td></tr><tr><td>val_auc</td><td>▁█▆▇</td></tr><tr><td>val_f1</td><td>▁▁▁▁</td></tr><tr><td>val_loss</td><td>▁▁▅█</td></tr></table><br/></div><div class=\"wandb-col\"><h3>Run summary:</h3><br/><table class=\"wandb\"><tr><td>epoch_end</td><td>3</td></tr><tr><td>learning_rate</td><td>0.001</td></tr><tr><td>loss_gap</td><td>0.18131</td></tr><tr><td>patience_counter</td><td>2</td></tr><tr><td>train_f1</td><td>0.71789</td></tr><tr><td>train_loss</td><td>0.88129</td></tr><tr><td>val_auc</td><td>0.45314</td></tr><tr><td>val_f1</td><td>0.5346</td></tr><tr><td>val_loss</td><td>1.0626</td></tr></table><br/></div></div>"
      ],
      "text/plain": [
       "<IPython.core.display.HTML object>"
      ]
     },
     "metadata": {},
     "output_type": "display_data"
    },
    {
     "data": {
      "text/html": [
       " View run <strong style=\"color:#cdcd00\">trial_1</strong> at: <a href='https://wandb.ai/derelioglugokdeniz-bilkent-university/lstm-cybersecurity-optuna/runs/5iiv9g1b' target=\"_blank\">https://wandb.ai/derelioglugokdeniz-bilkent-university/lstm-cybersecurity-optuna/runs/5iiv9g1b</a><br> View project at: <a href='https://wandb.ai/derelioglugokdeniz-bilkent-university/lstm-cybersecurity-optuna' target=\"_blank\">https://wandb.ai/derelioglugokdeniz-bilkent-university/lstm-cybersecurity-optuna</a><br>Synced 5 W&B file(s), 0 media file(s), 0 artifact file(s) and 0 other file(s)"
      ],
      "text/plain": [
       "<IPython.core.display.HTML object>"
      ]
     },
     "metadata": {},
     "output_type": "display_data"
    },
    {
     "data": {
      "text/html": [
       "Find logs at: <code>.\\wandb\\run-20250901_145623-5iiv9g1b\\logs</code>"
      ],
      "text/plain": [
       "<IPython.core.display.HTML object>"
      ]
     },
     "metadata": {},
     "output_type": "display_data"
    },
    {
     "name": "stderr",
     "output_type": "stream",
     "text": [
      "[W 2025-09-01 14:56:33,127] Trial 1 failed with parameters: {'hidden_dim': 32, 'num_layers': 1, 'dropout': 0.8, 'use_attention': True, 'bidirectional': True, 'sequence_length': 48} because of the following error: KeyboardInterrupt().\n",
      "Traceback (most recent call last):\n",
      "  File \"c:\\Users\\gokde\\anaconda3\\envs\\torch_gpu\\Lib\\site-packages\\optuna\\study\\_optimize.py\", line 201, in _run_trial\n",
      "    value_or_values = func(trial)\n",
      "                      ^^^^^^^^^^^\n",
      "  File \"C:\\Users\\gokde\\AppData\\Local\\Temp\\ipykernel_25360\\3076918293.py\", line 233, in objective\n",
      "    trained_model, history = train_lstm_robust_antioverfitting(\n",
      "                             ^^^^^^^^^^^^^^^^^^^^^^^^^^^^^^^^^^\n",
      "  File \"C:\\Users\\gokde\\AppData\\Local\\Temp\\ipykernel_25360\\3076918293.py\", line 65, in train_lstm_robust_antioverfitting\n",
      "    loss.backward()\n",
      "  File \"c:\\Users\\gokde\\anaconda3\\envs\\torch_gpu\\Lib\\site-packages\\torch\\_tensor.py\", line 581, in backward\n",
      "    torch.autograd.backward(\n",
      "  File \"c:\\Users\\gokde\\anaconda3\\envs\\torch_gpu\\Lib\\site-packages\\torch\\autograd\\__init__.py\", line 347, in backward\n",
      "    _engine_run_backward(\n",
      "  File \"c:\\Users\\gokde\\anaconda3\\envs\\torch_gpu\\Lib\\site-packages\\torch\\autograd\\graph.py\", line 825, in _engine_run_backward\n",
      "    return Variable._execution_engine.run_backward(  # Calls into the C++ engine to run the backward pass\n",
      "           ^^^^^^^^^^^^^^^^^^^^^^^^^^^^^^^^^^^^^^^^^^^^^^^^^^^^^^^^^^^^^^^^^^^^^^^^^^^^^^^^^^^^^^^^^^^^^^\n",
      "KeyboardInterrupt\n",
      "[W 2025-09-01 14:56:33,147] Trial 1 failed with value None.\n"
     ]
    },
    {
     "ename": "KeyboardInterrupt",
     "evalue": "",
     "output_type": "error",
     "traceback": [
      "\u001b[31m---------------------------------------------------------------------------\u001b[39m",
      "\u001b[31mKeyboardInterrupt\u001b[39m                         Traceback (most recent call last)",
      "\u001b[36mCell\u001b[39m\u001b[36m \u001b[39m\u001b[32mIn[52]\u001b[39m\u001b[32m, line 264\u001b[39m\n\u001b[32m    262\u001b[39m sampler = optuna.samplers.GridSampler(search_space=param_grid)\n\u001b[32m    263\u001b[39m study = optuna.create_study(direction=\u001b[33m'\u001b[39m\u001b[33mmaximize\u001b[39m\u001b[33m'\u001b[39m, sampler=sampler)\n\u001b[32m--> \u001b[39m\u001b[32m264\u001b[39m \u001b[43mstudy\u001b[49m\u001b[43m.\u001b[49m\u001b[43moptimize\u001b[49m\u001b[43m(\u001b[49m\u001b[43mobjective\u001b[49m\u001b[43m,\u001b[49m\u001b[43m \u001b[49m\u001b[43mn_trials\u001b[49m\u001b[43m=\u001b[49m\u001b[38;5;28;43;01mNone\u001b[39;49;00m\u001b[43m)\u001b[49m  \u001b[38;5;66;03m# Explore all combinations\u001b[39;00m\n",
      "\u001b[36mFile \u001b[39m\u001b[32mc:\\Users\\gokde\\anaconda3\\envs\\torch_gpu\\Lib\\site-packages\\optuna\\study\\study.py:489\u001b[39m, in \u001b[36mStudy.optimize\u001b[39m\u001b[34m(self, func, n_trials, timeout, n_jobs, catch, callbacks, gc_after_trial, show_progress_bar)\u001b[39m\n\u001b[32m    387\u001b[39m \u001b[38;5;28;01mdef\u001b[39;00m\u001b[38;5;250m \u001b[39m\u001b[34moptimize\u001b[39m(\n\u001b[32m    388\u001b[39m     \u001b[38;5;28mself\u001b[39m,\n\u001b[32m    389\u001b[39m     func: ObjectiveFuncType,\n\u001b[32m   (...)\u001b[39m\u001b[32m    396\u001b[39m     show_progress_bar: \u001b[38;5;28mbool\u001b[39m = \u001b[38;5;28;01mFalse\u001b[39;00m,\n\u001b[32m    397\u001b[39m ) -> \u001b[38;5;28;01mNone\u001b[39;00m:\n\u001b[32m    398\u001b[39m \u001b[38;5;250m    \u001b[39m\u001b[33;03m\"\"\"Optimize an objective function.\u001b[39;00m\n\u001b[32m    399\u001b[39m \n\u001b[32m    400\u001b[39m \u001b[33;03m    Optimization is done by choosing a suitable set of hyperparameter values from a given\u001b[39;00m\n\u001b[32m   (...)\u001b[39m\u001b[32m    487\u001b[39m \u001b[33;03m            If nested invocation of this method occurs.\u001b[39;00m\n\u001b[32m    488\u001b[39m \u001b[33;03m    \"\"\"\u001b[39;00m\n\u001b[32m--> \u001b[39m\u001b[32m489\u001b[39m     \u001b[43m_optimize\u001b[49m\u001b[43m(\u001b[49m\n\u001b[32m    490\u001b[39m \u001b[43m        \u001b[49m\u001b[43mstudy\u001b[49m\u001b[43m=\u001b[49m\u001b[38;5;28;43mself\u001b[39;49m\u001b[43m,\u001b[49m\n\u001b[32m    491\u001b[39m \u001b[43m        \u001b[49m\u001b[43mfunc\u001b[49m\u001b[43m=\u001b[49m\u001b[43mfunc\u001b[49m\u001b[43m,\u001b[49m\n\u001b[32m    492\u001b[39m \u001b[43m        \u001b[49m\u001b[43mn_trials\u001b[49m\u001b[43m=\u001b[49m\u001b[43mn_trials\u001b[49m\u001b[43m,\u001b[49m\n\u001b[32m    493\u001b[39m \u001b[43m        \u001b[49m\u001b[43mtimeout\u001b[49m\u001b[43m=\u001b[49m\u001b[43mtimeout\u001b[49m\u001b[43m,\u001b[49m\n\u001b[32m    494\u001b[39m \u001b[43m        \u001b[49m\u001b[43mn_jobs\u001b[49m\u001b[43m=\u001b[49m\u001b[43mn_jobs\u001b[49m\u001b[43m,\u001b[49m\n\u001b[32m    495\u001b[39m \u001b[43m        \u001b[49m\u001b[43mcatch\u001b[49m\u001b[43m=\u001b[49m\u001b[38;5;28;43mtuple\u001b[39;49m\u001b[43m(\u001b[49m\u001b[43mcatch\u001b[49m\u001b[43m)\u001b[49m\u001b[43m \u001b[49m\u001b[38;5;28;43;01mif\u001b[39;49;00m\u001b[43m \u001b[49m\u001b[38;5;28;43misinstance\u001b[39;49m\u001b[43m(\u001b[49m\u001b[43mcatch\u001b[49m\u001b[43m,\u001b[49m\u001b[43m \u001b[49m\u001b[43mIterable\u001b[49m\u001b[43m)\u001b[49m\u001b[43m \u001b[49m\u001b[38;5;28;43;01melse\u001b[39;49;00m\u001b[43m \u001b[49m\u001b[43m(\u001b[49m\u001b[43mcatch\u001b[49m\u001b[43m,\u001b[49m\u001b[43m)\u001b[49m\u001b[43m,\u001b[49m\n\u001b[32m    496\u001b[39m \u001b[43m        \u001b[49m\u001b[43mcallbacks\u001b[49m\u001b[43m=\u001b[49m\u001b[43mcallbacks\u001b[49m\u001b[43m,\u001b[49m\n\u001b[32m    497\u001b[39m \u001b[43m        \u001b[49m\u001b[43mgc_after_trial\u001b[49m\u001b[43m=\u001b[49m\u001b[43mgc_after_trial\u001b[49m\u001b[43m,\u001b[49m\n\u001b[32m    498\u001b[39m \u001b[43m        \u001b[49m\u001b[43mshow_progress_bar\u001b[49m\u001b[43m=\u001b[49m\u001b[43mshow_progress_bar\u001b[49m\u001b[43m,\u001b[49m\n\u001b[32m    499\u001b[39m \u001b[43m    \u001b[49m\u001b[43m)\u001b[49m\n",
      "\u001b[36mFile \u001b[39m\u001b[32mc:\\Users\\gokde\\anaconda3\\envs\\torch_gpu\\Lib\\site-packages\\optuna\\study\\_optimize.py:64\u001b[39m, in \u001b[36m_optimize\u001b[39m\u001b[34m(study, func, n_trials, timeout, n_jobs, catch, callbacks, gc_after_trial, show_progress_bar)\u001b[39m\n\u001b[32m     62\u001b[39m \u001b[38;5;28;01mtry\u001b[39;00m:\n\u001b[32m     63\u001b[39m     \u001b[38;5;28;01mif\u001b[39;00m n_jobs == \u001b[32m1\u001b[39m:\n\u001b[32m---> \u001b[39m\u001b[32m64\u001b[39m         \u001b[43m_optimize_sequential\u001b[49m\u001b[43m(\u001b[49m\n\u001b[32m     65\u001b[39m \u001b[43m            \u001b[49m\u001b[43mstudy\u001b[49m\u001b[43m,\u001b[49m\n\u001b[32m     66\u001b[39m \u001b[43m            \u001b[49m\u001b[43mfunc\u001b[49m\u001b[43m,\u001b[49m\n\u001b[32m     67\u001b[39m \u001b[43m            \u001b[49m\u001b[43mn_trials\u001b[49m\u001b[43m,\u001b[49m\n\u001b[32m     68\u001b[39m \u001b[43m            \u001b[49m\u001b[43mtimeout\u001b[49m\u001b[43m,\u001b[49m\n\u001b[32m     69\u001b[39m \u001b[43m            \u001b[49m\u001b[43mcatch\u001b[49m\u001b[43m,\u001b[49m\n\u001b[32m     70\u001b[39m \u001b[43m            \u001b[49m\u001b[43mcallbacks\u001b[49m\u001b[43m,\u001b[49m\n\u001b[32m     71\u001b[39m \u001b[43m            \u001b[49m\u001b[43mgc_after_trial\u001b[49m\u001b[43m,\u001b[49m\n\u001b[32m     72\u001b[39m \u001b[43m            \u001b[49m\u001b[43mreseed_sampler_rng\u001b[49m\u001b[43m=\u001b[49m\u001b[38;5;28;43;01mFalse\u001b[39;49;00m\u001b[43m,\u001b[49m\n\u001b[32m     73\u001b[39m \u001b[43m            \u001b[49m\u001b[43mtime_start\u001b[49m\u001b[43m=\u001b[49m\u001b[38;5;28;43;01mNone\u001b[39;49;00m\u001b[43m,\u001b[49m\n\u001b[32m     74\u001b[39m \u001b[43m            \u001b[49m\u001b[43mprogress_bar\u001b[49m\u001b[43m=\u001b[49m\u001b[43mprogress_bar\u001b[49m\u001b[43m,\u001b[49m\n\u001b[32m     75\u001b[39m \u001b[43m        \u001b[49m\u001b[43m)\u001b[49m\n\u001b[32m     76\u001b[39m     \u001b[38;5;28;01melse\u001b[39;00m:\n\u001b[32m     77\u001b[39m         \u001b[38;5;28;01mif\u001b[39;00m n_jobs == -\u001b[32m1\u001b[39m:\n",
      "\u001b[36mFile \u001b[39m\u001b[32mc:\\Users\\gokde\\anaconda3\\envs\\torch_gpu\\Lib\\site-packages\\optuna\\study\\_optimize.py:161\u001b[39m, in \u001b[36m_optimize_sequential\u001b[39m\u001b[34m(study, func, n_trials, timeout, catch, callbacks, gc_after_trial, reseed_sampler_rng, time_start, progress_bar)\u001b[39m\n\u001b[32m    158\u001b[39m         \u001b[38;5;28;01mbreak\u001b[39;00m\n\u001b[32m    160\u001b[39m \u001b[38;5;28;01mtry\u001b[39;00m:\n\u001b[32m--> \u001b[39m\u001b[32m161\u001b[39m     frozen_trial = \u001b[43m_run_trial\u001b[49m\u001b[43m(\u001b[49m\u001b[43mstudy\u001b[49m\u001b[43m,\u001b[49m\u001b[43m \u001b[49m\u001b[43mfunc\u001b[49m\u001b[43m,\u001b[49m\u001b[43m \u001b[49m\u001b[43mcatch\u001b[49m\u001b[43m)\u001b[49m\n\u001b[32m    162\u001b[39m \u001b[38;5;28;01mfinally\u001b[39;00m:\n\u001b[32m    163\u001b[39m     \u001b[38;5;66;03m# The following line mitigates memory problems that can be occurred in some\u001b[39;00m\n\u001b[32m    164\u001b[39m     \u001b[38;5;66;03m# environments (e.g., services that use computing containers such as GitHub Actions).\u001b[39;00m\n\u001b[32m    165\u001b[39m     \u001b[38;5;66;03m# Please refer to the following PR for further details:\u001b[39;00m\n\u001b[32m    166\u001b[39m     \u001b[38;5;66;03m# https://github.com/optuna/optuna/pull/325.\u001b[39;00m\n\u001b[32m    167\u001b[39m     \u001b[38;5;28;01mif\u001b[39;00m gc_after_trial:\n",
      "\u001b[36mFile \u001b[39m\u001b[32mc:\\Users\\gokde\\anaconda3\\envs\\torch_gpu\\Lib\\site-packages\\optuna\\study\\_optimize.py:253\u001b[39m, in \u001b[36m_run_trial\u001b[39m\u001b[34m(study, func, catch)\u001b[39m\n\u001b[32m    246\u001b[39m         \u001b[38;5;28;01massert\u001b[39;00m \u001b[38;5;28;01mFalse\u001b[39;00m, \u001b[33m\"\u001b[39m\u001b[33mShould not reach.\u001b[39m\u001b[33m\"\u001b[39m\n\u001b[32m    248\u001b[39m \u001b[38;5;28;01mif\u001b[39;00m (\n\u001b[32m    249\u001b[39m     frozen_trial.state == TrialState.FAIL\n\u001b[32m    250\u001b[39m     \u001b[38;5;129;01mand\u001b[39;00m func_err \u001b[38;5;129;01mis\u001b[39;00m \u001b[38;5;129;01mnot\u001b[39;00m \u001b[38;5;28;01mNone\u001b[39;00m\n\u001b[32m    251\u001b[39m     \u001b[38;5;129;01mand\u001b[39;00m \u001b[38;5;129;01mnot\u001b[39;00m \u001b[38;5;28misinstance\u001b[39m(func_err, catch)\n\u001b[32m    252\u001b[39m ):\n\u001b[32m--> \u001b[39m\u001b[32m253\u001b[39m     \u001b[38;5;28;01mraise\u001b[39;00m func_err\n\u001b[32m    254\u001b[39m \u001b[38;5;28;01mreturn\u001b[39;00m frozen_trial\n",
      "\u001b[36mFile \u001b[39m\u001b[32mc:\\Users\\gokde\\anaconda3\\envs\\torch_gpu\\Lib\\site-packages\\optuna\\study\\_optimize.py:201\u001b[39m, in \u001b[36m_run_trial\u001b[39m\u001b[34m(study, func, catch)\u001b[39m\n\u001b[32m    199\u001b[39m \u001b[38;5;28;01mwith\u001b[39;00m get_heartbeat_thread(trial._trial_id, study._storage):\n\u001b[32m    200\u001b[39m     \u001b[38;5;28;01mtry\u001b[39;00m:\n\u001b[32m--> \u001b[39m\u001b[32m201\u001b[39m         value_or_values = \u001b[43mfunc\u001b[49m\u001b[43m(\u001b[49m\u001b[43mtrial\u001b[49m\u001b[43m)\u001b[49m\n\u001b[32m    202\u001b[39m     \u001b[38;5;28;01mexcept\u001b[39;00m exceptions.TrialPruned \u001b[38;5;28;01mas\u001b[39;00m e:\n\u001b[32m    203\u001b[39m         \u001b[38;5;66;03m# TODO(mamu): Handle multi-objective cases.\u001b[39;00m\n\u001b[32m    204\u001b[39m         state = TrialState.PRUNED\n",
      "\u001b[36mCell\u001b[39m\u001b[36m \u001b[39m\u001b[32mIn[52]\u001b[39m\u001b[32m, line 233\u001b[39m, in \u001b[36mobjective\u001b[39m\u001b[34m(trial)\u001b[39m\n\u001b[32m    227\u001b[39m total_params = \u001b[38;5;28msum\u001b[39m(p.numel() \u001b[38;5;28;01mfor\u001b[39;00m p \u001b[38;5;129;01min\u001b[39;00m model.parameters())\n\u001b[32m    228\u001b[39m wandb.config.update({\n\u001b[32m    229\u001b[39m     \u001b[33m\"\u001b[39m\u001b[33mtotal_parameters\u001b[39m\u001b[33m\"\u001b[39m: total_params,\n\u001b[32m    230\u001b[39m     \u001b[33m\"\u001b[39m\u001b[33mparams_per_sample\u001b[39m\u001b[33m\"\u001b[39m: total_params / \u001b[38;5;28mlen\u001b[39m(X_train_trial)\n\u001b[32m    231\u001b[39m })\n\u001b[32m--> \u001b[39m\u001b[32m233\u001b[39m trained_model, history = \u001b[43mtrain_lstm_robust_antioverfitting\u001b[49m\u001b[43m(\u001b[49m\n\u001b[32m    234\u001b[39m \u001b[43m    \u001b[49m\u001b[43mX_train_trial\u001b[49m\u001b[43m,\u001b[49m\u001b[43m \u001b[49m\u001b[43my_train_seq\u001b[49m\u001b[43m,\u001b[49m\u001b[43m \u001b[49m\u001b[43mX_val_trial\u001b[49m\u001b[43m,\u001b[49m\u001b[43m \u001b[49m\u001b[43my_val_seq\u001b[49m\u001b[43m,\u001b[49m\u001b[43m \u001b[49m\u001b[43mparams\u001b[49m\u001b[43m,\u001b[49m\u001b[43m \u001b[49m\u001b[43mmodel\u001b[49m\u001b[43m,\u001b[49m\u001b[43m \u001b[49m\u001b[43mepochs\u001b[49m\u001b[43m=\u001b[49m\u001b[32;43m50\u001b[39;49m\u001b[43m,\u001b[49m\u001b[43m \u001b[49m\u001b[43mtrial\u001b[49m\u001b[43m=\u001b[49m\u001b[43mtrial\u001b[49m\n\u001b[32m    235\u001b[39m \u001b[43m\u001b[49m\u001b[43m)\u001b[49m\n\u001b[32m    237\u001b[39m \u001b[38;5;66;03m# Report to Optuna\u001b[39;00m\n\u001b[32m    238\u001b[39m trial.report(history[\u001b[33m'\u001b[39m\u001b[33mbest_val_f1\u001b[39m\u001b[33m'\u001b[39m], step=\u001b[32m50\u001b[39m)\n",
      "\u001b[36mCell\u001b[39m\u001b[36m \u001b[39m\u001b[32mIn[52]\u001b[39m\u001b[32m, line 65\u001b[39m, in \u001b[36mtrain_lstm_robust_antioverfitting\u001b[39m\u001b[34m(X_train, y_train, X_val, y_val, params, model, epochs, trial)\u001b[39m\n\u001b[32m     62\u001b[39m outputs, y_batch = outputs.view(-\u001b[32m1\u001b[39m), y_batch.view(-\u001b[32m1\u001b[39m)\n\u001b[32m     64\u001b[39m loss = criterion(outputs, y_batch)\n\u001b[32m---> \u001b[39m\u001b[32m65\u001b[39m \u001b[43mloss\u001b[49m\u001b[43m.\u001b[49m\u001b[43mbackward\u001b[49m\u001b[43m(\u001b[49m\u001b[43m)\u001b[49m\n\u001b[32m     66\u001b[39m torch.nn.utils.clip_grad_norm_(model.parameters(), params[\u001b[33m'\u001b[39m\u001b[33mgradient_clip\u001b[39m\u001b[33m'\u001b[39m])\n\u001b[32m     67\u001b[39m optimizer.step()\n",
      "\u001b[36mFile \u001b[39m\u001b[32mc:\\Users\\gokde\\anaconda3\\envs\\torch_gpu\\Lib\\site-packages\\torch\\_tensor.py:581\u001b[39m, in \u001b[36mTensor.backward\u001b[39m\u001b[34m(self, gradient, retain_graph, create_graph, inputs)\u001b[39m\n\u001b[32m    571\u001b[39m \u001b[38;5;28;01mif\u001b[39;00m has_torch_function_unary(\u001b[38;5;28mself\u001b[39m):\n\u001b[32m    572\u001b[39m     \u001b[38;5;28;01mreturn\u001b[39;00m handle_torch_function(\n\u001b[32m    573\u001b[39m         Tensor.backward,\n\u001b[32m    574\u001b[39m         (\u001b[38;5;28mself\u001b[39m,),\n\u001b[32m   (...)\u001b[39m\u001b[32m    579\u001b[39m         inputs=inputs,\n\u001b[32m    580\u001b[39m     )\n\u001b[32m--> \u001b[39m\u001b[32m581\u001b[39m \u001b[43mtorch\u001b[49m\u001b[43m.\u001b[49m\u001b[43mautograd\u001b[49m\u001b[43m.\u001b[49m\u001b[43mbackward\u001b[49m\u001b[43m(\u001b[49m\n\u001b[32m    582\u001b[39m \u001b[43m    \u001b[49m\u001b[38;5;28;43mself\u001b[39;49m\u001b[43m,\u001b[49m\u001b[43m \u001b[49m\u001b[43mgradient\u001b[49m\u001b[43m,\u001b[49m\u001b[43m \u001b[49m\u001b[43mretain_graph\u001b[49m\u001b[43m,\u001b[49m\u001b[43m \u001b[49m\u001b[43mcreate_graph\u001b[49m\u001b[43m,\u001b[49m\u001b[43m \u001b[49m\u001b[43minputs\u001b[49m\u001b[43m=\u001b[49m\u001b[43minputs\u001b[49m\n\u001b[32m    583\u001b[39m \u001b[43m\u001b[49m\u001b[43m)\u001b[49m\n",
      "\u001b[36mFile \u001b[39m\u001b[32mc:\\Users\\gokde\\anaconda3\\envs\\torch_gpu\\Lib\\site-packages\\torch\\autograd\\__init__.py:347\u001b[39m, in \u001b[36mbackward\u001b[39m\u001b[34m(tensors, grad_tensors, retain_graph, create_graph, grad_variables, inputs)\u001b[39m\n\u001b[32m    342\u001b[39m     retain_graph = create_graph\n\u001b[32m    344\u001b[39m \u001b[38;5;66;03m# The reason we repeat the same comment below is that\u001b[39;00m\n\u001b[32m    345\u001b[39m \u001b[38;5;66;03m# some Python versions print out the first line of a multi-line function\u001b[39;00m\n\u001b[32m    346\u001b[39m \u001b[38;5;66;03m# calls in the traceback and some print out the last line\u001b[39;00m\n\u001b[32m--> \u001b[39m\u001b[32m347\u001b[39m \u001b[43m_engine_run_backward\u001b[49m\u001b[43m(\u001b[49m\n\u001b[32m    348\u001b[39m \u001b[43m    \u001b[49m\u001b[43mtensors\u001b[49m\u001b[43m,\u001b[49m\n\u001b[32m    349\u001b[39m \u001b[43m    \u001b[49m\u001b[43mgrad_tensors_\u001b[49m\u001b[43m,\u001b[49m\n\u001b[32m    350\u001b[39m \u001b[43m    \u001b[49m\u001b[43mretain_graph\u001b[49m\u001b[43m,\u001b[49m\n\u001b[32m    351\u001b[39m \u001b[43m    \u001b[49m\u001b[43mcreate_graph\u001b[49m\u001b[43m,\u001b[49m\n\u001b[32m    352\u001b[39m \u001b[43m    \u001b[49m\u001b[43minputs\u001b[49m\u001b[43m,\u001b[49m\n\u001b[32m    353\u001b[39m \u001b[43m    \u001b[49m\u001b[43mallow_unreachable\u001b[49m\u001b[43m=\u001b[49m\u001b[38;5;28;43;01mTrue\u001b[39;49;00m\u001b[43m,\u001b[49m\n\u001b[32m    354\u001b[39m \u001b[43m    \u001b[49m\u001b[43maccumulate_grad\u001b[49m\u001b[43m=\u001b[49m\u001b[38;5;28;43;01mTrue\u001b[39;49;00m\u001b[43m,\u001b[49m\n\u001b[32m    355\u001b[39m \u001b[43m\u001b[49m\u001b[43m)\u001b[49m\n",
      "\u001b[36mFile \u001b[39m\u001b[32mc:\\Users\\gokde\\anaconda3\\envs\\torch_gpu\\Lib\\site-packages\\torch\\autograd\\graph.py:825\u001b[39m, in \u001b[36m_engine_run_backward\u001b[39m\u001b[34m(t_outputs, *args, **kwargs)\u001b[39m\n\u001b[32m    823\u001b[39m     unregister_hooks = _register_logging_hooks_on_whole_graph(t_outputs)\n\u001b[32m    824\u001b[39m \u001b[38;5;28;01mtry\u001b[39;00m:\n\u001b[32m--> \u001b[39m\u001b[32m825\u001b[39m     \u001b[38;5;28;01mreturn\u001b[39;00m \u001b[43mVariable\u001b[49m\u001b[43m.\u001b[49m\u001b[43m_execution_engine\u001b[49m\u001b[43m.\u001b[49m\u001b[43mrun_backward\u001b[49m\u001b[43m(\u001b[49m\u001b[43m  \u001b[49m\u001b[38;5;66;43;03m# Calls into the C++ engine to run the backward pass\u001b[39;49;00m\n\u001b[32m    826\u001b[39m \u001b[43m        \u001b[49m\u001b[43mt_outputs\u001b[49m\u001b[43m,\u001b[49m\u001b[43m \u001b[49m\u001b[43m*\u001b[49m\u001b[43margs\u001b[49m\u001b[43m,\u001b[49m\u001b[43m \u001b[49m\u001b[43m*\u001b[49m\u001b[43m*\u001b[49m\u001b[43mkwargs\u001b[49m\n\u001b[32m    827\u001b[39m \u001b[43m    \u001b[49m\u001b[43m)\u001b[49m  \u001b[38;5;66;03m# Calls into the C++ engine to run the backward pass\u001b[39;00m\n\u001b[32m    828\u001b[39m \u001b[38;5;28;01mfinally\u001b[39;00m:\n\u001b[32m    829\u001b[39m     \u001b[38;5;28;01mif\u001b[39;00m attach_logging_hooks:\n",
      "\u001b[31mKeyboardInterrupt\u001b[39m: "
     ]
    }
   ],
   "source": [
    "# ==============================\n",
    "# STEP 7: ROBUST TRAINING FUNCTION WITH OPTUNA & W&B LOGGING\n",
    "# ==============================\n",
    "\n",
    "import matplotlib.pyplot as plt\n",
    "import optuna\n",
    "from sklearn.metrics import f1_score, roc_auc_score, classification_report\n",
    "import wandb\n",
    "\n",
    "def train_lstm_robust_antioverfitting(X_train, y_train, X_val, y_val, params, model, epochs=30, trial=None):\n",
    "    \"\"\"\n",
    "    Robust LSTM training with proper W&B epoch-by-epoch logging\n",
    "    \"\"\"\n",
    "    # Initialize W&B run with unique name per trial\n",
    "    wandb.init(\n",
    "        project=\"lstm-cybersecurity-optuna\",\n",
    "        config=params,\n",
    "        reinit=True,\n",
    "        name=f\"trial_{trial.number if trial else 'manual'}\"\n",
    "    )\n",
    "\n",
    "    # Prepare datasets\n",
    "    X_train = X_train.astype(np.float32)\n",
    "    X_val = X_val.astype(np.float32)\n",
    "    y_train = y_train.astype(np.float32)\n",
    "    y_val = y_val.astype(np.float32)\n",
    "\n",
    "    train_dataset = TensorDataset(torch.from_numpy(X_train), torch.from_numpy(y_train))\n",
    "    val_dataset = TensorDataset(torch.from_numpy(X_val), torch.from_numpy(y_val))\n",
    "\n",
    "    train_loader = DataLoader(train_dataset, batch_size=params['batch_size'], shuffle=False)\n",
    "    val_loader = DataLoader(val_dataset, batch_size=params['batch_size'], shuffle=False)\n",
    "\n",
    "    # Optimizer & scheduler\n",
    "    optimizer = torch.optim.Adam(model.parameters(), lr=params['lr'], weight_decay=params['l2_reg'])\n",
    "    scheduler = torch.optim.lr_scheduler.ReduceLROnPlateau(\n",
    "        optimizer, mode='max', factor=0.6, patience=params['reduce_lr_patience'], verbose=True\n",
    "    )\n",
    "\n",
    "    # Loss with class weights\n",
    "    criterion = nn.BCEWithLogitsLoss(pos_weight=torch.tensor([params['pos_weight']], device=device))\n",
    "\n",
    "    # Tracking\n",
    "    best_val_f1, patience_counter = 0, 0\n",
    "    best_model_state = None\n",
    "    train_losses, val_losses = [], []\n",
    "    train_f1s, val_f1s, val_aucs = [], [], []\n",
    "\n",
    "    print(f\"Starting training for {epochs} epochs...\")\n",
    "\n",
    "    for epoch in range(epochs):\n",
    "        # ===== TRAIN =====\n",
    "        model.train()\n",
    "        epoch_loss, train_preds_all, train_targets_all = 0, [], []\n",
    "\n",
    "        for X_batch, y_batch in train_loader:\n",
    "            X_batch, y_batch = X_batch.to(device), y_batch.to(device)\n",
    "            optimizer.zero_grad()\n",
    "            outputs = model(X_batch)\n",
    "            if outputs.dim() > 1: outputs = outputs.squeeze(-1)\n",
    "            if y_batch.dim() > 1: y_batch = y_batch.squeeze(-1)\n",
    "            outputs, y_batch = outputs.view(-1), y_batch.view(-1)\n",
    "\n",
    "            loss = criterion(outputs, y_batch)\n",
    "            loss.backward()\n",
    "            torch.nn.utils.clip_grad_norm_(model.parameters(), params['gradient_clip'])\n",
    "            optimizer.step()\n",
    "            epoch_loss += loss.item()\n",
    "\n",
    "            with torch.no_grad():\n",
    "                probs = torch.sigmoid(outputs).cpu().numpy()\n",
    "                preds = (probs >= 0.5).astype(int)\n",
    "                train_preds_all.extend(preds)\n",
    "                train_targets_all.extend(y_batch.cpu().numpy())\n",
    "\n",
    "        avg_train_loss = epoch_loss / len(train_loader)\n",
    "        train_losses.append(avg_train_loss)\n",
    "        train_f1 = f1_score(train_targets_all, train_preds_all, zero_division=0)\n",
    "        train_f1s.append(train_f1)\n",
    "\n",
    "        # ===== VALIDATION =====\n",
    "        model.eval()\n",
    "        val_loss, val_probs_all, val_targets_all = 0, [], []\n",
    "\n",
    "        with torch.no_grad():\n",
    "            for X_batch, y_batch in val_loader:\n",
    "                X_batch, y_batch = X_batch.to(device), y_batch.to(device)\n",
    "                outputs = model(X_batch)\n",
    "                if outputs.dim() > 1: outputs = outputs.squeeze(-1)\n",
    "                if y_batch.dim() > 1: y_batch = y_batch.squeeze(-1)\n",
    "                outputs, y_batch = outputs.view(-1), y_batch.view(-1)\n",
    "\n",
    "                val_loss += criterion(outputs, y_batch).item()\n",
    "                probs = torch.sigmoid(outputs).cpu().numpy()\n",
    "                val_probs_all.extend(probs)\n",
    "                val_targets_all.extend(y_batch.cpu().numpy())\n",
    "\n",
    "        avg_val_loss = val_loss / len(val_loader)\n",
    "        val_losses.append(avg_val_loss)\n",
    "\n",
    "        val_probs_all = np.array(val_probs_all)\n",
    "        val_targets_all = np.array(val_targets_all)\n",
    "\n",
    "        # AUC\n",
    "        val_auc = roc_auc_score(val_targets_all, val_probs_all) if len(np.unique(val_targets_all)) > 1 else 0.5\n",
    "        val_aucs.append(val_auc)\n",
    "\n",
    "        # Best F1 across thresholds\n",
    "        best_val_f1_epoch = 0\n",
    "        for thresh in np.arange(0.1, 0.9, 0.05):\n",
    "            preds = (val_probs_all >= thresh).astype(int)\n",
    "            f1 = f1_score(val_targets_all, preds, zero_division=0)\n",
    "            best_val_f1_epoch = max(best_val_f1_epoch, f1)\n",
    "        val_f1s.append(best_val_f1_epoch)\n",
    "\n",
    "        print(f\"Epoch {epoch+1:2d} | Train Loss: {avg_train_loss:.4f} | Val Loss: {avg_val_loss:.4f} \"\n",
    "              f\"| Train F1: {train_f1:.4f} | Val F1: {best_val_f1_epoch:.4f} | Val AUC: {val_auc:.4f}\")\n",
    "\n",
    "        # ===== W&B LOGGING =====\n",
    "        wandb.log({\n",
    "            \"train_loss\": avg_train_loss,\n",
    "            \"val_loss\": avg_val_loss,\n",
    "            \"train_f1\": train_f1,\n",
    "            \"val_f1\": best_val_f1_epoch,\n",
    "            \"val_auc\": val_auc,\n",
    "            \"learning_rate\": optimizer.param_groups[0]['lr'],\n",
    "            \"loss_gap\": avg_val_loss - avg_train_loss,\n",
    "            \"patience_counter\": patience_counter\n",
    "        }, step=epoch)\n",
    "        wandb.run.log({\"epoch_end\": epoch})\n",
    "\n",
    "        # ===== EARLY STOPPING =====\n",
    "        if best_val_f1_epoch > best_val_f1 + params.get('min_delta', 1e-4):\n",
    "            best_val_f1 = best_val_f1_epoch\n",
    "            best_model_state = {k: v.cpu().clone() for k, v in model.state_dict().items()}\n",
    "            patience_counter = 0\n",
    "        else:\n",
    "            patience_counter += 1\n",
    "            if patience_counter >= params['early_stopping_patience']:\n",
    "                print(f\"⏹ Early stopping at epoch {epoch+1}\")\n",
    "                break\n",
    "\n",
    "        scheduler.step(best_val_f1_epoch)\n",
    "\n",
    "        # ===== OPTUNA REPORT =====\n",
    "        if trial is not None:\n",
    "            trial.report(best_val_f1_epoch, epoch)\n",
    "            if trial.should_prune():\n",
    "                print(f\"🔥 Trial pruned at epoch {epoch+1}\")\n",
    "                wandb.finish()\n",
    "                raise optuna.exceptions.TrialPruned()\n",
    "\n",
    "    # Restore best model\n",
    "    if best_model_state is not None:\n",
    "        model.load_state_dict({k: v.to(device) for k, v in best_model_state.items()})\n",
    "        print(f\"✅ Restored best model with validation F1: {best_val_f1:.4f}\")\n",
    "    else:\n",
    "        print(\"⚠️ No improvement found, using final model\")\n",
    "\n",
    "    # Log final metrics\n",
    "    wandb.log({\n",
    "        \"final_val_f1\": best_val_f1,\n",
    "        \"final_val_auc\": val_aucs[-1] if val_aucs else 0,\n",
    "        \"total_epochs\": len(train_losses),\n",
    "        \"converged\": patience_counter < params['early_stopping_patience']\n",
    "    })\n",
    "    wandb.finish()\n",
    "\n",
    "    return model, {\n",
    "        'train_losses': train_losses,\n",
    "        'val_losses': val_losses,\n",
    "        'train_f1s': train_f1s,\n",
    "        'val_f1s': val_f1s,\n",
    "        'val_aucs': val_aucs,\n",
    "        'best_val_f1': best_val_f1\n",
    "    }\n",
    "\n",
    "# ==============================\n",
    "# OPTUNA OBJECTIVE FUNCTION\n",
    "# ==============================\n",
    "\n",
    "def objective(trial):\n",
    "    \"\"\"\n",
    "    Objective function compatible with GridSampler\n",
    "    \"\"\"\n",
    "    # Map trial parameters (from GridSampler)\n",
    "    params = {\n",
    "        'hidden_dim': trial.suggest_categorical('hidden_dim', [4,8,16,32,48,64,96,128]),\n",
    "        'num_layers': trial.suggest_categorical('num_layers', [1,2,3,4]),\n",
    "        'dropout': trial.suggest_categorical('dropout', [0.2,0.3,0.4,0.5,0.6,0.7,0.8]),\n",
    "        'use_attention': trial.suggest_categorical('use_attention', [True, False]),\n",
    "        'bidirectional': trial.suggest_categorical('bidirectional', [True, False]),\n",
    "        'sequence_length': trial.suggest_categorical('sequence_length', [2,4,8,16,24,32,48,64,100,128]),\n",
    "        'lr': 0.001,\n",
    "        'batch_size': 64,\n",
    "        'l2_reg': 0.01,\n",
    "        'gradient_clip': 1.0,\n",
    "        'pos_weight': 2.0,\n",
    "        'early_stopping_patience': 8,\n",
    "        'reduce_lr_patience': 4,\n",
    "        'min_delta': 1e-4\n",
    "    }\n",
    "\n",
    "    # Initialize W&B run for this trial\n",
    "    wandb.init(\n",
    "        project=\"trial-5-\", #title\n",
    "        config=params,\n",
    "        reinit=True,\n",
    "        name=f\"trial_{trial.number}\"\n",
    "    )\n",
    "\n",
    "    try:\n",
    "        seq_len = params['sequence_length']\n",
    "        X_train_trial = X_train_seq[:, :seq_len, :] if seq_len != 20 else X_train_seq\n",
    "        X_val_trial = X_val_seq[:, :seq_len, :] if seq_len != 20 else X_val_seq\n",
    "\n",
    "        model = AdvancedLSTM(\n",
    "            input_dim=X_train_trial.shape[2],\n",
    "            hidden_dim=params['hidden_dim'],\n",
    "            num_layers=params['num_layers'],\n",
    "            dropout=params['dropout'],\n",
    "            use_attention=params['use_attention'],\n",
    "            bidirectional=params['bidirectional']\n",
    "        ).to(device)\n",
    "\n",
    "        # Derived hyperparameters\n",
    "        total_params = sum(p.numel() for p in model.parameters())\n",
    "        wandb.config.update({\n",
    "            \"total_parameters\": total_params,\n",
    "            \"params_per_sample\": total_params / len(X_train_trial)\n",
    "        })\n",
    "\n",
    "        trained_model, history = train_lstm_robust_antioverfitting(\n",
    "            X_train_trial, y_train_seq, X_val_trial, y_val_seq, params, model, epochs=50, trial=trial\n",
    "        )\n",
    "\n",
    "        # Report to Optuna\n",
    "        trial.report(history['best_val_f1'], step=50)\n",
    "        if trial.should_prune():\n",
    "            raise optuna.exceptions.TrialPruned()\n",
    "\n",
    "        return history['best_val_f1']\n",
    "\n",
    "    except optuna.exceptions.TrialPruned:\n",
    "        raise\n",
    "    finally:\n",
    "        wandb.finish()\n",
    "\n",
    "\n",
    "# -----------------------------\n",
    "# RUN GRID SEARCH\n",
    "# -----------------------------\n",
    "param_grid = {\n",
    "    'hidden_dim': [4,8,16,32,48,64,96,128],\n",
    "    'num_layers': [1,2,3,4],\n",
    "    'dropout': [0.2,0.3,0.4,0.5,0.6,0.7,0.8],\n",
    "    'use_attention': [True, False],\n",
    "    'bidirectional': [True, False],\n",
    "    'sequence_length': [2,4,8,16,24,32,48,64,100,128]\n",
    "}\n",
    "\n",
    "sampler = optuna.samplers.GridSampler(search_space=param_grid)\n",
    "study = optuna.create_study(direction='maximize', sampler=sampler)\n",
    "study.optimize(objective, n_trials=None)  # Explore all combinations"
   ]
  },
  {
   "cell_type": "code",
   "execution_count": null,
   "id": "faab2f96",
   "metadata": {},
   "outputs": [
    {
     "name": "stdout",
     "output_type": "stream",
     "text": [
      "Using device: cuda\n",
      "\n",
      "=== FIXED LSTM OPTIMIZATION ===\n",
      "Target: Fix declining F1/AUC performance\n"
     ]
    },
    {
     "name": "stderr",
     "output_type": "stream",
     "text": [
      "[I 2025-09-01 14:56:38,638] A new study created in memory with name: fixed_lstm_1756727798\n"
     ]
    },
    {
     "name": "stdout",
     "output_type": "stream",
     "text": [
      "Optimizing parameters...\n",
      "\n",
      "FIXED Trial #0\n",
      "=== FIXED Data Preprocessing ===\n",
      "After cleaning - Train: 13675, Val: 7264, Test: 7264\n",
      "Class balance - Train: 0.560, Val: 0.365\n",
      "Calculated pos_weight: 0.89\n"
     ]
    },
    {
     "data": {
      "text/html": [
       "Changes to your `wandb` environment variables will be ignored because your `wandb` session has already started. For more information on how to modify your settings with `wandb.init()` arguments, please refer to <a href='https://wandb.me/wandb-init' target=\"_blank\">the W&B docs</a>."
      ],
      "text/plain": [
       "<IPython.core.display.HTML object>"
      ]
     },
     "metadata": {},
     "output_type": "display_data"
    },
    {
     "data": {
      "text/html": [
       "creating run (0.2s)"
      ],
      "text/plain": [
       "<IPython.core.display.HTML object>"
      ]
     },
     "metadata": {},
     "output_type": "display_data"
    },
    {
     "data": {
      "text/html": [
       "Tracking run with wandb version 0.21.2"
      ],
      "text/plain": [
       "<IPython.core.display.HTML object>"
      ]
     },
     "metadata": {},
     "output_type": "display_data"
    },
    {
     "data": {
      "text/html": [
       "Run data is saved locally in <code>c:\\Users\\gokde\\OneDrive\\Masaüstü\\Anomaly-Detection-and-Network-Optimization-in-SDNs\\real_project\\wandb\\run-20250901_145642-8i5bisrp</code>"
      ],
      "text/plain": [
       "<IPython.core.display.HTML object>"
      ]
     },
     "metadata": {},
     "output_type": "display_data"
    },
    {
     "data": {
      "text/html": [
       "Syncing run <strong><a href='https://wandb.ai/derelioglugokdeniz-bilkent-university/lstm-cybersecurity-fixed/runs/8i5bisrp' target=\"_blank\">fixed_trial_0_h4_l1_bi1_att0</a></strong> to <a href='https://wandb.ai/derelioglugokdeniz-bilkent-university/lstm-cybersecurity-fixed' target=\"_blank\">Weights & Biases</a> (<a href='https://wandb.me/developer-guide' target=\"_blank\">docs</a>)<br>"
      ],
      "text/plain": [
       "<IPython.core.display.HTML object>"
      ]
     },
     "metadata": {},
     "output_type": "display_data"
    },
    {
     "data": {
      "text/html": [
       " View project at <a href='https://wandb.ai/derelioglugokdeniz-bilkent-university/lstm-cybersecurity-fixed' target=\"_blank\">https://wandb.ai/derelioglugokdeniz-bilkent-university/lstm-cybersecurity-fixed</a>"
      ],
      "text/plain": [
       "<IPython.core.display.HTML object>"
      ]
     },
     "metadata": {},
     "output_type": "display_data"
    },
    {
     "data": {
      "text/html": [
       " View run at <a href='https://wandb.ai/derelioglugokdeniz-bilkent-university/lstm-cybersecurity-fixed/runs/8i5bisrp' target=\"_blank\">https://wandb.ai/derelioglugokdeniz-bilkent-university/lstm-cybersecurity-fixed/runs/8i5bisrp</a>"
      ],
      "text/plain": [
       "<IPython.core.display.HTML object>"
      ]
     },
     "metadata": {},
     "output_type": "display_data"
    },
    {
     "name": "stdout",
     "output_type": "stream",
     "text": [
      "Training with FIXED approach - monitoring for declining performance\n",
      "All hyperparameters logged to W&B project: lstm-cybersecurity-fixed\n",
      "Epoch  1 | Loss: T=0.6549 V=0.6329 Gap=-0.0220\n",
      "         | F1: T=0.5802 V=0.5761 | AUC: 0.7175\n",
      "         | Combined Performance: 0.6246\n",
      "    New best F1: 0.5761\n",
      "Epoch  2 | Loss: T=0.6512 V=0.6300 Gap=-0.0212\n",
      "         | F1: T=0.6006 V=0.5784 | AUC: 0.7310\n",
      "         | Combined Performance: 0.6367\n",
      "    New best F1: 0.5784\n",
      "Epoch  3 | Loss: T=0.6473 V=0.6271 Gap=-0.0202\n",
      "         | F1: T=0.6188 V=0.5804 | AUC: 0.7405\n",
      "         | Combined Performance: 0.6465\n",
      "    New best F1: 0.5804\n",
      "Epoch  4 | Loss: T=0.6430 V=0.6240 Gap=-0.0190\n",
      "         | F1: T=0.6362 V=0.5822 | AUC: 0.7488\n",
      "         | Combined Performance: 0.6558\n",
      "    New best F1: 0.5822\n",
      "Epoch  5 | Loss: T=0.6381 V=0.6208 Gap=-0.0173\n",
      "         | F1: T=0.6525 V=0.5839 | AUC: 0.7579\n",
      "         | Combined Performance: 0.6648\n",
      "    New best F1: 0.5839\n",
      "Epoch  6 | Loss: T=0.6333 V=0.6173 Gap=-0.0160\n",
      "         | F1: T=0.6690 V=0.5870 | AUC: 0.7673\n",
      "         | Combined Performance: 0.6744\n",
      "    New best F1: 0.5870\n",
      "Epoch  7 | Loss: T=0.6295 V=0.6136 Gap=-0.0159\n",
      "         | F1: T=0.6834 V=0.6110 | AUC: 0.7762\n",
      "         | Combined Performance: 0.6902\n",
      "    New best F1: 0.6110\n",
      "Epoch  8 | Loss: T=0.6244 V=0.6096 Gap=-0.0148\n",
      "         | F1: T=0.6973 V=0.6291 | AUC: 0.7845\n",
      "         | Combined Performance: 0.7036\n",
      "    New best F1: 0.6291\n",
      "Epoch  9 | Loss: T=0.6188 V=0.6054 Gap=-0.0133\n",
      "         | F1: T=0.7160 V=0.6333 | AUC: 0.7928\n",
      "         | Combined Performance: 0.7141\n",
      "    New best F1: 0.6333\n",
      "Epoch 10 | Loss: T=0.6133 V=0.6011 Gap=-0.0122\n",
      "         | F1: T=0.7257 V=0.6355 | AUC: 0.8013\n",
      "         | Combined Performance: 0.7208\n",
      "    New best F1: 0.6355\n",
      "Epoch 11 | Loss: T=0.6098 V=0.5969 Gap=-0.0129\n",
      "         | F1: T=0.7327 V=0.6397 | AUC: 0.8099\n",
      "         | Combined Performance: 0.7274\n",
      "    New best F1: 0.6397\n",
      "Epoch 12 | Loss: T=0.6037 V=0.5928 Gap=-0.0109\n",
      "         | F1: T=0.7463 V=0.6425 | AUC: 0.8179\n",
      "         | Combined Performance: 0.7356\n",
      "    New best F1: 0.6425\n",
      "Epoch 13 | Loss: T=0.5973 V=0.5886 Gap=-0.0087\n",
      "         | F1: T=0.7548 V=0.6451 | AUC: 0.8257\n",
      "         | Combined Performance: 0.7419\n",
      "    New best F1: 0.6451\n",
      "Epoch 14 | Loss: T=0.5911 V=0.5843 Gap=-0.0068\n",
      "         | F1: T=0.7679 V=0.6463 | AUC: 0.8332\n",
      "         | Combined Performance: 0.7491\n",
      "    New best F1: 0.6463\n",
      "Epoch 15 | Loss: T=0.5852 V=0.5801 Gap=-0.0052\n",
      "         | F1: T=0.7802 V=0.6543 | AUC: 0.8413\n",
      "         | Combined Performance: 0.7586\n",
      "    New best F1: 0.6543\n",
      "Epoch 16 | Loss: T=0.5799 V=0.5757 Gap=-0.0043\n",
      "         | F1: T=0.7913 V=0.6605 | AUC: 0.8501\n",
      "         | Combined Performance: 0.7673\n",
      "    New best F1: 0.6605\n",
      "Epoch 17 | Loss: T=0.5734 V=0.5712 Gap=-0.0021\n",
      "         | F1: T=0.7944 V=0.6681 | AUC: 0.8590\n",
      "         | Combined Performance: 0.7738\n",
      "    New best F1: 0.6681\n",
      "Epoch 18 | Loss: T=0.5661 V=0.5667 Gap=0.0006\n",
      "         | F1: T=0.8064 V=0.6757 | AUC: 0.8674\n",
      "         | Combined Performance: 0.7832\n",
      "    New best F1: 0.6757\n",
      "Epoch 19 | Loss: T=0.5586 V=0.5620 Gap=0.0034\n",
      "         | F1: T=0.8133 V=0.7009 | AUC: 0.8752\n",
      "         | Combined Performance: 0.7965\n",
      "    New best F1: 0.7009\n",
      "Epoch 20 | Loss: T=0.5498 V=0.5571 Gap=0.0073\n",
      "         | F1: T=0.8289 V=0.7101 | AUC: 0.8822\n",
      "         | Combined Performance: 0.8071\n",
      "    New best F1: 0.7101\n",
      "Epoch 21 | Loss: T=0.5444 V=0.5522 Gap=0.0078\n",
      "         | F1: T=0.8376 V=0.7163 | AUC: 0.8887\n",
      "         | Combined Performance: 0.8142\n",
      "    New best F1: 0.7163\n",
      "Epoch 22 | Loss: T=0.5353 V=0.5471 Gap=0.0119\n",
      "         | F1: T=0.8413 V=0.7223 | AUC: 0.8947\n",
      "         | Combined Performance: 0.8194\n",
      "    New best F1: 0.7223\n",
      "Epoch 23 | Loss: T=0.5272 V=0.5418 Gap=0.0146\n",
      "         | F1: T=0.8498 V=0.7320 | AUC: 0.9001\n",
      "         | Combined Performance: 0.8273\n",
      "    New best F1: 0.7320\n",
      "Epoch 24 | Loss: T=0.5198 V=0.5364 Gap=0.0166\n",
      "         | F1: T=0.8575 V=0.7441 | AUC: 0.9048\n",
      "         | Combined Performance: 0.8355\n",
      "    New best F1: 0.7441\n",
      "Epoch 25 | Loss: T=0.5103 V=0.5306 Gap=0.0203\n",
      "         | F1: T=0.8612 V=0.7574 | AUC: 0.9090\n",
      "         | Combined Performance: 0.8425\n",
      "    New best F1: 0.7574\n",
      "Epoch 26 | Loss: T=0.5021 V=0.5247 Gap=0.0226\n",
      "         | F1: T=0.8682 V=0.7704 | AUC: 0.9126\n",
      "         | Combined Performance: 0.8504\n",
      "    New best F1: 0.7704\n",
      "Epoch 27 | Loss: T=0.4921 V=0.5186 Gap=0.0265\n",
      "         | F1: T=0.8725 V=0.7943 | AUC: 0.9157\n",
      "         | Combined Performance: 0.8608\n",
      "    New best F1: 0.7943\n",
      "Epoch 28 | Loss: T=0.4814 V=0.5123 Gap=0.0309\n",
      "         | F1: T=0.8844 V=0.7992 | AUC: 0.9185\n",
      "         | Combined Performance: 0.8674\n",
      "    New best F1: 0.7992\n",
      "Epoch 29 | Loss: T=0.4732 V=0.5059 Gap=0.0328\n",
      "         | F1: T=0.8873 V=0.8018 | AUC: 0.9210\n",
      "         | Combined Performance: 0.8701\n",
      "    New best F1: 0.8018\n",
      "Epoch 30 | Loss: T=0.4622 V=0.4995 Gap=0.0373\n",
      "         | F1: T=0.8963 V=0.8035 | AUC: 0.9232\n",
      "         | Combined Performance: 0.8743\n",
      "    New best F1: 0.8035\n",
      "Epoch 31 | Loss: T=0.4528 V=0.4930 Gap=0.0402\n",
      "         | F1: T=0.9026 V=0.8047 | AUC: 0.9252\n",
      "         | Combined Performance: 0.8775\n",
      "    New best F1: 0.8047\n",
      "Epoch 32 | Loss: T=0.4409 V=0.4867 Gap=0.0458\n",
      "         | F1: T=0.9041 V=0.8135 | AUC: 0.9272\n",
      "         | Combined Performance: 0.8816\n",
      "    New best F1: 0.8135\n",
      "Epoch 33 | Loss: T=0.4325 V=0.4802 Gap=0.0477\n",
      "         | F1: T=0.9104 V=0.8173 | AUC: 0.9291\n",
      "         | Combined Performance: 0.8856\n",
      "    New best F1: 0.8173\n",
      "Epoch 34 | Loss: T=0.4194 V=0.4737 Gap=0.0543\n",
      "         | F1: T=0.9169 V=0.8190 | AUC: 0.9309\n",
      "         | Combined Performance: 0.8889\n",
      "    New best F1: 0.8190\n",
      "Epoch 35 | Loss: T=0.4095 V=0.4671 Gap=0.0576\n",
      "         | F1: T=0.9209 V=0.8194 | AUC: 0.9328\n",
      "         | Combined Performance: 0.8910\n",
      "    New best F1: 0.8194\n",
      "Epoch 36 | Loss: T=0.4012 V=0.4607 Gap=0.0595\n",
      "         | F1: T=0.9200 V=0.8213 | AUC: 0.9346\n",
      "         | Combined Performance: 0.8920\n",
      "    New best F1: 0.8213\n",
      "Epoch 37 | Loss: T=0.3892 V=0.4543 Gap=0.0650\n",
      "         | F1: T=0.9236 V=0.8218 | AUC: 0.9366\n",
      "         | Combined Performance: 0.8940\n",
      "    New best F1: 0.8218\n",
      "Epoch 38 | Loss: T=0.3778 V=0.4481 Gap=0.0703\n",
      "         | F1: T=0.9269 V=0.8259 | AUC: 0.9387\n",
      "         | Combined Performance: 0.8971\n",
      "    New best F1: 0.8259\n",
      "Epoch 39 | Loss: T=0.3683 V=0.4419 Gap=0.0736\n",
      "         | F1: T=0.9318 V=0.8277 | AUC: 0.9404\n",
      "         | Combined Performance: 0.9000\n",
      "    New best F1: 0.8277\n",
      "Epoch 40 | Loss: T=0.3565 V=0.4360 Gap=0.0795\n",
      "         | F1: T=0.9348 V=0.8279 | AUC: 0.9418\n",
      "         | Combined Performance: 0.9015\n",
      "    New best F1: 0.8279\n",
      "Epoch 41 | Loss: T=0.3451 V=0.4302 Gap=0.0851\n",
      "         | F1: T=0.9393 V=0.8285 | AUC: 0.9429\n",
      "         | Combined Performance: 0.9035\n",
      "    New best F1: 0.8285\n",
      "Epoch 42 | Loss: T=0.3348 V=0.4247 Gap=0.0898\n",
      "         | F1: T=0.9394 V=0.8309 | AUC: 0.9438\n",
      "         | Combined Performance: 0.9047\n",
      "    New best F1: 0.8309\n",
      "Epoch 43 | Loss: T=0.3259 V=0.4195 Gap=0.0936\n",
      "         | F1: T=0.9411 V=0.8324 | AUC: 0.9445\n",
      "         | Combined Performance: 0.9060\n",
      "    New best F1: 0.8324\n",
      "Epoch 44 | Loss: T=0.3153 V=0.4145 Gap=0.0993\n",
      "         | F1: T=0.9457 V=0.8342 | AUC: 0.9449\n",
      "         | Combined Performance: 0.9083\n",
      "    New best F1: 0.8342\n",
      "Epoch 45 | Loss: T=0.3037 V=0.4100 Gap=0.1063\n",
      "         | F1: T=0.9456 V=0.8357 | AUC: 0.9451\n",
      "         | Combined Performance: 0.9088\n",
      "    New best F1: 0.8357\n",
      "Epoch 46 | Loss: T=0.2971 V=0.4059 Gap=0.1087\n",
      "         | F1: T=0.9473 V=0.8366 | AUC: 0.9448\n",
      "         | Combined Performance: 0.9095\n",
      "    New best F1: 0.8366\n",
      "Epoch 47 | Loss: T=0.2865 V=0.4019 Gap=0.1154\n",
      "         | F1: T=0.9488 V=0.8374 | AUC: 0.9441\n",
      "         | Combined Performance: 0.9101\n",
      "    New best F1: 0.8374\n",
      "Epoch 48 | Loss: T=0.2768 V=0.3983 Gap=0.1215\n",
      "         | F1: T=0.9511 V=0.8375 | AUC: 0.9431\n",
      "         | Combined Performance: 0.9105\n",
      "    New best F1: 0.8375\n",
      "Epoch 49 | Loss: T=0.2688 V=0.3952 Gap=0.1264\n",
      "         | F1: T=0.9513 V=0.8382 | AUC: 0.9420\n",
      "         | Combined Performance: 0.9105\n",
      "    New best F1: 0.8382\n",
      "PERFORMANCE DECLINE DETECTED - stopping training\n",
      "Recent performance: [0.910540243558635, 0.9105098749136489, 0.9104904157328453]\n",
      "Restored best model with F1: 0.8382\n"
     ]
    },
    {
     "data": {
      "text/html": [],
      "text/plain": [
       "<IPython.core.display.HTML object>"
      ]
     },
     "metadata": {},
     "output_type": "display_data"
    },
    {
     "data": {
      "text/html": [
       "<br>    <style><br>        .wandb-row {<br>            display: flex;<br>            flex-direction: row;<br>            flex-wrap: wrap;<br>            justify-content: flex-start;<br>            width: 100%;<br>        }<br>        .wandb-col {<br>            display: flex;<br>            flex-direction: column;<br>            flex-basis: 100%;<br>            flex: 1;<br>            padding: 10px;<br>        }<br>    </style><br><div class=\"wandb-row\"><div class=\"wandb-col\"><h3>Run history:</h3><br/><table class=\"wandb\"><tr><td>best_epoch</td><td>▁▁▁▁▂▂▂▂▂▂▃▃▃▃▃▄▄▄▄▄▅▅▅▅▅▅▆▆▆▆▆▆▇▇▇▇▇███</td></tr><tr><td>best_model_saved</td><td>▁▁▁▁▁▁▁▁▁▁▁▁▁▁▁▁▁▁▁▁▁▁▁▁▁▁▁▁▁▁▁▁▁▁▁▁▁▁▁▁</td></tr><tr><td>best_val_f1</td><td>▁▁▁▁▁▂▂▃▃▃▃▃▃▃▃▄▅▅▅▅▆▆▇▇▇▇▇▇▇███████████</td></tr><tr><td>combined_performance</td><td>▁▁▂▂▂▃▃▃▃▄▄▄▄▄▅▅▅▆▆▆▆▇▇▇▇▇▇▇▇███████████</td></tr><tr><td>data_summary/feature_dim</td><td>▁</td></tr><tr><td>data_summary/sequence_length</td><td>▁</td></tr><tr><td>decline_detected_epoch</td><td>▁</td></tr><tr><td>decline_stop</td><td>▁</td></tr><tr><td>epoch</td><td>▁▁▁▂▂▂▂▂▂▃▃▃▃▃▃▄▄▄▄▄▅▅▅▅▅▆▆▆▆▆▆▇▇▇▇▇▇███</td></tr><tr><td>gradients/avg_norm</td><td>▆▇▇▇▇▇███▆▇▆▆▆▆▆▅▅▆▆▅▆▅▅▆▆▆▅▅▅▅▄▅▄▄▄▃▂▂▁</td></tr><tr><td>+50</td><td>...</td></tr></table><br/></div><div class=\"wandb-col\"><h3>Run summary:</h3><br/><table class=\"wandb\"><tr><td>best_epoch</td><td>49</td></tr><tr><td>best_model_saved</td><td>1</td></tr><tr><td>best_val_f1</td><td>0.83818</td></tr><tr><td>combined_performance</td><td>0.91051</td></tr><tr><td>data_summary/feature_dim</td><td>50</td></tr><tr><td>data_summary/sequence_length</td><td>128</td></tr><tr><td>decline_detected_epoch</td><td>50</td></tr><tr><td>decline_stop</td><td>1</td></tr><tr><td>epoch</td><td>49</td></tr><tr><td>gradients/avg_norm</td><td>0.12288</td></tr><tr><td>+53</td><td>...</td></tr></table><br/></div></div>"
      ],
      "text/plain": [
       "<IPython.core.display.HTML object>"
      ]
     },
     "metadata": {},
     "output_type": "display_data"
    },
    {
     "data": {
      "text/html": [
       " View run <strong style=\"color:#cdcd00\">fixed_trial_0_h4_l1_bi1_att0</strong> at: <a href='https://wandb.ai/derelioglugokdeniz-bilkent-university/lstm-cybersecurity-fixed/runs/8i5bisrp' target=\"_blank\">https://wandb.ai/derelioglugokdeniz-bilkent-university/lstm-cybersecurity-fixed/runs/8i5bisrp</a><br> View project at: <a href='https://wandb.ai/derelioglugokdeniz-bilkent-university/lstm-cybersecurity-fixed' target=\"_blank\">https://wandb.ai/derelioglugokdeniz-bilkent-university/lstm-cybersecurity-fixed</a><br>Synced 5 W&B file(s), 0 media file(s), 0 artifact file(s) and 0 other file(s)"
      ],
      "text/plain": [
       "<IPython.core.display.HTML object>"
      ]
     },
     "metadata": {},
     "output_type": "display_data"
    },
    {
     "data": {
      "text/html": [
       "Find logs at: <code>.\\wandb\\run-20250901_145642-8i5bisrp\\logs</code>"
      ],
      "text/plain": [
       "<IPython.core.display.HTML object>"
      ]
     },
     "metadata": {},
     "output_type": "display_data"
    },
    {
     "name": "stdout",
     "output_type": "stream",
     "text": [
      "Trial 0: F1=0.8382, Decrease_penalty=1.8293, Gap_penalty=0.2633, Score=-1.2545\n"
     ]
    },
    {
     "name": "stderr",
     "output_type": "stream",
     "text": [
      "[I 2025-09-01 14:57:07,310] Trial 0 finished with value: -1.2544879968650635 and parameters: {'hidden_dim': 4, 'num_layers': 1, 'dropout': 0.29761191306325957, 'use_attention': False, 'bidirectional': True, 'sequence_length': 128, 'lr': 0.00011505137493659554, 'batch_size': 512, 'l2_reg': 3.4745331159811874e-05, 'gradient_clip': 4.217524229198063, 'l1_reg': 7.216654076139157e-05, 'early_stopping_patience': 35, 'min_delta': 1.4443628656009442e-06}. Best is trial 0 with value: -1.2544879968650635.\n"
     ]
    },
    {
     "name": "stdout",
     "output_type": "stream",
     "text": [
      "\n",
      "FIXED Trial #1\n",
      "=== FIXED Data Preprocessing ===\n",
      "After cleaning - Train: 13675, Val: 7264, Test: 7264\n",
      "Class balance - Train: 0.560, Val: 0.365\n",
      "Calculated pos_weight: 0.89\n"
     ]
    },
    {
     "data": {
      "text/html": [
       "Changes to your `wandb` environment variables will be ignored because your `wandb` session has already started. For more information on how to modify your settings with `wandb.init()` arguments, please refer to <a href='https://wandb.me/wandb-init' target=\"_blank\">the W&B docs</a>."
      ],
      "text/plain": [
       "<IPython.core.display.HTML object>"
      ]
     },
     "metadata": {},
     "output_type": "display_data"
    },
    {
     "data": {
      "text/html": [
       "creating run (0.2s)"
      ],
      "text/plain": [
       "<IPython.core.display.HTML object>"
      ]
     },
     "metadata": {},
     "output_type": "display_data"
    },
    {
     "data": {
      "text/html": [
       "Tracking run with wandb version 0.21.2"
      ],
      "text/plain": [
       "<IPython.core.display.HTML object>"
      ]
     },
     "metadata": {},
     "output_type": "display_data"
    },
    {
     "data": {
      "text/html": [
       "Run data is saved locally in <code>c:\\Users\\gokde\\OneDrive\\Masaüstü\\Anomaly-Detection-and-Network-Optimization-in-SDNs\\real_project\\wandb\\run-20250901_145712-ual3f4vm</code>"
      ],
      "text/plain": [
       "<IPython.core.display.HTML object>"
      ]
     },
     "metadata": {},
     "output_type": "display_data"
    },
    {
     "data": {
      "text/html": [
       "Syncing run <strong><a href='https://wandb.ai/derelioglugokdeniz-bilkent-university/lstm-cybersecurity-fixed/runs/ual3f4vm' target=\"_blank\">fixed_trial_1_h48_l4_bi1_att1</a></strong> to <a href='https://wandb.ai/derelioglugokdeniz-bilkent-university/lstm-cybersecurity-fixed' target=\"_blank\">Weights & Biases</a> (<a href='https://wandb.me/developer-guide' target=\"_blank\">docs</a>)<br>"
      ],
      "text/plain": [
       "<IPython.core.display.HTML object>"
      ]
     },
     "metadata": {},
     "output_type": "display_data"
    },
    {
     "data": {
      "text/html": [
       " View project at <a href='https://wandb.ai/derelioglugokdeniz-bilkent-university/lstm-cybersecurity-fixed' target=\"_blank\">https://wandb.ai/derelioglugokdeniz-bilkent-university/lstm-cybersecurity-fixed</a>"
      ],
      "text/plain": [
       "<IPython.core.display.HTML object>"
      ]
     },
     "metadata": {},
     "output_type": "display_data"
    },
    {
     "data": {
      "text/html": [
       " View run at <a href='https://wandb.ai/derelioglugokdeniz-bilkent-university/lstm-cybersecurity-fixed/runs/ual3f4vm' target=\"_blank\">https://wandb.ai/derelioglugokdeniz-bilkent-university/lstm-cybersecurity-fixed/runs/ual3f4vm</a>"
      ],
      "text/plain": [
       "<IPython.core.display.HTML object>"
      ]
     },
     "metadata": {},
     "output_type": "display_data"
    },
    {
     "name": "stdout",
     "output_type": "stream",
     "text": [
      "Training with FIXED approach - monitoring for declining performance\n",
      "All hyperparameters logged to W&B project: lstm-cybersecurity-fixed\n",
      "Epoch  1 | Loss: T=1.3608 V=1.1804 Gap=-0.1805\n",
      "         | F1: T=0.7328 V=0.5346 | AUC: 0.3570\n",
      "         | Combined Performance: 0.5414\n",
      "    New best F1: 0.5346\n",
      "Epoch  2 | Loss: T=0.8610 V=1.4433 Gap=0.5823\n",
      "         | F1: T=0.8233 V=0.5821 | AUC: 0.8032\n",
      "         | Combined Performance: 0.7362\n",
      "    New best F1: 0.5821\n",
      "Epoch  3 | Loss: T=0.5118 V=4.1394 Gap=3.6276\n",
      "         | F1: T=0.8132 V=0.5346 | AUC: 0.7400\n",
      "         | Combined Performance: 0.6959\n",
      "PERFORMANCE DECLINE DETECTED - stopping training\n",
      "Recent performance: [0.7361888794363244, 0.6959399738070999, 0.6026112035806764]\n",
      "Restored best model with F1: 0.5821\n"
     ]
    },
    {
     "data": {
      "text/html": [],
      "text/plain": [
       "<IPython.core.display.HTML object>"
      ]
     },
     "metadata": {},
     "output_type": "display_data"
    },
    {
     "data": {
      "text/html": [
       "<br>    <style><br>        .wandb-row {<br>            display: flex;<br>            flex-direction: row;<br>            flex-wrap: wrap;<br>            justify-content: flex-start;<br>            width: 100%;<br>        }<br>        .wandb-col {<br>            display: flex;<br>            flex-direction: column;<br>            flex-basis: 100%;<br>            flex: 1;<br>            padding: 10px;<br>        }<br>    </style><br><div class=\"wandb-row\"><div class=\"wandb-col\"><h3>Run history:</h3><br/><table class=\"wandb\"><tr><td>best_epoch</td><td>▁█</td></tr><tr><td>best_model_saved</td><td>▁▁</td></tr><tr><td>best_val_f1</td><td>▁█</td></tr><tr><td>combined_performance</td><td>▁█▇</td></tr><tr><td>data_summary/feature_dim</td><td>▁</td></tr><tr><td>data_summary/sequence_length</td><td>▁</td></tr><tr><td>decline_detected_epoch</td><td>▁</td></tr><tr><td>decline_stop</td><td>▁</td></tr><tr><td>epoch</td><td>▁▅█</td></tr><tr><td>gradients/avg_norm</td><td>▅█▁</td></tr><tr><td>+50</td><td>...</td></tr></table><br/></div><div class=\"wandb-col\"><h3>Run summary:</h3><br/><table class=\"wandb\"><tr><td>best_epoch</td><td>2</td></tr><tr><td>best_model_saved</td><td>1</td></tr><tr><td>best_val_f1</td><td>0.58208</td></tr><tr><td>combined_performance</td><td>0.69594</td></tr><tr><td>data_summary/feature_dim</td><td>50</td></tr><tr><td>data_summary/sequence_length</td><td>160</td></tr><tr><td>decline_detected_epoch</td><td>4</td></tr><tr><td>decline_stop</td><td>1</td></tr><tr><td>epoch</td><td>3</td></tr><tr><td>gradients/avg_norm</td><td>0.01075</td></tr><tr><td>+53</td><td>...</td></tr></table><br/></div></div>"
      ],
      "text/plain": [
       "<IPython.core.display.HTML object>"
      ]
     },
     "metadata": {},
     "output_type": "display_data"
    },
    {
     "data": {
      "text/html": [
       " View run <strong style=\"color:#cdcd00\">fixed_trial_1_h48_l4_bi1_att1</strong> at: <a href='https://wandb.ai/derelioglugokdeniz-bilkent-university/lstm-cybersecurity-fixed/runs/ual3f4vm' target=\"_blank\">https://wandb.ai/derelioglugokdeniz-bilkent-university/lstm-cybersecurity-fixed/runs/ual3f4vm</a><br> View project at: <a href='https://wandb.ai/derelioglugokdeniz-bilkent-university/lstm-cybersecurity-fixed' target=\"_blank\">https://wandb.ai/derelioglugokdeniz-bilkent-university/lstm-cybersecurity-fixed</a><br>Synced 5 W&B file(s), 0 media file(s), 0 artifact file(s) and 0 other file(s)"
      ],
      "text/plain": [
       "<IPython.core.display.HTML object>"
      ]
     },
     "metadata": {},
     "output_type": "display_data"
    },
    {
     "data": {
      "text/html": [
       "Find logs at: <code>.\\wandb\\run-20250901_145712-ual3f4vm\\logs</code>"
      ],
      "text/plain": [
       "<IPython.core.display.HTML object>"
      ]
     },
     "metadata": {},
     "output_type": "display_data"
    },
    {
     "name": "stdout",
     "output_type": "stream",
     "text": [
      "Trial 1: F1=0.5821, Decrease_penalty=0.6652, Gap_penalty=8.3129, Score=-8.3960\n"
     ]
    },
    {
     "name": "stderr",
     "output_type": "stream",
     "text": [
      "[I 2025-09-01 14:57:22,656] Trial 1 finished with value: -8.395951515257552 and parameters: {'hidden_dim': 48, 'num_layers': 4, 'dropout': 0.3310570218136604, 'use_attention': True, 'bidirectional': True, 'sequence_length': 160, 'lr': 0.008132060789295221, 'batch_size': 256, 'l2_reg': 0.0024676658263468477, 'gradient_clip': 0.6871024772960626, 'l1_reg': 1.356064234420807e-07, 'early_stopping_patience': 20, 'min_delta': 2.7356405890355384e-06}. Best is trial 0 with value: -1.2544879968650635.\n"
     ]
    },
    {
     "name": "stdout",
     "output_type": "stream",
     "text": [
      "\n",
      "FIXED Trial #2\n",
      "=== FIXED Data Preprocessing ===\n",
      "After cleaning - Train: 13675, Val: 7264, Test: 7264\n",
      "Class balance - Train: 0.560, Val: 0.365\n",
      "Calculated pos_weight: 0.89\n"
     ]
    },
    {
     "data": {
      "text/html": [
       "Changes to your `wandb` environment variables will be ignored because your `wandb` session has already started. For more information on how to modify your settings with `wandb.init()` arguments, please refer to <a href='https://wandb.me/wandb-init' target=\"_blank\">the W&B docs</a>."
      ],
      "text/plain": [
       "<IPython.core.display.HTML object>"
      ]
     },
     "metadata": {},
     "output_type": "display_data"
    },
    {
     "data": {
      "text/html": [
       "creating run (0.2s)"
      ],
      "text/plain": [
       "<IPython.core.display.HTML object>"
      ]
     },
     "metadata": {},
     "output_type": "display_data"
    },
    {
     "data": {
      "text/html": [
       "Tracking run with wandb version 0.21.2"
      ],
      "text/plain": [
       "<IPython.core.display.HTML object>"
      ]
     },
     "metadata": {},
     "output_type": "display_data"
    },
    {
     "data": {
      "text/html": [
       "Run data is saved locally in <code>c:\\Users\\gokde\\OneDrive\\Masaüstü\\Anomaly-Detection-and-Network-Optimization-in-SDNs\\real_project\\wandb\\run-20250901_145723-f0mfyvfg</code>"
      ],
      "text/plain": [
       "<IPython.core.display.HTML object>"
      ]
     },
     "metadata": {},
     "output_type": "display_data"
    },
    {
     "data": {
      "text/html": [
       "Syncing run <strong><a href='https://wandb.ai/derelioglugokdeniz-bilkent-university/lstm-cybersecurity-fixed/runs/f0mfyvfg' target=\"_blank\">fixed_trial_2_h128_l8_bi0_att1</a></strong> to <a href='https://wandb.ai/derelioglugokdeniz-bilkent-university/lstm-cybersecurity-fixed' target=\"_blank\">Weights & Biases</a> (<a href='https://wandb.me/developer-guide' target=\"_blank\">docs</a>)<br>"
      ],
      "text/plain": [
       "<IPython.core.display.HTML object>"
      ]
     },
     "metadata": {},
     "output_type": "display_data"
    },
    {
     "data": {
      "text/html": [
       " View project at <a href='https://wandb.ai/derelioglugokdeniz-bilkent-university/lstm-cybersecurity-fixed' target=\"_blank\">https://wandb.ai/derelioglugokdeniz-bilkent-university/lstm-cybersecurity-fixed</a>"
      ],
      "text/plain": [
       "<IPython.core.display.HTML object>"
      ]
     },
     "metadata": {},
     "output_type": "display_data"
    },
    {
     "data": {
      "text/html": [
       " View run at <a href='https://wandb.ai/derelioglugokdeniz-bilkent-university/lstm-cybersecurity-fixed/runs/f0mfyvfg' target=\"_blank\">https://wandb.ai/derelioglugokdeniz-bilkent-university/lstm-cybersecurity-fixed/runs/f0mfyvfg</a>"
      ],
      "text/plain": [
       "<IPython.core.display.HTML object>"
      ]
     },
     "metadata": {},
     "output_type": "display_data"
    },
    {
     "name": "stdout",
     "output_type": "stream",
     "text": [
      "Training with FIXED approach - monitoring for declining performance\n",
      "All hyperparameters logged to W&B project: lstm-cybersecurity-fixed\n",
      "Epoch  1 | Loss: T=0.7502 V=0.6630 Gap=-0.0872\n",
      "         | F1: T=0.6473 V=0.5346 | AUC: 0.5000\n",
      "         | Combined Performance: 0.5606\n",
      "    New best F1: 0.5346\n",
      "Epoch  2 | Loss: T=0.6542 V=0.6636 Gap=0.0094\n",
      "         | F1: T=0.7174 V=0.5346 | AUC: 0.5000\n",
      "         | Combined Performance: 0.5840\n",
      "Epoch  3 | Loss: T=0.6502 V=0.6641 Gap=0.0139\n",
      "         | F1: T=0.7179 V=0.5346 | AUC: 0.5000\n",
      "         | Combined Performance: 0.5842\n",
      "Epoch  4 | Loss: T=0.6499 V=0.6649 Gap=0.0150\n",
      "         | F1: T=0.7179 V=0.5346 | AUC: 0.5000\n",
      "         | Combined Performance: 0.5842\n",
      "PERFORMANCE DECLINE DETECTED - stopping training\n",
      "Recent performance: [0.5841620522908665, 0.5841620522908665, 0.5841620522908665]\n",
      "Restored best model with F1: 0.5346\n"
     ]
    },
    {
     "data": {
      "text/html": [],
      "text/plain": [
       "<IPython.core.display.HTML object>"
      ]
     },
     "metadata": {},
     "output_type": "display_data"
    },
    {
     "data": {
      "text/html": [
       "<br>    <style><br>        .wandb-row {<br>            display: flex;<br>            flex-direction: row;<br>            flex-wrap: wrap;<br>            justify-content: flex-start;<br>            width: 100%;<br>        }<br>        .wandb-col {<br>            display: flex;<br>            flex-direction: column;<br>            flex-basis: 100%;<br>            flex: 1;<br>            padding: 10px;<br>        }<br>    </style><br><div class=\"wandb-row\"><div class=\"wandb-col\"><h3>Run history:</h3><br/><table class=\"wandb\"><tr><td>best_epoch</td><td>▁</td></tr><tr><td>best_model_saved</td><td>▁</td></tr><tr><td>best_val_f1</td><td>▁</td></tr><tr><td>combined_performance</td><td>▁███</td></tr><tr><td>data_summary/feature_dim</td><td>▁</td></tr><tr><td>data_summary/sequence_length</td><td>▁</td></tr><tr><td>decline_detected_epoch</td><td>▁</td></tr><tr><td>decline_stop</td><td>▁</td></tr><tr><td>epoch</td><td>▁▃▆█</td></tr><tr><td>gradients/avg_norm</td><td>█▃▁▁</td></tr><tr><td>+50</td><td>...</td></tr></table><br/></div><div class=\"wandb-col\"><h3>Run summary:</h3><br/><table class=\"wandb\"><tr><td>best_epoch</td><td>1</td></tr><tr><td>best_model_saved</td><td>1</td></tr><tr><td>best_val_f1</td><td>0.5346</td></tr><tr><td>combined_performance</td><td>0.58416</td></tr><tr><td>data_summary/feature_dim</td><td>50</td></tr><tr><td>data_summary/sequence_length</td><td>64</td></tr><tr><td>decline_detected_epoch</td><td>5</td></tr><tr><td>decline_stop</td><td>1</td></tr><tr><td>epoch</td><td>4</td></tr><tr><td>gradients/avg_norm</td><td>0.01314</td></tr><tr><td>+53</td><td>...</td></tr></table><br/></div></div>"
      ],
      "text/plain": [
       "<IPython.core.display.HTML object>"
      ]
     },
     "metadata": {},
     "output_type": "display_data"
    },
    {
     "data": {
      "text/html": [
       " View run <strong style=\"color:#cdcd00\">fixed_trial_2_h128_l8_bi0_att1</strong> at: <a href='https://wandb.ai/derelioglugokdeniz-bilkent-university/lstm-cybersecurity-fixed/runs/f0mfyvfg' target=\"_blank\">https://wandb.ai/derelioglugokdeniz-bilkent-university/lstm-cybersecurity-fixed/runs/f0mfyvfg</a><br> View project at: <a href='https://wandb.ai/derelioglugokdeniz-bilkent-university/lstm-cybersecurity-fixed' target=\"_blank\">https://wandb.ai/derelioglugokdeniz-bilkent-university/lstm-cybersecurity-fixed</a><br>Synced 5 W&B file(s), 0 media file(s), 0 artifact file(s) and 0 other file(s)"
      ],
      "text/plain": [
       "<IPython.core.display.HTML object>"
      ]
     },
     "metadata": {},
     "output_type": "display_data"
    },
    {
     "data": {
      "text/html": [
       "Find logs at: <code>.\\wandb\\run-20250901_145723-f0mfyvfg\\logs</code>"
      ],
      "text/plain": [
       "<IPython.core.display.HTML object>"
      ]
     },
     "metadata": {},
     "output_type": "display_data"
    },
    {
     "name": "stdout",
     "output_type": "stream",
     "text": [
      "Trial 2: F1=0.5346, Decrease_penalty=4.4973, Gap_penalty=0.0317, Score=-3.9944\n"
     ]
    },
    {
     "name": "stderr",
     "output_type": "stream",
     "text": [
      "[I 2025-09-01 14:57:37,099] Trial 2 finished with value: -3.9943867628964664 and parameters: {'hidden_dim': 128, 'num_layers': 8, 'dropout': 0.42847319822079144, 'use_attention': True, 'bidirectional': False, 'sequence_length': 64, 'lr': 0.003309948812108701, 'batch_size': 512, 'l2_reg': 0.0031393455895492397, 'gradient_clip': 5.1276816402364895, 'l1_reg': 1.040065363363919e-08, 'early_stopping_patience': 10, 'min_delta': 0.0002824294606833324}. Best is trial 0 with value: -1.2544879968650635.\n"
     ]
    },
    {
     "name": "stdout",
     "output_type": "stream",
     "text": [
      "\n",
      "FIXED Trial #3\n",
      "=== FIXED Data Preprocessing ===\n",
      "After cleaning - Train: 13675, Val: 7264, Test: 7264\n",
      "Class balance - Train: 0.560, Val: 0.365\n",
      "Calculated pos_weight: 0.89\n"
     ]
    },
    {
     "data": {
      "text/html": [
       "Changes to your `wandb` environment variables will be ignored because your `wandb` session has already started. For more information on how to modify your settings with `wandb.init()` arguments, please refer to <a href='https://wandb.me/wandb-init' target=\"_blank\">the W&B docs</a>."
      ],
      "text/plain": [
       "<IPython.core.display.HTML object>"
      ]
     },
     "metadata": {},
     "output_type": "display_data"
    },
    {
     "data": {
      "text/html": [
       "creating run (0.2s)"
      ],
      "text/plain": [
       "<IPython.core.display.HTML object>"
      ]
     },
     "metadata": {},
     "output_type": "display_data"
    },
    {
     "data": {
      "text/html": [
       "Tracking run with wandb version 0.21.2"
      ],
      "text/plain": [
       "<IPython.core.display.HTML object>"
      ]
     },
     "metadata": {},
     "output_type": "display_data"
    },
    {
     "data": {
      "text/html": [
       "Run data is saved locally in <code>c:\\Users\\gokde\\OneDrive\\Masaüstü\\Anomaly-Detection-and-Network-Optimization-in-SDNs\\real_project\\wandb\\run-20250901_145739-t1fxp8r6</code>"
      ],
      "text/plain": [
       "<IPython.core.display.HTML object>"
      ]
     },
     "metadata": {},
     "output_type": "display_data"
    },
    {
     "data": {
      "text/html": [
       "Syncing run <strong><a href='https://wandb.ai/derelioglugokdeniz-bilkent-university/lstm-cybersecurity-fixed/runs/t1fxp8r6' target=\"_blank\">fixed_trial_3_h8_l6_bi0_att0</a></strong> to <a href='https://wandb.ai/derelioglugokdeniz-bilkent-university/lstm-cybersecurity-fixed' target=\"_blank\">Weights & Biases</a> (<a href='https://wandb.me/developer-guide' target=\"_blank\">docs</a>)<br>"
      ],
      "text/plain": [
       "<IPython.core.display.HTML object>"
      ]
     },
     "metadata": {},
     "output_type": "display_data"
    },
    {
     "data": {
      "text/html": [
       " View project at <a href='https://wandb.ai/derelioglugokdeniz-bilkent-university/lstm-cybersecurity-fixed' target=\"_blank\">https://wandb.ai/derelioglugokdeniz-bilkent-university/lstm-cybersecurity-fixed</a>"
      ],
      "text/plain": [
       "<IPython.core.display.HTML object>"
      ]
     },
     "metadata": {},
     "output_type": "display_data"
    },
    {
     "data": {
      "text/html": [
       " View run at <a href='https://wandb.ai/derelioglugokdeniz-bilkent-university/lstm-cybersecurity-fixed/runs/t1fxp8r6' target=\"_blank\">https://wandb.ai/derelioglugokdeniz-bilkent-university/lstm-cybersecurity-fixed/runs/t1fxp8r6</a>"
      ],
      "text/plain": [
       "<IPython.core.display.HTML object>"
      ]
     },
     "metadata": {},
     "output_type": "display_data"
    },
    {
     "name": "stdout",
     "output_type": "stream",
     "text": [
      "Training with FIXED approach - monitoring for declining performance\n",
      "All hyperparameters logged to W&B project: lstm-cybersecurity-fixed\n",
      "Epoch  1 | Loss: T=0.7048 V=0.6771 Gap=-0.0276\n",
      "         | F1: T=0.6998 V=0.5346 | AUC: 0.8033\n",
      "         | Combined Performance: 0.6792\n",
      "    New best F1: 0.5346\n",
      "Epoch  2 | Loss: T=0.6649 V=0.6730 Gap=0.0081\n",
      "         | F1: T=0.7179 V=0.5346 | AUC: 0.5851\n",
      "         | Combined Performance: 0.6125\n",
      "Epoch  3 | Loss: T=0.6569 V=0.6721 Gap=0.0152\n",
      "         | F1: T=0.7179 V=0.5346 | AUC: 0.5000\n",
      "         | Combined Performance: 0.5842\n",
      "PERFORMANCE DECLINE DETECTED - stopping training\n",
      "Recent performance: [0.6125357195273058, 0.5841620522908665, 0.5841620522908665]\n",
      "Restored best model with F1: 0.5346\n"
     ]
    },
    {
     "data": {
      "text/html": [],
      "text/plain": [
       "<IPython.core.display.HTML object>"
      ]
     },
     "metadata": {},
     "output_type": "display_data"
    },
    {
     "data": {
      "text/html": [
       "<br>    <style><br>        .wandb-row {<br>            display: flex;<br>            flex-direction: row;<br>            flex-wrap: wrap;<br>            justify-content: flex-start;<br>            width: 100%;<br>        }<br>        .wandb-col {<br>            display: flex;<br>            flex-direction: column;<br>            flex-basis: 100%;<br>            flex: 1;<br>            padding: 10px;<br>        }<br>    </style><br><div class=\"wandb-row\"><div class=\"wandb-col\"><h3>Run history:</h3><br/><table class=\"wandb\"><tr><td>best_epoch</td><td>▁</td></tr><tr><td>best_model_saved</td><td>▁</td></tr><tr><td>best_val_f1</td><td>▁</td></tr><tr><td>combined_performance</td><td>█▃▁</td></tr><tr><td>data_summary/feature_dim</td><td>▁</td></tr><tr><td>data_summary/sequence_length</td><td>▁</td></tr><tr><td>decline_detected_epoch</td><td>▁</td></tr><tr><td>decline_stop</td><td>▁</td></tr><tr><td>epoch</td><td>▁▅█</td></tr><tr><td>gradients/avg_norm</td><td>█▃▁</td></tr><tr><td>+50</td><td>...</td></tr></table><br/></div><div class=\"wandb-col\"><h3>Run summary:</h3><br/><table class=\"wandb\"><tr><td>best_epoch</td><td>1</td></tr><tr><td>best_model_saved</td><td>1</td></tr><tr><td>best_val_f1</td><td>0.5346</td></tr><tr><td>combined_performance</td><td>0.58416</td></tr><tr><td>data_summary/feature_dim</td><td>50</td></tr><tr><td>data_summary/sequence_length</td><td>128</td></tr><tr><td>decline_detected_epoch</td><td>4</td></tr><tr><td>decline_stop</td><td>1</td></tr><tr><td>epoch</td><td>3</td></tr><tr><td>gradients/avg_norm</td><td>0.02656</td></tr><tr><td>+53</td><td>...</td></tr></table><br/></div></div>"
      ],
      "text/plain": [
       "<IPython.core.display.HTML object>"
      ]
     },
     "metadata": {},
     "output_type": "display_data"
    },
    {
     "data": {
      "text/html": [
       " View run <strong style=\"color:#cdcd00\">fixed_trial_3_h8_l6_bi0_att0</strong> at: <a href='https://wandb.ai/derelioglugokdeniz-bilkent-university/lstm-cybersecurity-fixed/runs/t1fxp8r6' target=\"_blank\">https://wandb.ai/derelioglugokdeniz-bilkent-university/lstm-cybersecurity-fixed/runs/t1fxp8r6</a><br> View project at: <a href='https://wandb.ai/derelioglugokdeniz-bilkent-university/lstm-cybersecurity-fixed' target=\"_blank\">https://wandb.ai/derelioglugokdeniz-bilkent-university/lstm-cybersecurity-fixed</a><br>Synced 5 W&B file(s), 0 media file(s), 0 artifact file(s) and 0 other file(s)"
      ],
      "text/plain": [
       "<IPython.core.display.HTML object>"
      ]
     },
     "metadata": {},
     "output_type": "display_data"
    },
    {
     "data": {
      "text/html": [
       "Find logs at: <code>.\\wandb\\run-20250901_145739-t1fxp8r6\\logs</code>"
      ],
      "text/plain": [
       "<IPython.core.display.HTML object>"
      ]
     },
     "metadata": {},
     "output_type": "display_data"
    },
    {
     "name": "stdout",
     "output_type": "stream",
     "text": [
      "Trial 3: F1=0.5346, Decrease_penalty=4.7252, Gap_penalty=0.0342, Score=-4.2248\n"
     ]
    },
    {
     "name": "stderr",
     "output_type": "stream",
     "text": [
      "[I 2025-09-01 14:57:44,725] Trial 3 finished with value: -4.224845181755843 and parameters: {'hidden_dim': 8, 'num_layers': 6, 'dropout': 0.5432975278555351, 'use_attention': False, 'bidirectional': False, 'sequence_length': 128, 'lr': 0.006349782888468667, 'batch_size': 512, 'l2_reg': 0.0005141807933107058, 'gradient_clip': 5.092724337141967, 'l1_reg': 5.0585470146109934e-05, 'early_stopping_patience': 55, 'min_delta': 0.0008301415500743176}. Best is trial 0 with value: -1.2544879968650635.\n"
     ]
    },
    {
     "name": "stdout",
     "output_type": "stream",
     "text": [
      "\n",
      "FIXED Trial #4\n",
      "=== FIXED Data Preprocessing ===\n",
      "After cleaning - Train: 13675, Val: 7264, Test: 7264\n",
      "Class balance - Train: 0.560, Val: 0.365\n",
      "Calculated pos_weight: 0.89\n"
     ]
    },
    {
     "data": {
      "text/html": [
       "Changes to your `wandb` environment variables will be ignored because your `wandb` session has already started. For more information on how to modify your settings with `wandb.init()` arguments, please refer to <a href='https://wandb.me/wandb-init' target=\"_blank\">the W&B docs</a>."
      ],
      "text/plain": [
       "<IPython.core.display.HTML object>"
      ]
     },
     "metadata": {},
     "output_type": "display_data"
    },
    {
     "data": {
      "text/html": [
       "creating run (0.2s)"
      ],
      "text/plain": [
       "<IPython.core.display.HTML object>"
      ]
     },
     "metadata": {},
     "output_type": "display_data"
    },
    {
     "data": {
      "text/html": [
       "Tracking run with wandb version 0.21.2"
      ],
      "text/plain": [
       "<IPython.core.display.HTML object>"
      ]
     },
     "metadata": {},
     "output_type": "display_data"
    },
    {
     "data": {
      "text/html": [
       "Run data is saved locally in <code>c:\\Users\\gokde\\OneDrive\\Masaüstü\\Anomaly-Detection-and-Network-Optimization-in-SDNs\\real_project\\wandb\\run-20250901_145747-3ccm2wys</code>"
      ],
      "text/plain": [
       "<IPython.core.display.HTML object>"
      ]
     },
     "metadata": {},
     "output_type": "display_data"
    },
    {
     "data": {
      "text/html": [
       "Syncing run <strong><a href='https://wandb.ai/derelioglugokdeniz-bilkent-university/lstm-cybersecurity-fixed/runs/3ccm2wys' target=\"_blank\">fixed_trial_4_h48_l2_bi1_att0</a></strong> to <a href='https://wandb.ai/derelioglugokdeniz-bilkent-university/lstm-cybersecurity-fixed' target=\"_blank\">Weights & Biases</a> (<a href='https://wandb.me/developer-guide' target=\"_blank\">docs</a>)<br>"
      ],
      "text/plain": [
       "<IPython.core.display.HTML object>"
      ]
     },
     "metadata": {},
     "output_type": "display_data"
    },
    {
     "data": {
      "text/html": [
       " View project at <a href='https://wandb.ai/derelioglugokdeniz-bilkent-university/lstm-cybersecurity-fixed' target=\"_blank\">https://wandb.ai/derelioglugokdeniz-bilkent-university/lstm-cybersecurity-fixed</a>"
      ],
      "text/plain": [
       "<IPython.core.display.HTML object>"
      ]
     },
     "metadata": {},
     "output_type": "display_data"
    },
    {
     "data": {
      "text/html": [
       " View run at <a href='https://wandb.ai/derelioglugokdeniz-bilkent-university/lstm-cybersecurity-fixed/runs/3ccm2wys' target=\"_blank\">https://wandb.ai/derelioglugokdeniz-bilkent-university/lstm-cybersecurity-fixed/runs/3ccm2wys</a>"
      ],
      "text/plain": [
       "<IPython.core.display.HTML object>"
      ]
     },
     "metadata": {},
     "output_type": "display_data"
    },
    {
     "name": "stdout",
     "output_type": "stream",
     "text": [
      "Training with FIXED approach - monitoring for declining performance\n",
      "All hyperparameters logged to W&B project: lstm-cybersecurity-fixed\n",
      "Epoch  1 | Loss: T=0.4636 V=0.5514 Gap=0.0878\n",
      "         | F1: T=0.9172 V=0.8343 | AUC: 0.9664\n",
      "         | Combined Performance: 0.9060\n",
      "    New best F1: 0.8343\n",
      "Epoch  2 | Loss: T=0.2001 V=0.7440 Gap=0.5439\n",
      "         | F1: T=0.9805 V=0.8462 | AUC: 0.9495\n",
      "         | Combined Performance: 0.9254\n",
      "    New best F1: 0.8462\n",
      "Epoch  3 | Loss: T=0.1679 V=1.1813 Gap=1.0134\n",
      "         | F1: T=0.9832 V=0.7902 | AUC: 0.9160\n",
      "         | Combined Performance: 0.8965\n",
      "Epoch  4 | Loss: T=0.1476 V=0.8192 Gap=0.6717\n",
      "         | F1: T=0.9867 V=0.8451 | AUC: 0.9374\n",
      "         | Combined Performance: 0.9231\n",
      "Epoch  5 | Loss: T=0.1287 V=0.8912 Gap=0.7624\n",
      "         | F1: T=0.9888 V=0.8443 | AUC: 0.8525\n",
      "         | Combined Performance: 0.8952\n",
      "PERFORMANCE DECLINE DETECTED - stopping training\n",
      "Recent performance: [0.9230508252619242, 0.8952436332885023, 0.8923429413206908]\n",
      "Restored best model with F1: 0.8462\n"
     ]
    },
    {
     "data": {
      "text/html": [],
      "text/plain": [
       "<IPython.core.display.HTML object>"
      ]
     },
     "metadata": {},
     "output_type": "display_data"
    },
    {
     "data": {
      "text/html": [
       "<br>    <style><br>        .wandb-row {<br>            display: flex;<br>            flex-direction: row;<br>            flex-wrap: wrap;<br>            justify-content: flex-start;<br>            width: 100%;<br>        }<br>        .wandb-col {<br>            display: flex;<br>            flex-direction: column;<br>            flex-basis: 100%;<br>            flex: 1;<br>            padding: 10px;<br>        }<br>    </style><br><div class=\"wandb-row\"><div class=\"wandb-col\"><h3>Run history:</h3><br/><table class=\"wandb\"><tr><td>best_epoch</td><td>▁█</td></tr><tr><td>best_model_saved</td><td>▁▁</td></tr><tr><td>best_val_f1</td><td>▁█</td></tr><tr><td>combined_performance</td><td>▃█▁▇▁</td></tr><tr><td>data_summary/feature_dim</td><td>▁</td></tr><tr><td>data_summary/sequence_length</td><td>▁</td></tr><tr><td>decline_detected_epoch</td><td>▁</td></tr><tr><td>decline_stop</td><td>▁</td></tr><tr><td>epoch</td><td>▁▃▅▆█</td></tr><tr><td>gradients/avg_norm</td><td>█▂▁▂▂</td></tr><tr><td>+50</td><td>...</td></tr></table><br/></div><div class=\"wandb-col\"><h3>Run summary:</h3><br/><table class=\"wandb\"><tr><td>best_epoch</td><td>2</td></tr><tr><td>best_model_saved</td><td>1</td></tr><tr><td>best_val_f1</td><td>0.84615</td></tr><tr><td>combined_performance</td><td>0.89524</td></tr><tr><td>data_summary/feature_dim</td><td>50</td></tr><tr><td>data_summary/sequence_length</td><td>160</td></tr><tr><td>decline_detected_epoch</td><td>6</td></tr><tr><td>decline_stop</td><td>1</td></tr><tr><td>epoch</td><td>5</td></tr><tr><td>gradients/avg_norm</td><td>0.00296</td></tr><tr><td>+53</td><td>...</td></tr></table><br/></div></div>"
      ],
      "text/plain": [
       "<IPython.core.display.HTML object>"
      ]
     },
     "metadata": {},
     "output_type": "display_data"
    },
    {
     "data": {
      "text/html": [
       " View run <strong style=\"color:#cdcd00\">fixed_trial_4_h48_l2_bi1_att0</strong> at: <a href='https://wandb.ai/derelioglugokdeniz-bilkent-university/lstm-cybersecurity-fixed/runs/3ccm2wys' target=\"_blank\">https://wandb.ai/derelioglugokdeniz-bilkent-university/lstm-cybersecurity-fixed/runs/3ccm2wys</a><br> View project at: <a href='https://wandb.ai/derelioglugokdeniz-bilkent-university/lstm-cybersecurity-fixed' target=\"_blank\">https://wandb.ai/derelioglugokdeniz-bilkent-university/lstm-cybersecurity-fixed</a><br>Synced 5 W&B file(s), 0 media file(s), 0 artifact file(s) and 0 other file(s)"
      ],
      "text/plain": [
       "<IPython.core.display.HTML object>"
      ]
     },
     "metadata": {},
     "output_type": "display_data"
    },
    {
     "data": {
      "text/html": [
       "Find logs at: <code>.\\wandb\\run-20250901_145747-3ccm2wys\\logs</code>"
      ],
      "text/plain": [
       "<IPython.core.display.HTML object>"
      ]
     },
     "metadata": {},
     "output_type": "display_data"
    },
    {
     "name": "stdout",
     "output_type": "stream",
     "text": [
      "Trial 4: F1=0.8462, Decrease_penalty=3.2706, Gap_penalty=1.5848, Score=-4.0093\n"
     ]
    },
    {
     "name": "stderr",
     "output_type": "stream",
     "text": [
      "[I 2025-09-01 14:58:11,645] Trial 4 finished with value: -4.0092998374762425 and parameters: {'hidden_dim': 48, 'num_layers': 2, 'dropout': 0.1707877478354961, 'use_attention': False, 'bidirectional': True, 'sequence_length': 160, 'lr': 0.00013197129348085557, 'batch_size': 32, 'l2_reg': 0.0006487461892987057, 'gradient_clip': 8.293720252567955, 'l1_reg': 2.7394162005065242e-05, 'early_stopping_patience': 50, 'min_delta': 3.527066371394002e-05}. Best is trial 0 with value: -1.2544879968650635.\n"
     ]
    },
    {
     "name": "stdout",
     "output_type": "stream",
     "text": [
      "\n",
      "FIXED Trial #5\n",
      "=== FIXED Data Preprocessing ===\n",
      "After cleaning - Train: 13675, Val: 7264, Test: 7264\n",
      "Class balance - Train: 0.560, Val: 0.365\n",
      "Calculated pos_weight: 0.89\n"
     ]
    },
    {
     "data": {
      "text/html": [
       "Changes to your `wandb` environment variables will be ignored because your `wandb` session has already started. For more information on how to modify your settings with `wandb.init()` arguments, please refer to <a href='https://wandb.me/wandb-init' target=\"_blank\">the W&B docs</a>."
      ],
      "text/plain": [
       "<IPython.core.display.HTML object>"
      ]
     },
     "metadata": {},
     "output_type": "display_data"
    },
    {
     "data": {
      "text/html": [
       "creating run (0.0s)"
      ],
      "text/plain": [
       "<IPython.core.display.HTML object>"
      ]
     },
     "metadata": {},
     "output_type": "display_data"
    },
    {
     "data": {
      "text/html": [
       "Tracking run with wandb version 0.21.2"
      ],
      "text/plain": [
       "<IPython.core.display.HTML object>"
      ]
     },
     "metadata": {},
     "output_type": "display_data"
    },
    {
     "data": {
      "text/html": [
       "Run data is saved locally in <code>c:\\Users\\gokde\\OneDrive\\Masaüstü\\Anomaly-Detection-and-Network-Optimization-in-SDNs\\real_project\\wandb\\run-20250901_145812-bfhjq7tg</code>"
      ],
      "text/plain": [
       "<IPython.core.display.HTML object>"
      ]
     },
     "metadata": {},
     "output_type": "display_data"
    },
    {
     "data": {
      "text/html": [
       "Syncing run <strong><a href='https://wandb.ai/derelioglugokdeniz-bilkent-university/lstm-cybersecurity-fixed/runs/bfhjq7tg' target=\"_blank\">fixed_trial_5_h48_l4_bi0_att1</a></strong> to <a href='https://wandb.ai/derelioglugokdeniz-bilkent-university/lstm-cybersecurity-fixed' target=\"_blank\">Weights & Biases</a> (<a href='https://wandb.me/developer-guide' target=\"_blank\">docs</a>)<br>"
      ],
      "text/plain": [
       "<IPython.core.display.HTML object>"
      ]
     },
     "metadata": {},
     "output_type": "display_data"
    },
    {
     "data": {
      "text/html": [
       " View project at <a href='https://wandb.ai/derelioglugokdeniz-bilkent-university/lstm-cybersecurity-fixed' target=\"_blank\">https://wandb.ai/derelioglugokdeniz-bilkent-university/lstm-cybersecurity-fixed</a>"
      ],
      "text/plain": [
       "<IPython.core.display.HTML object>"
      ]
     },
     "metadata": {},
     "output_type": "display_data"
    },
    {
     "data": {
      "text/html": [
       " View run at <a href='https://wandb.ai/derelioglugokdeniz-bilkent-university/lstm-cybersecurity-fixed/runs/bfhjq7tg' target=\"_blank\">https://wandb.ai/derelioglugokdeniz-bilkent-university/lstm-cybersecurity-fixed/runs/bfhjq7tg</a>"
      ],
      "text/plain": [
       "<IPython.core.display.HTML object>"
      ]
     },
     "metadata": {},
     "output_type": "display_data"
    },
    {
     "name": "stdout",
     "output_type": "stream",
     "text": [
      "Training with FIXED approach - monitoring for declining performance\n",
      "All hyperparameters logged to W&B project: lstm-cybersecurity-fixed\n",
      "Epoch  1 | Loss: T=0.6456 V=0.6348 Gap=-0.0108\n",
      "         | F1: T=0.7069 V=0.8352 | AUC: 0.9508\n",
      "         | Combined Performance: 0.8310\n",
      "    New best F1: 0.8352\n",
      "Epoch  2 | Loss: T=0.3497 V=0.4633 Gap=0.1136\n",
      "         | F1: T=0.9507 V=0.8444 | AUC: 0.9493\n",
      "         | Combined Performance: 0.9148\n",
      "    New best F1: 0.8444\n",
      "Epoch  3 | Loss: T=0.0965 V=0.5260 Gap=0.4295\n",
      "         | F1: T=0.9815 V=0.8449 | AUC: 0.9646\n",
      "         | Combined Performance: 0.9303\n",
      "    New best F1: 0.8449\n",
      "Epoch  4 | Loss: T=0.0740 V=0.6488 Gap=0.5748\n",
      "         | F1: T=0.9838 V=0.8432 | AUC: 0.9628\n",
      "         | Combined Performance: 0.9299\n",
      "PERFORMANCE DECLINE DETECTED - stopping training\n",
      "Recent performance: [0.9303163399742737, 0.9299388253721014, 0.9285206710508512]\n",
      "Restored best model with F1: 0.8449\n"
     ]
    },
    {
     "data": {
      "text/html": [],
      "text/plain": [
       "<IPython.core.display.HTML object>"
      ]
     },
     "metadata": {},
     "output_type": "display_data"
    },
    {
     "data": {
      "text/html": [
       "<br>    <style><br>        .wandb-row {<br>            display: flex;<br>            flex-direction: row;<br>            flex-wrap: wrap;<br>            justify-content: flex-start;<br>            width: 100%;<br>        }<br>        .wandb-col {<br>            display: flex;<br>            flex-direction: column;<br>            flex-basis: 100%;<br>            flex: 1;<br>            padding: 10px;<br>        }<br>    </style><br><div class=\"wandb-row\"><div class=\"wandb-col\"><h3>Run history:</h3><br/><table class=\"wandb\"><tr><td>best_epoch</td><td>▁▅█</td></tr><tr><td>best_model_saved</td><td>▁▁▁</td></tr><tr><td>best_val_f1</td><td>▁██</td></tr><tr><td>combined_performance</td><td>▁▇██</td></tr><tr><td>data_summary/feature_dim</td><td>▁</td></tr><tr><td>data_summary/sequence_length</td><td>▁</td></tr><tr><td>decline_detected_epoch</td><td>▁</td></tr><tr><td>decline_stop</td><td>▁</td></tr><tr><td>epoch</td><td>▁▃▆█</td></tr><tr><td>gradients/avg_norm</td><td>█▂▂▁</td></tr><tr><td>+50</td><td>...</td></tr></table><br/></div><div class=\"wandb-col\"><h3>Run summary:</h3><br/><table class=\"wandb\"><tr><td>best_epoch</td><td>3</td></tr><tr><td>best_model_saved</td><td>1</td></tr><tr><td>best_val_f1</td><td>0.84486</td></tr><tr><td>combined_performance</td><td>0.92994</td></tr><tr><td>data_summary/feature_dim</td><td>50</td></tr><tr><td>data_summary/sequence_length</td><td>48</td></tr><tr><td>decline_detected_epoch</td><td>5</td></tr><tr><td>decline_stop</td><td>1</td></tr><tr><td>epoch</td><td>4</td></tr><tr><td>gradients/avg_norm</td><td>0.0253</td></tr><tr><td>+53</td><td>...</td></tr></table><br/></div></div>"
      ],
      "text/plain": [
       "<IPython.core.display.HTML object>"
      ]
     },
     "metadata": {},
     "output_type": "display_data"
    },
    {
     "data": {
      "text/html": [
       " View run <strong style=\"color:#cdcd00\">fixed_trial_5_h48_l4_bi0_att1</strong> at: <a href='https://wandb.ai/derelioglugokdeniz-bilkent-university/lstm-cybersecurity-fixed/runs/bfhjq7tg' target=\"_blank\">https://wandb.ai/derelioglugokdeniz-bilkent-university/lstm-cybersecurity-fixed/runs/bfhjq7tg</a><br> View project at: <a href='https://wandb.ai/derelioglugokdeniz-bilkent-university/lstm-cybersecurity-fixed' target=\"_blank\">https://wandb.ai/derelioglugokdeniz-bilkent-university/lstm-cybersecurity-fixed</a><br>Synced 5 W&B file(s), 0 media file(s), 0 artifact file(s) and 0 other file(s)"
      ],
      "text/plain": [
       "<IPython.core.display.HTML object>"
      ]
     },
     "metadata": {},
     "output_type": "display_data"
    },
    {
     "data": {
      "text/html": [
       "Find logs at: <code>.\\wandb\\run-20250901_145812-bfhjq7tg\\logs</code>"
      ],
      "text/plain": [
       "<IPython.core.display.HTML object>"
      ]
     },
     "metadata": {},
     "output_type": "display_data"
    },
    {
     "name": "stdout",
     "output_type": "stream",
     "text": [
      "Trial 5: F1=0.8449, Decrease_penalty=2.1152, Gap_penalty=1.2446, Score=-2.5149\n"
     ]
    },
    {
     "name": "stderr",
     "output_type": "stream",
     "text": [
      "[I 2025-09-01 14:58:20,799] Trial 5 finished with value: -2.5149008175958025 and parameters: {'hidden_dim': 48, 'num_layers': 4, 'dropout': 0.24490068991527264, 'use_attention': True, 'bidirectional': False, 'sequence_length': 48, 'lr': 0.00023947086384778764, 'batch_size': 128, 'l2_reg': 0.001708860414851174, 'gradient_clip': 5.451197458662668, 'l1_reg': 2.2225294359594367e-07, 'early_stopping_patience': 25, 'min_delta': 4.179136183643003e-05}. Best is trial 0 with value: -1.2544879968650635.\n"
     ]
    },
    {
     "name": "stdout",
     "output_type": "stream",
     "text": [
      "\n",
      "FIXED Trial #6\n",
      "=== FIXED Data Preprocessing ===\n",
      "After cleaning - Train: 13675, Val: 7264, Test: 7264\n",
      "Class balance - Train: 0.560, Val: 0.365\n",
      "Calculated pos_weight: 0.89\n"
     ]
    },
    {
     "data": {
      "text/html": [
       "Changes to your `wandb` environment variables will be ignored because your `wandb` session has already started. For more information on how to modify your settings with `wandb.init()` arguments, please refer to <a href='https://wandb.me/wandb-init' target=\"_blank\">the W&B docs</a>."
      ],
      "text/plain": [
       "<IPython.core.display.HTML object>"
      ]
     },
     "metadata": {},
     "output_type": "display_data"
    },
    {
     "data": {
      "text/html": [
       "creating run (0.2s)"
      ],
      "text/plain": [
       "<IPython.core.display.HTML object>"
      ]
     },
     "metadata": {},
     "output_type": "display_data"
    },
    {
     "data": {
      "text/html": [
       "Tracking run with wandb version 0.21.2"
      ],
      "text/plain": [
       "<IPython.core.display.HTML object>"
      ]
     },
     "metadata": {},
     "output_type": "display_data"
    },
    {
     "data": {
      "text/html": [
       "Run data is saved locally in <code>c:\\Users\\gokde\\OneDrive\\Masaüstü\\Anomaly-Detection-and-Network-Optimization-in-SDNs\\real_project\\wandb\\run-20250901_145821-0hp9a5uq</code>"
      ],
      "text/plain": [
       "<IPython.core.display.HTML object>"
      ]
     },
     "metadata": {},
     "output_type": "display_data"
    },
    {
     "data": {
      "text/html": [
       "Syncing run <strong><a href='https://wandb.ai/derelioglugokdeniz-bilkent-university/lstm-cybersecurity-fixed/runs/0hp9a5uq' target=\"_blank\">fixed_trial_6_h512_l8_bi0_att0</a></strong> to <a href='https://wandb.ai/derelioglugokdeniz-bilkent-university/lstm-cybersecurity-fixed' target=\"_blank\">Weights & Biases</a> (<a href='https://wandb.me/developer-guide' target=\"_blank\">docs</a>)<br>"
      ],
      "text/plain": [
       "<IPython.core.display.HTML object>"
      ]
     },
     "metadata": {},
     "output_type": "display_data"
    },
    {
     "data": {
      "text/html": [
       " View project at <a href='https://wandb.ai/derelioglugokdeniz-bilkent-university/lstm-cybersecurity-fixed' target=\"_blank\">https://wandb.ai/derelioglugokdeniz-bilkent-university/lstm-cybersecurity-fixed</a>"
      ],
      "text/plain": [
       "<IPython.core.display.HTML object>"
      ]
     },
     "metadata": {},
     "output_type": "display_data"
    },
    {
     "data": {
      "text/html": [
       " View run at <a href='https://wandb.ai/derelioglugokdeniz-bilkent-university/lstm-cybersecurity-fixed/runs/0hp9a5uq' target=\"_blank\">https://wandb.ai/derelioglugokdeniz-bilkent-university/lstm-cybersecurity-fixed/runs/0hp9a5uq</a>"
      ],
      "text/plain": [
       "<IPython.core.display.HTML object>"
      ]
     },
     "metadata": {},
     "output_type": "display_data"
    },
    {
     "name": "stdout",
     "output_type": "stream",
     "text": [
      "Training with FIXED approach - monitoring for declining performance\n",
      "All hyperparameters logged to W&B project: lstm-cybersecurity-fixed\n",
      "Epoch  1 | Loss: T=5.2955 V=3.1719 Gap=-2.1236\n",
      "         | F1: T=0.8427 V=0.5346 | AUC: 0.5000\n",
      "         | Combined Performance: 0.6258\n",
      "    New best F1: 0.5346\n",
      "Epoch  2 | Loss: T=1.7365 V=3.0898 Gap=1.3532\n",
      "         | F1: T=0.8864 V=0.5346 | AUC: 0.5000\n",
      "         | Combined Performance: 0.6403\n",
      "Epoch  3 | Loss: T=1.7187 V=3.0860 Gap=1.3673\n",
      "         | F1: T=0.8799 V=0.5346 | AUC: 0.5000\n",
      "         | Combined Performance: 0.6382\n",
      "PERFORMANCE DECLINE DETECTED - stopping training\n",
      "Recent performance: [0.6403259992510971, 0.6381795981647448, 0.6378075528856676]\n",
      "Restored best model with F1: 0.5346\n"
     ]
    },
    {
     "data": {
      "text/html": [],
      "text/plain": [
       "<IPython.core.display.HTML object>"
      ]
     },
     "metadata": {},
     "output_type": "display_data"
    },
    {
     "data": {
      "text/html": [
       "<br>    <style><br>        .wandb-row {<br>            display: flex;<br>            flex-direction: row;<br>            flex-wrap: wrap;<br>            justify-content: flex-start;<br>            width: 100%;<br>        }<br>        .wandb-col {<br>            display: flex;<br>            flex-direction: column;<br>            flex-basis: 100%;<br>            flex: 1;<br>            padding: 10px;<br>        }<br>    </style><br><div class=\"wandb-row\"><div class=\"wandb-col\"><h3>Run history:</h3><br/><table class=\"wandb\"><tr><td>best_epoch</td><td>▁</td></tr><tr><td>best_model_saved</td><td>▁</td></tr><tr><td>best_val_f1</td><td>▁</td></tr><tr><td>combined_performance</td><td>▁█▇</td></tr><tr><td>data_summary/feature_dim</td><td>▁</td></tr><tr><td>data_summary/sequence_length</td><td>▁</td></tr><tr><td>decline_detected_epoch</td><td>▁</td></tr><tr><td>decline_stop</td><td>▁</td></tr><tr><td>epoch</td><td>▁▅█</td></tr><tr><td>gradients/avg_norm</td><td>▁▄█</td></tr><tr><td>+50</td><td>...</td></tr></table><br/></div><div class=\"wandb-col\"><h3>Run summary:</h3><br/><table class=\"wandb\"><tr><td>best_epoch</td><td>1</td></tr><tr><td>best_model_saved</td><td>1</td></tr><tr><td>best_val_f1</td><td>0.5346</td></tr><tr><td>combined_performance</td><td>0.63818</td></tr><tr><td>data_summary/feature_dim</td><td>50</td></tr><tr><td>data_summary/sequence_length</td><td>32</td></tr><tr><td>decline_detected_epoch</td><td>4</td></tr><tr><td>decline_stop</td><td>1</td></tr><tr><td>epoch</td><td>3</td></tr><tr><td>gradients/avg_norm</td><td>0.07758</td></tr><tr><td>+53</td><td>...</td></tr></table><br/></div></div>"
      ],
      "text/plain": [
       "<IPython.core.display.HTML object>"
      ]
     },
     "metadata": {},
     "output_type": "display_data"
    },
    {
     "data": {
      "text/html": [
       " View run <strong style=\"color:#cdcd00\">fixed_trial_6_h512_l8_bi0_att0</strong> at: <a href='https://wandb.ai/derelioglugokdeniz-bilkent-university/lstm-cybersecurity-fixed/runs/0hp9a5uq' target=\"_blank\">https://wandb.ai/derelioglugokdeniz-bilkent-university/lstm-cybersecurity-fixed/runs/0hp9a5uq</a><br> View project at: <a href='https://wandb.ai/derelioglugokdeniz-bilkent-university/lstm-cybersecurity-fixed' target=\"_blank\">https://wandb.ai/derelioglugokdeniz-bilkent-university/lstm-cybersecurity-fixed</a><br>Synced 5 W&B file(s), 0 media file(s), 0 artifact file(s) and 0 other file(s)"
      ],
      "text/plain": [
       "<IPython.core.display.HTML object>"
      ]
     },
     "metadata": {},
     "output_type": "display_data"
    },
    {
     "data": {
      "text/html": [
       "Find logs at: <code>.\\wandb\\run-20250901_145821-0hp9a5uq\\logs</code>"
      ],
      "text/plain": [
       "<IPython.core.display.HTML object>"
      ]
     },
     "metadata": {},
     "output_type": "display_data"
    },
    {
     "name": "stdout",
     "output_type": "stream",
     "text": [
      "Trial 6: F1=0.5346, Decrease_penalty=0.0000, Gap_penalty=3.2257, Score=-2.6911\n"
     ]
    },
    {
     "name": "stderr",
     "output_type": "stream",
     "text": [
      "[I 2025-09-01 14:58:47,320] Trial 6 finished with value: -2.691122169563647 and parameters: {'hidden_dim': 512, 'num_layers': 8, 'dropout': 0.5172641992750493, 'use_attention': False, 'bidirectional': False, 'sequence_length': 32, 'lr': 0.002965272677005076, 'batch_size': 128, 'l2_reg': 1.7015402629331373e-06, 'gradient_clip': 1.105049132250456, 'l1_reg': 0.0001480902426015118, 'early_stopping_patience': 55, 'min_delta': 0.00015109484994337507}. Best is trial 0 with value: -1.2544879968650635.\n"
     ]
    },
    {
     "name": "stdout",
     "output_type": "stream",
     "text": [
      "\n",
      "FIXED Trial #7\n",
      "=== FIXED Data Preprocessing ===\n",
      "After cleaning - Train: 13675, Val: 7264, Test: 7264\n",
      "Class balance - Train: 0.560, Val: 0.365\n",
      "Calculated pos_weight: 0.89\n"
     ]
    },
    {
     "data": {
      "text/html": [
       "Changes to your `wandb` environment variables will be ignored because your `wandb` session has already started. For more information on how to modify your settings with `wandb.init()` arguments, please refer to <a href='https://wandb.me/wandb-init' target=\"_blank\">the W&B docs</a>."
      ],
      "text/plain": [
       "<IPython.core.display.HTML object>"
      ]
     },
     "metadata": {},
     "output_type": "display_data"
    },
    {
     "data": {
      "text/html": [
       "creating run (0.2s)"
      ],
      "text/plain": [
       "<IPython.core.display.HTML object>"
      ]
     },
     "metadata": {},
     "output_type": "display_data"
    },
    {
     "data": {
      "text/html": [
       "Tracking run with wandb version 0.21.2"
      ],
      "text/plain": [
       "<IPython.core.display.HTML object>"
      ]
     },
     "metadata": {},
     "output_type": "display_data"
    },
    {
     "data": {
      "text/html": [
       "Run data is saved locally in <code>c:\\Users\\gokde\\OneDrive\\Masaüstü\\Anomaly-Detection-and-Network-Optimization-in-SDNs\\real_project\\wandb\\run-20250901_145847-mcxt1568</code>"
      ],
      "text/plain": [
       "<IPython.core.display.HTML object>"
      ]
     },
     "metadata": {},
     "output_type": "display_data"
    },
    {
     "data": {
      "text/html": [
       "Syncing run <strong><a href='https://wandb.ai/derelioglugokdeniz-bilkent-university/lstm-cybersecurity-fixed/runs/mcxt1568' target=\"_blank\">fixed_trial_7_h48_l2_bi1_att0</a></strong> to <a href='https://wandb.ai/derelioglugokdeniz-bilkent-university/lstm-cybersecurity-fixed' target=\"_blank\">Weights & Biases</a> (<a href='https://wandb.me/developer-guide' target=\"_blank\">docs</a>)<br>"
      ],
      "text/plain": [
       "<IPython.core.display.HTML object>"
      ]
     },
     "metadata": {},
     "output_type": "display_data"
    },
    {
     "data": {
      "text/html": [
       " View project at <a href='https://wandb.ai/derelioglugokdeniz-bilkent-university/lstm-cybersecurity-fixed' target=\"_blank\">https://wandb.ai/derelioglugokdeniz-bilkent-university/lstm-cybersecurity-fixed</a>"
      ],
      "text/plain": [
       "<IPython.core.display.HTML object>"
      ]
     },
     "metadata": {},
     "output_type": "display_data"
    },
    {
     "data": {
      "text/html": [
       " View run at <a href='https://wandb.ai/derelioglugokdeniz-bilkent-university/lstm-cybersecurity-fixed/runs/mcxt1568' target=\"_blank\">https://wandb.ai/derelioglugokdeniz-bilkent-university/lstm-cybersecurity-fixed/runs/mcxt1568</a>"
      ],
      "text/plain": [
       "<IPython.core.display.HTML object>"
      ]
     },
     "metadata": {},
     "output_type": "display_data"
    },
    {
     "name": "stdout",
     "output_type": "stream",
     "text": [
      "Training with FIXED approach - monitoring for declining performance\n",
      "All hyperparameters logged to W&B project: lstm-cybersecurity-fixed\n",
      "Epoch  1 | Loss: T=0.2028 V=1.1730 Gap=0.9703\n",
      "         | F1: T=0.9257 V=0.7825 | AUC: 0.9571\n",
      "         | Combined Performance: 0.8884\n",
      "    New best F1: 0.7825\n",
      "Epoch  2 | Loss: T=0.0739 V=1.3175 Gap=1.2436\n",
      "         | F1: T=0.9790 V=0.8429 | AUC: 0.9538\n",
      "         | Combined Performance: 0.9252\n",
      "    New best F1: 0.8429\n",
      "Epoch  3 | Loss: T=0.0674 V=1.3997 Gap=1.3323\n",
      "         | F1: T=0.9812 V=0.8430 | AUC: 0.9454\n",
      "         | Combined Performance: 0.9232\n",
      "    New best F1: 0.8430\n",
      "PERFORMANCE DECLINE DETECTED - stopping training\n",
      "Recent performance: [0.925232040568925, 0.9232103086966913, 0.9225265587489289]\n",
      "Restored best model with F1: 0.8430\n"
     ]
    },
    {
     "data": {
      "text/html": [],
      "text/plain": [
       "<IPython.core.display.HTML object>"
      ]
     },
     "metadata": {},
     "output_type": "display_data"
    },
    {
     "data": {
      "text/html": [
       "<br>    <style><br>        .wandb-row {<br>            display: flex;<br>            flex-direction: row;<br>            flex-wrap: wrap;<br>            justify-content: flex-start;<br>            width: 100%;<br>        }<br>        .wandb-col {<br>            display: flex;<br>            flex-direction: column;<br>            flex-basis: 100%;<br>            flex: 1;<br>            padding: 10px;<br>        }<br>    </style><br><div class=\"wandb-row\"><div class=\"wandb-col\"><h3>Run history:</h3><br/><table class=\"wandb\"><tr><td>best_epoch</td><td>▁▅█</td></tr><tr><td>best_model_saved</td><td>▁▁▁</td></tr><tr><td>best_val_f1</td><td>▁██</td></tr><tr><td>combined_performance</td><td>▁██</td></tr><tr><td>data_summary/feature_dim</td><td>▁</td></tr><tr><td>data_summary/sequence_length</td><td>▁</td></tr><tr><td>decline_detected_epoch</td><td>▁</td></tr><tr><td>decline_stop</td><td>▁</td></tr><tr><td>epoch</td><td>▁▅█</td></tr><tr><td>gradients/avg_norm</td><td>█▂▁</td></tr><tr><td>+50</td><td>...</td></tr></table><br/></div><div class=\"wandb-col\"><h3>Run summary:</h3><br/><table class=\"wandb\"><tr><td>best_epoch</td><td>3</td></tr><tr><td>best_model_saved</td><td>1</td></tr><tr><td>best_val_f1</td><td>0.84304</td></tr><tr><td>combined_performance</td><td>0.92321</td></tr><tr><td>data_summary/feature_dim</td><td>50</td></tr><tr><td>data_summary/sequence_length</td><td>16</td></tr><tr><td>decline_detected_epoch</td><td>4</td></tr><tr><td>decline_stop</td><td>1</td></tr><tr><td>epoch</td><td>3</td></tr><tr><td>gradients/avg_norm</td><td>2e-05</td></tr><tr><td>+53</td><td>...</td></tr></table><br/></div></div>"
      ],
      "text/plain": [
       "<IPython.core.display.HTML object>"
      ]
     },
     "metadata": {},
     "output_type": "display_data"
    },
    {
     "data": {
      "text/html": [
       " View run <strong style=\"color:#cdcd00\">fixed_trial_7_h48_l2_bi1_att0</strong> at: <a href='https://wandb.ai/derelioglugokdeniz-bilkent-university/lstm-cybersecurity-fixed/runs/mcxt1568' target=\"_blank\">https://wandb.ai/derelioglugokdeniz-bilkent-university/lstm-cybersecurity-fixed/runs/mcxt1568</a><br> View project at: <a href='https://wandb.ai/derelioglugokdeniz-bilkent-university/lstm-cybersecurity-fixed' target=\"_blank\">https://wandb.ai/derelioglugokdeniz-bilkent-university/lstm-cybersecurity-fixed</a><br>Synced 5 W&B file(s), 0 media file(s), 0 artifact file(s) and 0 other file(s)"
      ],
      "text/plain": [
       "<IPython.core.display.HTML object>"
      ]
     },
     "metadata": {},
     "output_type": "display_data"
    },
    {
     "data": {
      "text/html": [
       "Find logs at: <code>.\\wandb\\run-20250901_145847-mcxt1568\\logs</code>"
      ],
      "text/plain": [
       "<IPython.core.display.HTML object>"
      ]
     },
     "metadata": {},
     "output_type": "display_data"
    },
    {
     "name": "stdout",
     "output_type": "stream",
     "text": [
      "Trial 7: F1=0.8430, Decrease_penalty=4.3142, Gap_penalty=2.6488, Score=-6.1200\n"
     ]
    },
    {
     "name": "stderr",
     "output_type": "stream",
     "text": [
      "[I 2025-09-01 14:58:57,945] Trial 7 finished with value: -6.119980260657092 and parameters: {'hidden_dim': 48, 'num_layers': 2, 'dropout': 0.1274013249081754, 'use_attention': False, 'bidirectional': True, 'sequence_length': 16, 'lr': 0.0008428658960383928, 'batch_size': 64, 'l2_reg': 0.0003938634067979974, 'gradient_clip': 0.5658273992550926, 'l1_reg': 1.3282162001999418e-08, 'early_stopping_patience': 35, 'min_delta': 1.2706117715434265e-05}. Best is trial 0 with value: -1.2544879968650635.\n"
     ]
    },
    {
     "name": "stdout",
     "output_type": "stream",
     "text": [
      "\n",
      "FIXED Trial #8\n",
      "=== FIXED Data Preprocessing ===\n",
      "After cleaning - Train: 13675, Val: 7264, Test: 7264\n",
      "Class balance - Train: 0.560, Val: 0.365\n",
      "Calculated pos_weight: 0.89\n"
     ]
    },
    {
     "data": {
      "text/html": [
       "Changes to your `wandb` environment variables will be ignored because your `wandb` session has already started. For more information on how to modify your settings with `wandb.init()` arguments, please refer to <a href='https://wandb.me/wandb-init' target=\"_blank\">the W&B docs</a>."
      ],
      "text/plain": [
       "<IPython.core.display.HTML object>"
      ]
     },
     "metadata": {},
     "output_type": "display_data"
    },
    {
     "data": {
      "text/html": [
       "creating run (0.1s)"
      ],
      "text/plain": [
       "<IPython.core.display.HTML object>"
      ]
     },
     "metadata": {},
     "output_type": "display_data"
    },
    {
     "data": {
      "text/html": [
       "Tracking run with wandb version 0.21.2"
      ],
      "text/plain": [
       "<IPython.core.display.HTML object>"
      ]
     },
     "metadata": {},
     "output_type": "display_data"
    },
    {
     "data": {
      "text/html": [
       "Run data is saved locally in <code>c:\\Users\\gokde\\OneDrive\\Masaüstü\\Anomaly-Detection-and-Network-Optimization-in-SDNs\\real_project\\wandb\\run-20250901_145858-88vskvbn</code>"
      ],
      "text/plain": [
       "<IPython.core.display.HTML object>"
      ]
     },
     "metadata": {},
     "output_type": "display_data"
    },
    {
     "data": {
      "text/html": [
       "Syncing run <strong><a href='https://wandb.ai/derelioglugokdeniz-bilkent-university/lstm-cybersecurity-fixed/runs/88vskvbn' target=\"_blank\">fixed_trial_8_h96_l2_bi0_att1</a></strong> to <a href='https://wandb.ai/derelioglugokdeniz-bilkent-university/lstm-cybersecurity-fixed' target=\"_blank\">Weights & Biases</a> (<a href='https://wandb.me/developer-guide' target=\"_blank\">docs</a>)<br>"
      ],
      "text/plain": [
       "<IPython.core.display.HTML object>"
      ]
     },
     "metadata": {},
     "output_type": "display_data"
    },
    {
     "data": {
      "text/html": [
       " View project at <a href='https://wandb.ai/derelioglugokdeniz-bilkent-university/lstm-cybersecurity-fixed' target=\"_blank\">https://wandb.ai/derelioglugokdeniz-bilkent-university/lstm-cybersecurity-fixed</a>"
      ],
      "text/plain": [
       "<IPython.core.display.HTML object>"
      ]
     },
     "metadata": {},
     "output_type": "display_data"
    },
    {
     "data": {
      "text/html": [
       " View run at <a href='https://wandb.ai/derelioglugokdeniz-bilkent-university/lstm-cybersecurity-fixed/runs/88vskvbn' target=\"_blank\">https://wandb.ai/derelioglugokdeniz-bilkent-university/lstm-cybersecurity-fixed/runs/88vskvbn</a>"
      ],
      "text/plain": [
       "<IPython.core.display.HTML object>"
      ]
     },
     "metadata": {},
     "output_type": "display_data"
    },
    {
     "name": "stdout",
     "output_type": "stream",
     "text": [
      "Training with FIXED approach - monitoring for declining performance\n",
      "All hyperparameters logged to W&B project: lstm-cybersecurity-fixed\n",
      "Epoch  1 | Loss: T=0.4679 V=0.6696 Gap=0.2017\n",
      "         | F1: T=0.9532 V=0.8314 | AUC: 0.9646\n",
      "         | Combined Performance: 0.9164\n",
      "    New best F1: 0.8314\n",
      "Epoch  2 | Loss: T=0.3118 V=1.0423 Gap=0.7305\n",
      "         | F1: T=0.9722 V=0.7970 | AUC: 0.9663\n",
      "         | Combined Performance: 0.9118\n",
      "Epoch  3 | Loss: T=0.2905 V=1.1222 Gap=0.8317\n",
      "         | F1: T=0.9666 V=0.8021 | AUC: 0.9571\n",
      "         | Combined Performance: 0.9086\n",
      "PERFORMANCE DECLINE DETECTED - stopping training\n",
      "Recent performance: [0.9118482395565312, 0.9085864471290995, 0.8907577453866589]\n",
      "Restored best model with F1: 0.8314\n"
     ]
    },
    {
     "data": {
      "text/html": [],
      "text/plain": [
       "<IPython.core.display.HTML object>"
      ]
     },
     "metadata": {},
     "output_type": "display_data"
    },
    {
     "data": {
      "text/html": [
       "<br>    <style><br>        .wandb-row {<br>            display: flex;<br>            flex-direction: row;<br>            flex-wrap: wrap;<br>            justify-content: flex-start;<br>            width: 100%;<br>        }<br>        .wandb-col {<br>            display: flex;<br>            flex-direction: column;<br>            flex-basis: 100%;<br>            flex: 1;<br>            padding: 10px;<br>        }<br>    </style><br><div class=\"wandb-row\"><div class=\"wandb-col\"><h3>Run history:</h3><br/><table class=\"wandb\"><tr><td>best_epoch</td><td>▁</td></tr><tr><td>best_model_saved</td><td>▁</td></tr><tr><td>best_val_f1</td><td>▁</td></tr><tr><td>combined_performance</td><td>█▄▁</td></tr><tr><td>data_summary/feature_dim</td><td>▁</td></tr><tr><td>data_summary/sequence_length</td><td>▁</td></tr><tr><td>decline_detected_epoch</td><td>▁</td></tr><tr><td>decline_stop</td><td>▁</td></tr><tr><td>epoch</td><td>▁▅█</td></tr><tr><td>gradients/avg_norm</td><td>█▁▁</td></tr><tr><td>+50</td><td>...</td></tr></table><br/></div><div class=\"wandb-col\"><h3>Run summary:</h3><br/><table class=\"wandb\"><tr><td>best_epoch</td><td>1</td></tr><tr><td>best_model_saved</td><td>1</td></tr><tr><td>best_val_f1</td><td>0.83138</td></tr><tr><td>combined_performance</td><td>0.90859</td></tr><tr><td>data_summary/feature_dim</td><td>50</td></tr><tr><td>data_summary/sequence_length</td><td>16</td></tr><tr><td>decline_detected_epoch</td><td>4</td></tr><tr><td>decline_stop</td><td>1</td></tr><tr><td>epoch</td><td>3</td></tr><tr><td>gradients/avg_norm</td><td>0.00572</td></tr><tr><td>+53</td><td>...</td></tr></table><br/></div></div>"
      ],
      "text/plain": [
       "<IPython.core.display.HTML object>"
      ]
     },
     "metadata": {},
     "output_type": "display_data"
    },
    {
     "data": {
      "text/html": [
       " View run <strong style=\"color:#cdcd00\">fixed_trial_8_h96_l2_bi0_att1</strong> at: <a href='https://wandb.ai/derelioglugokdeniz-bilkent-university/lstm-cybersecurity-fixed/runs/88vskvbn' target=\"_blank\">https://wandb.ai/derelioglugokdeniz-bilkent-university/lstm-cybersecurity-fixed/runs/88vskvbn</a><br> View project at: <a href='https://wandb.ai/derelioglugokdeniz-bilkent-university/lstm-cybersecurity-fixed' target=\"_blank\">https://wandb.ai/derelioglugokdeniz-bilkent-university/lstm-cybersecurity-fixed</a><br>Synced 5 W&B file(s), 0 media file(s), 0 artifact file(s) and 0 other file(s)"
      ],
      "text/plain": [
       "<IPython.core.display.HTML object>"
      ]
     },
     "metadata": {},
     "output_type": "display_data"
    },
    {
     "data": {
      "text/html": [
       "Find logs at: <code>.\\wandb\\run-20250901_145858-88vskvbn\\logs</code>"
      ],
      "text/plain": [
       "<IPython.core.display.HTML object>"
      ]
     },
     "metadata": {},
     "output_type": "display_data"
    },
    {
     "name": "stdout",
     "output_type": "stream",
     "text": [
      "Trial 8: F1=0.8314, Decrease_penalty=3.6683, Gap_penalty=2.6141, Score=-5.4509\n"
     ]
    },
    {
     "name": "stderr",
     "output_type": "stream",
     "text": [
      "[I 2025-09-01 14:59:07,518] Trial 8 finished with value: -5.450948256240226 and parameters: {'hidden_dim': 96, 'num_layers': 2, 'dropout': 0.5267292163607336, 'use_attention': True, 'bidirectional': False, 'sequence_length': 16, 'lr': 0.00765040091301092, 'batch_size': 64, 'l2_reg': 0.0003639461130058051, 'gradient_clip': 5.983751166502884, 'l1_reg': 8.641386614214664e-05, 'early_stopping_patience': 20, 'min_delta': 0.00015841582731518974}. Best is trial 0 with value: -1.2544879968650635.\n"
     ]
    },
    {
     "name": "stdout",
     "output_type": "stream",
     "text": [
      "\n",
      "FIXED Trial #9\n",
      "=== FIXED Data Preprocessing ===\n",
      "After cleaning - Train: 13675, Val: 7264, Test: 7264\n",
      "Class balance - Train: 0.560, Val: 0.365\n",
      "Calculated pos_weight: 0.89\n"
     ]
    },
    {
     "data": {
      "text/html": [
       "Changes to your `wandb` environment variables will be ignored because your `wandb` session has already started. For more information on how to modify your settings with `wandb.init()` arguments, please refer to <a href='https://wandb.me/wandb-init' target=\"_blank\">the W&B docs</a>."
      ],
      "text/plain": [
       "<IPython.core.display.HTML object>"
      ]
     },
     "metadata": {},
     "output_type": "display_data"
    },
    {
     "data": {
      "text/html": [
       "creating run (0.2s)"
      ],
      "text/plain": [
       "<IPython.core.display.HTML object>"
      ]
     },
     "metadata": {},
     "output_type": "display_data"
    },
    {
     "data": {
      "text/html": [
       "Tracking run with wandb version 0.21.2"
      ],
      "text/plain": [
       "<IPython.core.display.HTML object>"
      ]
     },
     "metadata": {},
     "output_type": "display_data"
    },
    {
     "data": {
      "text/html": [
       "Run data is saved locally in <code>c:\\Users\\gokde\\OneDrive\\Masaüstü\\Anomaly-Detection-and-Network-Optimization-in-SDNs\\real_project\\wandb\\run-20250901_145909-tk28s0ml</code>"
      ],
      "text/plain": [
       "<IPython.core.display.HTML object>"
      ]
     },
     "metadata": {},
     "output_type": "display_data"
    },
    {
     "data": {
      "text/html": [
       "Syncing run <strong><a href='https://wandb.ai/derelioglugokdeniz-bilkent-university/lstm-cybersecurity-fixed/runs/tk28s0ml' target=\"_blank\">fixed_trial_9_h8_l9_bi0_att0</a></strong> to <a href='https://wandb.ai/derelioglugokdeniz-bilkent-university/lstm-cybersecurity-fixed' target=\"_blank\">Weights & Biases</a> (<a href='https://wandb.me/developer-guide' target=\"_blank\">docs</a>)<br>"
      ],
      "text/plain": [
       "<IPython.core.display.HTML object>"
      ]
     },
     "metadata": {},
     "output_type": "display_data"
    },
    {
     "data": {
      "text/html": [
       " View project at <a href='https://wandb.ai/derelioglugokdeniz-bilkent-university/lstm-cybersecurity-fixed' target=\"_blank\">https://wandb.ai/derelioglugokdeniz-bilkent-university/lstm-cybersecurity-fixed</a>"
      ],
      "text/plain": [
       "<IPython.core.display.HTML object>"
      ]
     },
     "metadata": {},
     "output_type": "display_data"
    },
    {
     "data": {
      "text/html": [
       " View run at <a href='https://wandb.ai/derelioglugokdeniz-bilkent-university/lstm-cybersecurity-fixed/runs/tk28s0ml' target=\"_blank\">https://wandb.ai/derelioglugokdeniz-bilkent-university/lstm-cybersecurity-fixed/runs/tk28s0ml</a>"
      ],
      "text/plain": [
       "<IPython.core.display.HTML object>"
      ]
     },
     "metadata": {},
     "output_type": "display_data"
    },
    {
     "name": "stdout",
     "output_type": "stream",
     "text": [
      "Training with FIXED approach - monitoring for declining performance\n",
      "All hyperparameters logged to W&B project: lstm-cybersecurity-fixed\n",
      "Epoch  1 | Loss: T=0.6506 V=0.6641 Gap=0.0134\n",
      "         | F1: T=0.5320 V=0.5346 | AUC: 0.1773\n",
      "         | Combined Performance: 0.4146\n",
      "    New best F1: 0.5346\n",
      "Epoch  2 | Loss: T=0.6496 V=0.6646 Gap=0.0150\n",
      "         | F1: T=0.6588 V=0.5346 | AUC: 0.3740\n",
      "         | Combined Performance: 0.5225\n",
      "Epoch  3 | Loss: T=0.6494 V=0.6647 Gap=0.0153\n",
      "         | F1: T=0.6858 V=0.5346 | AUC: 0.3778\n",
      "         | Combined Performance: 0.5327\n",
      "Epoch  4 | Loss: T=0.6493 V=0.6649 Gap=0.0156\n",
      "         | F1: T=0.7179 V=0.5346 | AUC: 0.5151\n",
      "         | Combined Performance: 0.5892\n",
      "Epoch  5 | Loss: T=0.6492 V=0.6650 Gap=0.0158\n",
      "         | F1: T=0.7179 V=0.5346 | AUC: 0.5000\n",
      "         | Combined Performance: 0.5842\n",
      "PERFORMANCE DECLINE DETECTED - stopping training\n",
      "Recent performance: [0.5891945347819451, 0.5841620522908665, 0.5841620522908665]\n",
      "Restored best model with F1: 0.5346\n"
     ]
    },
    {
     "data": {
      "text/html": [],
      "text/plain": [
       "<IPython.core.display.HTML object>"
      ]
     },
     "metadata": {},
     "output_type": "display_data"
    },
    {
     "data": {
      "text/html": [
       "<br>    <style><br>        .wandb-row {<br>            display: flex;<br>            flex-direction: row;<br>            flex-wrap: wrap;<br>            justify-content: flex-start;<br>            width: 100%;<br>        }<br>        .wandb-col {<br>            display: flex;<br>            flex-direction: column;<br>            flex-basis: 100%;<br>            flex: 1;<br>            padding: 10px;<br>        }<br>    </style><br><div class=\"wandb-row\"><div class=\"wandb-col\"><h3>Run history:</h3><br/><table class=\"wandb\"><tr><td>best_epoch</td><td>▁</td></tr><tr><td>best_model_saved</td><td>▁</td></tr><tr><td>best_val_f1</td><td>▁</td></tr><tr><td>combined_performance</td><td>▁▅▆██</td></tr><tr><td>data_summary/feature_dim</td><td>▁</td></tr><tr><td>data_summary/sequence_length</td><td>▁</td></tr><tr><td>decline_detected_epoch</td><td>▁</td></tr><tr><td>decline_stop</td><td>▁</td></tr><tr><td>epoch</td><td>▁▃▅▆█</td></tr><tr><td>gradients/avg_norm</td><td>█▅▂▁▁</td></tr><tr><td>+50</td><td>...</td></tr></table><br/></div><div class=\"wandb-col\"><h3>Run summary:</h3><br/><table class=\"wandb\"><tr><td>best_epoch</td><td>1</td></tr><tr><td>best_model_saved</td><td>1</td></tr><tr><td>best_val_f1</td><td>0.5346</td></tr><tr><td>combined_performance</td><td>0.58416</td></tr><tr><td>data_summary/feature_dim</td><td>50</td></tr><tr><td>data_summary/sequence_length</td><td>96</td></tr><tr><td>decline_detected_epoch</td><td>6</td></tr><tr><td>decline_stop</td><td>1</td></tr><tr><td>epoch</td><td>5</td></tr><tr><td>gradients/avg_norm</td><td>0.01305</td></tr><tr><td>+53</td><td>...</td></tr></table><br/></div></div>"
      ],
      "text/plain": [
       "<IPython.core.display.HTML object>"
      ]
     },
     "metadata": {},
     "output_type": "display_data"
    },
    {
     "data": {
      "text/html": [
       " View run <strong style=\"color:#cdcd00\">fixed_trial_9_h8_l9_bi0_att0</strong> at: <a href='https://wandb.ai/derelioglugokdeniz-bilkent-university/lstm-cybersecurity-fixed/runs/tk28s0ml' target=\"_blank\">https://wandb.ai/derelioglugokdeniz-bilkent-university/lstm-cybersecurity-fixed/runs/tk28s0ml</a><br> View project at: <a href='https://wandb.ai/derelioglugokdeniz-bilkent-university/lstm-cybersecurity-fixed' target=\"_blank\">https://wandb.ai/derelioglugokdeniz-bilkent-university/lstm-cybersecurity-fixed</a><br>Synced 5 W&B file(s), 0 media file(s), 0 artifact file(s) and 0 other file(s)"
      ],
      "text/plain": [
       "<IPython.core.display.HTML object>"
      ]
     },
     "metadata": {},
     "output_type": "display_data"
    },
    {
     "data": {
      "text/html": [
       "Find logs at: <code>.\\wandb\\run-20250901_145909-tk28s0ml\\logs</code>"
      ],
      "text/plain": [
       "<IPython.core.display.HTML object>"
      ]
     },
     "metadata": {},
     "output_type": "display_data"
    },
    {
     "name": "stdout",
     "output_type": "stream",
     "text": [
      "Trial 9: F1=0.5346, Decrease_penalty=4.9928, Gap_penalty=0.0320, Score=-4.4902\n"
     ]
    },
    {
     "name": "stderr",
     "output_type": "stream",
     "text": [
      "[I 2025-09-01 14:59:24,087] Trial 9 finished with value: -4.490217144416753 and parameters: {'hidden_dim': 8, 'num_layers': 9, 'dropout': 0.47865595127671495, 'use_attention': False, 'bidirectional': False, 'sequence_length': 96, 'lr': 0.00011729726918091112, 'batch_size': 128, 'l2_reg': 0.0006004768187452731, 'gradient_clip': 4.284662042701847, 'l1_reg': 4.684012712629877e-08, 'early_stopping_patience': 50, 'min_delta': 0.00039747908046585843}. Best is trial 0 with value: -1.2544879968650635.\n"
     ]
    },
    {
     "name": "stdout",
     "output_type": "stream",
     "text": [
      "\n",
      "FIXED Trial #10\n",
      "=== FIXED Data Preprocessing ===\n",
      "After cleaning - Train: 13675, Val: 7264, Test: 7264\n",
      "Class balance - Train: 0.560, Val: 0.365\n",
      "Calculated pos_weight: 0.89\n"
     ]
    },
    {
     "data": {
      "text/html": [
       "Changes to your `wandb` environment variables will be ignored because your `wandb` session has already started. For more information on how to modify your settings with `wandb.init()` arguments, please refer to <a href='https://wandb.me/wandb-init' target=\"_blank\">the W&B docs</a>."
      ],
      "text/plain": [
       "<IPython.core.display.HTML object>"
      ]
     },
     "metadata": {},
     "output_type": "display_data"
    },
    {
     "data": {
      "text/html": [
       "creating run (0.1s)"
      ],
      "text/plain": [
       "<IPython.core.display.HTML object>"
      ]
     },
     "metadata": {},
     "output_type": "display_data"
    },
    {
     "data": {
      "text/html": [
       "Tracking run with wandb version 0.21.2"
      ],
      "text/plain": [
       "<IPython.core.display.HTML object>"
      ]
     },
     "metadata": {},
     "output_type": "display_data"
    },
    {
     "data": {
      "text/html": [
       "Run data is saved locally in <code>c:\\Users\\gokde\\OneDrive\\Masaüstü\\Anomaly-Detection-and-Network-Optimization-in-SDNs\\real_project\\wandb\\run-20250901_145926-gj7z5vjk</code>"
      ],
      "text/plain": [
       "<IPython.core.display.HTML object>"
      ]
     },
     "metadata": {},
     "output_type": "display_data"
    },
    {
     "data": {
      "text/html": [
       "Syncing run <strong><a href='https://wandb.ai/derelioglugokdeniz-bilkent-university/lstm-cybersecurity-fixed/runs/gj7z5vjk' target=\"_blank\">fixed_trial_10_h4_l1_bi1_att0</a></strong> to <a href='https://wandb.ai/derelioglugokdeniz-bilkent-university/lstm-cybersecurity-fixed' target=\"_blank\">Weights & Biases</a> (<a href='https://wandb.me/developer-guide' target=\"_blank\">docs</a>)<br>"
      ],
      "text/plain": [
       "<IPython.core.display.HTML object>"
      ]
     },
     "metadata": {},
     "output_type": "display_data"
    },
    {
     "data": {
      "text/html": [
       " View project at <a href='https://wandb.ai/derelioglugokdeniz-bilkent-university/lstm-cybersecurity-fixed' target=\"_blank\">https://wandb.ai/derelioglugokdeniz-bilkent-university/lstm-cybersecurity-fixed</a>"
      ],
      "text/plain": [
       "<IPython.core.display.HTML object>"
      ]
     },
     "metadata": {},
     "output_type": "display_data"
    },
    {
     "data": {
      "text/html": [
       " View run at <a href='https://wandb.ai/derelioglugokdeniz-bilkent-university/lstm-cybersecurity-fixed/runs/gj7z5vjk' target=\"_blank\">https://wandb.ai/derelioglugokdeniz-bilkent-university/lstm-cybersecurity-fixed/runs/gj7z5vjk</a>"
      ],
      "text/plain": [
       "<IPython.core.display.HTML object>"
      ]
     },
     "metadata": {},
     "output_type": "display_data"
    },
    {
     "name": "stdout",
     "output_type": "stream",
     "text": [
      "Training with FIXED approach - monitoring for declining performance\n",
      "All hyperparameters logged to W&B project: lstm-cybersecurity-fixed\n",
      "Epoch  1 | Loss: T=0.3336 V=0.5326 Gap=0.1990\n",
      "         | F1: T=0.8834 V=0.8101 | AUC: 0.8821\n",
      "         | Combined Performance: 0.8585\n",
      "    New best F1: 0.8101\n",
      "Epoch  2 | Loss: T=0.1113 V=0.7012 Gap=0.5899\n",
      "         | F1: T=0.9682 V=0.8352 | AUC: 0.8583\n",
      "         | Combined Performance: 0.8872\n",
      "    New best F1: 0.8352\n",
      "Epoch  3 | Loss: T=0.0891 V=0.7965 Gap=0.7074\n",
      "         | F1: T=0.9768 V=0.8405 | AUC: 0.8556\n",
      "         | Combined Performance: 0.8910\n",
      "    New best F1: 0.8405\n",
      "Epoch  4 | Loss: T=0.0807 V=0.8659 Gap=0.7852\n",
      "         | F1: T=0.9792 V=0.8409 | AUC: 0.8560\n",
      "         | Combined Performance: 0.8920\n",
      "    New best F1: 0.8409\n",
      "Epoch  5 | Loss: T=0.0762 V=0.9171 Gap=0.8409\n",
      "         | F1: T=0.9811 V=0.8392 | AUC: 0.8576\n",
      "         | Combined Performance: 0.8927\n",
      "Epoch  6 | Loss: T=0.0723 V=1.0145 Gap=0.9421\n",
      "         | F1: T=0.9823 V=0.8383 | AUC: 0.8583\n",
      "         | Combined Performance: 0.8930\n",
      "Epoch  7 | Loss: T=0.0712 V=1.0109 Gap=0.9397\n",
      "         | F1: T=0.9823 V=0.8383 | AUC: 0.8655\n",
      "         | Combined Performance: 0.8954\n",
      "Epoch  8 | Loss: T=0.0667 V=1.1064 Gap=1.0397\n",
      "         | F1: T=0.9838 V=0.8407 | AUC: 0.8726\n",
      "         | Combined Performance: 0.8990\n",
      "Epoch  9 | Loss: T=0.0650 V=1.2067 Gap=1.1417\n",
      "         | F1: T=0.9843 V=0.8366 | AUC: 0.8702\n",
      "         | Combined Performance: 0.8970\n",
      "Epoch 10 | Loss: T=0.0617 V=1.2580 Gap=1.1963\n",
      "         | F1: T=0.9851 V=0.8393 | AUC: 0.8688\n",
      "         | Combined Performance: 0.8977\n",
      "Epoch 11 | Loss: T=0.0606 V=1.3472 Gap=1.2867\n",
      "         | F1: T=0.9850 V=0.8348 | AUC: 0.8681\n",
      "         | Combined Performance: 0.8960\n",
      "Epoch 12 | Loss: T=0.0601 V=1.3276 Gap=1.2675\n",
      "         | F1: T=0.9859 V=0.8389 | AUC: 0.8710\n",
      "         | Combined Performance: 0.8986\n",
      "Epoch 13 | Loss: T=0.0594 V=1.3347 Gap=1.2753\n",
      "         | F1: T=0.9864 V=0.8389 | AUC: 0.8702\n",
      "         | Combined Performance: 0.8985\n",
      "PERFORMANCE DECLINE DETECTED - stopping training\n",
      "Recent performance: [0.8985811038552914, 0.8985030614264296, 0.8979494263105751]\n",
      "Restored best model with F1: 0.8409\n"
     ]
    },
    {
     "data": {
      "text/html": [],
      "text/plain": [
       "<IPython.core.display.HTML object>"
      ]
     },
     "metadata": {},
     "output_type": "display_data"
    },
    {
     "data": {
      "text/html": [
       "<br>    <style><br>        .wandb-row {<br>            display: flex;<br>            flex-direction: row;<br>            flex-wrap: wrap;<br>            justify-content: flex-start;<br>            width: 100%;<br>        }<br>        .wandb-col {<br>            display: flex;<br>            flex-direction: column;<br>            flex-basis: 100%;<br>            flex: 1;<br>            padding: 10px;<br>        }<br>    </style><br><div class=\"wandb-row\"><div class=\"wandb-col\"><h3>Run history:</h3><br/><table class=\"wandb\"><tr><td>best_epoch</td><td>▁▃▆█</td></tr><tr><td>best_model_saved</td><td>▁▁▁▁</td></tr><tr><td>best_val_f1</td><td>▁▇██</td></tr><tr><td>combined_performance</td><td>▁▆▇▇▇▇▇███▇██</td></tr><tr><td>data_summary/feature_dim</td><td>▁</td></tr><tr><td>data_summary/sequence_length</td><td>▁</td></tr><tr><td>decline_detected_epoch</td><td>▁</td></tr><tr><td>decline_stop</td><td>▁</td></tr><tr><td>epoch</td><td>▁▂▂▃▃▄▅▅▆▆▇▇█</td></tr><tr><td>gradients/avg_norm</td><td>█▄▅▁▄▁▁▄▁▃▁▁▁</td></tr><tr><td>+50</td><td>...</td></tr></table><br/></div><div class=\"wandb-col\"><h3>Run summary:</h3><br/><table class=\"wandb\"><tr><td>best_epoch</td><td>4</td></tr><tr><td>best_model_saved</td><td>1</td></tr><tr><td>best_val_f1</td><td>0.84091</td></tr><tr><td>combined_performance</td><td>0.8985</td></tr><tr><td>data_summary/feature_dim</td><td>50</td></tr><tr><td>data_summary/sequence_length</td><td>128</td></tr><tr><td>decline_detected_epoch</td><td>14</td></tr><tr><td>decline_stop</td><td>1</td></tr><tr><td>epoch</td><td>13</td></tr><tr><td>gradients/avg_norm</td><td>0.00149</td></tr><tr><td>+53</td><td>...</td></tr></table><br/></div></div>"
      ],
      "text/plain": [
       "<IPython.core.display.HTML object>"
      ]
     },
     "metadata": {},
     "output_type": "display_data"
    },
    {
     "data": {
      "text/html": [
       " View run <strong style=\"color:#cdcd00\">fixed_trial_10_h4_l1_bi1_att0</strong> at: <a href='https://wandb.ai/derelioglugokdeniz-bilkent-university/lstm-cybersecurity-fixed/runs/gj7z5vjk' target=\"_blank\">https://wandb.ai/derelioglugokdeniz-bilkent-university/lstm-cybersecurity-fixed/runs/gj7z5vjk</a><br> View project at: <a href='https://wandb.ai/derelioglugokdeniz-bilkent-university/lstm-cybersecurity-fixed' target=\"_blank\">https://wandb.ai/derelioglugokdeniz-bilkent-university/lstm-cybersecurity-fixed</a><br>Synced 5 W&B file(s), 0 media file(s), 0 artifact file(s) and 0 other file(s)"
      ],
      "text/plain": [
       "<IPython.core.display.HTML object>"
      ]
     },
     "metadata": {},
     "output_type": "display_data"
    },
    {
     "data": {
      "text/html": [
       "Find logs at: <code>.\\wandb\\run-20250901_145926-gj7z5vjk\\logs</code>"
      ],
      "text/plain": [
       "<IPython.core.display.HTML object>"
      ]
     },
     "metadata": {},
     "output_type": "display_data"
    },
    {
     "name": "stdout",
     "output_type": "stream",
     "text": [
      "Trial 10: F1=0.8409, Decrease_penalty=3.6185, Gap_penalty=2.4864, Score=-5.2640\n"
     ]
    },
    {
     "name": "stderr",
     "output_type": "stream",
     "text": [
      "[I 2025-09-01 15:00:59,428] Trial 10 finished with value: -5.264049695931092 and parameters: {'hidden_dim': 4, 'num_layers': 1, 'dropout': 0.060381431114513995, 'use_attention': False, 'bidirectional': True, 'sequence_length': 128, 'lr': 0.00046823168701604317, 'batch_size': 16, 'l2_reg': 1.4043535902876375e-05, 'gradient_clip': 2.9442400071494195, 'l1_reg': 2.6752506397619974e-06, 'early_stopping_patience': 40, 'min_delta': 1.2275661554031075e-06}. Best is trial 0 with value: -1.2544879968650635.\n"
     ]
    },
    {
     "name": "stdout",
     "output_type": "stream",
     "text": [
      "\n",
      "FIXED Trial #11\n",
      "=== FIXED Data Preprocessing ===\n",
      "After cleaning - Train: 13675, Val: 7264, Test: 7264\n",
      "Class balance - Train: 0.560, Val: 0.365\n",
      "Calculated pos_weight: 0.89\n"
     ]
    },
    {
     "data": {
      "text/html": [
       "Changes to your `wandb` environment variables will be ignored because your `wandb` session has already started. For more information on how to modify your settings with `wandb.init()` arguments, please refer to <a href='https://wandb.me/wandb-init' target=\"_blank\">the W&B docs</a>."
      ],
      "text/plain": [
       "<IPython.core.display.HTML object>"
      ]
     },
     "metadata": {},
     "output_type": "display_data"
    },
    {
     "data": {
      "text/html": [
       "creating run (0.2s)"
      ],
      "text/plain": [
       "<IPython.core.display.HTML object>"
      ]
     },
     "metadata": {},
     "output_type": "display_data"
    },
    {
     "data": {
      "text/html": [
       "Tracking run with wandb version 0.21.2"
      ],
      "text/plain": [
       "<IPython.core.display.HTML object>"
      ]
     },
     "metadata": {},
     "output_type": "display_data"
    },
    {
     "data": {
      "text/html": [
       "Run data is saved locally in <code>c:\\Users\\gokde\\OneDrive\\Masaüstü\\Anomaly-Detection-and-Network-Optimization-in-SDNs\\real_project\\wandb\\run-20250901_150100-dt5w3m5d</code>"
      ],
      "text/plain": [
       "<IPython.core.display.HTML object>"
      ]
     },
     "metadata": {},
     "output_type": "display_data"
    },
    {
     "data": {
      "text/html": [
       "Syncing run <strong><a href='https://wandb.ai/derelioglugokdeniz-bilkent-university/lstm-cybersecurity-fixed/runs/dt5w3m5d' target=\"_blank\">fixed_trial_11_h4_l5_bi1_att1</a></strong> to <a href='https://wandb.ai/derelioglugokdeniz-bilkent-university/lstm-cybersecurity-fixed' target=\"_blank\">Weights & Biases</a> (<a href='https://wandb.me/developer-guide' target=\"_blank\">docs</a>)<br>"
      ],
      "text/plain": [
       "<IPython.core.display.HTML object>"
      ]
     },
     "metadata": {},
     "output_type": "display_data"
    },
    {
     "data": {
      "text/html": [
       " View project at <a href='https://wandb.ai/derelioglugokdeniz-bilkent-university/lstm-cybersecurity-fixed' target=\"_blank\">https://wandb.ai/derelioglugokdeniz-bilkent-university/lstm-cybersecurity-fixed</a>"
      ],
      "text/plain": [
       "<IPython.core.display.HTML object>"
      ]
     },
     "metadata": {},
     "output_type": "display_data"
    },
    {
     "data": {
      "text/html": [
       " View run at <a href='https://wandb.ai/derelioglugokdeniz-bilkent-university/lstm-cybersecurity-fixed/runs/dt5w3m5d' target=\"_blank\">https://wandb.ai/derelioglugokdeniz-bilkent-university/lstm-cybersecurity-fixed/runs/dt5w3m5d</a>"
      ],
      "text/plain": [
       "<IPython.core.display.HTML object>"
      ]
     },
     "metadata": {},
     "output_type": "display_data"
    },
    {
     "name": "stdout",
     "output_type": "stream",
     "text": [
      "Training with FIXED approach - monitoring for declining performance\n",
      "All hyperparameters logged to W&B project: lstm-cybersecurity-fixed\n",
      "Epoch  1 | Loss: T=0.6486 V=0.6585 Gap=0.0100\n",
      "         | F1: T=0.6347 V=0.5346 | AUC: 0.8304\n",
      "         | Combined Performance: 0.6666\n",
      "    New best F1: 0.5346\n",
      "Epoch  2 | Loss: T=0.6471 V=0.6580 Gap=0.0108\n",
      "         | F1: T=0.7263 V=0.5462 | AUC: 0.8537\n",
      "         | Combined Performance: 0.7088\n",
      "    New best F1: 0.5462\n",
      "Epoch  3 | Loss: T=0.6459 V=0.6566 Gap=0.0107\n",
      "         | F1: T=0.7629 V=0.6852 | AUC: 0.8662\n",
      "         | Combined Performance: 0.7715\n",
      "    New best F1: 0.6852\n",
      "Epoch  4 | Loss: T=0.6440 V=0.6542 Gap=0.0102\n",
      "         | F1: T=0.8417 V=0.8088 | AUC: 0.8851\n",
      "         | Combined Performance: 0.8452\n",
      "    New best F1: 0.8088\n",
      "Epoch  5 | Loss: T=0.6414 V=0.6513 Gap=0.0099\n",
      "         | F1: T=0.8765 V=0.8278 | AUC: 0.8932\n",
      "         | Combined Performance: 0.8658\n",
      "    New best F1: 0.8278\n",
      "Epoch  6 | Loss: T=0.6378 V=0.6472 Gap=0.0094\n",
      "         | F1: T=0.8805 V=0.8350 | AUC: 0.8962\n",
      "         | Combined Performance: 0.8706\n",
      "    New best F1: 0.8350\n",
      "Epoch  7 | Loss: T=0.6325 V=0.6413 Gap=0.0088\n",
      "         | F1: T=0.8871 V=0.8393 | AUC: 0.8994\n",
      "         | Combined Performance: 0.8753\n",
      "    New best F1: 0.8393\n",
      "Epoch  8 | Loss: T=0.6243 V=0.6327 Gap=0.0084\n",
      "         | F1: T=0.9052 V=0.8413 | AUC: 0.9067\n",
      "         | Combined Performance: 0.8844\n",
      "    New best F1: 0.8413\n",
      "Epoch  9 | Loss: T=0.6124 V=0.6205 Gap=0.0081\n",
      "         | F1: T=0.9313 V=0.8431 | AUC: 0.9151\n",
      "         | Combined Performance: 0.8965\n",
      "    New best F1: 0.8431\n",
      "Epoch 10 | Loss: T=0.5954 V=0.6037 Gap=0.0083\n",
      "         | F1: T=0.9468 V=0.8443 | AUC: 0.9200\n",
      "         | Combined Performance: 0.9037\n",
      "    New best F1: 0.8443\n",
      "Epoch 11 | Loss: T=0.5711 V=0.5827 Gap=0.0117\n",
      "         | F1: T=0.9599 V=0.8449 | AUC: 0.9227\n",
      "         | Combined Performance: 0.9092\n",
      "    New best F1: 0.8449\n",
      "Epoch 12 | Loss: T=0.5391 V=0.5584 Gap=0.0194\n",
      "         | F1: T=0.9683 V=0.8455 | AUC: 0.9243\n",
      "         | Combined Performance: 0.9127\n",
      "    New best F1: 0.8455\n",
      "Epoch 13 | Loss: T=0.5015 V=0.5318 Gap=0.0304\n",
      "         | F1: T=0.9739 V=0.8464 | AUC: 0.9247\n",
      "         | Combined Performance: 0.9150\n",
      "    New best F1: 0.8464\n",
      "Epoch 14 | Loss: T=0.4576 V=0.5057 Gap=0.0481\n",
      "         | F1: T=0.9776 V=0.8470 | AUC: 0.9246\n",
      "         | Combined Performance: 0.9164\n",
      "    New best F1: 0.8470\n",
      "Epoch 15 | Loss: T=0.4127 V=0.4828 Gap=0.0701\n",
      "         | F1: T=0.9794 V=0.8474 | AUC: 0.9241\n",
      "         | Combined Performance: 0.9170\n",
      "    New best F1: 0.8474\n",
      "Epoch 16 | Loss: T=0.3679 V=0.4650 Gap=0.0971\n",
      "         | F1: T=0.9812 V=0.8474 | AUC: 0.9270\n",
      "         | Combined Performance: 0.9186\n",
      "Epoch 17 | Loss: T=0.3267 V=0.4534 Gap=0.1267\n",
      "         | F1: T=0.9816 V=0.8479 | AUC: 0.9304\n",
      "         | Combined Performance: 0.9200\n",
      "    New best F1: 0.8479\n",
      "Epoch 18 | Loss: T=0.2904 V=0.4480 Gap=0.1576\n",
      "         | F1: T=0.9830 V=0.8477 | AUC: 0.9323\n",
      "         | Combined Performance: 0.9210\n",
      "Epoch 19 | Loss: T=0.2581 V=0.4463 Gap=0.1881\n",
      "         | F1: T=0.9836 V=0.8482 | AUC: 0.9349\n",
      "         | Combined Performance: 0.9222\n",
      "    New best F1: 0.8482\n",
      "Epoch 20 | Loss: T=0.2322 V=0.4481 Gap=0.2159\n",
      "         | F1: T=0.9842 V=0.8480 | AUC: 0.9355\n",
      "         | Combined Performance: 0.9225\n",
      "Epoch 21 | Loss: T=0.2096 V=0.4514 Gap=0.2418\n",
      "         | F1: T=0.9844 V=0.8477 | AUC: 0.9353\n",
      "         | Combined Performance: 0.9225\n",
      "PERFORMANCE DECLINE DETECTED - stopping training\n",
      "Recent performance: [0.9225431722594376, 0.9224959062633022, 0.9218370029040841]\n",
      "Restored best model with F1: 0.8482\n"
     ]
    },
    {
     "data": {
      "text/html": [],
      "text/plain": [
       "<IPython.core.display.HTML object>"
      ]
     },
     "metadata": {},
     "output_type": "display_data"
    },
    {
     "data": {
      "text/html": [
       "<br>    <style><br>        .wandb-row {<br>            display: flex;<br>            flex-direction: row;<br>            flex-wrap: wrap;<br>            justify-content: flex-start;<br>            width: 100%;<br>        }<br>        .wandb-col {<br>            display: flex;<br>            flex-direction: column;<br>            flex-basis: 100%;<br>            flex: 1;<br>            padding: 10px;<br>        }<br>    </style><br><div class=\"wandb-row\"><div class=\"wandb-col\"><h3>Run history:</h3><br/><table class=\"wandb\"><tr><td>best_epoch</td><td>▁▁▂▂▃▃▃▄▄▅▅▅▆▆▆▇█</td></tr><tr><td>best_model_saved</td><td>▁▁▁▁▁▁▁▁▁▁▁▁▁▁▁▁▁</td></tr><tr><td>best_val_f1</td><td>▁▁▄▇█████████████</td></tr><tr><td>combined_performance</td><td>▁▂▄▆▆▇▇▇▇▇███████████</td></tr><tr><td>data_summary/feature_dim</td><td>▁</td></tr><tr><td>data_summary/sequence_length</td><td>▁</td></tr><tr><td>decline_detected_epoch</td><td>▁</td></tr><tr><td>decline_stop</td><td>▁</td></tr><tr><td>epoch</td><td>▁▁▂▂▂▃▃▃▄▄▅▅▅▆▆▆▇▇▇██</td></tr><tr><td>gradients/avg_norm</td><td>▁▂▂▃▃▃▃▅▆▇████▇▅▄▃▃▂▁</td></tr><tr><td>+50</td><td>...</td></tr></table><br/></div><div class=\"wandb-col\"><h3>Run summary:</h3><br/><table class=\"wandb\"><tr><td>best_epoch</td><td>19</td></tr><tr><td>best_model_saved</td><td>1</td></tr><tr><td>best_val_f1</td><td>0.84823</td></tr><tr><td>combined_performance</td><td>0.9225</td></tr><tr><td>data_summary/feature_dim</td><td>50</td></tr><tr><td>data_summary/sequence_length</td><td>48</td></tr><tr><td>decline_detected_epoch</td><td>22</td></tr><tr><td>decline_stop</td><td>1</td></tr><tr><td>epoch</td><td>21</td></tr><tr><td>gradients/avg_norm</td><td>0.02094</td></tr><tr><td>+53</td><td>...</td></tr></table><br/></div></div>"
      ],
      "text/plain": [
       "<IPython.core.display.HTML object>"
      ]
     },
     "metadata": {},
     "output_type": "display_data"
    },
    {
     "data": {
      "text/html": [
       " View run <strong style=\"color:#cdcd00\">fixed_trial_11_h4_l5_bi1_att1</strong> at: <a href='https://wandb.ai/derelioglugokdeniz-bilkent-university/lstm-cybersecurity-fixed/runs/dt5w3m5d' target=\"_blank\">https://wandb.ai/derelioglugokdeniz-bilkent-university/lstm-cybersecurity-fixed/runs/dt5w3m5d</a><br> View project at: <a href='https://wandb.ai/derelioglugokdeniz-bilkent-university/lstm-cybersecurity-fixed' target=\"_blank\">https://wandb.ai/derelioglugokdeniz-bilkent-university/lstm-cybersecurity-fixed</a><br>Synced 5 W&B file(s), 0 media file(s), 0 artifact file(s) and 0 other file(s)"
      ],
      "text/plain": [
       "<IPython.core.display.HTML object>"
      ]
     },
     "metadata": {},
     "output_type": "display_data"
    },
    {
     "data": {
      "text/html": [
       "Find logs at: <code>.\\wandb\\run-20250901_150100-dt5w3m5d\\logs</code>"
      ],
      "text/plain": [
       "<IPython.core.display.HTML object>"
      ]
     },
     "metadata": {},
     "output_type": "display_data"
    },
    {
     "name": "stdout",
     "output_type": "stream",
     "text": [
      "Trial 11: F1=0.8482, Decrease_penalty=1.6929, Gap_penalty=0.5356, Score=-1.3803\n"
     ]
    },
    {
     "name": "stderr",
     "output_type": "stream",
     "text": [
      "[I 2025-09-01 15:01:13,234] Trial 11 finished with value: -1.380266143793531 and parameters: {'hidden_dim': 4, 'num_layers': 5, 'dropout': 0.27132338010152324, 'use_attention': True, 'bidirectional': True, 'sequence_length': 48, 'lr': 0.000331680665289538, 'batch_size': 1024, 'l2_reg': 3.433400105649509e-05, 'gradient_clip': 7.320665243284988, 'l1_reg': 1.4758582133388554e-06, 'early_stopping_patience': 30, 'min_delta': 2.07439856912824e-05}. Best is trial 0 with value: -1.2544879968650635.\n"
     ]
    },
    {
     "name": "stdout",
     "output_type": "stream",
     "text": [
      "\n",
      "FIXED Trial #12\n",
      "=== FIXED Data Preprocessing ===\n",
      "After cleaning - Train: 13675, Val: 7264, Test: 7264\n",
      "Class balance - Train: 0.560, Val: 0.365\n",
      "Calculated pos_weight: 0.89\n"
     ]
    },
    {
     "data": {
      "text/html": [
       "Changes to your `wandb` environment variables will be ignored because your `wandb` session has already started. For more information on how to modify your settings with `wandb.init()` arguments, please refer to <a href='https://wandb.me/wandb-init' target=\"_blank\">the W&B docs</a>."
      ],
      "text/plain": [
       "<IPython.core.display.HTML object>"
      ]
     },
     "metadata": {},
     "output_type": "display_data"
    },
    {
     "data": {
      "text/html": [
       "creating run (0.2s)"
      ],
      "text/plain": [
       "<IPython.core.display.HTML object>"
      ]
     },
     "metadata": {},
     "output_type": "display_data"
    },
    {
     "data": {
      "text/html": [
       "Tracking run with wandb version 0.21.2"
      ],
      "text/plain": [
       "<IPython.core.display.HTML object>"
      ]
     },
     "metadata": {},
     "output_type": "display_data"
    },
    {
     "data": {
      "text/html": [
       "Run data is saved locally in <code>c:\\Users\\gokde\\OneDrive\\Masaüstü\\Anomaly-Detection-and-Network-Optimization-in-SDNs\\real_project\\wandb\\run-20250901_150117-0mvrbssn</code>"
      ],
      "text/plain": [
       "<IPython.core.display.HTML object>"
      ]
     },
     "metadata": {},
     "output_type": "display_data"
    },
    {
     "data": {
      "text/html": [
       "Syncing run <strong><a href='https://wandb.ai/derelioglugokdeniz-bilkent-university/lstm-cybersecurity-fixed/runs/0mvrbssn' target=\"_blank\">fixed_trial_12_h4_l5_bi1_att1</a></strong> to <a href='https://wandb.ai/derelioglugokdeniz-bilkent-university/lstm-cybersecurity-fixed' target=\"_blank\">Weights & Biases</a> (<a href='https://wandb.me/developer-guide' target=\"_blank\">docs</a>)<br>"
      ],
      "text/plain": [
       "<IPython.core.display.HTML object>"
      ]
     },
     "metadata": {},
     "output_type": "display_data"
    },
    {
     "data": {
      "text/html": [
       " View project at <a href='https://wandb.ai/derelioglugokdeniz-bilkent-university/lstm-cybersecurity-fixed' target=\"_blank\">https://wandb.ai/derelioglugokdeniz-bilkent-university/lstm-cybersecurity-fixed</a>"
      ],
      "text/plain": [
       "<IPython.core.display.HTML object>"
      ]
     },
     "metadata": {},
     "output_type": "display_data"
    },
    {
     "data": {
      "text/html": [
       " View run at <a href='https://wandb.ai/derelioglugokdeniz-bilkent-university/lstm-cybersecurity-fixed/runs/0mvrbssn' target=\"_blank\">https://wandb.ai/derelioglugokdeniz-bilkent-university/lstm-cybersecurity-fixed/runs/0mvrbssn</a>"
      ],
      "text/plain": [
       "<IPython.core.display.HTML object>"
      ]
     },
     "metadata": {},
     "output_type": "display_data"
    },
    {
     "name": "stdout",
     "output_type": "stream",
     "text": [
      "Training with FIXED approach - monitoring for declining performance\n",
      "All hyperparameters logged to W&B project: lstm-cybersecurity-fixed\n",
      "Epoch  1 | Loss: T=0.6494 V=0.6592 Gap=0.0097\n",
      "         | F1: T=0.7135 V=0.5346 | AUC: 0.5807\n",
      "         | Combined Performance: 0.6096\n",
      "    New best F1: 0.5346\n",
      "Epoch  2 | Loss: T=0.6483 V=0.6591 Gap=0.0108\n",
      "         | F1: T=0.7179 V=0.5346 | AUC: 0.6051\n",
      "         | Combined Performance: 0.6192\n",
      "Epoch  3 | Loss: T=0.6478 V=0.6590 Gap=0.0112\n",
      "         | F1: T=0.7179 V=0.5346 | AUC: 0.6481\n",
      "         | Combined Performance: 0.6335\n",
      "Epoch  4 | Loss: T=0.6471 V=0.6588 Gap=0.0116\n",
      "         | F1: T=0.7179 V=0.5346 | AUC: 0.6920\n",
      "         | Combined Performance: 0.6482\n",
      "Epoch  5 | Loss: T=0.6464 V=0.6584 Gap=0.0120\n",
      "         | F1: T=0.7179 V=0.5346 | AUC: 0.7429\n",
      "         | Combined Performance: 0.6651\n",
      "Epoch  6 | Loss: T=0.6453 V=0.6577 Gap=0.0124\n",
      "         | F1: T=0.7179 V=0.5346 | AUC: 0.7879\n",
      "         | Combined Performance: 0.6801\n",
      "Epoch  7 | Loss: T=0.6439 V=0.6566 Gap=0.0127\n",
      "         | F1: T=0.7179 V=0.5346 | AUC: 0.8179\n",
      "         | Combined Performance: 0.6901\n",
      "Epoch  8 | Loss: T=0.6420 V=0.6550 Gap=0.0130\n",
      "         | F1: T=0.7179 V=0.5346 | AUC: 0.8375\n",
      "         | Combined Performance: 0.6967\n",
      "Epoch  9 | Loss: T=0.6393 V=0.6527 Gap=0.0134\n",
      "         | F1: T=0.7179 V=0.5346 | AUC: 0.8576\n",
      "         | Combined Performance: 0.7034\n",
      "Epoch 10 | Loss: T=0.6356 V=0.6495 Gap=0.0139\n",
      "         | F1: T=0.7179 V=0.5346 | AUC: 0.8713\n",
      "         | Combined Performance: 0.7079\n",
      "Epoch 11 | Loss: T=0.6300 V=0.6449 Gap=0.0149\n",
      "         | F1: T=0.7195 V=0.5346 | AUC: 0.8844\n",
      "         | Combined Performance: 0.7128\n",
      "Error in training: \n"
     ]
    },
    {
     "data": {
      "text/html": [],
      "text/plain": [
       "<IPython.core.display.HTML object>"
      ]
     },
     "metadata": {},
     "output_type": "display_data"
    },
    {
     "data": {
      "text/html": [
       "<br>    <style><br>        .wandb-row {<br>            display: flex;<br>            flex-direction: row;<br>            flex-wrap: wrap;<br>            justify-content: flex-start;<br>            width: 100%;<br>        }<br>        .wandb-col {<br>            display: flex;<br>            flex-direction: column;<br>            flex-basis: 100%;<br>            flex: 1;<br>            padding: 10px;<br>        }<br>    </style><br><div class=\"wandb-row\"><div class=\"wandb-col\"><h3>Run history:</h3><br/><table class=\"wandb\"><tr><td>best_epoch</td><td>▁</td></tr><tr><td>best_model_saved</td><td>▁</td></tr><tr><td>best_val_f1</td><td>▁</td></tr><tr><td>combined_performance</td><td>▁▂▃▄▅▆▆▇▇██</td></tr><tr><td>data_summary/feature_dim</td><td>▁</td></tr><tr><td>data_summary/sequence_length</td><td>▁</td></tr><tr><td>epoch</td><td>▁▂▂▃▄▅▅▆▇▇█</td></tr><tr><td>gradients/avg_norm</td><td>▁▁▂▂▃▃▄▅▆▇█</td></tr><tr><td>gradients/clipping_threshold</td><td>▁▁▁▁▁▁▁▁▁▁▁</td></tr><tr><td>gradients/max_norm</td><td>██▇▇▆▆▅▅▄▃▁</td></tr><tr><td>+44</td><td>...</td></tr></table><br/></div><div class=\"wandb-col\"><h3>Run summary:</h3><br/><table class=\"wandb\"><tr><td>best_epoch</td><td>1</td></tr><tr><td>best_model_saved</td><td>1</td></tr><tr><td>best_val_f1</td><td>0.5346</td></tr><tr><td>combined_performance</td><td>0.71281</td></tr><tr><td>data_summary/feature_dim</td><td>50</td></tr><tr><td>data_summary/sequence_length</td><td>192</td></tr><tr><td>epoch</td><td>11</td></tr><tr><td>gradients/avg_norm</td><td>0.06168</td></tr><tr><td>gradients/clipping_threshold</td><td>8.10552</td></tr><tr><td>gradients/max_norm</td><td>0.41114</td></tr><tr><td>+48</td><td>...</td></tr></table><br/></div></div>"
      ],
      "text/plain": [
       "<IPython.core.display.HTML object>"
      ]
     },
     "metadata": {},
     "output_type": "display_data"
    },
    {
     "data": {
      "text/html": [
       " View run <strong style=\"color:#cdcd00\">fixed_trial_12_h4_l5_bi1_att1</strong> at: <a href='https://wandb.ai/derelioglugokdeniz-bilkent-university/lstm-cybersecurity-fixed/runs/0mvrbssn' target=\"_blank\">https://wandb.ai/derelioglugokdeniz-bilkent-university/lstm-cybersecurity-fixed/runs/0mvrbssn</a><br> View project at: <a href='https://wandb.ai/derelioglugokdeniz-bilkent-university/lstm-cybersecurity-fixed' target=\"_blank\">https://wandb.ai/derelioglugokdeniz-bilkent-university/lstm-cybersecurity-fixed</a><br>Synced 5 W&B file(s), 0 media file(s), 0 artifact file(s) and 0 other file(s)"
      ],
      "text/plain": [
       "<IPython.core.display.HTML object>"
      ]
     },
     "metadata": {},
     "output_type": "display_data"
    },
    {
     "data": {
      "text/html": [
       "Find logs at: <code>.\\wandb\\run-20250901_150117-0mvrbssn\\logs</code>"
      ],
      "text/plain": [
       "<IPython.core.display.HTML object>"
      ]
     },
     "metadata": {},
     "output_type": "display_data"
    },
    {
     "name": "stderr",
     "output_type": "stream",
     "text": [
      "[I 2025-09-01 15:01:28,239] Trial 12 pruned. \n"
     ]
    },
    {
     "name": "stdout",
     "output_type": "stream",
     "text": [
      "\n",
      "FIXED Trial #13\n",
      "=== FIXED Data Preprocessing ===\n",
      "After cleaning - Train: 13675, Val: 7264, Test: 7264\n",
      "Class balance - Train: 0.560, Val: 0.365\n",
      "Calculated pos_weight: 0.89\n"
     ]
    },
    {
     "data": {
      "text/html": [
       "Changes to your `wandb` environment variables will be ignored because your `wandb` session has already started. For more information on how to modify your settings with `wandb.init()` arguments, please refer to <a href='https://wandb.me/wandb-init' target=\"_blank\">the W&B docs</a>."
      ],
      "text/plain": [
       "<IPython.core.display.HTML object>"
      ]
     },
     "metadata": {},
     "output_type": "display_data"
    },
    {
     "data": {
      "text/html": [
       "Waiting for wandb.init()..."
      ],
      "text/plain": [
       "<IPython.core.display.HTML object>"
      ]
     },
     "metadata": {},
     "output_type": "display_data"
    },
    {
     "data": {
      "text/html": [
       "Tracking run with wandb version 0.21.2"
      ],
      "text/plain": [
       "<IPython.core.display.HTML object>"
      ]
     },
     "metadata": {},
     "output_type": "display_data"
    },
    {
     "data": {
      "text/html": [
       "Run data is saved locally in <code>c:\\Users\\gokde\\OneDrive\\Masaüstü\\Anomaly-Detection-and-Network-Optimization-in-SDNs\\real_project\\wandb\\run-20250901_150129-ql4iimvx</code>"
      ],
      "text/plain": [
       "<IPython.core.display.HTML object>"
      ]
     },
     "metadata": {},
     "output_type": "display_data"
    },
    {
     "data": {
      "text/html": [
       "Syncing run <strong><a href='https://wandb.ai/derelioglugokdeniz-bilkent-university/lstm-cybersecurity-fixed/runs/ql4iimvx' target=\"_blank\">fixed_trial_13_h4_l6_bi1_att1</a></strong> to <a href='https://wandb.ai/derelioglugokdeniz-bilkent-university/lstm-cybersecurity-fixed' target=\"_blank\">Weights & Biases</a> (<a href='https://wandb.me/developer-guide' target=\"_blank\">docs</a>)<br>"
      ],
      "text/plain": [
       "<IPython.core.display.HTML object>"
      ]
     },
     "metadata": {},
     "output_type": "display_data"
    },
    {
     "data": {
      "text/html": [
       " View project at <a href='https://wandb.ai/derelioglugokdeniz-bilkent-university/lstm-cybersecurity-fixed' target=\"_blank\">https://wandb.ai/derelioglugokdeniz-bilkent-university/lstm-cybersecurity-fixed</a>"
      ],
      "text/plain": [
       "<IPython.core.display.HTML object>"
      ]
     },
     "metadata": {},
     "output_type": "display_data"
    },
    {
     "data": {
      "text/html": [
       " View run at <a href='https://wandb.ai/derelioglugokdeniz-bilkent-university/lstm-cybersecurity-fixed/runs/ql4iimvx' target=\"_blank\">https://wandb.ai/derelioglugokdeniz-bilkent-university/lstm-cybersecurity-fixed/runs/ql4iimvx</a>"
      ],
      "text/plain": [
       "<IPython.core.display.HTML object>"
      ]
     },
     "metadata": {},
     "output_type": "display_data"
    },
    {
     "name": "stdout",
     "output_type": "stream",
     "text": [
      "Training with FIXED approach - monitoring for declining performance\n",
      "All hyperparameters logged to W&B project: lstm-cybersecurity-fixed\n",
      "Epoch  1 | Loss: T=1.3732 V=0.6607 Gap=-0.7126\n",
      "         | F1: T=0.6999 V=0.5346 | AUC: 0.6774\n",
      "         | Combined Performance: 0.6373\n",
      "    New best F1: 0.5346\n",
      "Epoch  2 | Loss: T=1.3376 V=0.6611 Gap=-0.6764\n",
      "         | F1: T=0.7179 V=0.5346 | AUC: 0.7033\n",
      "         | Combined Performance: 0.6519\n",
      "Epoch  3 | Loss: T=1.3043 V=0.6616 Gap=-0.6427\n",
      "         | F1: T=0.7179 V=0.5346 | AUC: 0.6837\n",
      "         | Combined Performance: 0.6454\n",
      "PERFORMANCE DECLINE DETECTED - stopping training\n",
      "Recent performance: [0.6519208830847588, 0.6453899667868086, 0.6354444904814432]\n",
      "Restored best model with F1: 0.5346\n"
     ]
    },
    {
     "data": {
      "text/html": [],
      "text/plain": [
       "<IPython.core.display.HTML object>"
      ]
     },
     "metadata": {},
     "output_type": "display_data"
    },
    {
     "data": {
      "text/html": [
       "<br>    <style><br>        .wandb-row {<br>            display: flex;<br>            flex-direction: row;<br>            flex-wrap: wrap;<br>            justify-content: flex-start;<br>            width: 100%;<br>        }<br>        .wandb-col {<br>            display: flex;<br>            flex-direction: column;<br>            flex-basis: 100%;<br>            flex: 1;<br>            padding: 10px;<br>        }<br>    </style><br><div class=\"wandb-row\"><div class=\"wandb-col\"><h3>Run history:</h3><br/><table class=\"wandb\"><tr><td>best_epoch</td><td>▁</td></tr><tr><td>best_model_saved</td><td>▁</td></tr><tr><td>best_val_f1</td><td>▁</td></tr><tr><td>combined_performance</td><td>▁█▅</td></tr><tr><td>data_summary/feature_dim</td><td>▁</td></tr><tr><td>data_summary/sequence_length</td><td>▁</td></tr><tr><td>decline_detected_epoch</td><td>▁</td></tr><tr><td>decline_stop</td><td>▁</td></tr><tr><td>epoch</td><td>▁▅█</td></tr><tr><td>gradients/avg_norm</td><td>█▃▁</td></tr><tr><td>+50</td><td>...</td></tr></table><br/></div><div class=\"wandb-col\"><h3>Run summary:</h3><br/><table class=\"wandb\"><tr><td>best_epoch</td><td>1</td></tr><tr><td>best_model_saved</td><td>1</td></tr><tr><td>best_val_f1</td><td>0.5346</td></tr><tr><td>combined_performance</td><td>0.64539</td></tr><tr><td>data_summary/feature_dim</td><td>50</td></tr><tr><td>data_summary/sequence_length</td><td>48</td></tr><tr><td>decline_detected_epoch</td><td>4</td></tr><tr><td>decline_stop</td><td>1</td></tr><tr><td>epoch</td><td>3</td></tr><tr><td>gradients/avg_norm</td><td>0.03386</td></tr><tr><td>+53</td><td>...</td></tr></table><br/></div></div>"
      ],
      "text/plain": [
       "<IPython.core.display.HTML object>"
      ]
     },
     "metadata": {},
     "output_type": "display_data"
    },
    {
     "data": {
      "text/html": [
       " View run <strong style=\"color:#cdcd00\">fixed_trial_13_h4_l6_bi1_att1</strong> at: <a href='https://wandb.ai/derelioglugokdeniz-bilkent-university/lstm-cybersecurity-fixed/runs/ql4iimvx' target=\"_blank\">https://wandb.ai/derelioglugokdeniz-bilkent-university/lstm-cybersecurity-fixed/runs/ql4iimvx</a><br> View project at: <a href='https://wandb.ai/derelioglugokdeniz-bilkent-university/lstm-cybersecurity-fixed' target=\"_blank\">https://wandb.ai/derelioglugokdeniz-bilkent-university/lstm-cybersecurity-fixed</a><br>Synced 5 W&B file(s), 0 media file(s), 0 artifact file(s) and 0 other file(s)"
      ],
      "text/plain": [
       "<IPython.core.display.HTML object>"
      ]
     },
     "metadata": {},
     "output_type": "display_data"
    },
    {
     "data": {
      "text/html": [
       "Find logs at: <code>.\\wandb\\run-20250901_150129-ql4iimvx\\logs</code>"
      ],
      "text/plain": [
       "<IPython.core.display.HTML object>"
      ]
     },
     "metadata": {},
     "output_type": "display_data"
    },
    {
     "name": "stdout",
     "output_type": "stream",
     "text": [
      "Trial 13: F1=0.5346, Decrease_penalty=4.4944, Gap_penalty=1.2201, Score=-5.1799\n"
     ]
    },
    {
     "name": "stderr",
     "output_type": "stream",
     "text": [
      "[I 2025-09-01 15:01:33,305] Trial 13 finished with value: -5.179899399411664 and parameters: {'hidden_dim': 4, 'num_layers': 6, 'dropout': 0.35574624798113696, 'use_attention': True, 'bidirectional': True, 'sequence_length': 48, 'lr': 0.0006699222440926764, 'batch_size': 1024, 'l2_reg': 1.0997248989411298e-05, 'gradient_clip': 9.937800123068653, 'l1_reg': 0.000940731220094604, 'early_stopping_patience': 30, 'min_delta': 6.372677111711983e-06}. Best is trial 0 with value: -1.2544879968650635.\n"
     ]
    },
    {
     "name": "stdout",
     "output_type": "stream",
     "text": [
      "\n",
      "FIXED Trial #14\n",
      "=== FIXED Data Preprocessing ===\n",
      "After cleaning - Train: 13675, Val: 7264, Test: 7264\n",
      "Class balance - Train: 0.560, Val: 0.365\n",
      "Calculated pos_weight: 0.89\n"
     ]
    },
    {
     "data": {
      "text/html": [
       "Changes to your `wandb` environment variables will be ignored because your `wandb` session has already started. For more information on how to modify your settings with `wandb.init()` arguments, please refer to <a href='https://wandb.me/wandb-init' target=\"_blank\">the W&B docs</a>."
      ],
      "text/plain": [
       "<IPython.core.display.HTML object>"
      ]
     },
     "metadata": {},
     "output_type": "display_data"
    },
    {
     "data": {
      "text/html": [
       "creating run (0.2s)"
      ],
      "text/plain": [
       "<IPython.core.display.HTML object>"
      ]
     },
     "metadata": {},
     "output_type": "display_data"
    },
    {
     "data": {
      "text/html": [
       "Tracking run with wandb version 0.21.2"
      ],
      "text/plain": [
       "<IPython.core.display.HTML object>"
      ]
     },
     "metadata": {},
     "output_type": "display_data"
    },
    {
     "data": {
      "text/html": [
       "Run data is saved locally in <code>c:\\Users\\gokde\\OneDrive\\Masaüstü\\Anomaly-Detection-and-Network-Optimization-in-SDNs\\real_project\\wandb\\run-20250901_150133-ybwbzh9x</code>"
      ],
      "text/plain": [
       "<IPython.core.display.HTML object>"
      ]
     },
     "metadata": {},
     "output_type": "display_data"
    },
    {
     "data": {
      "text/html": [
       "Syncing run <strong><a href='https://wandb.ai/derelioglugokdeniz-bilkent-university/lstm-cybersecurity-fixed/runs/ybwbzh9x' target=\"_blank\">fixed_trial_14_h64_l10_bi1_att1</a></strong> to <a href='https://wandb.ai/derelioglugokdeniz-bilkent-university/lstm-cybersecurity-fixed' target=\"_blank\">Weights & Biases</a> (<a href='https://wandb.me/developer-guide' target=\"_blank\">docs</a>)<br>"
      ],
      "text/plain": [
       "<IPython.core.display.HTML object>"
      ]
     },
     "metadata": {},
     "output_type": "display_data"
    },
    {
     "data": {
      "text/html": [
       " View project at <a href='https://wandb.ai/derelioglugokdeniz-bilkent-university/lstm-cybersecurity-fixed' target=\"_blank\">https://wandb.ai/derelioglugokdeniz-bilkent-university/lstm-cybersecurity-fixed</a>"
      ],
      "text/plain": [
       "<IPython.core.display.HTML object>"
      ]
     },
     "metadata": {},
     "output_type": "display_data"
    },
    {
     "data": {
      "text/html": [
       " View run at <a href='https://wandb.ai/derelioglugokdeniz-bilkent-university/lstm-cybersecurity-fixed/runs/ybwbzh9x' target=\"_blank\">https://wandb.ai/derelioglugokdeniz-bilkent-university/lstm-cybersecurity-fixed/runs/ybwbzh9x</a>"
      ],
      "text/plain": [
       "<IPython.core.display.HTML object>"
      ]
     },
     "metadata": {},
     "output_type": "display_data"
    },
    {
     "name": "stdout",
     "output_type": "stream",
     "text": [
      "Training with FIXED approach - monitoring for declining performance\n",
      "All hyperparameters logged to W&B project: lstm-cybersecurity-fixed\n",
      "Epoch  1 | Loss: T=1.4349 V=0.6604 Gap=-0.7745\n",
      "         | F1: T=0.6936 V=0.5346 | AUC: 0.4574\n",
      "         | Combined Performance: 0.5619\n",
      "    New best F1: 0.5346\n",
      "Epoch  2 | Loss: T=1.3927 V=0.6610 Gap=-0.7317\n",
      "         | F1: T=0.7179 V=0.5346 | AUC: 0.7449\n",
      "         | Combined Performance: 0.6658\n",
      "Epoch  3 | Loss: T=1.3528 V=0.6615 Gap=-0.6913\n",
      "         | F1: T=0.7179 V=0.5346 | AUC: 0.7826\n",
      "         | Combined Performance: 0.6783\n",
      "Epoch  4 | Loss: T=1.3145 V=0.6620 Gap=-0.6524\n",
      "         | F1: T=0.7179 V=0.5346 | AUC: 0.7958\n",
      "         | Combined Performance: 0.6828\n",
      "Epoch  5 | Loss: T=1.2777 V=0.6625 Gap=-0.6152\n",
      "         | F1: T=0.7179 V=0.5346 | AUC: 0.7869\n",
      "         | Combined Performance: 0.6798\n",
      "PERFORMANCE DECLINE DETECTED - stopping training\n",
      "Recent performance: [0.6827603844110476, 0.6797905469189195, 0.6725530580621997]\n",
      "Restored best model with F1: 0.5346\n"
     ]
    },
    {
     "data": {
      "text/html": [],
      "text/plain": [
       "<IPython.core.display.HTML object>"
      ]
     },
     "metadata": {},
     "output_type": "display_data"
    },
    {
     "data": {
      "text/html": [
       "<br>    <style><br>        .wandb-row {<br>            display: flex;<br>            flex-direction: row;<br>            flex-wrap: wrap;<br>            justify-content: flex-start;<br>            width: 100%;<br>        }<br>        .wandb-col {<br>            display: flex;<br>            flex-direction: column;<br>            flex-basis: 100%;<br>            flex: 1;<br>            padding: 10px;<br>        }<br>    </style><br><div class=\"wandb-row\"><div class=\"wandb-col\"><h3>Run history:</h3><br/><table class=\"wandb\"><tr><td>best_epoch</td><td>▁</td></tr><tr><td>best_model_saved</td><td>▁</td></tr><tr><td>best_val_f1</td><td>▁</td></tr><tr><td>combined_performance</td><td>▁▇███</td></tr><tr><td>data_summary/feature_dim</td><td>▁</td></tr><tr><td>data_summary/sequence_length</td><td>▁</td></tr><tr><td>decline_detected_epoch</td><td>▁</td></tr><tr><td>decline_stop</td><td>▁</td></tr><tr><td>epoch</td><td>▁▃▅▆█</td></tr><tr><td>gradients/avg_norm</td><td>█▃▂▁▂</td></tr><tr><td>+50</td><td>...</td></tr></table><br/></div><div class=\"wandb-col\"><h3>Run summary:</h3><br/><table class=\"wandb\"><tr><td>best_epoch</td><td>1</td></tr><tr><td>best_model_saved</td><td>1</td></tr><tr><td>best_val_f1</td><td>0.5346</td></tr><tr><td>combined_performance</td><td>0.67979</td></tr><tr><td>data_summary/feature_dim</td><td>50</td></tr><tr><td>data_summary/sequence_length</td><td>8</td></tr><tr><td>decline_detected_epoch</td><td>6</td></tr><tr><td>decline_stop</td><td>1</td></tr><tr><td>epoch</td><td>5</td></tr><tr><td>gradients/avg_norm</td><td>0.01967</td></tr><tr><td>+53</td><td>...</td></tr></table><br/></div></div>"
      ],
      "text/plain": [
       "<IPython.core.display.HTML object>"
      ]
     },
     "metadata": {},
     "output_type": "display_data"
    },
    {
     "data": {
      "text/html": [
       " View run <strong style=\"color:#cdcd00\">fixed_trial_14_h64_l10_bi1_att1</strong> at: <a href='https://wandb.ai/derelioglugokdeniz-bilkent-university/lstm-cybersecurity-fixed/runs/ybwbzh9x' target=\"_blank\">https://wandb.ai/derelioglugokdeniz-bilkent-university/lstm-cybersecurity-fixed/runs/ybwbzh9x</a><br> View project at: <a href='https://wandb.ai/derelioglugokdeniz-bilkent-university/lstm-cybersecurity-fixed' target=\"_blank\">https://wandb.ai/derelioglugokdeniz-bilkent-university/lstm-cybersecurity-fixed</a><br>Synced 5 W&B file(s), 0 media file(s), 0 artifact file(s) and 0 other file(s)"
      ],
      "text/plain": [
       "<IPython.core.display.HTML object>"
      ]
     },
     "metadata": {},
     "output_type": "display_data"
    },
    {
     "data": {
      "text/html": [
       "Find logs at: <code>.\\wandb\\run-20250901_150133-ybwbzh9x\\logs</code>"
      ],
      "text/plain": [
       "<IPython.core.display.HTML object>"
      ]
     },
     "metadata": {},
     "output_type": "display_data"
    },
    {
     "name": "stdout",
     "output_type": "stream",
     "text": [
      "Trial 14: F1=0.5346, Decrease_penalty=4.0369, Gap_penalty=1.1586, Score=-4.6609\n"
     ]
    },
    {
     "name": "stderr",
     "output_type": "stream",
     "text": [
      "[I 2025-09-01 15:01:39,801] Trial 14 finished with value: -4.660884406527437 and parameters: {'hidden_dim': 64, 'num_layers': 10, 'dropout': 0.2358000423343667, 'use_attention': True, 'bidirectional': True, 'sequence_length': 8, 'lr': 0.00022127074051089392, 'batch_size': 1024, 'l2_reg': 8.378248131201999e-05, 'gradient_clip': 7.320651666956616, 'l1_reg': 1.4254560789459858e-05, 'early_stopping_patience': 40, 'min_delta': 1.1248324994349208e-06}. Best is trial 0 with value: -1.2544879968650635.\n"
     ]
    },
    {
     "name": "stdout",
     "output_type": "stream",
     "text": [
      "\n",
      "FIXED Trial #15\n",
      "=== FIXED Data Preprocessing ===\n",
      "After cleaning - Train: 13675, Val: 7264, Test: 7264\n",
      "Class balance - Train: 0.560, Val: 0.365\n",
      "Calculated pos_weight: 0.89\n"
     ]
    },
    {
     "data": {
      "text/html": [
       "Changes to your `wandb` environment variables will be ignored because your `wandb` session has already started. For more information on how to modify your settings with `wandb.init()` arguments, please refer to <a href='https://wandb.me/wandb-init' target=\"_blank\">the W&B docs</a>."
      ],
      "text/plain": [
       "<IPython.core.display.HTML object>"
      ]
     },
     "metadata": {},
     "output_type": "display_data"
    },
    {
     "data": {
      "text/html": [
       "creating run (0.1s)"
      ],
      "text/plain": [
       "<IPython.core.display.HTML object>"
      ]
     },
     "metadata": {},
     "output_type": "display_data"
    },
    {
     "data": {
      "text/html": [
       "Tracking run with wandb version 0.21.2"
      ],
      "text/plain": [
       "<IPython.core.display.HTML object>"
      ]
     },
     "metadata": {},
     "output_type": "display_data"
    },
    {
     "data": {
      "text/html": [
       "Run data is saved locally in <code>c:\\Users\\gokde\\OneDrive\\Masaüstü\\Anomaly-Detection-and-Network-Optimization-in-SDNs\\real_project\\wandb\\run-20250901_150139-t6mqeecu</code>"
      ],
      "text/plain": [
       "<IPython.core.display.HTML object>"
      ]
     },
     "metadata": {},
     "output_type": "display_data"
    },
    {
     "data": {
      "text/html": [
       "Syncing run <strong><a href='https://wandb.ai/derelioglugokdeniz-bilkent-university/lstm-cybersecurity-fixed/runs/t6mqeecu' target=\"_blank\">fixed_trial_15_h192_l4_bi1_att0</a></strong> to <a href='https://wandb.ai/derelioglugokdeniz-bilkent-university/lstm-cybersecurity-fixed' target=\"_blank\">Weights & Biases</a> (<a href='https://wandb.me/developer-guide' target=\"_blank\">docs</a>)<br>"
      ],
      "text/plain": [
       "<IPython.core.display.HTML object>"
      ]
     },
     "metadata": {},
     "output_type": "display_data"
    },
    {
     "data": {
      "text/html": [
       " View project at <a href='https://wandb.ai/derelioglugokdeniz-bilkent-university/lstm-cybersecurity-fixed' target=\"_blank\">https://wandb.ai/derelioglugokdeniz-bilkent-university/lstm-cybersecurity-fixed</a>"
      ],
      "text/plain": [
       "<IPython.core.display.HTML object>"
      ]
     },
     "metadata": {},
     "output_type": "display_data"
    },
    {
     "data": {
      "text/html": [
       " View run at <a href='https://wandb.ai/derelioglugokdeniz-bilkent-university/lstm-cybersecurity-fixed/runs/t6mqeecu' target=\"_blank\">https://wandb.ai/derelioglugokdeniz-bilkent-university/lstm-cybersecurity-fixed/runs/t6mqeecu</a>"
      ],
      "text/plain": [
       "<IPython.core.display.HTML object>"
      ]
     },
     "metadata": {},
     "output_type": "display_data"
    },
    {
     "name": "stdout",
     "output_type": "stream",
     "text": [
      "Training with FIXED approach - monitoring for declining performance\n",
      "All hyperparameters logged to W&B project: lstm-cybersecurity-fixed\n",
      "Epoch  1 | Loss: T=0.7140 V=0.6321 Gap=-0.0819\n",
      "         | F1: T=0.7779 V=0.8012 | AUC: 0.9222\n",
      "         | Combined Performance: 0.8338\n",
      "    New best F1: 0.8012\n",
      "Epoch  2 | Loss: T=0.6235 V=0.4487 Gap=-0.1748\n",
      "         | F1: T=0.8156 V=0.8251 | AUC: 0.9378\n",
      "         | Combined Performance: 0.8595\n",
      "    New best F1: 0.8251\n",
      "Epoch  3 | Loss: T=0.3648 V=0.3780 Gap=0.0132\n",
      "         | F1: T=0.9170 V=0.8225 | AUC: 0.9415\n",
      "         | Combined Performance: 0.8937\n",
      "Epoch  4 | Loss: T=0.2164 V=0.4352 Gap=0.2188\n",
      "         | F1: T=0.9518 V=0.8260 | AUC: 0.9539\n",
      "         | Combined Performance: 0.9106\n",
      "    New best F1: 0.8260\n",
      "Epoch  5 | Loss: T=0.1854 V=0.4808 Gap=0.2955\n",
      "         | F1: T=0.9677 V=0.8291 | AUC: 0.9570\n",
      "         | Combined Performance: 0.9179\n",
      "    New best F1: 0.8291\n",
      "Epoch  6 | Loss: T=0.1722 V=0.5004 Gap=0.3282\n",
      "         | F1: T=0.9698 V=0.8317 | AUC: 0.9586\n",
      "         | Combined Performance: 0.9200\n",
      "    New best F1: 0.8317\n",
      "Epoch  7 | Loss: T=0.1646 V=0.5264 Gap=0.3618\n",
      "         | F1: T=0.9723 V=0.8339 | AUC: 0.9595\n",
      "         | Combined Performance: 0.9219\n",
      "    New best F1: 0.8339\n",
      "Epoch  8 | Loss: T=0.1582 V=0.5475 Gap=0.3893\n",
      "         | F1: T=0.9733 V=0.8355 | AUC: 0.9596\n",
      "         | Combined Performance: 0.9228\n",
      "    New best F1: 0.8355\n",
      "Epoch  9 | Loss: T=0.1534 V=0.5615 Gap=0.4081\n",
      "         | F1: T=0.9744 V=0.8380 | AUC: 0.9589\n",
      "         | Combined Performance: 0.9238\n",
      "    New best F1: 0.8380\n",
      "Epoch 10 | Loss: T=0.1491 V=0.5948 Gap=0.4456\n",
      "         | F1: T=0.9761 V=0.8395 | AUC: 0.9575\n",
      "         | Combined Performance: 0.9243\n",
      "    New best F1: 0.8395\n",
      "Epoch 11 | Loss: T=0.1456 V=0.6280 Gap=0.4824\n",
      "         | F1: T=0.9767 V=0.8397 | AUC: 0.9555\n",
      "         | Combined Performance: 0.9240\n",
      "    New best F1: 0.8397\n",
      "PERFORMANCE DECLINE DETECTED - stopping training\n",
      "Recent performance: [0.924345844901918, 0.923987977045898, 0.9237294823425097]\n",
      "Restored best model with F1: 0.8397\n"
     ]
    },
    {
     "data": {
      "text/html": [],
      "text/plain": [
       "<IPython.core.display.HTML object>"
      ]
     },
     "metadata": {},
     "output_type": "display_data"
    },
    {
     "data": {
      "text/html": [
       "<br>    <style><br>        .wandb-row {<br>            display: flex;<br>            flex-direction: row;<br>            flex-wrap: wrap;<br>            justify-content: flex-start;<br>            width: 100%;<br>        }<br>        .wandb-col {<br>            display: flex;<br>            flex-direction: column;<br>            flex-basis: 100%;<br>            flex: 1;<br>            padding: 10px;<br>        }<br>    </style><br><div class=\"wandb-row\"><div class=\"wandb-col\"><h3>Run history:</h3><br/><table class=\"wandb\"><tr><td>best_epoch</td><td>▁▂▃▄▅▅▆▇▇█</td></tr><tr><td>best_model_saved</td><td>▁▁▁▁▁▁▁▁▁▁</td></tr><tr><td>best_val_f1</td><td>▁▅▆▆▇▇▇███</td></tr><tr><td>combined_performance</td><td>▁▃▆▇███████</td></tr><tr><td>data_summary/feature_dim</td><td>▁</td></tr><tr><td>data_summary/sequence_length</td><td>▁</td></tr><tr><td>decline_detected_epoch</td><td>▁</td></tr><tr><td>decline_stop</td><td>▁</td></tr><tr><td>epoch</td><td>▁▂▂▃▄▅▅▆▇▇█</td></tr><tr><td>gradients/avg_norm</td><td>▅█▅▂▂▂▁▁▁▁▁</td></tr><tr><td>+50</td><td>...</td></tr></table><br/></div><div class=\"wandb-col\"><h3>Run summary:</h3><br/><table class=\"wandb\"><tr><td>best_epoch</td><td>11</td></tr><tr><td>best_model_saved</td><td>1</td></tr><tr><td>best_val_f1</td><td>0.83971</td></tr><tr><td>combined_performance</td><td>0.92399</td></tr><tr><td>data_summary/feature_dim</td><td>50</td></tr><tr><td>data_summary/sequence_length</td><td>4</td></tr><tr><td>decline_detected_epoch</td><td>12</td></tr><tr><td>decline_stop</td><td>1</td></tr><tr><td>epoch</td><td>11</td></tr><tr><td>gradients/avg_norm</td><td>0.02532</td></tr><tr><td>+53</td><td>...</td></tr></table><br/></div></div>"
      ],
      "text/plain": [
       "<IPython.core.display.HTML object>"
      ]
     },
     "metadata": {},
     "output_type": "display_data"
    },
    {
     "data": {
      "text/html": [
       " View run <strong style=\"color:#cdcd00\">fixed_trial_15_h192_l4_bi1_att0</strong> at: <a href='https://wandb.ai/derelioglugokdeniz-bilkent-university/lstm-cybersecurity-fixed/runs/t6mqeecu' target=\"_blank\">https://wandb.ai/derelioglugokdeniz-bilkent-university/lstm-cybersecurity-fixed/runs/t6mqeecu</a><br> View project at: <a href='https://wandb.ai/derelioglugokdeniz-bilkent-university/lstm-cybersecurity-fixed' target=\"_blank\">https://wandb.ai/derelioglugokdeniz-bilkent-university/lstm-cybersecurity-fixed</a><br>Synced 5 W&B file(s), 0 media file(s), 0 artifact file(s) and 0 other file(s)"
      ],
      "text/plain": [
       "<IPython.core.display.HTML object>"
      ]
     },
     "metadata": {},
     "output_type": "display_data"
    },
    {
     "data": {
      "text/html": [
       "Find logs at: <code>.\\wandb\\run-20250901_150139-t6mqeecu\\logs</code>"
      ],
      "text/plain": [
       "<IPython.core.display.HTML object>"
      ]
     },
     "metadata": {},
     "output_type": "display_data"
    },
    {
     "name": "stdout",
     "output_type": "stream",
     "text": [
      "Trial 15: F1=0.8397, Decrease_penalty=2.1426, Gap_penalty=1.0023, Score=-2.3052\n"
     ]
    },
    {
     "name": "stderr",
     "output_type": "stream",
     "text": [
      "[I 2025-09-01 15:01:58,364] Trial 15 finished with value: -2.3051841717018067 and parameters: {'hidden_dim': 192, 'num_layers': 4, 'dropout': 0.24725992181526096, 'use_attention': False, 'bidirectional': True, 'sequence_length': 4, 'lr': 0.000105273021212, 'batch_size': 512, 'l2_reg': 7.168622979400978e-05, 'gradient_clip': 3.117450595359421, 'l1_reg': 7.28851255928117e-07, 'early_stopping_patience': 10, 'min_delta': 1.5174060422994171e-05}. Best is trial 0 with value: -1.2544879968650635.\n"
     ]
    },
    {
     "name": "stdout",
     "output_type": "stream",
     "text": [
      "\n",
      "FIXED Trial #16\n",
      "=== FIXED Data Preprocessing ===\n",
      "After cleaning - Train: 13675, Val: 7264, Test: 7264\n",
      "Class balance - Train: 0.560, Val: 0.365\n",
      "Calculated pos_weight: 0.89\n"
     ]
    },
    {
     "data": {
      "text/html": [
       "Changes to your `wandb` environment variables will be ignored because your `wandb` session has already started. For more information on how to modify your settings with `wandb.init()` arguments, please refer to <a href='https://wandb.me/wandb-init' target=\"_blank\">the W&B docs</a>."
      ],
      "text/plain": [
       "<IPython.core.display.HTML object>"
      ]
     },
     "metadata": {},
     "output_type": "display_data"
    },
    {
     "data": {
      "text/html": [
       "creating run (0.1s)"
      ],
      "text/plain": [
       "<IPython.core.display.HTML object>"
      ]
     },
     "metadata": {},
     "output_type": "display_data"
    },
    {
     "data": {
      "text/html": [
       "Tracking run with wandb version 0.21.2"
      ],
      "text/plain": [
       "<IPython.core.display.HTML object>"
      ]
     },
     "metadata": {},
     "output_type": "display_data"
    },
    {
     "data": {
      "text/html": [
       "Run data is saved locally in <code>c:\\Users\\gokde\\OneDrive\\Masaüstü\\Anomaly-Detection-and-Network-Optimization-in-SDNs\\real_project\\wandb\\run-20250901_150158-gspjovrv</code>"
      ],
      "text/plain": [
       "<IPython.core.display.HTML object>"
      ]
     },
     "metadata": {},
     "output_type": "display_data"
    },
    {
     "data": {
      "text/html": [
       "Syncing run <strong><a href='https://wandb.ai/derelioglugokdeniz-bilkent-university/lstm-cybersecurity-fixed/runs/gspjovrv' target=\"_blank\">fixed_trial_16_h256_l1_bi1_att0</a></strong> to <a href='https://wandb.ai/derelioglugokdeniz-bilkent-university/lstm-cybersecurity-fixed' target=\"_blank\">Weights & Biases</a> (<a href='https://wandb.me/developer-guide' target=\"_blank\">docs</a>)<br>"
      ],
      "text/plain": [
       "<IPython.core.display.HTML object>"
      ]
     },
     "metadata": {},
     "output_type": "display_data"
    },
    {
     "data": {
      "text/html": [
       " View project at <a href='https://wandb.ai/derelioglugokdeniz-bilkent-university/lstm-cybersecurity-fixed' target=\"_blank\">https://wandb.ai/derelioglugokdeniz-bilkent-university/lstm-cybersecurity-fixed</a>"
      ],
      "text/plain": [
       "<IPython.core.display.HTML object>"
      ]
     },
     "metadata": {},
     "output_type": "display_data"
    },
    {
     "data": {
      "text/html": [
       " View run at <a href='https://wandb.ai/derelioglugokdeniz-bilkent-university/lstm-cybersecurity-fixed/runs/gspjovrv' target=\"_blank\">https://wandb.ai/derelioglugokdeniz-bilkent-university/lstm-cybersecurity-fixed/runs/gspjovrv</a>"
      ],
      "text/plain": [
       "<IPython.core.display.HTML object>"
      ]
     },
     "metadata": {},
     "output_type": "display_data"
    },
    {
     "name": "stdout",
     "output_type": "stream",
     "text": [
      "Training with FIXED approach - monitoring for declining performance\n",
      "All hyperparameters logged to W&B project: lstm-cybersecurity-fixed\n",
      "Epoch  1 | Loss: T=0.2830 V=1.1430 Gap=0.8600\n",
      "         | F1: T=0.9716 V=0.6682 | AUC: 0.9403\n",
      "         | Combined Performance: 0.8600\n",
      "    New best F1: 0.6682\n",
      "Epoch  2 | Loss: T=0.2272 V=1.6268 Gap=1.3996\n",
      "         | F1: T=0.9736 V=0.7457 | AUC: 0.9419\n",
      "         | Combined Performance: 0.8871\n",
      "    New best F1: 0.7457\n",
      "Epoch  3 | Loss: T=0.1766 V=1.2717 Gap=1.0951\n",
      "         | F1: T=0.9809 V=0.8050 | AUC: 0.9548\n",
      "         | Combined Performance: 0.9136\n",
      "    New best F1: 0.8050\n",
      "Epoch  4 | Loss: T=0.1311 V=4.3652 Gap=4.2341\n",
      "         | F1: T=0.9827 V=0.6651 | AUC: 0.9121\n",
      "         | Combined Performance: 0.8533\n"
     ]
    },
    {
     "data": {
      "text/html": [],
      "text/plain": [
       "<IPython.core.display.HTML object>"
      ]
     },
     "metadata": {},
     "output_type": "display_data"
    },
    {
     "data": {
      "text/html": [
       "<br>    <style><br>        .wandb-row {<br>            display: flex;<br>            flex-direction: row;<br>            flex-wrap: wrap;<br>            justify-content: flex-start;<br>            width: 100%;<br>        }<br>        .wandb-col {<br>            display: flex;<br>            flex-direction: column;<br>            flex-basis: 100%;<br>            flex: 1;<br>            padding: 10px;<br>        }<br>    </style><br><div class=\"wandb-row\"><div class=\"wandb-col\"><h3>Run history:</h3><br/><table class=\"wandb\"><tr><td>best_epoch</td><td>▁▅█</td></tr><tr><td>best_model_saved</td><td>▁▁▁</td></tr><tr><td>best_val_f1</td><td>▁▅█</td></tr><tr><td>combined_performance</td><td>▂▅█▁</td></tr><tr><td>data_summary/feature_dim</td><td>▁</td></tr><tr><td>data_summary/sequence_length</td><td>▁</td></tr><tr><td>epoch</td><td>▁▃▆█</td></tr><tr><td>gradients/avg_norm</td><td>█▁▁▁</td></tr><tr><td>gradients/clipping_threshold</td><td>▁▁▁▁</td></tr><tr><td>gradients/max_norm</td><td>█▁▁▁</td></tr><tr><td>+42</td><td>...</td></tr></table><br/></div><div class=\"wandb-col\"><h3>Run summary:</h3><br/><table class=\"wandb\"><tr><td>best_epoch</td><td>3</td></tr><tr><td>best_model_saved</td><td>1</td></tr><tr><td>best_val_f1</td><td>0.80498</td></tr><tr><td>combined_performance</td><td>0.85331</td></tr><tr><td>data_summary/feature_dim</td><td>50</td></tr><tr><td>data_summary/sequence_length</td><td>24</td></tr><tr><td>epoch</td><td>4</td></tr><tr><td>gradients/avg_norm</td><td>0.00142</td></tr><tr><td>gradients/clipping_threshold</td><td>6.68008</td></tr><tr><td>gradients/max_norm</td><td>0.00435</td></tr><tr><td>+45</td><td>...</td></tr></table><br/></div></div>"
      ],
      "text/plain": [
       "<IPython.core.display.HTML object>"
      ]
     },
     "metadata": {},
     "output_type": "display_data"
    },
    {
     "data": {
      "text/html": [
       " View run <strong style=\"color:#cdcd00\">fixed_trial_16_h256_l1_bi1_att0</strong> at: <a href='https://wandb.ai/derelioglugokdeniz-bilkent-university/lstm-cybersecurity-fixed/runs/gspjovrv' target=\"_blank\">https://wandb.ai/derelioglugokdeniz-bilkent-university/lstm-cybersecurity-fixed/runs/gspjovrv</a><br> View project at: <a href='https://wandb.ai/derelioglugokdeniz-bilkent-university/lstm-cybersecurity-fixed' target=\"_blank\">https://wandb.ai/derelioglugokdeniz-bilkent-university/lstm-cybersecurity-fixed</a><br>Synced 5 W&B file(s), 0 media file(s), 0 artifact file(s) and 0 other file(s)"
      ],
      "text/plain": [
       "<IPython.core.display.HTML object>"
      ]
     },
     "metadata": {},
     "output_type": "display_data"
    },
    {
     "data": {
      "text/html": [
       "Find logs at: <code>.\\wandb\\run-20250901_150158-gspjovrv\\logs</code>"
      ],
      "text/plain": [
       "<IPython.core.display.HTML object>"
      ]
     },
     "metadata": {},
     "output_type": "display_data"
    },
    {
     "name": "stderr",
     "output_type": "stream",
     "text": [
      "[W 2025-09-01 15:02:35,142] Trial 16 failed with parameters: {'hidden_dim': 256, 'num_layers': 1, 'dropout': 0.40672929359239657, 'use_attention': False, 'bidirectional': True, 'sequence_length': 24, 'lr': 0.001720285786525446, 'batch_size': 16, 'l2_reg': 3.88316549877468e-06, 'gradient_clip': 6.680078748311293, 'l1_reg': 8.492029333065207e-06, 'early_stopping_patience': 45, 'min_delta': 3.0819327342426026e-06} because of the following error: KeyboardInterrupt().\n",
      "Traceback (most recent call last):\n",
      "  File \"c:\\Users\\gokde\\anaconda3\\envs\\torch_gpu\\Lib\\site-packages\\optuna\\study\\_optimize.py\", line 201, in _run_trial\n",
      "    value_or_values = func(trial)\n",
      "                      ^^^^^^^^^^^\n",
      "  File \"C:\\Users\\gokde\\AppData\\Local\\Temp\\ipykernel_25360\\1439352675.py\", line 523, in fixed_objective\n",
      "    trained_model, history = train_lstm_fixed(\n",
      "                             ^^^^^^^^^^^^^^^^^\n",
      "  File \"C:\\Users\\gokde\\AppData\\Local\\Temp\\ipykernel_25360\\1439352675.py\", line 298, in train_lstm_fixed\n",
      "    loss.backward()\n",
      "  File \"c:\\Users\\gokde\\anaconda3\\envs\\torch_gpu\\Lib\\site-packages\\torch\\_tensor.py\", line 581, in backward\n",
      "    torch.autograd.backward(\n",
      "  File \"c:\\Users\\gokde\\anaconda3\\envs\\torch_gpu\\Lib\\site-packages\\torch\\autograd\\__init__.py\", line 347, in backward\n",
      "    _engine_run_backward(\n",
      "  File \"c:\\Users\\gokde\\anaconda3\\envs\\torch_gpu\\Lib\\site-packages\\torch\\autograd\\graph.py\", line 825, in _engine_run_backward\n",
      "    return Variable._execution_engine.run_backward(  # Calls into the C++ engine to run the backward pass\n",
      "           ^^^^^^^^^^^^^^^^^^^^^^^^^^^^^^^^^^^^^^^^^^^^^^^^^^^^^^^^^^^^^^^^^^^^^^^^^^^^^^^^^^^^^^^^^^^^^^\n",
      "KeyboardInterrupt\n",
      "[W 2025-09-01 15:02:35,146] Trial 16 failed with value None.\n"
     ]
    },
    {
     "name": "stdout",
     "output_type": "stream",
     "text": [
      "\n",
      "Optimization interrupted\n",
      "\n",
      "Best score: -1.2545\n",
      "Best parameters:\n",
      "   hidden_dim: 4\n",
      "   num_layers: 1\n",
      "   dropout: 0.29761191306325957\n",
      "   use_attention: False\n",
      "   bidirectional: True\n",
      "   sequence_length: 128\n",
      "   lr: 0.00011505137493659554\n",
      "   batch_size: 512\n",
      "   l2_reg: 3.4745331159811874e-05\n",
      "   gradient_clip: 4.217524229198063\n",
      "   l1_reg: 7.216654076139157e-05\n",
      "   early_stopping_patience: 35\n",
      "   min_delta: 1.4443628656009442e-06\n"
     ]
    },
    {
     "data": {
      "text/html": [
       "Changes to your `wandb` environment variables will be ignored because your `wandb` session has already started. For more information on how to modify your settings with `wandb.init()` arguments, please refer to <a href='https://wandb.me/wandb-init' target=\"_blank\">the W&B docs</a>."
      ],
      "text/plain": [
       "<IPython.core.display.HTML object>"
      ]
     },
     "metadata": {},
     "output_type": "display_data"
    },
    {
     "data": {
      "text/html": [
       "creating run (0.1s)"
      ],
      "text/plain": [
       "<IPython.core.display.HTML object>"
      ]
     },
     "metadata": {},
     "output_type": "display_data"
    },
    {
     "data": {
      "text/html": [
       "Tracking run with wandb version 0.21.2"
      ],
      "text/plain": [
       "<IPython.core.display.HTML object>"
      ]
     },
     "metadata": {},
     "output_type": "display_data"
    },
    {
     "data": {
      "text/html": [
       "Run data is saved locally in <code>c:\\Users\\gokde\\OneDrive\\Masaüstü\\Anomaly-Detection-and-Network-Optimization-in-SDNs\\real_project\\wandb\\run-20250901_150235-slviaczp</code>"
      ],
      "text/plain": [
       "<IPython.core.display.HTML object>"
      ]
     },
     "metadata": {},
     "output_type": "display_data"
    },
    {
     "data": {
      "text/html": [
       "Syncing run <strong><a href='https://wandb.ai/derelioglugokdeniz-bilkent-university/lstm-cybersecurity-fixed/runs/slviaczp' target=\"_blank\">study_summary</a></strong> to <a href='https://wandb.ai/derelioglugokdeniz-bilkent-university/lstm-cybersecurity-fixed' target=\"_blank\">Weights & Biases</a> (<a href='https://wandb.me/developer-guide' target=\"_blank\">docs</a>)<br>"
      ],
      "text/plain": [
       "<IPython.core.display.HTML object>"
      ]
     },
     "metadata": {},
     "output_type": "display_data"
    },
    {
     "data": {
      "text/html": [
       " View project at <a href='https://wandb.ai/derelioglugokdeniz-bilkent-university/lstm-cybersecurity-fixed' target=\"_blank\">https://wandb.ai/derelioglugokdeniz-bilkent-university/lstm-cybersecurity-fixed</a>"
      ],
      "text/plain": [
       "<IPython.core.display.HTML object>"
      ]
     },
     "metadata": {},
     "output_type": "display_data"
    },
    {
     "data": {
      "text/html": [
       " View run at <a href='https://wandb.ai/derelioglugokdeniz-bilkent-university/lstm-cybersecurity-fixed/runs/slviaczp' target=\"_blank\">https://wandb.ai/derelioglugokdeniz-bilkent-university/lstm-cybersecurity-fixed/runs/slviaczp</a>"
      ],
      "text/plain": [
       "<IPython.core.display.HTML object>"
      ]
     },
     "metadata": {},
     "output_type": "display_data"
    },
    {
     "data": {
      "text/html": [],
      "text/plain": [
       "<IPython.core.display.HTML object>"
      ]
     },
     "metadata": {},
     "output_type": "display_data"
    },
    {
     "data": {
      "text/html": [
       "<br>    <style><br>        .wandb-row {<br>            display: flex;<br>            flex-direction: row;<br>            flex-wrap: wrap;<br>            justify-content: flex-start;<br>            width: 100%;<br>        }<br>        .wandb-col {<br>            display: flex;<br>            flex-direction: column;<br>            flex-basis: 100%;<br>            flex: 1;<br>            padding: 10px;<br>        }<br>    </style><br><div class=\"wandb-row\"><div class=\"wandb-col\"><h3>Run history:</h3><br/><table class=\"wandb\"><tr><td>best_hyperparams/batch_size</td><td>▁</td></tr><tr><td>best_hyperparams/dropout</td><td>▁</td></tr><tr><td>best_hyperparams/early_stopping_patience</td><td>▁</td></tr><tr><td>best_hyperparams/gradient_clip</td><td>▁</td></tr><tr><td>best_hyperparams/hidden_dim</td><td>▁</td></tr><tr><td>best_hyperparams/l1_reg</td><td>▁</td></tr><tr><td>best_hyperparams/l2_reg</td><td>▁</td></tr><tr><td>best_hyperparams/lr</td><td>▁</td></tr><tr><td>best_hyperparams/min_delta</td><td>▁</td></tr><tr><td>best_hyperparams/num_layers</td><td>▁</td></tr><tr><td>+4</td><td>...</td></tr></table><br/></div><div class=\"wandb-col\"><h3>Run summary:</h3><br/><table class=\"wandb\"><tr><td>best_hyperparams/batch_size</td><td>512</td></tr><tr><td>best_hyperparams/bidirectional</td><td>True</td></tr><tr><td>best_hyperparams/dropout</td><td>0.29761</td></tr><tr><td>best_hyperparams/early_stopping_patience</td><td>35</td></tr><tr><td>best_hyperparams/gradient_clip</td><td>4.21752</td></tr><tr><td>best_hyperparams/hidden_dim</td><td>4</td></tr><tr><td>best_hyperparams/l1_reg</td><td>7e-05</td></tr><tr><td>best_hyperparams/l2_reg</td><td>3e-05</td></tr><tr><td>best_hyperparams/lr</td><td>0.00012</td></tr><tr><td>best_hyperparams/min_delta</td><td>0.0</td></tr><tr><td>+7</td><td>...</td></tr></table><br/></div></div>"
      ],
      "text/plain": [
       "<IPython.core.display.HTML object>"
      ]
     },
     "metadata": {},
     "output_type": "display_data"
    },
    {
     "data": {
      "text/html": [
       " View run <strong style=\"color:#cdcd00\">study_summary</strong> at: <a href='https://wandb.ai/derelioglugokdeniz-bilkent-university/lstm-cybersecurity-fixed/runs/slviaczp' target=\"_blank\">https://wandb.ai/derelioglugokdeniz-bilkent-university/lstm-cybersecurity-fixed/runs/slviaczp</a><br> View project at: <a href='https://wandb.ai/derelioglugokdeniz-bilkent-university/lstm-cybersecurity-fixed' target=\"_blank\">https://wandb.ai/derelioglugokdeniz-bilkent-university/lstm-cybersecurity-fixed</a><br>Synced 5 W&B file(s), 0 media file(s), 0 artifact file(s) and 0 other file(s)"
      ],
      "text/plain": [
       "<IPython.core.display.HTML object>"
      ]
     },
     "metadata": {},
     "output_type": "display_data"
    },
    {
     "data": {
      "text/html": [
       "Find logs at: <code>.\\wandb\\run-20250901_150235-slviaczp\\logs</code>"
      ],
      "text/plain": [
       "<IPython.core.display.HTML object>"
      ]
     },
     "metadata": {},
     "output_type": "display_data"
    },
    {
     "name": "stdout",
     "output_type": "stream",
     "text": [
      "\n",
      "=== TRAINING FINAL FIXED MODEL ===\n",
      "=== FIXED Data Preprocessing ===\n",
      "After cleaning - Train: 13675, Val: 7264, Test: 7264\n",
      "Class balance - Train: 0.560, Val: 0.365\n",
      "Calculated pos_weight: 0.89\n"
     ]
    },
    {
     "data": {
      "text/html": [
       "Changes to your `wandb` environment variables will be ignored because your `wandb` session has already started. For more information on how to modify your settings with `wandb.init()` arguments, please refer to <a href='https://wandb.me/wandb-init' target=\"_blank\">the W&B docs</a>."
      ],
      "text/plain": [
       "<IPython.core.display.HTML object>"
      ]
     },
     "metadata": {},
     "output_type": "display_data"
    },
    {
     "data": {
      "text/html": [
       "creating run (0.2s)"
      ],
      "text/plain": [
       "<IPython.core.display.HTML object>"
      ]
     },
     "metadata": {},
     "output_type": "display_data"
    },
    {
     "data": {
      "text/html": [
       "Tracking run with wandb version 0.21.2"
      ],
      "text/plain": [
       "<IPython.core.display.HTML object>"
      ]
     },
     "metadata": {},
     "output_type": "display_data"
    },
    {
     "data": {
      "text/html": [
       "Run data is saved locally in <code>c:\\Users\\gokde\\OneDrive\\Masaüstü\\Anomaly-Detection-and-Network-Optimization-in-SDNs\\real_project\\wandb\\run-20250901_150239-oeobekq3</code>"
      ],
      "text/plain": [
       "<IPython.core.display.HTML object>"
      ]
     },
     "metadata": {},
     "output_type": "display_data"
    },
    {
     "data": {
      "text/html": [
       "Syncing run <strong><a href='https://wandb.ai/derelioglugokdeniz-bilkent-university/lstm-cybersecurity-fixed/runs/oeobekq3' target=\"_blank\">final_fixed_model</a></strong> to <a href='https://wandb.ai/derelioglugokdeniz-bilkent-university/lstm-cybersecurity-fixed' target=\"_blank\">Weights & Biases</a> (<a href='https://wandb.me/developer-guide' target=\"_blank\">docs</a>)<br>"
      ],
      "text/plain": [
       "<IPython.core.display.HTML object>"
      ]
     },
     "metadata": {},
     "output_type": "display_data"
    },
    {
     "data": {
      "text/html": [
       " View project at <a href='https://wandb.ai/derelioglugokdeniz-bilkent-university/lstm-cybersecurity-fixed' target=\"_blank\">https://wandb.ai/derelioglugokdeniz-bilkent-university/lstm-cybersecurity-fixed</a>"
      ],
      "text/plain": [
       "<IPython.core.display.HTML object>"
      ]
     },
     "metadata": {},
     "output_type": "display_data"
    },
    {
     "data": {
      "text/html": [
       " View run at <a href='https://wandb.ai/derelioglugokdeniz-bilkent-university/lstm-cybersecurity-fixed/runs/oeobekq3' target=\"_blank\">https://wandb.ai/derelioglugokdeniz-bilkent-university/lstm-cybersecurity-fixed/runs/oeobekq3</a>"
      ],
      "text/plain": [
       "<IPython.core.display.HTML object>"
      ]
     },
     "metadata": {},
     "output_type": "display_data"
    },
    {
     "name": "stdout",
     "output_type": "stream",
     "text": [
      "Training with FIXED approach - monitoring for declining performance\n",
      "All hyperparameters logged to W&B project: lstm-cybersecurity-fixed\n",
      "Epoch  1 | Loss: T=0.6763 V=0.6575 Gap=-0.0188\n",
      "         | F1: T=0.5525 V=0.5683 | AUC: 0.6885\n",
      "         | Combined Performance: 0.6031\n",
      "    New best F1: 0.5683\n",
      "Epoch  2 | Loss: T=0.6727 V=0.6540 Gap=-0.0187\n",
      "         | F1: T=0.5777 V=0.5958 | AUC: 0.7457\n",
      "         | Combined Performance: 0.6397\n",
      "    New best F1: 0.5958\n",
      "Epoch  3 | Loss: T=0.6697 V=0.6508 Gap=-0.0189\n",
      "         | F1: T=0.5925 V=0.6238 | AUC: 0.7830\n",
      "         | Combined Performance: 0.6664\n",
      "    New best F1: 0.6238\n",
      "Epoch  4 | Loss: T=0.6666 V=0.6477 Gap=-0.0189\n",
      "         | F1: T=0.6017 V=0.6476 | AUC: 0.8075\n",
      "         | Combined Performance: 0.6856\n",
      "    New best F1: 0.6476\n",
      "Epoch  5 | Loss: T=0.6636 V=0.6446 Gap=-0.0190\n",
      "         | F1: T=0.6157 V=0.6585 | AUC: 0.8236\n",
      "         | Combined Performance: 0.6993\n",
      "    New best F1: 0.6585\n",
      "Epoch  6 | Loss: T=0.6606 V=0.6416 Gap=-0.0190\n",
      "         | F1: T=0.6232 V=0.6613 | AUC: 0.8347\n",
      "         | Combined Performance: 0.7064\n",
      "    New best F1: 0.6613\n",
      "Epoch  7 | Loss: T=0.6565 V=0.6384 Gap=-0.0181\n",
      "         | F1: T=0.6294 V=0.6562 | AUC: 0.8425\n",
      "         | Combined Performance: 0.7094\n",
      "Epoch  8 | Loss: T=0.6534 V=0.6353 Gap=-0.0181\n",
      "         | F1: T=0.6406 V=0.6434 | AUC: 0.8479\n",
      "         | Combined Performance: 0.7106\n"
     ]
    }
   ],
   "source": [
    "# ==============================\n",
    "# FIXED LSTM TRAINING - ADDRESSING DECLINING PERFORMANCE (WORKING + W&B)\n",
    "# Enhanced with comprehensive hyperparameter logging\n",
    "# ==============================\n",
    "\n",
    "import os\n",
    "import numpy as np\n",
    "import torch\n",
    "import torch.nn as nn\n",
    "from torch.utils.data import DataLoader, TensorDataset\n",
    "import optuna\n",
    "from sklearn.metrics import f1_score, roc_auc_score\n",
    "from sklearn.preprocessing import StandardScaler\n",
    "import wandb\n",
    "import pickle\n",
    "import json\n",
    "import warnings\n",
    "import time\n",
    "\n",
    "warnings.filterwarnings('ignore')\n",
    "\n",
    "# ---- W&B robust defaults (online if API key present, else offline) ----\n",
    "if not os.environ.get(\"WANDB_API_KEY\", \"\"):\n",
    "    os.environ[\"WANDB_MODE\"] = \"offline\"  # still logs locally\n",
    "\n",
    "device = torch.device('cuda' if torch.cuda.is_available() else 'cpu')\n",
    "print(f\"Using device: {device}\")\n",
    "\n",
    "def preprocess_data_fixed(X_train, X_val, X_test, y_train, y_val, y_test):\n",
    "    print(\"=== FIXED Data Preprocessing ===\")\n",
    "\n",
    "    X_train = np.array(X_train, dtype=np.float32)\n",
    "    X_val   = np.array(X_val,   dtype=np.float32)\n",
    "    X_test  = np.array(X_test,  dtype=np.float32)\n",
    "    y_train = np.array(y_train, dtype=np.float32).reshape(-1)\n",
    "    y_val   = np.array(y_val,   dtype=np.float32).reshape(-1)\n",
    "    y_test  = np.array(y_test,  dtype=np.float32).reshape(-1)\n",
    "\n",
    "    def clean_sequences(X, y):\n",
    "        valid_mask = ~(np.isnan(X).any(axis=(1,2)) | np.isinf(X).any(axis=(1,2)) |\n",
    "                       np.isnan(y) | np.isinf(y))\n",
    "        return X[valid_mask], y[valid_mask]\n",
    "\n",
    "    X_train, y_train = clean_sequences(X_train, y_train)\n",
    "    X_val,   y_val   = clean_sequences(X_val,   y_val)\n",
    "    X_test,  y_test  = clean_sequences(X_test,  y_test)\n",
    "\n",
    "    print(f\"After cleaning - Train: {len(X_train)}, Val: {len(X_val)}, Test: {len(X_test)}\")\n",
    "\n",
    "    s_train, s_val, s_test = X_train.shape, X_val.shape, X_test.shape\n",
    "    X_train_f = X_train.reshape(-1, s_train[-1])\n",
    "    X_val_f   = X_val.reshape(-1, s_val[-1])\n",
    "    X_test_f  = X_test.reshape(-1, s_test[-1])\n",
    "\n",
    "    scaler = StandardScaler()\n",
    "    X_train_f = scaler.fit_transform(X_train_f)\n",
    "    X_val_f   = scaler.transform(X_val_f)\n",
    "    X_test_f  = scaler.transform(X_test_f)\n",
    "\n",
    "    X_train = np.clip(X_train_f.reshape(s_train), -6.0, 6.0)\n",
    "    X_val   = np.clip(X_val_f.reshape(s_val),   -6.0, 6.0)\n",
    "    X_test  = np.clip(X_test_f.reshape(s_test), -6.0, 6.0)\n",
    "\n",
    "    train_pos_ratio = float(np.mean(y_train))\n",
    "    val_pos_ratio   = float(np.mean(y_val))\n",
    "    print(f\"Class balance - Train: {train_pos_ratio:.3f}, Val: {val_pos_ratio:.3f}\")\n",
    "\n",
    "    if train_pos_ratio > 0:\n",
    "        pos_weight = np.sqrt((1 - train_pos_ratio) / max(train_pos_ratio, 1e-8))\n",
    "        pos_weight = float(np.clip(pos_weight, 0.8, 3.0))\n",
    "    else:\n",
    "        pos_weight = 1.0\n",
    "    print(f\"Calculated pos_weight: {pos_weight:.2f}\")\n",
    "\n",
    "    return X_train, X_val, X_test, y_train, y_val, y_test, scaler, pos_weight\n",
    "\n",
    "\n",
    "class FixedLSTM(nn.Module):\n",
    "    \"\"\"\n",
    "    LSTM with optional bidirectionality and simple additive attention.\n",
    "    \"\"\"\n",
    "    def __init__(self, input_dim, hidden_dim, num_layers, dropout=0.2, bidirectional=False, use_attention=False):\n",
    "        super().__init__()\n",
    "        self.hidden_dim = hidden_dim\n",
    "        self.num_layers = num_layers\n",
    "        self.bidirectional = bidirectional\n",
    "        self.use_attention = use_attention\n",
    "\n",
    "        self.lstm = nn.LSTM(\n",
    "            input_size=input_dim,\n",
    "            hidden_size=hidden_dim,\n",
    "            num_layers=num_layers,\n",
    "            batch_first=True,\n",
    "            dropout=dropout if num_layers > 1 else 0.0,\n",
    "            bidirectional=bidirectional\n",
    "        )\n",
    "\n",
    "        lstm_out_dim = hidden_dim * (2 if bidirectional else 1)\n",
    "\n",
    "        # Simple additive attention over time if enabled\n",
    "        if use_attention:\n",
    "            self.attn = nn.Sequential(\n",
    "                nn.Linear(lstm_out_dim, lstm_out_dim),\n",
    "                nn.Tanh(),\n",
    "                nn.Linear(lstm_out_dim, 1, bias=False)\n",
    "            )\n",
    "\n",
    "        self.dropout1 = nn.Dropout(dropout)\n",
    "        inter = max(lstm_out_dim // 2, 32)\n",
    "        self.fc1 = nn.Linear(lstm_out_dim, inter)\n",
    "        self.dropout2 = nn.Dropout(dropout * 0.5)\n",
    "        self.fc_out = nn.Linear(inter, 1)\n",
    "\n",
    "        self.init_weights()\n",
    "\n",
    "    def init_weights(self):\n",
    "        for name, p in self.named_parameters():\n",
    "            if 'weight_ih' in name:\n",
    "                nn.init.xavier_uniform_(p.data)\n",
    "            elif 'weight_hh' in name:\n",
    "                nn.init.orthogonal_(p.data)\n",
    "            elif 'bias' in name:\n",
    "                p.data.fill_(0)\n",
    "            elif 'fc' in name and 'weight' in name:\n",
    "                nn.init.xavier_uniform_(p.data)\n",
    "\n",
    "    def forward(self, x):\n",
    "        # x: (B, T, F)\n",
    "        lstm_out, (h_n, c_n) = self.lstm(x)  # lstm_out: (B, T, H*)\n",
    "        if self.use_attention:\n",
    "            # scores: (B, T, 1)\n",
    "            scores = self.attn(lstm_out)\n",
    "            weights = torch.softmax(scores, dim=1)  # (B, T, 1)\n",
    "            context = torch.sum(weights * lstm_out, dim=1)  # (B, H*)\n",
    "            feats = context\n",
    "        else:\n",
    "            # last hidden (handle bidirectional)\n",
    "            if self.bidirectional:\n",
    "                # concat last layer's forward & backward\n",
    "                last_layer_h = h_n[-2:,:,:]  # (2, B, H)\n",
    "                feats = torch.cat([last_layer_h[0], last_layer_h[1]], dim=1)  # (B, 2H)\n",
    "            else:\n",
    "                feats = h_n[-1]  # (B, H)\n",
    "\n",
    "        x = self.dropout1(feats)\n",
    "        x = torch.relu(self.fc1(x))\n",
    "        x = self.dropout2(x)\n",
    "        out = self.fc_out(x)\n",
    "        return out.squeeze(-1)\n",
    "\n",
    "\n",
    "def train_lstm_fixed(X_train, y_train, X_val, y_val, params, model, epochs=50, trial=None, run_name=None):\n",
    "    if run_name is None:\n",
    "        run_name = f\"fixed_trial_{trial.number if trial else 'manual'}\"\n",
    "\n",
    "    # Create comprehensive config with ALL hyperparameters\n",
    "    wandb_config = dict(params)\n",
    "    wandb_config.update({\n",
    "        'epochs': epochs,\n",
    "        'model_params': int(sum(p.numel() for p in model.parameters())),\n",
    "        'device': str(device),\n",
    "        'train_samples': len(X_train),\n",
    "        'val_samples': len(X_val),\n",
    "        'input_features': X_train.shape[2],\n",
    "        'sequence_length_actual': X_train.shape[1],\n",
    "        'train_pos_ratio': float(np.mean(y_train)),\n",
    "        'val_pos_ratio': float(np.mean(y_val)),\n",
    "        # Model architecture details\n",
    "        'model_type': 'FixedLSTM',\n",
    "        'lstm_bidirectional': params.get('bidirectional', False),\n",
    "        'use_attention': params.get('use_attention', False),\n",
    "        'hidden_dim': params.get('hidden_dim'),\n",
    "        'num_layers': params.get('num_layers'),\n",
    "        'dropout_rate': params.get('dropout'),\n",
    "        # Training hyperparameters\n",
    "        'learning_rate': params.get('lr'),\n",
    "        'batch_size': params.get('batch_size'),\n",
    "        'l2_regularization': params.get('l2_reg'),\n",
    "        'l1_regularization': params.get('l1_reg', 0.0),\n",
    "        'gradient_clipping': params.get('gradient_clip'),\n",
    "        'pos_weight': params.get('pos_weight'),\n",
    "        'early_stopping_patience': params.get('early_stopping_patience', 15),\n",
    "        'min_delta': params.get('min_delta', 1e-5),\n",
    "        # Optimizer details\n",
    "        'optimizer_type': 'Adam',\n",
    "        'adam_beta1': 0.9,\n",
    "        'adam_beta2': 0.999,\n",
    "        'scheduler_type': 'ReduceLROnPlateau',\n",
    "        'scheduler_factor': 0.7,\n",
    "        'scheduler_patience': 7,\n",
    "        'scheduler_min_lr': 5e-6,\n",
    "        # Loss function\n",
    "        'loss_function': 'BCEWithLogitsLoss',\n",
    "        'criterion_pos_weight': params.get('pos_weight'),\n",
    "        # Data preprocessing\n",
    "        'data_normalization': 'StandardScaler',\n",
    "        'data_clipping_range': '(-6.0, 6.0)',\n",
    "        'decline_detection_threshold': 3,\n",
    "        # Trial info\n",
    "        'trial_number': trial.number if trial else None,\n",
    "        'optuna_study': trial.study.study_name if trial else None\n",
    "    })\n",
    "\n",
    "    run = wandb.init(\n",
    "        project=params.get(\"wandb_project\", \"lstm-cybersecurity-fixed\"),\n",
    "        config=wandb_config,\n",
    "        name=run_name,\n",
    "        reinit=True,\n",
    "        tags=[\"fixed\", \"lstm\", \"declining_performance_fix\", \"comprehensive_logging\"]\n",
    "    )\n",
    "    \n",
    "    # Log model architecture summary\n",
    "    wandb.log({\n",
    "        \"model_summary/total_params\": wandb_config['model_params'],\n",
    "        \"model_summary/trainable_params\": sum(p.numel() for p in model.parameters() if p.requires_grad),\n",
    "        \"model_summary/lstm_output_dim\": wandb_config['hidden_dim'] * (2 if wandb_config['lstm_bidirectional'] else 1),\n",
    "        \"data_summary/feature_dim\": wandb_config['input_features'],\n",
    "        \"data_summary/sequence_length\": wandb_config['sequence_length_actual']\n",
    "    })\n",
    "    \n",
    "    wandb.watch(model, log=\"all\", log_freq=100)\n",
    "\n",
    "    print(f\"Training with FIXED approach - monitoring for declining performance\")\n",
    "    print(f\"All hyperparameters logged to W&B project: {wandb_config.get('wandb_project')}\")\n",
    "\n",
    "    try:\n",
    "        X_train = X_train.astype(np.float32)\n",
    "        X_val   = X_val.astype(np.float32)\n",
    "        y_train = y_train.astype(np.float32)\n",
    "        y_val   = y_val.astype(np.float32)\n",
    "\n",
    "        train_loader = DataLoader(TensorDataset(torch.from_numpy(X_train), torch.from_numpy(y_train)),\n",
    "                                  batch_size=params['batch_size'], shuffle=False)\n",
    "        val_loader   = DataLoader(TensorDataset(torch.from_numpy(X_val),   torch.from_numpy(y_val)),\n",
    "                                  batch_size=params['batch_size'], shuffle=False)\n",
    "\n",
    "        optimizer = torch.optim.Adam(\n",
    "            model.parameters(),\n",
    "            lr=params['lr'],\n",
    "            weight_decay=params['l2_reg'],\n",
    "            betas=(0.9, 0.999),\n",
    "        )\n",
    "\n",
    "        scheduler = torch.optim.lr_scheduler.ReduceLROnPlateau(\n",
    "            optimizer, mode='max', factor=0.7, patience=7, verbose=True, min_lr=5e-6\n",
    "        )\n",
    "\n",
    "        criterion = nn.BCEWithLogitsLoss(\n",
    "            pos_weight=torch.tensor([params['pos_weight']], device=device)\n",
    "        )\n",
    "\n",
    "        # Log optimizer and scheduler hyperparameters\n",
    "        wandb.log({\n",
    "            \"optimizer/initial_lr\": params['lr'],\n",
    "            \"optimizer/weight_decay\": params['l2_reg'],\n",
    "            \"optimizer/beta1\": 0.9,\n",
    "            \"optimizer/beta2\": 0.999,\n",
    "            \"scheduler/factor\": 0.7,\n",
    "            \"scheduler/patience\": 7,\n",
    "            \"scheduler/min_lr\": 5e-6,\n",
    "            \"loss/pos_weight\": params['pos_weight']\n",
    "        })\n",
    "\n",
    "        train_losses, val_losses = [], []\n",
    "        train_f1s, val_f1s, val_aucs = [], [], []\n",
    "        best_val_f1, patience_counter = 0.0, 0\n",
    "        best_model_state = None\n",
    "\n",
    "        performance_history = []\n",
    "        decline_threshold = 3\n",
    "\n",
    "        model.to(device)\n",
    "\n",
    "        # Log initial model state\n",
    "        wandb.log({\n",
    "            \"model_state/initial_weight_norm\": sum(p.norm().item() for p in model.parameters()),\n",
    "            \"training/decline_threshold\": decline_threshold,\n",
    "            \"training/max_epochs\": epochs\n",
    "        })\n",
    "\n",
    "        for epoch in range(epochs):\n",
    "            # --- TRAIN ---\n",
    "            model.train()\n",
    "            epoch_loss = 0.0\n",
    "            train_preds_all, train_targets_all = [], []\n",
    "\n",
    "            for Xb, yb in train_loader:\n",
    "                Xb = Xb.to(device)\n",
    "                yb = yb.to(device)\n",
    "\n",
    "                optimizer.zero_grad()\n",
    "                logits = model(Xb).view(-1)\n",
    "                loss = criterion(logits, yb.view(-1))\n",
    "                if params.get('l1_reg', 0) > 0:\n",
    "                    l1 = sum(p.abs().sum() for p in model.parameters())\n",
    "                    loss = loss + params['l1_reg'] * l1\n",
    "\n",
    "                loss.backward()\n",
    "                torch.nn.utils.clip_grad_norm_(model.parameters(), params['gradient_clip'])\n",
    "                optimizer.step()\n",
    "\n",
    "                epoch_loss += float(loss.item())\n",
    "\n",
    "                with torch.no_grad():\n",
    "                    probs = torch.sigmoid(logits).detach().cpu().numpy().flatten()\n",
    "                    preds = (probs >= 0.5).astype(int)\n",
    "                    train_preds_all.extend(preds.tolist())\n",
    "                    train_targets_all.extend(yb.detach().cpu().numpy().flatten().tolist())\n",
    "\n",
    "            avg_train_loss = epoch_loss / max(1, len(train_loader))\n",
    "            train_losses.append(avg_train_loss)\n",
    "            train_f1 = f1_score(train_targets_all, train_preds_all, zero_division=0) if len(set(train_targets_all)) > 1 else 0.0\n",
    "            train_f1s.append(train_f1)\n",
    "\n",
    "            # --- VAL ---\n",
    "            model.eval()\n",
    "            val_loss_sum = 0.0\n",
    "            val_probs_all, val_targets_all = [], []\n",
    "            with torch.no_grad():\n",
    "                for Xb, yb in val_loader:\n",
    "                    Xb = Xb.to(device)\n",
    "                    yb = yb.to(device)\n",
    "                    logits = model(Xb).view(-1)\n",
    "                    val_loss_sum += float(criterion(logits, yb.view(-1)).item())\n",
    "                    probs = torch.sigmoid(logits).detach().cpu().numpy().flatten()\n",
    "                    val_probs_all.extend(probs.tolist())\n",
    "                    val_targets_all.extend(yb.detach().cpu().numpy().flatten().tolist())\n",
    "\n",
    "            avg_val_loss = val_loss_sum / max(1, len(val_loader))\n",
    "            val_losses.append(avg_val_loss)\n",
    "\n",
    "            if len(np.unique(val_targets_all)) > 1:\n",
    "                val_auc = roc_auc_score(val_targets_all, val_probs_all)\n",
    "            else:\n",
    "                val_auc = 0.5\n",
    "            val_aucs.append(val_auc)\n",
    "\n",
    "            best_val_f1_epoch = 0.0\n",
    "            vp = np.array(val_probs_all)\n",
    "            vt = np.array(val_targets_all)\n",
    "            for thresh in np.arange(0.3, 0.7, 0.05):\n",
    "                preds = (vp >= thresh).astype(int)\n",
    "                f1 = f1_score(vt, preds, zero_division=0)\n",
    "                if f1 > best_val_f1_epoch:\n",
    "                    best_val_f1_epoch = f1\n",
    "            val_f1s.append(best_val_f1_epoch)\n",
    "\n",
    "            current_perf = (train_f1 + best_val_f1_epoch + val_auc) / 3.0\n",
    "            performance_history.append(current_perf)\n",
    "\n",
    "            # Calculate gradient statistics for monitoring\n",
    "            grad_norms = [p.grad.norm().item() for p in model.parameters() if p.grad is not None]\n",
    "            avg_grad_norm = np.mean(grad_norms) if grad_norms else 0.0\n",
    "            max_grad_norm = np.max(grad_norms) if grad_norms else 0.0\n",
    "\n",
    "            # Check for performance decline\n",
    "            decline_detected = False\n",
    "            if len(performance_history) >= decline_threshold + 1:\n",
    "                recent = performance_history[-decline_threshold:]\n",
    "                if all(recent[i] <= recent[i-1] for i in range(1, len(recent))):\n",
    "                    decline_detected = True\n",
    "                    print(\"PERFORMANCE DECLINE DETECTED - stopping training\")\n",
    "                    print(f\"Recent performance: {recent}\")\n",
    "                    wandb.log({\"decline_stop\": 1, \"decline_detected_epoch\": epoch + 1})\n",
    "                    break\n",
    "\n",
    "            loss_gap = avg_val_loss - avg_train_loss\n",
    "            print(f\"Epoch {epoch+1:2d} | Loss: T={avg_train_loss:.4f} V={avg_val_loss:.4f} Gap={loss_gap:.4f}\")\n",
    "            print(f\"         | F1: T={train_f1:.4f} V={best_val_f1_epoch:.4f} | AUC: {val_auc:.4f}\")\n",
    "            print(f\"         | Combined Performance: {current_perf:.4f}\")\n",
    "\n",
    "            # Comprehensive logging to W&B\n",
    "            log_dict = {\n",
    "                \"epoch\": epoch + 1,\n",
    "                \"train_loss\": avg_train_loss,\n",
    "                \"val_loss\": avg_val_loss,\n",
    "                \"loss_gap\": loss_gap,\n",
    "                \"train_f1\": train_f1,\n",
    "                \"val_f1\": best_val_f1_epoch,\n",
    "                \"val_auc\": val_auc,\n",
    "                \"combined_performance\": current_perf,\n",
    "                \"learning_rate\": optimizer.param_groups[0]['lr'],\n",
    "                \"patience_counter\": patience_counter,\n",
    "                \"performance_trend\": np.mean(performance_history[-3:]) if len(performance_history) >= 3 else current_perf,\n",
    "                # Gradient monitoring\n",
    "                \"gradients/avg_norm\": avg_grad_norm,\n",
    "                \"gradients/max_norm\": max_grad_norm,\n",
    "                \"gradients/clipping_threshold\": params['gradient_clip'],\n",
    "                # Training dynamics\n",
    "                \"training/overfitting_gap\": loss_gap,\n",
    "                \"training/performance_stability\": np.std(performance_history[-5:]) if len(performance_history) >= 5 else 0.0,\n",
    "                \"training/decline_detected\": int(decline_detected),\n",
    "                # Model state monitoring\n",
    "                \"model_state/weight_norm\": sum(p.norm().item() for p in model.parameters()),\n",
    "                \"predictions/train_prob_mean\": np.mean([torch.sigmoid(model(torch.from_numpy(X_train[:100].astype(np.float32)).to(device))).detach().cpu().numpy().mean()]),\n",
    "                \"predictions/val_prob_mean\": np.mean(val_probs_all),\n",
    "                \"predictions/val_prob_std\": np.std(val_probs_all),\n",
    "            }\n",
    "            \n",
    "            # Add hyperparameter tracking each epoch (for easy filtering/analysis)\n",
    "            hyperparams_log = {f\"hyperparams/{k}\": v for k, v in params.items() if isinstance(v, (int, float, bool, str))}\n",
    "            log_dict.update(hyperparams_log)\n",
    "            \n",
    "            wandb.log(log_dict)\n",
    "\n",
    "            if best_val_f1_epoch > best_val_f1:\n",
    "                best_val_f1 = best_val_f1_epoch\n",
    "                best_model_state = {k: v.detach().cpu().clone() for k, v in model.state_dict().items()}\n",
    "                patience_counter = 0\n",
    "                print(f\"    New best F1: {best_val_f1:.4f}\")\n",
    "                wandb.log({\n",
    "                    \"best_val_f1\": best_val_f1,\n",
    "                    \"best_epoch\": epoch + 1,\n",
    "                    \"best_model_saved\": 1\n",
    "                })\n",
    "            else:\n",
    "                patience_counter += 1\n",
    "\n",
    "            if patience_counter >= 15:\n",
    "                print(f\"Early stopping after {patience_counter} epochs without improvement\")\n",
    "                wandb.log({\"early_stop\": 1, \"early_stop_epoch\": epoch + 1})\n",
    "                break\n",
    "\n",
    "            scheduler.step(current_perf)\n",
    "\n",
    "            if trial is not None:\n",
    "                trial.report(current_perf, epoch)\n",
    "                if trial.should_prune():\n",
    "                    wandb.log({\"pruned\": 1, \"pruned_epoch\": epoch + 1})\n",
    "                    raise optuna.exceptions.TrialPruned()\n",
    "\n",
    "        if best_model_state is not None:\n",
    "            model.load_state_dict({k: v.to(device) for k, v in best_model_state.items()})\n",
    "            print(f\"Restored best model with F1: {best_val_f1:.4f}\")\n",
    "\n",
    "        # Log final training summary\n",
    "        wandb.log({\n",
    "            \"summary/final_best_val_f1\": best_val_f1,\n",
    "            \"summary/total_epochs_trained\": epoch + 1,\n",
    "            \"summary/early_stopped\": int(patience_counter >= 15),\n",
    "            \"summary/decline_stopped\": int(decline_detected),\n",
    "            \"summary/final_lr\": optimizer.param_groups[0]['lr'],\n",
    "            \"summary/performance_decline_episodes\": sum(1 for i in range(1, len(performance_history)) \n",
    "                                                      if performance_history[i] < performance_history[i-1])\n",
    "        })\n",
    "\n",
    "    except Exception as e:\n",
    "        print(f\"Error in training: {e}\")\n",
    "        wandb.log({\"training_error\": str(e)})\n",
    "        raise\n",
    "    finally:\n",
    "        wandb.finish()\n",
    "\n",
    "    return model, {\n",
    "        'train_losses': train_losses,\n",
    "        'val_losses': val_losses,\n",
    "        'train_f1s': train_f1s,\n",
    "        'val_f1s': val_f1s,\n",
    "        'val_aucs': val_aucs,\n",
    "        'best_val_f1': best_val_f1,\n",
    "        'performance_history': performance_history\n",
    "    }\n",
    "\n",
    "\n",
    "def fixed_objective(trial):\n",
    "    print(f\"\\nFIXED Trial #{trial.number}\")\n",
    "\n",
    "    # --- Hyperparameter search space ---\n",
    "    params = {\n",
    "    'hidden_dim': trial.suggest_categorical(\n",
    "        'hidden_dim', [4, 8, 16, 32, 48, 64, 96, 128, 192, 256, 384, 512]\n",
    "    ),\n",
    "    'num_layers': trial.suggest_int('num_layers', 1, 10, step=1),\n",
    "    'dropout': trial.suggest_float('dropout', 0.05, 0.6),  # allow slightly lower and higher\n",
    "    'use_attention': trial.suggest_categorical('use_attention', [True, False]),\n",
    "    'bidirectional': trial.suggest_categorical('bidirectional', [True, False]),\n",
    "    'sequence_length': trial.suggest_categorical(\n",
    "        'sequence_length', [4, 8, 16, 24, 32, 48, 64, 96, 128, 160, 192]\n",
    "    ),\n",
    "    'lr': trial.suggest_float('lr', 1e-4, 1e-2, log=True),  # wider range\n",
    "    'batch_size': trial.suggest_categorical('batch_size', [16, 32, 64, 128, 256, 512, 1024]),\n",
    "    'l2_reg': trial.suggest_float('l2_reg', 1e-6, 5e-3, log=True),  # slightly wider\n",
    "    'gradient_clip': trial.suggest_float('gradient_clip', 0.5, 10.0),  # explore more\n",
    "    'l1_reg': trial.suggest_float('l1_reg', 1e-8, 1e-3, log=True),\n",
    "    'early_stopping_patience': trial.suggest_int('early_stopping_patience', 10, 60, step=5),\n",
    "    'min_delta': trial.suggest_float('min_delta', 1e-6, 1e-3, log=True),\n",
    "    'wandb_project': \"lstm-cybersecurity-fixed\"\n",
    "}\n",
    "\n",
    "\n",
    "    # --- Prepare data (sequence length adjustment, preprocessing) ---\n",
    "    seq_len = params['sequence_length']\n",
    "    def adjust_seq(x, target_len):\n",
    "        cur = x.shape[1]\n",
    "        if target_len == cur:\n",
    "            return x\n",
    "        if target_len < cur:\n",
    "            return x[:, -target_len:, :]\n",
    "        pad = target_len - cur\n",
    "        return np.pad(x, ((0,0), (pad,0), (0,0)), mode='constant')\n",
    "\n",
    "    X_train_trial = adjust_seq(globals()['X_train_seq'], seq_len)\n",
    "    X_val_trial   = adjust_seq(globals()['X_val_seq'],   seq_len)\n",
    "    X_test_trial  = adjust_seq(globals()['X_test_seq'],  seq_len)\n",
    "\n",
    "    X_train_c, X_val_c, X_test_c, y_train_c, y_val_c, y_test_c, scaler, pos_weight = preprocess_data_fixed(\n",
    "        X_train_trial, X_val_trial, X_test_trial,\n",
    "        globals()['y_train_seq'], globals()['y_val_seq'], globals()['y_test_seq']\n",
    "    )\n",
    "    params['pos_weight'] = pos_weight\n",
    "\n",
    "    model = FixedLSTM(\n",
    "        input_dim=X_train_c.shape[2],\n",
    "        hidden_dim=params['hidden_dim'],\n",
    "        num_layers=params['num_layers'],\n",
    "        dropout=params['dropout'],\n",
    "        bidirectional=params['bidirectional'],\n",
    "        use_attention=params['use_attention']\n",
    "    ).to(device)\n",
    "\n",
    "    run_name = f\"fixed_trial_{trial.number}_h{params['hidden_dim']}_l{params['num_layers']}_bi{int(params['bidirectional'])}_att{int(params['use_attention'])}\"\n",
    "\n",
    "    trained_model, history = train_lstm_fixed(\n",
    "        X_train_c, y_train_c, X_val_c, y_val_c,\n",
    "        params, model, epochs=100, trial=trial, run_name=run_name\n",
    "    )\n",
    "\n",
    "    best_f1 = history['best_val_f1']\n",
    "\n",
    "    # --- Loss decrease penalties ---\n",
    "    train_loss_decrease = max(0.0, history['train_losses'][0] - history['train_losses'][-1])\n",
    "    val_loss_decrease   = max(0.0, history['val_losses'][0] - history['val_losses'][-1])\n",
    "    decrease_penalty = max(0.0, 1.0 - train_loss_decrease - val_loss_decrease) * 5.0  # penalize if losses didn't decrease enough\n",
    "\n",
    "    # --- Loss gap penalty (want gap close to 0) ---\n",
    "    final_train_loss = history['train_losses'][-1]\n",
    "    final_val_loss   = history['val_losses'][-1]\n",
    "    loss_gap = abs(final_val_loss - final_train_loss)\n",
    "    gap_penalty = loss_gap * 2.0  # heavily penalize large gap\n",
    "\n",
    "    # --- Final score (Optuna maximizes this) ---\n",
    "    final_score = best_f1 - decrease_penalty - gap_penalty\n",
    "    print(f\"Trial {trial.number}: \"\n",
    "          f\"F1={best_f1:.4f}, Decrease_penalty={decrease_penalty:.4f}, \"\n",
    "          f\"Gap_penalty={gap_penalty:.4f}, Score={final_score:.4f}\")\n",
    "\n",
    "    return final_score\n",
    "\n",
    "\n",
    "\n",
    "\n",
    "def run_fixed_optimization():\n",
    "    print(\"\\n=== FIXED LSTM OPTIMIZATION ===\")\n",
    "    print(\"Target: Fix declining F1/AUC performance\")\n",
    "\n",
    "    required_vars = ['X_train_seq', 'y_train_seq', 'X_val_seq', 'y_val_seq', 'X_test_seq', 'y_test_seq']\n",
    "    miss = [v for v in required_vars if v not in globals()]\n",
    "    if miss:\n",
    "        print(f\"Missing variables: {miss}\")\n",
    "        print(\"Please ensure your data is loaded and named correctly.\")\n",
    "        return None\n",
    "\n",
    "    study = optuna.create_study(\n",
    "        direction='maximize',\n",
    "        pruner=optuna.pruners.MedianPruner(n_startup_trials=5, n_warmup_steps=10),\n",
    "        study_name=f\"fixed_lstm_{int(time.time())}\"\n",
    "    )\n",
    "\n",
    "    print(\"Optimizing parameters...\")\n",
    "    try:\n",
    "        study.optimize(fixed_objective, n_trials=25, timeout=2400)\n",
    "    except KeyboardInterrupt:\n",
    "        print(\"\\nOptimization interrupted\")\n",
    "    except Exception as e:\n",
    "        print(f\"\\nOptimization failed: {e}\")\n",
    "        return None\n",
    "\n",
    "    best_trial = study.best_trial\n",
    "    print(f\"\\nBest score: {best_trial.value:.4f}\")\n",
    "    print(\"Best parameters:\")\n",
    "    for k, v in best_trial.params.items():\n",
    "        print(f\"   {k}: {v}\")\n",
    "\n",
    "    # Log study-level hyperparameter summary to W&B\n",
    "    study_summary_run = wandb.init(\n",
    "        project=\"lstm-cybersecurity-fixed\",\n",
    "        name=\"study_summary\",\n",
    "        tags=[\"study_summary\", \"best_hyperparams\"],\n",
    "        reinit=True\n",
    "    )\n",
    "    \n",
    "    # Log best hyperparameters with clear naming\n",
    "    best_hyperparams_log = {}\n",
    "    for k, v in best_trial.params.items():\n",
    "        best_hyperparams_log[f\"best_hyperparams/{k}\"] = v\n",
    "    \n",
    "    best_hyperparams_log.update({\n",
    "        \"study/best_score\": best_trial.value,\n",
    "        \"study/n_trials\": len(study.trials),\n",
    "        \"study/study_name\": study.study_name,\n",
    "        \"study/optimization_complete\": 1\n",
    "    })\n",
    "    \n",
    "    wandb.log(best_hyperparams_log)\n",
    "    wandb.finish()\n",
    "\n",
    "    print(\"\\n=== TRAINING FINAL FIXED MODEL ===\")\n",
    "    best_params = dict(best_trial.params)\n",
    "    best_params.update({'early_stopping_patience': 15, 'min_delta': 1e-5, 'wandb_project': \"lstm-cybersecurity-fixed\"})\n",
    "\n",
    "    seq_len = best_params['sequence_length']\n",
    "\n",
    "    def adjust_seq(x, target_len):\n",
    "        cur = x.shape[1]\n",
    "        if target_len == cur:\n",
    "            return x\n",
    "        if target_len < cur:\n",
    "            return x[:, -target_len:, :]\n",
    "        pad = target_len - cur\n",
    "        return np.pad(x, ((0,0), (pad,0), (0,0)), mode='constant')\n",
    "\n",
    "    X_train_final = adjust_seq(globals()['X_train_seq'], seq_len)\n",
    "    X_val_final   = adjust_seq(globals()['X_val_seq'],   seq_len)\n",
    "    X_test_final  = adjust_seq(globals()['X_test_seq'],  seq_len)\n",
    "\n",
    "    X_train_c, X_val_c, X_test_c, y_train_c, y_val_c, y_test_c, scaler, pos_weight = preprocess_data_fixed(\n",
    "        X_train_final, X_val_final, X_test_final, globals()['y_train_seq'], globals()['y_val_seq'], globals()['y_test_seq']\n",
    "    )\n",
    "\n",
    "    best_params['pos_weight'] = pos_weight\n",
    "\n",
    "    final_model = FixedLSTM(\n",
    "        input_dim=X_train_c.shape[2],\n",
    "        hidden_dim=best_params['hidden_dim'],\n",
    "        num_layers=best_params['num_layers'],\n",
    "        dropout=best_params['dropout'],\n",
    "        bidirectional=best_params['bidirectional'],\n",
    "        use_attention=best_params['use_attention']\n",
    "    ).to(device)\n",
    "\n",
    "    final_model, final_history = train_lstm_fixed(\n",
    "        X_train_c, y_train_c, X_val_c, y_val_c,\n",
    "        best_params, final_model, epochs=120, run_name=\"final_fixed_model\"\n",
    "    )\n",
    "\n",
    "    print(\"\\n=== FINAL EVALUATION ===\")\n",
    "    final_model.eval()\n",
    "    with torch.no_grad():\n",
    "        X_test_tensor = torch.from_numpy(X_test_c.astype(np.float32)).to(device)\n",
    "        test_logits = final_model(X_test_tensor)\n",
    "        test_probs = torch.sigmoid(test_logits).detach().cpu().numpy()\n",
    "\n",
    "        X_val_tensor = torch.from_numpy(X_val_c.astype(np.float32)).to(device)\n",
    "        val_probs = torch.sigmoid(final_model(X_val_tensor)).detach().cpu().numpy()\n",
    "\n",
    "        best_threshold, best_val_f1_thresh = 0.5, 0.0\n",
    "        for th in np.arange(0.3, 0.7, 0.05):\n",
    "            vpred = (val_probs >= th).astype(int)\n",
    "            vf1 = f1_score(y_val_c, vpred, zero_division=0)\n",
    "            if vf1 > best_val_f1_thresh:\n",
    "                best_val_f1_thresh = vf1\n",
    "                best_threshold = float(th)\n",
    "\n",
    "        test_preds = (test_probs >= best_threshold).astype(int)\n",
    "        test_f1 = f1_score(y_test_c, test_preds, zero_division=0)\n",
    "        test_auc = roc_auc_score(y_test_c, test_probs) if len(np.unique(y_test_c)) > 1 else 0.5\n",
    "        print(f\"Final Test Results:\\n   F1: {test_f1:.4f}\\n   AUC: {test_auc:.4f}\\n   Thr: {best_threshold:.3f}\")\n",
    "\n",
    "    # Log final test results with all hyperparameters\n",
    "    final_results_run = wandb.init(\n",
    "        project=\"lstm-cybersecurity-fixed\",\n",
    "        name=\"final_test_results\",\n",
    "        tags=[\"final_results\", \"test_evaluation\"],\n",
    "        reinit=True\n",
    "    )\n",
    "    \n",
    "    final_results_log = {\n",
    "        \"final_test/f1_score\": test_f1,\n",
    "        \"final_test/auc_score\": test_auc,\n",
    "        \"final_test/best_threshold\": best_threshold,\n",
    "        \"final_test/test_samples\": len(y_test_c),\n",
    "    }\n",
    "    \n",
    "    # Include all best hyperparameters in final results\n",
    "    for k, v in best_params.items():\n",
    "        if isinstance(v, (int, float, bool, str)):\n",
    "            final_results_log[f\"final_hyperparams/{k}\"] = v\n",
    "    \n",
    "    wandb.log(final_results_log)\n",
    "    wandb.finish()\n",
    "\n",
    "    torch.save(final_model.state_dict(), \"fixed_best_model.pth\")\n",
    "    with open(\"fixed_study.pkl\", \"wb\") as f:\n",
    "        pickle.dump(study, f)\n",
    "    with open(\"fixed_best_params.json\", \"w\") as f:\n",
    "        json.dump(best_params, f, indent=2)\n",
    "\n",
    "    return study, final_model, best_params\n",
    "\n",
    "\n",
    "def quick_diagnostic_check(model, X_train, X_val, y_train, y_val):\n",
    "    print(\"\\n=== PERFORMANCE DECLINE DIAGNOSTIC ===\")\n",
    "    model.eval()\n",
    "    with torch.no_grad():\n",
    "        train_tensor = torch.from_numpy(X_train[:min(1000, len(X_train))].astype(np.float32)).to(device)\n",
    "        val_tensor   = torch.from_numpy(X_val.astype(np.float32)).to(device)\n",
    "        train_probs  = torch.sigmoid(model(train_tensor)).detach().cpu().numpy()\n",
    "        val_probs    = torch.sigmoid(model(val_tensor)).detach().cpu().numpy()\n",
    "\n",
    "        tr_range = float(np.max(train_probs) - np.min(train_probs))\n",
    "        va_range = float(np.max(val_probs) - np.min(val_probs))\n",
    "        print(f\"Prediction analysis:\\n   Train prob range: {tr_range:.4f}\\n   Val prob range: {va_range:.4f}\\n\"\n",
    "              f\"   Train prob mean: {np.mean(train_probs):.4f}\\n   Val prob mean: {np.mean(val_probs):.4f}\")\n",
    "\n",
    "        tr_ent = -np.mean(train_probs * np.log(train_probs + 1e-8) + (1-train_probs) * np.log(1-train_probs + 1e-8))\n",
    "        va_ent = -np.mean(val_probs * np.log(val_probs + 1e-8) + (1-val_probs) * np.log(1-val_probs + 1e-8))\n",
    "        print(f\"   Train entropy: {tr_ent:.4f}\\n   Val entropy: {va_ent:.4f}\")\n",
    "\n",
    "    model.train()\n",
    "    dummy_input  = torch.from_numpy(X_train[:32].astype(np.float32)).to(device)\n",
    "    dummy_target = torch.from_numpy(y_train[:32].astype(np.float32)).to(device)\n",
    "    logits = model(dummy_input).view(-1)\n",
    "    loss = nn.BCEWithLogitsLoss()(logits, dummy_target.view(-1))\n",
    "    loss.backward()\n",
    "    grad_norms = [p.grad.norm().item() for p in model.parameters() if p.grad is not None]\n",
    "    if grad_norms:\n",
    "        avg_grad_norm = float(np.mean(grad_norms))\n",
    "        print(f\"   Average gradient norm: {avg_grad_norm:.6f}\")\n",
    "        if avg_grad_norm < 1e-6:\n",
    "            print(\"   WARNING: Very small gradients (vanishing).\")\n",
    "        elif avg_grad_norm > 10:\n",
    "            print(\"   WARNING: Very large gradients (exploding).\")\n",
    "\n",
    "\n",
    "# ==============================\n",
    "# COMPLETE USAGE EXAMPLE\n",
    "# ==============================\n",
    "# Expect the following globals to be already defined in your environment:\n",
    "# X_train_seq, y_train_seq, X_val_seq, y_val_seq, X_test_seq, y_test_seq\n",
    "\n",
    "if __name__ == \"__main__\":\n",
    "    result = run_fixed_optimization()\n",
    "    if result is not None:\n",
    "        study_fixed, model_fixed, params_fixed = result\n",
    "        print(\"\\n\" + \"=\"*60)\n",
    "        print(\"SUMMARY - FIXING DECLINING F1/AUC PERFORMANCE:\")\n",
    "        print(\"=\"*60)\n",
    "        print(\"1) Correct Optuna sampling; 2) W&B always logs; 3) Optional attention/bidirectional wired;\")\n",
    "        print(\"4) Conservative regularization & BCEWithLogitsLoss; 5) Decline detection + early stop.\")\n",
    "        print(\"6) COMPREHENSIVE HYPERPARAMETER LOGGING TO W&B\")\n",
    "        print(\"=\"*60)"
   ]
  },
  {
   "cell_type": "code",
   "execution_count": null,
   "id": "d0133f9c",
   "metadata": {},
   "outputs": [
    {
     "name": "stdout",
     "output_type": "stream",
     "text": [
      "🎲 All seeds set to 42 for reproducibility\n",
      "\n",
      "=== ENHANCED STEP 7: Robust LSTM Training with WandB ===\n",
      "Initializing AdvancedLSTM:\n",
      "  Input dim: 50\n",
      "  Hidden dim: 64\n",
      "  Num layers: 5\n",
      "  Dropout: 0.5\n",
      "  Attention: False\n",
      "  Bidirectional: False\n",
      "  Total parameters: 169,217\n",
      "  Trainable parameters: 169,217\n",
      "Model parameters: 169,217\n",
      "Parameters per training sample: 25.98\n",
      "\n",
      "🔍 Debugging tensor shapes...\n",
      "\n",
      "=== TENSOR SHAPE DEBUGGING ===\n",
      "Input X shape: torch.Size([5, 64, 50])\n",
      "Input y shape: torch.Size([5])\n",
      "Raw model output shape: torch.Size([5])\n",
      "Raw model output: tensor([0.0423, 0.0424, 0.0424, 0.0424, 0.0424], device='cuda:0')\n",
      "After squeeze(-1): torch.Size([5])\n",
      "Target tensor final shape: torch.Size([5])\n",
      "Shapes match: True\n",
      "\n",
      "🚀 Starting enhanced robust training with WandB...\n",
      "🎲 All seeds set to 42 for reproducibility\n"
     ]
    },
    {
     "name": "stderr",
     "output_type": "stream",
     "text": [
      "wandb: WARNING Calling wandb.login() after wandb.init() has no effect.\n"
     ]
    },
    {
     "name": "stdout",
     "output_type": "stream",
     "text": [
      "✅ WandB login successful - ONLINE MODE ENABLED\n"
     ]
    },
    {
     "data": {
      "text/html": [
       "Finishing previous runs because reinit is set to True."
      ],
      "text/plain": [
       "<IPython.core.display.HTML object>"
      ]
     },
     "metadata": {},
     "output_type": "display_data"
    },
    {
     "data": {
      "text/html": [],
      "text/plain": [
       "<IPython.core.display.HTML object>"
      ]
     },
     "metadata": {},
     "output_type": "display_data"
    },
    {
     "data": {
      "text/html": [
       " View run <strong style=\"color:#cdcd00\">robust_training_1756670915</strong> at: <a href='https://wandb.ai/derelioglugokdeniz-bilkent-university/lstm-attack-detection-robust/runs/dbvfz2iz' target=\"_blank\">https://wandb.ai/derelioglugokdeniz-bilkent-university/lstm-attack-detection-robust/runs/dbvfz2iz</a><br> View project at: <a href='https://wandb.ai/derelioglugokdeniz-bilkent-university/lstm-attack-detection-robust' target=\"_blank\">https://wandb.ai/derelioglugokdeniz-bilkent-university/lstm-attack-detection-robust</a><br>Synced 5 W&B file(s), 0 media file(s), 0 artifact file(s) and 0 other file(s)"
      ],
      "text/plain": [
       "<IPython.core.display.HTML object>"
      ]
     },
     "metadata": {},
     "output_type": "display_data"
    },
    {
     "data": {
      "text/html": [
       "Find logs at: <code>.\\wandb\\run-20250831_230835-dbvfz2iz\\logs</code>"
      ],
      "text/plain": [
       "<IPython.core.display.HTML object>"
      ]
     },
     "metadata": {},
     "output_type": "display_data"
    },
    {
     "name": "stderr",
     "output_type": "stream",
     "text": [
      "wandb: WARNING Cannot find valid git repo associated with this directory.\n"
     ]
    },
    {
     "data": {
      "text/html": [
       "Waiting for wandb.init()..."
      ],
      "text/plain": [
       "<IPython.core.display.HTML object>"
      ]
     },
     "metadata": {},
     "output_type": "display_data"
    },
    {
     "data": {
      "text/html": [
       "Tracking run with wandb version 0.21.2"
      ],
      "text/plain": [
       "<IPython.core.display.HTML object>"
      ]
     },
     "metadata": {},
     "output_type": "display_data"
    },
    {
     "data": {
      "text/html": [
       "Run data is saved locally in <code>c:\\Users\\gokde\\OneDrive\\Masaüstü\\Anomaly-Detection-and-Network-Optimization-in-SDNs\\real_project\\wandb\\run-20250831_230921-d2q81p7m</code>"
      ],
      "text/plain": [
       "<IPython.core.display.HTML object>"
      ]
     },
     "metadata": {},
     "output_type": "display_data"
    },
    {
     "data": {
      "text/html": [
       "Syncing run <strong><a href='https://wandb.ai/derelioglugokdeniz-bilkent-university/lstm-attack-detection-robust/runs/d2q81p7m' target=\"_blank\">robust_training_1756670961</a></strong> to <a href='https://wandb.ai/derelioglugokdeniz-bilkent-university/lstm-attack-detection-robust' target=\"_blank\">Weights & Biases</a> (<a href='https://wandb.me/developer-guide' target=\"_blank\">docs</a>)<br>"
      ],
      "text/plain": [
       "<IPython.core.display.HTML object>"
      ]
     },
     "metadata": {},
     "output_type": "display_data"
    },
    {
     "data": {
      "text/html": [
       " View project at <a href='https://wandb.ai/derelioglugokdeniz-bilkent-university/lstm-attack-detection-robust' target=\"_blank\">https://wandb.ai/derelioglugokdeniz-bilkent-university/lstm-attack-detection-robust</a>"
      ],
      "text/plain": [
       "<IPython.core.display.HTML object>"
      ]
     },
     "metadata": {},
     "output_type": "display_data"
    },
    {
     "data": {
      "text/html": [
       " View run at <a href='https://wandb.ai/derelioglugokdeniz-bilkent-university/lstm-attack-detection-robust/runs/d2q81p7m' target=\"_blank\">https://wandb.ai/derelioglugokdeniz-bilkent-university/lstm-attack-detection-robust/runs/d2q81p7m</a>"
      ],
      "text/plain": [
       "<IPython.core.display.HTML object>"
      ]
     },
     "metadata": {},
     "output_type": "display_data"
    },
    {
     "name": "stdout",
     "output_type": "stream",
     "text": [
      "SUCCESS: WandB run initialized!\n",
      "Starting training: 100 epochs, patience=15\n",
      "Epoch  1 | Loss: T=0.6312 V=0.5810 | F1: T=0.6282 V=0.7695 | AUC: 0.8621 | Time: 1.0s\n",
      "    ✅ New best F1: 0.7695\n"
     ]
    },
    {
     "data": {
      "image/png": "[encoded data removed]",
      "text/plain": [
       "<Figure size 1800x1000 with 9 Axes>"
      ]
     },
     "metadata": {},
     "output_type": "display_data"
    },
    {
     "name": "stderr",
     "output_type": "stream",
     "text": [
      "wandb: Network error (SSLError), entering retry loop.\n"
     ]
    }
   ],
   "source": [
    "# ==============================\n",
    "# ENHANCED STEP 7: ROBUST TRAINING WITH WANDB + SEEDING\n",
    "# ==============================\n",
    "\n",
    "import os\n",
    "import numpy as np\n",
    "import torch\n",
    "import torch.nn as nn\n",
    "from torch.utils.data import DataLoader, TensorDataset\n",
    "import random\n",
    "import wandb\n",
    "import time\n",
    "from sklearn.metrics import f1_score, roc_auc_score, classification_report, confusion_matrix, precision_score, recall_score\n",
    "import matplotlib.pyplot as plt\n",
    "\n",
    "# ==============================\n",
    "# RANDOM SEEDING FOR REPRODUCIBILITY\n",
    "# ==============================\n",
    "def set_all_seeds(seed=42):\n",
    "    \"\"\"Set all random seeds for reproducibility\"\"\"\n",
    "    random.seed(seed)\n",
    "    np.random.seed(seed)\n",
    "    torch.manual_seed(seed)\n",
    "    torch.cuda.manual_seed(seed)\n",
    "    torch.cuda.manual_seed_all(seed)\n",
    "    torch.backends.cudnn.deterministic = True\n",
    "    torch.backends.cudnn.benchmark = False\n",
    "    os.environ['PYTHONHASHSEED'] = str(seed)\n",
    "    print(f\"🎲 All seeds set to {seed} for reproducibility\")\n",
    "\n",
    "# Set seeds at the start\n",
    "set_all_seeds(42)\n",
    "\n",
    "# ==============================\n",
    "# WANDB SETUP WITH FIXED SETTINGS\n",
    "# ==============================\n",
    "WANDB_API_KEY = \"4cac7a348a78f711d2890b70c3252efbe9c16fe5\"  # Your API key\n",
    "\n",
    "def setup_wandb(project_name, run_name, config=None):\n",
    "    \"\"\"Setup WandB with proper settings (no invalid parameters)\"\"\"\n",
    "    # Clear environment and setup\n",
    "    os.environ[\"WANDB_API_KEY\"] = WANDB_API_KEY\n",
    "    os.environ[\"WANDB_MODE\"] = \"online\"\n",
    "    \n",
    "    # Login\n",
    "    try:\n",
    "        wandb.login(key=WANDB_API_KEY, force=True, relogin=True)\n",
    "        print(\"✅ WandB login successful - ONLINE MODE ENABLED\")\n",
    "    except Exception as e:\n",
    "        print(f\"❌ WandB login failed: {e}\")\n",
    "        raise\n",
    "    \n",
    "    # Initialize with FIXED settings (no _disable_service)\n",
    "    run = wandb.init(\n",
    "        project=project_name,\n",
    "        name=run_name,\n",
    "        config=config,\n",
    "        mode=\"online\",\n",
    "        force=True,\n",
    "        reinit=True,\n",
    "        settings=wandb.Settings(_service_wait=300)  # Only valid parameter\n",
    "    )\n",
    "    \n",
    "    # Check if run is properly initialized\n",
    "    if run is None:\n",
    "        print(\"WARNING: WandB run not properly initialized!\")\n",
    "    else:\n",
    "        print(\"SUCCESS: WandB run initialized!\")\n",
    "    \n",
    "    return run\n",
    "\n",
    "# ==============================\n",
    "# ENHANCED ROBUST TRAINING FUNCTION\n",
    "# ==============================\n",
    "\n",
    "def train_lstm_robust_antioverfitting_wandb(X_train, y_train, X_val, y_val, params, model, epochs=30, use_wandb=True):\n",
    "    \"\"\"\n",
    "    Step 7 robust training with WandB logging and proper seeding\n",
    "    \"\"\"\n",
    "    # Set seeds for this training session\n",
    "    set_all_seeds(params.get('seed', 42))\n",
    "    \n",
    "    # Setup WandB if requested\n",
    "    if use_wandb:\n",
    "        wandb_run = setup_wandb(\n",
    "            project_name=\"lstm-attack-detection-robust\",\n",
    "            run_name=f\"robust_training_{int(time.time())}\",\n",
    "            config=params\n",
    "        )\n",
    "        wandb.watch(model, log=\"all\", log_freq=50)\n",
    "        \n",
    "        # Log model architecture\n",
    "        total_params = sum(p.numel() for p in model.parameters())\n",
    "        wandb.log({\n",
    "            \"model/total_parameters\": total_params,\n",
    "            \"model/params_per_sample\": total_params/len(X_train)\n",
    "        })\n",
    "    \n",
    "    # Data preparation (exactly as in Step 7)\n",
    "    X_train = X_train.astype(np.float32)\n",
    "    X_val = X_val.astype(np.float32)\n",
    "    y_train = y_train.astype(np.float32)\n",
    "    y_val = y_val.astype(np.float32)\n",
    "\n",
    "    # NO SHUFFLING to preserve chronology (from Step 7)\n",
    "    train_dataset = TensorDataset(torch.from_numpy(X_train), torch.from_numpy(y_train))\n",
    "    val_dataset = TensorDataset(torch.from_numpy(X_val), torch.from_numpy(y_val))\n",
    "\n",
    "    # Fixed DataLoader settings for Windows\n",
    "    train_loader = DataLoader(\n",
    "        train_dataset, batch_size=params['batch_size'], \n",
    "        shuffle=False, pin_memory=False, num_workers=0  # Windows fix\n",
    "    )\n",
    "    val_loader = DataLoader(\n",
    "        val_dataset, batch_size=params['batch_size'],\n",
    "        shuffle=False, pin_memory=False, num_workers=0  # Windows fix\n",
    "    )\n",
    "\n",
    "    # Optimizer with weight decay (from Step 7)\n",
    "    optimizer = torch.optim.Adam(\n",
    "        model.parameters(),\n",
    "        lr=params['lr'],\n",
    "        weight_decay=params['l2_reg']\n",
    "    )\n",
    "\n",
    "    # Conservative scheduler (from Step 7)\n",
    "    scheduler = torch.optim.lr_scheduler.ReduceLROnPlateau(\n",
    "        optimizer, mode='max', factor=0.6, \n",
    "        patience=params.get('reduce_lr_patience', 3), verbose=True\n",
    "    )\n",
    "\n",
    "    # Loss with class weights\n",
    "    criterion = nn.BCEWithLogitsLoss(\n",
    "        pos_weight=torch.tensor([params['pos_weight']], device=device)\n",
    "    )\n",
    "\n",
    "    # Tracking variables (from Step 7)\n",
    "    train_losses, val_losses = [], []\n",
    "    train_f1s, val_f1s, val_aucs = [], [], []\n",
    "    best_val_f1, patience_counter = 0, 0\n",
    "    best_model_state = None\n",
    "    best_threshold = 0.5\n",
    "\n",
    "    print(f\"Starting training: {epochs} epochs, patience={params.get('early_stopping_patience', 15)}\")\n",
    "\n",
    "    for epoch in range(epochs):\n",
    "        epoch_start_time = time.time()\n",
    "        \n",
    "        # =============\n",
    "        # TRAINING (Step 7 logic with WandB logging)\n",
    "        # =============\n",
    "        model.train()\n",
    "        epoch_loss, train_preds_all, train_targets_all = 0, [], []\n",
    "        total_grad_norm = 0\n",
    "        batch_count = 0\n",
    "\n",
    "        for batch_idx, (X_batch, y_batch) in enumerate(train_loader):\n",
    "            X_batch, y_batch = X_batch.to(device), y_batch.to(device)\n",
    "\n",
    "            optimizer.zero_grad()\n",
    "            outputs = model(X_batch)\n",
    "            \n",
    "            # ROBUST TENSOR SHAPE HANDLING (from Step 7)\n",
    "            if outputs.dim() > 1:\n",
    "                outputs = outputs.squeeze(-1)  # Remove only last dimension if it exists\n",
    "            if y_batch.dim() > 1:\n",
    "                y_batch = y_batch.squeeze(-1)  # Remove only last dimension if it exists\n",
    "                \n",
    "            # Ensure both tensors have same shape\n",
    "            if outputs.shape != y_batch.shape:\n",
    "                print(f\"Shape mismatch: outputs {outputs.shape}, targets {y_batch.shape}\")\n",
    "                outputs = outputs.view(-1)\n",
    "                y_batch = y_batch.view(-1)\n",
    "            \n",
    "            loss = criterion(outputs, y_batch)\n",
    "            loss.backward()\n",
    "            \n",
    "            # Gradient clipping (from Step 7)\n",
    "            grad_norm = torch.nn.utils.clip_grad_norm_(model.parameters(), params.get('gradient_clip', 1.0))\n",
    "            total_grad_norm += grad_norm\n",
    "            batch_count += 1\n",
    "            \n",
    "            optimizer.step()\n",
    "\n",
    "            epoch_loss += loss.item()\n",
    "            \n",
    "            # Collect training predictions (from Step 7)\n",
    "            with torch.no_grad():\n",
    "                probs = torch.sigmoid(outputs).cpu().numpy().flatten()\n",
    "                preds = (probs >= 0.5).astype(int)\n",
    "                train_preds_all.extend(preds)\n",
    "                train_targets_all.extend(y_batch.cpu().numpy().flatten())\n",
    "\n",
    "        avg_train_loss = epoch_loss / len(train_loader)\n",
    "        train_losses.append(avg_train_loss)\n",
    "        \n",
    "        # Training F1\n",
    "        train_f1 = f1_score(train_targets_all, train_preds_all, zero_division=0)\n",
    "        train_f1s.append(train_f1)\n",
    "        \n",
    "        avg_grad_norm = total_grad_norm / batch_count if batch_count > 0 else 0\n",
    "\n",
    "        # =============\n",
    "        # VALIDATION (Step 7 logic with WandB logging)\n",
    "        # =============\n",
    "        model.eval()\n",
    "        val_loss, val_probs_all, val_targets_all = 0, [], []\n",
    "\n",
    "        with torch.no_grad():\n",
    "            for X_batch, y_batch in val_loader:\n",
    "                X_batch, y_batch = X_batch.to(device), y_batch.to(device)\n",
    "                outputs = model(X_batch)\n",
    "                \n",
    "                # ROBUST TENSOR SHAPE HANDLING (from Step 7)\n",
    "                if outputs.dim() > 1:\n",
    "                    outputs = outputs.squeeze(-1)\n",
    "                if y_batch.dim() > 1:\n",
    "                    y_batch = y_batch.squeeze(-1)\n",
    "                    \n",
    "                # Ensure both tensors have same shape\n",
    "                if outputs.shape != y_batch.shape:\n",
    "                    outputs = outputs.view(-1)\n",
    "                    y_batch = y_batch.view(-1)\n",
    "                \n",
    "                if not torch.isnan(outputs).any():\n",
    "                    val_loss += criterion(outputs, y_batch).item()\n",
    "                    probs = torch.sigmoid(outputs).cpu().numpy().flatten()\n",
    "                    val_probs_all.extend(probs)\n",
    "                    val_targets_all.extend(y_batch.cpu().numpy().flatten())\n",
    "\n",
    "        if len(val_probs_all) > 0:\n",
    "            avg_val_loss = val_loss / len(val_loader)\n",
    "            val_losses.append(avg_val_loss)\n",
    "            \n",
    "            val_probs_all = np.array(val_probs_all)\n",
    "            val_targets_all = np.array(val_targets_all)\n",
    "            \n",
    "            # Calculate metrics (from Step 7)\n",
    "            if len(np.unique(val_targets_all)) > 1:\n",
    "                val_auc = roc_auc_score(val_targets_all, val_probs_all)\n",
    "            else:\n",
    "                val_auc = 0.5\n",
    "            val_aucs.append(val_auc)\n",
    "            \n",
    "            # Best F1 across thresholds (from Step 7)\n",
    "            best_val_f1_epoch = 0\n",
    "            best_thresh_epoch = 0.5\n",
    "            threshold_f1_scores = []\n",
    "            for thresh in np.arange(0.1, 0.9, 0.05):\n",
    "                preds = (val_probs_all >= thresh).astype(int)\n",
    "                f1 = f1_score(val_targets_all, preds, zero_division=0)\n",
    "                threshold_f1_scores.append(f1)\n",
    "                if f1 > best_val_f1_epoch:\n",
    "                    best_val_f1_epoch = f1\n",
    "                    best_thresh_epoch = thresh\n",
    "            \n",
    "            val_f1s.append(best_val_f1_epoch)\n",
    "            \n",
    "            # Calculate additional metrics for WandB\n",
    "            val_precision = precision_score(val_targets_all, (val_probs_all >= best_thresh_epoch).astype(int), zero_division=0)\n",
    "            val_recall = recall_score(val_targets_all, (val_probs_all >= best_thresh_epoch).astype(int), zero_division=0)\n",
    "            \n",
    "            # Calculate overfitting metrics\n",
    "            loss_gap = avg_val_loss - avg_train_loss\n",
    "            f1_gap = train_f1 - best_val_f1_epoch if train_f1 > 0 else 0\n",
    "            \n",
    "            epoch_time = time.time() - epoch_start_time\n",
    "            \n",
    "            # LOG EVERYTHING TO WANDB\n",
    "            if use_wandb:\n",
    "                log_dict = {\n",
    "                    # Basic metrics\n",
    "                    \"epoch\": epoch,\n",
    "                    \"train/loss\": avg_train_loss,\n",
    "                    \"train/f1\": train_f1,\n",
    "                    \"val/loss\": avg_val_loss,\n",
    "                    \"val/f1\": best_val_f1_epoch,\n",
    "                    \"val/auc\": val_auc,\n",
    "                    \"val/precision\": val_precision,\n",
    "                    \"val/recall\": val_recall,\n",
    "                    \"val/best_threshold\": best_thresh_epoch,\n",
    "                    \n",
    "                    # Learning dynamics\n",
    "                    \"train/learning_rate\": optimizer.param_groups[0]['lr'],\n",
    "                    \"train/gradient_norm\": avg_grad_norm,\n",
    "                    \"train/epoch_time\": epoch_time,\n",
    "                    \n",
    "                    # Overfitting indicators\n",
    "                    \"overfitting/loss_gap\": loss_gap,\n",
    "                    \"overfitting/f1_gap\": f1_gap,\n",
    "                    \"overfitting/loss_ratio\": avg_val_loss / avg_train_loss if avg_train_loss > 0 else 1,\n",
    "                    \n",
    "                    # Model tracking\n",
    "                    \"model/patience_counter\": patience_counter,\n",
    "                    \"model/best_val_f1\": best_val_f1,\n",
    "                    \"model/is_best_epoch\": best_val_f1_epoch > best_val_f1,\n",
    "                    \n",
    "                    # Data distribution\n",
    "                    \"data/val_pred_mean\": np.mean(val_probs_all),\n",
    "                    \"data/val_pred_std\": np.std(val_probs_all),\n",
    "                    \"data/val_class_balance\": np.mean(val_targets_all),\n",
    "                }\n",
    "                \n",
    "                # Add threshold analysis\n",
    "                thresholds = np.arange(0.1, 0.9, 0.05)\n",
    "                for i, (thresh, f1_score_thresh) in enumerate(zip(thresholds, threshold_f1_scores)):\n",
    "                    log_dict[f\"threshold_analysis/f1_at_{thresh:.2f}\"] = f1_score_thresh\n",
    "                \n",
    "                wandb.log(log_dict)\n",
    "                \n",
    "                # Log histograms every 5 epochs\n",
    "                if (epoch + 1) % 5 == 0:\n",
    "                    wandb.log({\n",
    "                        \"histograms/val_predictions\": wandb.Histogram(val_probs_all),\n",
    "                        \"histograms/val_targets\": wandb.Histogram(val_targets_all)\n",
    "                    })\n",
    "\n",
    "            # Print progress (from Step 7)\n",
    "            print(f\"Epoch {epoch+1:2d} | Loss: T={avg_train_loss:.4f} V={avg_val_loss:.4f} | \"\n",
    "                  f\"F1: T={train_f1:.4f} V={best_val_f1_epoch:.4f} | AUC: {val_auc:.4f} | \"\n",
    "                  f\"Time: {epoch_time:.1f}s\")\n",
    "\n",
    "            # Early stopping (from Step 7)\n",
    "            if best_val_f1_epoch > best_val_f1 + params.get('min_delta', 1e-4):\n",
    "                best_val_f1 = best_val_f1_epoch\n",
    "                best_threshold = best_thresh_epoch\n",
    "                best_model_state = {k: v.cpu().clone() for k, v in model.state_dict().items()}\n",
    "                patience_counter = 0\n",
    "                print(f\"    ✅ New best F1: {best_val_f1:.4f}\")\n",
    "                \n",
    "                if use_wandb:\n",
    "                    wandb.log({\"events/new_best_model\": True, \"epoch\": epoch})\n",
    "            else:\n",
    "                patience_counter += 1\n",
    "\n",
    "            # Overfitting detection (from Step 7)\n",
    "            if len(train_losses) > 1 and len(val_losses) > 1:\n",
    "                loss_gap = avg_val_loss - avg_train_loss\n",
    "                if loss_gap > 0.05 and epoch > 5:\n",
    "                    print(f\"    ⚠️ Loss gap detected: {loss_gap:.4f}\")\n",
    "                    if use_wandb:\n",
    "                        wandb.log({\"warnings/overfitting_detected\": True, \"epoch\": epoch})\n",
    "\n",
    "            # Learning rate scheduling (from Step 7)\n",
    "            scheduler.step(best_val_f1_epoch)\n",
    "\n",
    "            # Early stopping check\n",
    "            if patience_counter >= params.get('early_stopping_patience', 15):\n",
    "                print(f\"⏹ Early stopping at epoch {epoch+1}\")\n",
    "                if use_wandb:\n",
    "                    wandb.log({\"events/early_stopping\": True, \"final_epoch\": epoch})\n",
    "                break\n",
    "\n",
    "            # Enhanced plotting every 3 epochs (from Step 7)\n",
    "            if (epoch + 1) % 3 == 0 or epoch == 0:\n",
    "                plt.figure(figsize=(18, 10))\n",
    "\n",
    "                # 1. Loss with log scale\n",
    "                plt.subplot(2, 4, 1)\n",
    "                plt.plot(train_losses, 'b-o', label='Train', markersize=3)\n",
    "                plt.plot(val_losses, 'r-s', label='Validation', markersize=3)\n",
    "                plt.title(\"Loss (Log Scale)\")\n",
    "                plt.xlabel(\"Epoch\")\n",
    "                plt.ylabel(\"Loss\")\n",
    "                plt.yscale('log')\n",
    "                plt.legend()\n",
    "                plt.grid(True, alpha=0.3)\n",
    "\n",
    "                # 2. F1 Score Comparison  \n",
    "                plt.subplot(2, 4, 2)\n",
    "                plt.plot(train_f1s, 'g-o', label='Train F1', markersize=3)\n",
    "                plt.plot(val_f1s, 'm-s', label='Val F1', markersize=3)\n",
    "                plt.title(\"F1 Score Tracking\")\n",
    "                plt.xlabel(\"Epoch\")\n",
    "                plt.ylabel(\"F1 Score\")\n",
    "                plt.ylim(0, 1)\n",
    "                plt.legend()\n",
    "                plt.grid(True, alpha=0.3)\n",
    "\n",
    "                # 3. Validation AUC\n",
    "                plt.subplot(2, 4, 3)\n",
    "                plt.plot(val_aucs, 'brown', marker='o', markersize=3)\n",
    "                plt.title(\"Validation AUC\")\n",
    "                plt.xlabel(\"Epoch\")\n",
    "                plt.ylabel(\"AUC\")\n",
    "                plt.ylim(0.4, 1.0)\n",
    "                plt.grid(True, alpha=0.3)\n",
    "\n",
    "                # 4. Overfitting indicator\n",
    "                plt.subplot(2, 4, 4)\n",
    "                if len(val_losses) == len(train_losses):\n",
    "                    gap = np.array(val_losses) - np.array(train_losses)\n",
    "                    plt.plot(gap, 'red', marker='o', markersize=3)\n",
    "                    plt.title(\"Overfitting Gap (Val-Train Loss)\")\n",
    "                    plt.xlabel(\"Epoch\")\n",
    "                    plt.ylabel(\"Loss Difference\")\n",
    "                    plt.axhline(y=0, color='black', linestyle='--', alpha=0.5)\n",
    "                    plt.grid(True, alpha=0.3)\n",
    "\n",
    "                # 5. Learning Rate\n",
    "                plt.subplot(2, 4, 5)\n",
    "                current_lr = optimizer.param_groups[0]['lr']\n",
    "                lr_history = [current_lr] * (epoch + 1)  # Simplified\n",
    "                plt.plot(lr_history, 'orange', marker='o', markersize=3)\n",
    "                plt.title(\"Learning Rate\")\n",
    "                plt.xlabel(\"Epoch\")\n",
    "                plt.ylabel(\"LR\")\n",
    "                plt.yscale('log')\n",
    "                plt.grid(True, alpha=0.3)\n",
    "\n",
    "                # 6. Prediction Distribution\n",
    "                plt.subplot(2, 4, 6)\n",
    "                if len(val_probs_all) > 0:\n",
    "                    plt.hist(val_probs_all, bins=30, alpha=0.7, color='skyblue', edgecolor='black')\n",
    "                plt.title(\"Val Prediction Distribution\")\n",
    "                plt.xlabel(\"Predicted Probability\")\n",
    "                plt.ylabel(\"Frequency\")\n",
    "                plt.grid(True, alpha=0.3)\n",
    "\n",
    "                # 7. Class Balance\n",
    "                plt.subplot(2, 4, 7)\n",
    "                train_unique, train_counts = np.unique(train_targets_all, return_counts=True)\n",
    "                val_unique, val_counts = np.unique(val_targets_all, return_counts=True)\n",
    "                \n",
    "                x_pos = np.arange(len(train_unique))\n",
    "                width = 0.35\n",
    "                plt.bar(x_pos - width/2, train_counts, width, label='Train', alpha=0.7)\n",
    "                plt.bar(x_pos + width/2, val_counts, width, label='Val', alpha=0.7)\n",
    "                plt.title(\"Class Distribution\")\n",
    "                plt.xlabel(\"Class\")\n",
    "                plt.ylabel(\"Count\")\n",
    "                plt.legend()\n",
    "                plt.xticks(x_pos, train_unique)\n",
    "\n",
    "                # 8. F1 vs AUC\n",
    "                plt.subplot(2, 4, 8)\n",
    "                if len(val_f1s) > 0 and len(val_aucs) > 0:\n",
    "                    plt.scatter(val_f1s, val_aucs, c=range(len(val_f1s)), cmap='viridis', s=30)\n",
    "                    plt.colorbar(label='Epoch')\n",
    "                plt.title(\"F1 vs AUC Evolution\")\n",
    "                plt.xlabel(\"F1 Score\")\n",
    "                plt.ylabel(\"AUC\")\n",
    "                plt.grid(True, alpha=0.3)\n",
    "\n",
    "                plt.tight_layout()\n",
    "                plt.show()\n",
    "                \n",
    "                # Log plot to WandB\n",
    "                if use_wandb:\n",
    "                    wandb.log({\"training_plots\": wandb.Image(plt)})\n",
    "                    plt.close()\n",
    "\n",
    "        else:\n",
    "            print(f\"⚠️ No valid validation data at epoch {epoch+1}\")\n",
    "            if use_wandb:\n",
    "                wandb.log({\"events/no_valid_validation_data\": True, \"epoch\": epoch})\n",
    "            break\n",
    "\n",
    "    # Restore best model (from Step 7)\n",
    "    if best_model_state is not None:\n",
    "        model.load_state_dict({k: v.to(device) for k, v in best_model_state.items()})\n",
    "        print(f\"✅ Restored best model with validation F1: {best_val_f1:.4f}\")\n",
    "    else:\n",
    "        print(\"⚠️ No improvement found, using final model\")\n",
    "\n",
    "    # Log final training summary to WandB\n",
    "    if use_wandb:\n",
    "        wandb.log({\n",
    "            \"final/best_val_f1\": best_val_f1,\n",
    "            \"final/best_threshold\": best_threshold,\n",
    "            \"final/total_epochs\": len(train_losses),\n",
    "            \"final/converged\": patience_counter < params.get('early_stopping_patience', 15)\n",
    "        })\n",
    "        \n",
    "        # Log training curves as summary\n",
    "        wandb.run.summary[\"train_loss_curve\"] = train_losses\n",
    "        wandb.run.summary[\"val_loss_curve\"] = val_losses\n",
    "        wandb.run.summary[\"train_f1_curve\"] = train_f1s\n",
    "        wandb.run.summary[\"val_f1_curve\"] = val_f1s\n",
    "        wandb.run.summary[\"val_auc_curve\"] = val_aucs\n",
    "\n",
    "    return model, {\n",
    "        'train_losses': train_losses,\n",
    "        'val_losses': val_losses,\n",
    "        'train_f1s': train_f1s,\n",
    "        'val_f1s': val_f1s,\n",
    "        'val_aucs': val_aucs,\n",
    "        'best_val_f1': best_val_f1,\n",
    "        'best_threshold': best_threshold\n",
    "    }\n",
    "\n",
    "# ==============================\n",
    "# DEBUG FUNCTION FROM STEP 7\n",
    "# ==============================\n",
    "\n",
    "def debug_tensor_shapes(model, X_sample, y_sample):\n",
    "    \"\"\"Debug function to check tensor shapes (from Step 7)\"\"\"\n",
    "    print(\"\\n=== TENSOR SHAPE DEBUGGING ===\")\n",
    "    \n",
    "    model.eval()\n",
    "    with torch.no_grad():\n",
    "        X_tensor = torch.from_numpy(X_sample[:5].astype(np.float32)).to(device)\n",
    "        y_tensor = torch.from_numpy(y_sample[:5].astype(np.float32)).to(device)\n",
    "        \n",
    "        print(f\"Input X shape: {X_tensor.shape}\")\n",
    "        print(f\"Input y shape: {y_tensor.shape}\")\n",
    "        \n",
    "        outputs = model(X_tensor)\n",
    "        print(f\"Raw model output shape: {outputs.shape}\")\n",
    "        print(f\"Raw model output: {outputs}\")\n",
    "        \n",
    "        # Test different squeeze operations\n",
    "        squeezed_once = outputs.squeeze(-1) if outputs.dim() > 1 else outputs\n",
    "        print(f\"After squeeze(-1): {squeezed_once.shape}\")\n",
    "        \n",
    "        # What we need for loss function\n",
    "        if y_tensor.dim() > 1:\n",
    "            y_tensor_fixed = y_tensor.squeeze(-1)\n",
    "        else:\n",
    "            y_tensor_fixed = y_tensor\n",
    "        print(f\"Target tensor final shape: {y_tensor_fixed.shape}\")\n",
    "        \n",
    "        # Test if they match now\n",
    "        print(f\"Shapes match: {squeezed_once.shape == y_tensor_fixed.shape}\")\n",
    "        \n",
    "        return squeezed_once.shape, y_tensor_fixed.shape\n",
    "\n",
    "# ==============================\n",
    "# MAIN EXECUTION WITH STEP 7 LOGIC + WANDB\n",
    "# ==============================\n",
    "\n",
    "print(\"\\n=== ENHANCED STEP 7: Robust LSTM Training with WandB ===\")\n",
    "\n",
    "# Create model (use your existing AdvancedLSTM class)\n",
    "final_model = AdvancedLSTM(\n",
    "    input_dim=X_train_seq.shape[2],\n",
    "    hidden_dim=best_params['hidden_dim'],\n",
    "    num_layers=best_params['num_layers'],\n",
    "    dropout=best_params['dropout'],\n",
    "    use_attention=best_params['use_attention'],\n",
    "    bidirectional=best_params['bidirectional']\n",
    ").to(device)\n",
    "\n",
    "# Add seeding to best_params\n",
    "enhanced_params = best_params.copy()\n",
    "enhanced_params.update({\n",
    "    'seed': 42,\n",
    "    'early_stopping_patience': 15,\n",
    "    'gradient_clip': 1.0,\n",
    "    'reduce_lr_patience': 3,\n",
    "    'min_delta': 1e-4,\n",
    "    'epochs': 100\n",
    "})\n",
    "\n",
    "total_params = sum(p.numel() for p in final_model.parameters())\n",
    "print(f\"Model parameters: {total_params:,}\")\n",
    "print(f\"Parameters per training sample: {total_params/len(X_train_seq):.2f}\")\n",
    "\n",
    "# Debug tensor shapes before training (from Step 7)\n",
    "print(\"\\n🔍 Debugging tensor shapes...\")\n",
    "debug_tensor_shapes(final_model, X_train_seq, y_train_seq)\n",
    "\n",
    "# Execute enhanced robust training with WandB\n",
    "print(\"\\n🚀 Starting enhanced robust training with WandB...\")\n",
    "final_model, training_history = train_lstm_robust_antioverfitting_wandb(\n",
    "    X_train_seq, y_train_seq, X_val_seq, y_val_seq,\n",
    "    enhanced_params, final_model, epochs=enhanced_params['epochs'], use_wandb=True\n",
    ")\n",
    "\n",
    "print(f\"\\n✅ Training completed!\")\n",
    "if training_history['val_f1s']:\n",
    "    print(f\"Best validation F1: {max(training_history['val_f1s']):.4f}\")\n",
    "    print(f\"Best validation AUC: {max(training_history['val_aucs']):.4f}\")\n",
    "\n",
    "# ==============================\n",
    "# FINAL TEST EVALUATION WITH WANDB (Step 7 logic)\n",
    "# ==============================\n",
    "print(\"\\n=== Final Test Evaluation ===\")\n",
    "\n",
    "final_model.eval()\n",
    "with torch.no_grad():\n",
    "    X_test_tensor = torch.from_numpy(X_test_seq.astype(np.float32)).to(device)\n",
    "    test_outputs = final_model(X_test_tensor)\n",
    "    \n",
    "    # ROBUST SHAPE HANDLING (from Step 7)\n",
    "    if test_outputs.dim() > 1:\n",
    "        test_outputs = test_outputs.squeeze(-1)\n",
    "    \n",
    "    test_probs = torch.sigmoid(test_outputs).cpu().numpy().flatten()\n",
    "\n",
    "# Use the optimal threshold found during validation\n",
    "test_preds = (test_probs >= training_history['best_threshold']).astype(int)\n",
    "\n",
    "# Calculate comprehensive test metrics\n",
    "test_f1 = f1_score(y_test_seq, test_preds, zero_division=0)\n",
    "if len(np.unique(y_test_seq)) > 1:\n",
    "    test_auc = roc_auc_score(y_test_seq, test_probs)\n",
    "else:\n",
    "    test_auc = 0.5\n",
    "\n",
    "test_precision = precision_score(y_test_seq, test_preds, zero_division=0)\n",
    "test_recall = recall_score(y_test_seq, test_preds, zero_division=0)\n",
    "test_cm = confusion_matrix(y_test_seq, test_preds)\n",
    "\n",
    "# Log comprehensive test results to WandB\n",
    "tn, fp, fn, tp = test_cm.ravel()\n",
    "wandb.log({\n",
    "    \"test/f1\": test_f1,\n",
    "    \"test/auc\": test_auc,\n",
    "    \"test/precision\": test_precision,\n",
    "    \"test/recall\": test_recall,\n",
    "    \"test/threshold\": training_history['best_threshold'],\n",
    "    \"test/true_negatives\": tn,\n",
    "    \"test/false_positives\": fp,\n",
    "    \"test/false_negatives\": fn,\n",
    "    \"test/true_positives\": tp,\n",
    "    \"test/false_negative_rate\": fn/(fn+tp) if (fn+tp) > 0 else 0,\n",
    "    \"test/false_positive_rate\": fp/(fp+tn) if (fp+tn) > 0 else 0,\n",
    "    \"test/specificity\": tn/(tn+fp) if (tn+fp) > 0 else 0,\n",
    "    \"test/sensitivity\": tp/(tp+fn) if (tp+fn) > 0 else 0\n",
    "})\n",
    "\n",
    "# Log confusion matrix as heatmap\n",
    "wandb.log({\n",
    "    \"test/confusion_matrix\": wandb.plot.confusion_matrix(\n",
    "        preds=test_preds,\n",
    "        y_true=y_test_seq,\n",
    "        class_names=[\"Benign\", \"Attack\"]\n",
    "    )\n",
    "})\n",
    "\n",
    "print(f\"\\n\" + \"=\" * 50)\n",
    "print(\"FINAL TEST RESULTS\")\n",
    "print(\"=\" * 50)\n",
    "print(f\"F1 Score: {test_f1:.4f}\")\n",
    "print(f\"AUC Score: {test_auc:.4f}\")\n",
    "print(f\"Precision: {test_precision:.4f}\")\n",
    "print(f\"Recall: {test_recall:.4f}\")\n",
    "print(f\"Threshold: {training_history['best_threshold']:.3f}\")\n",
    "print(f\"\\nConfusion Matrix:\")\n",
    "print(f\"               Predicted\")\n",
    "print(f\"           Benign  Attack\")\n",
    "print(f\"Actual Benign   {test_cm[0,0]:6d}  {test_cm[0,1]:6d}\")\n",
    "print(f\"       Attack   {test_cm[1,0]:6d}  {test_cm[1,1]:6d}\")\n",
    "\n",
    "# ==============================\n",
    "# OVERFITTING ANALYSIS WITH WANDB (from Step 7)\n",
    "# ==============================\n",
    "print(\"\\n=== Overfitting Analysis ===\")\n",
    "\n",
    "if len(training_history['train_losses']) > 5 and len(training_history['val_losses']) > 5:\n",
    "    final_train_loss = training_history['train_losses'][-1]\n",
    "    final_val_loss = training_history['val_losses'][-1]\n",
    "    min_train_loss = min(training_history['train_losses'])\n",
    "    \n",
    "    loss_ratio = final_val_loss / final_train_loss\n",
    "    print(f\"Final loss ratio (Val/Train): {loss_ratio:.2f}\")\n",
    "    \n",
    "    # Log overfitting analysis to WandB\n",
    "    wandb.log({\n",
    "        \"analysis/loss_ratio\": loss_ratio,\n",
    "        \"analysis/min_train_loss\": min_train_loss,\n",
    "        \"analysis/final_train_loss\": final_train_loss,\n",
    "        \"analysis/final_val_loss\": final_val_loss\n",
    "    })\n",
    "    \n",
    "    if loss_ratio > 3:\n",
    "        print(\"🚨 HIGH overfitting detected (Val loss >> Train loss)\")\n",
    "        wandb.log({\"analysis/overfitting_level\": \"HIGH\"})\n",
    "    elif loss_ratio > 1.5:\n",
    "        print(\"⚠️ Moderate overfitting detected\")\n",
    "        wandb.log({\"analysis/overfitting_level\": \"MODERATE\"})\n",
    "    else:\n",
    "        print(\"✅ Good loss ratio - minimal overfitting\")\n",
    "        wandb.log({\"analysis/overfitting_level\": \"MINIMAL\"})\n",
    "    \n",
    "    # Check for training loss collapse\n",
    "    if min_train_loss < 0.01:\n",
    "        print(\"⚠️ Training loss very low - possible memorization\")\n",
    "        wandb.log({\"analysis/possible_memorization\": True})\n",
    "    \n",
    "    # F1 gap analysis (from Step 7)\n",
    "    if training_history['train_f1s'] and training_history['val_f1s']:\n",
    "        f1_gap = max(training_history['train_f1s']) - max(training_history['val_f1s'])\n",
    "        print(f\"F1 gap (Train - Val): {f1_gap:.4f}\")\n",
    "        \n",
    "        wandb.log({\"analysis/f1_gap\": f1_gap})\n",
    "        \n",
    "        if f1_gap > 0.2:\n",
    "            print(\"🚨 Large F1 gap - significant overfitting\")\n",
    "            wandb.log({\"analysis/f1_overfitting\": \"SIGNIFICANT\"})\n",
    "        elif f1_gap > 0.1:\n",
    "            print(\"⚠️ Moderate F1 gap\")\n",
    "            wandb.log({\"analysis/f1_overfitting\": \"MODERATE\"})\n",
    "        else:\n",
    "            print(\"✅ Good F1 generalization\")\n",
    "            wandb.log({\"analysis/f1_overfitting\": \"MINIMAL\"})\n",
    "\n",
    "# Training summary (from Step 7)\n",
    "print(\"\\n=== Training Summary ===\")\n",
    "print(\"If you're still seeing overfitting:\")\n",
    "print(\"1. Reduce hidden_dim further (try 32 or 16)\")\n",
    "print(\"2. Increase dropout to 0.6-0.8\") \n",
    "print(\"3. Reduce sequence length\")\n",
    "print(\"4. Add more data augmentation\")\n",
    "print(\"5. Consider simpler models (non-LSTM)\")\n",
    "\n",
    "# ==============================\n",
    "# SAVE MODEL AND RESULTS WITH WANDB\n",
    "# ==============================\n",
    "\n",
    "# Save model (from Step 7)\n",
    "torch.save(final_model.state_dict(), \"enhanced_robust_lstm_model.pth\")\n",
    "print(\"💾 Model saved as enhanced_robust_lstm_model.pth\")\n",
    "\n",
    "# Prepare comprehensive results\n",
    "results = {\n",
    "    'training_history': training_history,\n",
    "    'test_metrics': {\n",
    "        'f1': test_f1,\n",
    "        'auc': test_auc,\n",
    "        'precision': test_precision,\n",
    "        'recall': test_recall,\n",
    "        'threshold': training_history['best_threshold'],\n",
    "        'confusion_matrix': test_cm.tolist()\n",
    "    },\n",
    "    'model_params': enhanced_params,\n",
    "    'overfitting_analysis': {\n",
    "        'loss_ratio': loss_ratio if 'loss_ratio' in locals() else None,\n",
    "        'f1_gap': f1_gap if 'f1_gap' in locals() else None\n",
    "    }\n",
    "}\n",
    "\n",
    "# Save results locally\n",
    "import json\n",
    "with open(\"enhanced_robust_lstm_results.json\", \"w\") as f:\n",
    "    json.dump(results, f, indent=2, default=str)\n",
    "\n",
    "# Log artifacts to WandB\n",
    "wandb.save(\"enhanced_robust_lstm_model.pth\")\n",
    "wandb.save(\"enhanced_robust_lstm_results.json\")\n",
    "\n",
    "# Final summary to WandB\n",
    "wandb.run.summary.update({\n",
    "    \"final_test_f1\": test_f1,\n",
    "    \"final_test_auc\": test_auc,\n",
    "    \"final_test_precision\": test_precision,\n",
    "    \"final_test_recall\": test_recall,\n",
    "    \"final_threshold\": training_history['best_threshold'],\n",
    "    \"model_parameters\": total_params,\n",
    "    \"reproducible_seed\": enhanced_params['seed']\n",
    "})\n",
    "\n",
    "print(f\"\\n💾 All files saved and logged to WandB!\")\n",
    "print(f\"✅ Enhanced Step 7 training completed successfully!\")\n",
    "print(f\"🔗 Check WandB dashboard for comprehensive training analytics!\")\n",
    "\n",
    "# Finish WandB run\n",
    "wandb.finish()\n",
    "\n",
    "print(\"\\n\" + \"=\" * 60)\n",
    "print(\"ENHANCED STEP 7 COMPLETE - FILES SAVED:\")\n",
    "print(\"=\" * 60)\n",
    "print(\"📁 Model: enhanced_robust_lstm_model.pth\")\n",
    "print(\"📁 Results: enhanced_robust_lstm_results.json\") \n",
    "print(\"🔗 WandB: Check your dashboard for detailed training logs!\")\n",
    "print(\"🎲 All training was seeded for reproducibility\")\n",
    "print(\"=\" * 60)"
   ]
  },
  {
   "cell_type": "code",
   "execution_count": null,
   "id": "1c5a5fc7",
   "metadata": {},
   "outputs": [
    {
     "name": "stdout",
     "output_type": "stream",
     "text": [
      "Starting systematic debugging...\n",
      "================================================================================\n",
      "DEBUGGING DATA DIFFERENCES\n",
      "================================================================================\n",
      "\n",
      "Method 1: Full Dataset Approach\n",
      "----------------------------------------\n",
      "Full dataset raw shape: (553749, 50)\n",
      "Full dataset sequences: (553740, 10, 50)\n",
      "Full dataset labels: (553740,)\n",
      "Label distribution: [264817 288923]\n",
      "Attack percentage: 0.5218\n",
      "First 10 labels: [0. 0. 0. 0. 0. 0. 0. 0. 0. 0.]\n",
      "Last 10 labels: [0. 0. 0. 0. 0. 0. 0. 0. 0. 0.]\n",
      "\n",
      "Method 2: Chronological Split Approach\n",
      "----------------------------------------\n",
      "Test split raw shape: (83063, 50)\n",
      "Test split sequences: (83054, 10, 50)\n",
      "Test split labels: (83054,)\n",
      "Label distribution: [83054]\n",
      "Attack percentage: 0.0000\n",
      "First 10 labels: [0. 0. 0. 0. 0. 0. 0. 0. 0. 0.]\n",
      "Last 10 labels: [0. 0. 0. 0. 0. 0. 0. 0. 0. 0.]\n",
      "\n",
      "COMPARISON\n",
      "----------------------------------------\n",
      "Size difference: 553740 vs 83054\n",
      "Attack rate difference: 0.5218 vs 0.0000\n",
      "❌ Different dataset sizes - this explains the discrepancy!\n",
      "\n",
      "================================================================================\n",
      "TESTING SAME MODEL ON BOTH DATASETS\n",
      "================================================================================\n",
      "\n",
      "Testing on Full Dataset...\n"
     ]
    },
    {
     "ename": "KeyboardInterrupt",
     "evalue": "",
     "output_type": "error",
     "traceback": [
      "\u001b[31m---------------------------------------------------------------------------\u001b[39m",
      "\u001b[31mKeyboardInterrupt\u001b[39m                         Traceback (most recent call last)",
      "\u001b[36mCell\u001b[39m\u001b[36m \u001b[39m\u001b[32mIn[37]\u001b[39m\u001b[32m, line 146\u001b[39m\n\u001b[32m    144\u001b[39m \u001b[38;5;66;03m# Step 2: Test same model on both datasets\u001b[39;00m\n\u001b[32m    145\u001b[39m \u001b[38;5;28;01mif\u001b[39;00m \u001b[33m'\u001b[39m\u001b[33mmodel2\u001b[39m\u001b[33m'\u001b[39m \u001b[38;5;129;01min\u001b[39;00m \u001b[38;5;28mglobals\u001b[39m():\n\u001b[32m--> \u001b[39m\u001b[32m146\u001b[39m     preds_1, labels_1, probs_1, preds_2, labels_2, probs_2 = \u001b[43mtest_model_on_both_datasets\u001b[49m\u001b[43m(\u001b[49m\n\u001b[32m    147\u001b[39m \u001b[43m        \u001b[49m\u001b[43mmodel2\u001b[49m\u001b[43m,\u001b[49m\u001b[43m \u001b[49m\u001b[43mX_seq_1\u001b[49m\u001b[43m,\u001b[49m\u001b[43m \u001b[49m\u001b[43my_seq_1\u001b[49m\u001b[43m,\u001b[49m\u001b[43m \u001b[49m\u001b[43mX_seq_2\u001b[49m\u001b[43m,\u001b[49m\u001b[43m \u001b[49m\u001b[43my_seq_2\u001b[49m\u001b[43m,\u001b[49m\u001b[43m \u001b[49m\u001b[43mdevice\u001b[49m\n\u001b[32m    148\u001b[39m \u001b[43m    \u001b[49m\u001b[43m)\u001b[49m\n\u001b[32m    150\u001b[39m     \u001b[38;5;28mprint\u001b[39m(\u001b[33m\"\u001b[39m\u001b[38;5;130;01m\\n\u001b[39;00m\u001b[33m\"\u001b[39m + \u001b[33m\"\u001b[39m\u001b[33m=\u001b[39m\u001b[33m\"\u001b[39m * \u001b[32m80\u001b[39m)\n\u001b[32m    151\u001b[39m     \u001b[38;5;28mprint\u001b[39m(\u001b[33m\"\u001b[39m\u001b[33mSUMMARY OF DIFFERENCES\u001b[39m\u001b[33m\"\u001b[39m)\n",
      "\u001b[36mCell\u001b[39m\u001b[36m \u001b[39m\u001b[32mIn[37]\u001b[39m\u001b[32m, line 133\u001b[39m, in \u001b[36mtest_model_on_both_datasets\u001b[39m\u001b[34m(model, X_seq_1, y_seq_1, X_seq_2, y_seq_2, device)\u001b[39m\n\u001b[32m    130\u001b[39m     \u001b[38;5;28;01mreturn\u001b[39;00m all_preds, all_labels, all_probs\n\u001b[32m    132\u001b[39m \u001b[38;5;66;03m# Test on both datasets\u001b[39;00m\n\u001b[32m--> \u001b[39m\u001b[32m133\u001b[39m preds_1, labels_1, probs_1 = \u001b[43mevaluate_dataset\u001b[49m\u001b[43m(\u001b[49m\u001b[43mX_seq_1\u001b[49m\u001b[43m,\u001b[49m\u001b[43m \u001b[49m\u001b[43my_seq_1\u001b[49m\u001b[43m,\u001b[49m\u001b[43m \u001b[49m\u001b[33;43m\"\u001b[39;49m\u001b[33;43mFull Dataset\u001b[39;49m\u001b[33;43m\"\u001b[39;49m\u001b[43m)\u001b[49m\n\u001b[32m    134\u001b[39m preds_2, labels_2, probs_2 = evaluate_dataset(X_seq_2, y_seq_2, \u001b[33m\"\u001b[39m\u001b[33mChronological Test Split\u001b[39m\u001b[33m\"\u001b[39m)\n\u001b[32m    136\u001b[39m \u001b[38;5;28;01mreturn\u001b[39;00m preds_1, labels_1, probs_1, preds_2, labels_2, probs_2\n",
      "\u001b[36mCell\u001b[39m\u001b[36m \u001b[39m\u001b[32mIn[37]\u001b[39m\u001b[32m, line 107\u001b[39m, in \u001b[36mtest_model_on_both_datasets.<locals>.evaluate_dataset\u001b[39m\u001b[34m(X_seq, y_seq, dataset_name)\u001b[39m\n\u001b[32m    104\u001b[39m all_probs = []\n\u001b[32m    106\u001b[39m \u001b[38;5;28;01mwith\u001b[39;00m torch.no_grad():\n\u001b[32m--> \u001b[39m\u001b[32m107\u001b[39m \u001b[43m    \u001b[49m\u001b[38;5;28;43;01mfor\u001b[39;49;00m\u001b[43m \u001b[49m\u001b[43mX_batch\u001b[49m\u001b[43m,\u001b[49m\u001b[43m \u001b[49m\u001b[43my_batch\u001b[49m\u001b[43m \u001b[49m\u001b[38;5;129;43;01min\u001b[39;49;00m\u001b[43m \u001b[49m\u001b[43mloader\u001b[49m\u001b[43m:\u001b[49m\n\u001b[32m    108\u001b[39m \u001b[43m        \u001b[49m\u001b[43mX_batch\u001b[49m\u001b[43m,\u001b[49m\u001b[43m \u001b[49m\u001b[43my_batch\u001b[49m\u001b[43m \u001b[49m\u001b[43m=\u001b[49m\u001b[43m \u001b[49m\u001b[43mX_batch\u001b[49m\u001b[43m.\u001b[49m\u001b[43mto\u001b[49m\u001b[43m(\u001b[49m\u001b[43mdevice\u001b[49m\u001b[43m)\u001b[49m\u001b[43m,\u001b[49m\u001b[43m \u001b[49m\u001b[43my_batch\u001b[49m\u001b[43m.\u001b[49m\u001b[43mto\u001b[49m\u001b[43m(\u001b[49m\u001b[43mdevice\u001b[49m\u001b[43m)\u001b[49m\n\u001b[32m    109\u001b[39m \u001b[43m        \u001b[49m\u001b[43moutputs\u001b[49m\u001b[43m \u001b[49m\u001b[43m=\u001b[49m\u001b[43m \u001b[49m\u001b[43mmodel\u001b[49m\u001b[43m(\u001b[49m\u001b[43mX_batch\u001b[49m\u001b[43m)\u001b[49m\n",
      "\u001b[36mFile \u001b[39m\u001b[32mc:\\Users\\gokde\\anaconda3\\envs\\torch_gpu\\Lib\\site-packages\\torch\\utils\\data\\dataloader.py:701\u001b[39m, in \u001b[36m_BaseDataLoaderIter.__next__\u001b[39m\u001b[34m(self)\u001b[39m\n\u001b[32m    698\u001b[39m \u001b[38;5;28;01mif\u001b[39;00m \u001b[38;5;28mself\u001b[39m._sampler_iter \u001b[38;5;129;01mis\u001b[39;00m \u001b[38;5;28;01mNone\u001b[39;00m:\n\u001b[32m    699\u001b[39m     \u001b[38;5;66;03m# TODO(https://github.com/pytorch/pytorch/issues/76750)\u001b[39;00m\n\u001b[32m    700\u001b[39m     \u001b[38;5;28mself\u001b[39m._reset()  \u001b[38;5;66;03m# type: ignore[call-arg]\u001b[39;00m\n\u001b[32m--> \u001b[39m\u001b[32m701\u001b[39m data = \u001b[38;5;28;43mself\u001b[39;49m\u001b[43m.\u001b[49m\u001b[43m_next_data\u001b[49m\u001b[43m(\u001b[49m\u001b[43m)\u001b[49m\n\u001b[32m    702\u001b[39m \u001b[38;5;28mself\u001b[39m._num_yielded += \u001b[32m1\u001b[39m\n\u001b[32m    703\u001b[39m \u001b[38;5;28;01mif\u001b[39;00m (\n\u001b[32m    704\u001b[39m     \u001b[38;5;28mself\u001b[39m._dataset_kind == _DatasetKind.Iterable\n\u001b[32m    705\u001b[39m     \u001b[38;5;129;01mand\u001b[39;00m \u001b[38;5;28mself\u001b[39m._IterableDataset_len_called \u001b[38;5;129;01mis\u001b[39;00m \u001b[38;5;129;01mnot\u001b[39;00m \u001b[38;5;28;01mNone\u001b[39;00m\n\u001b[32m    706\u001b[39m     \u001b[38;5;129;01mand\u001b[39;00m \u001b[38;5;28mself\u001b[39m._num_yielded > \u001b[38;5;28mself\u001b[39m._IterableDataset_len_called\n\u001b[32m    707\u001b[39m ):\n",
      "\u001b[36mFile \u001b[39m\u001b[32mc:\\Users\\gokde\\anaconda3\\envs\\torch_gpu\\Lib\\site-packages\\torch\\utils\\data\\dataloader.py:757\u001b[39m, in \u001b[36m_SingleProcessDataLoaderIter._next_data\u001b[39m\u001b[34m(self)\u001b[39m\n\u001b[32m    755\u001b[39m \u001b[38;5;28;01mdef\u001b[39;00m\u001b[38;5;250m \u001b[39m\u001b[34m_next_data\u001b[39m(\u001b[38;5;28mself\u001b[39m):\n\u001b[32m    756\u001b[39m     index = \u001b[38;5;28mself\u001b[39m._next_index()  \u001b[38;5;66;03m# may raise StopIteration\u001b[39;00m\n\u001b[32m--> \u001b[39m\u001b[32m757\u001b[39m     data = \u001b[38;5;28;43mself\u001b[39;49m\u001b[43m.\u001b[49m\u001b[43m_dataset_fetcher\u001b[49m\u001b[43m.\u001b[49m\u001b[43mfetch\u001b[49m\u001b[43m(\u001b[49m\u001b[43mindex\u001b[49m\u001b[43m)\u001b[49m  \u001b[38;5;66;03m# may raise StopIteration\u001b[39;00m\n\u001b[32m    758\u001b[39m     \u001b[38;5;28;01mif\u001b[39;00m \u001b[38;5;28mself\u001b[39m._pin_memory:\n\u001b[32m    759\u001b[39m         data = _utils.pin_memory.pin_memory(data, \u001b[38;5;28mself\u001b[39m._pin_memory_device)\n",
      "\u001b[36mFile \u001b[39m\u001b[32mc:\\Users\\gokde\\anaconda3\\envs\\torch_gpu\\Lib\\site-packages\\torch\\utils\\data\\_utils\\fetch.py:55\u001b[39m, in \u001b[36m_MapDatasetFetcher.fetch\u001b[39m\u001b[34m(self, possibly_batched_index)\u001b[39m\n\u001b[32m     53\u001b[39m \u001b[38;5;28;01melse\u001b[39;00m:\n\u001b[32m     54\u001b[39m     data = \u001b[38;5;28mself\u001b[39m.dataset[possibly_batched_index]\n\u001b[32m---> \u001b[39m\u001b[32m55\u001b[39m \u001b[38;5;28;01mreturn\u001b[39;00m \u001b[38;5;28;43mself\u001b[39;49m\u001b[43m.\u001b[49m\u001b[43mcollate_fn\u001b[49m\u001b[43m(\u001b[49m\u001b[43mdata\u001b[49m\u001b[43m)\u001b[49m\n",
      "\u001b[36mFile \u001b[39m\u001b[32mc:\\Users\\gokde\\anaconda3\\envs\\torch_gpu\\Lib\\site-packages\\torch\\utils\\data\\_utils\\collate.py:398\u001b[39m, in \u001b[36mdefault_collate\u001b[39m\u001b[34m(batch)\u001b[39m\n\u001b[32m    337\u001b[39m \u001b[38;5;28;01mdef\u001b[39;00m\u001b[38;5;250m \u001b[39m\u001b[34mdefault_collate\u001b[39m(batch):\n\u001b[32m    338\u001b[39m \u001b[38;5;250m    \u001b[39m\u001b[33mr\u001b[39m\u001b[33;03m\"\"\"\u001b[39;00m\n\u001b[32m    339\u001b[39m \u001b[33;03m    Take in a batch of data and put the elements within the batch into a tensor with an additional outer dimension - batch size.\u001b[39;00m\n\u001b[32m    340\u001b[39m \n\u001b[32m   (...)\u001b[39m\u001b[32m    396\u001b[39m \u001b[33;03m        >>> default_collate(batch)  # Handle `CustomType` automatically\u001b[39;00m\n\u001b[32m    397\u001b[39m \u001b[33;03m    \"\"\"\u001b[39;00m\n\u001b[32m--> \u001b[39m\u001b[32m398\u001b[39m     \u001b[38;5;28;01mreturn\u001b[39;00m \u001b[43mcollate\u001b[49m\u001b[43m(\u001b[49m\u001b[43mbatch\u001b[49m\u001b[43m,\u001b[49m\u001b[43m \u001b[49m\u001b[43mcollate_fn_map\u001b[49m\u001b[43m=\u001b[49m\u001b[43mdefault_collate_fn_map\u001b[49m\u001b[43m)\u001b[49m\n",
      "\u001b[36mFile \u001b[39m\u001b[32mc:\\Users\\gokde\\anaconda3\\envs\\torch_gpu\\Lib\\site-packages\\torch\\utils\\data\\_utils\\collate.py:211\u001b[39m, in \u001b[36mcollate\u001b[39m\u001b[34m(batch, collate_fn_map)\u001b[39m\n\u001b[32m    208\u001b[39m transposed = \u001b[38;5;28mlist\u001b[39m(\u001b[38;5;28mzip\u001b[39m(*batch))  \u001b[38;5;66;03m# It may be accessed twice, so we use a list.\u001b[39;00m\n\u001b[32m    210\u001b[39m \u001b[38;5;28;01mif\u001b[39;00m \u001b[38;5;28misinstance\u001b[39m(elem, \u001b[38;5;28mtuple\u001b[39m):\n\u001b[32m--> \u001b[39m\u001b[32m211\u001b[39m     \u001b[38;5;28;01mreturn\u001b[39;00m \u001b[43m[\u001b[49m\n\u001b[32m    212\u001b[39m \u001b[43m        \u001b[49m\u001b[43mcollate\u001b[49m\u001b[43m(\u001b[49m\u001b[43msamples\u001b[49m\u001b[43m,\u001b[49m\u001b[43m \u001b[49m\u001b[43mcollate_fn_map\u001b[49m\u001b[43m=\u001b[49m\u001b[43mcollate_fn_map\u001b[49m\u001b[43m)\u001b[49m\n\u001b[32m    213\u001b[39m \u001b[43m        \u001b[49m\u001b[38;5;28;43;01mfor\u001b[39;49;00m\u001b[43m \u001b[49m\u001b[43msamples\u001b[49m\u001b[43m \u001b[49m\u001b[38;5;129;43;01min\u001b[39;49;00m\u001b[43m \u001b[49m\u001b[43mtransposed\u001b[49m\n\u001b[32m    214\u001b[39m \u001b[43m    \u001b[49m\u001b[43m]\u001b[49m  \u001b[38;5;66;03m# Backwards compatibility.\u001b[39;00m\n\u001b[32m    215\u001b[39m \u001b[38;5;28;01melse\u001b[39;00m:\n\u001b[32m    216\u001b[39m     \u001b[38;5;28;01mtry\u001b[39;00m:\n",
      "\u001b[36mFile \u001b[39m\u001b[32mc:\\Users\\gokde\\anaconda3\\envs\\torch_gpu\\Lib\\site-packages\\torch\\utils\\data\\_utils\\collate.py:212\u001b[39m, in \u001b[36m<listcomp>\u001b[39m\u001b[34m(.0)\u001b[39m\n\u001b[32m    208\u001b[39m transposed = \u001b[38;5;28mlist\u001b[39m(\u001b[38;5;28mzip\u001b[39m(*batch))  \u001b[38;5;66;03m# It may be accessed twice, so we use a list.\u001b[39;00m\n\u001b[32m    210\u001b[39m \u001b[38;5;28;01mif\u001b[39;00m \u001b[38;5;28misinstance\u001b[39m(elem, \u001b[38;5;28mtuple\u001b[39m):\n\u001b[32m    211\u001b[39m     \u001b[38;5;28;01mreturn\u001b[39;00m [\n\u001b[32m--> \u001b[39m\u001b[32m212\u001b[39m         \u001b[43mcollate\u001b[49m\u001b[43m(\u001b[49m\u001b[43msamples\u001b[49m\u001b[43m,\u001b[49m\u001b[43m \u001b[49m\u001b[43mcollate_fn_map\u001b[49m\u001b[43m=\u001b[49m\u001b[43mcollate_fn_map\u001b[49m\u001b[43m)\u001b[49m\n\u001b[32m    213\u001b[39m         \u001b[38;5;28;01mfor\u001b[39;00m samples \u001b[38;5;129;01min\u001b[39;00m transposed\n\u001b[32m    214\u001b[39m     ]  \u001b[38;5;66;03m# Backwards compatibility.\u001b[39;00m\n\u001b[32m    215\u001b[39m \u001b[38;5;28;01melse\u001b[39;00m:\n\u001b[32m    216\u001b[39m     \u001b[38;5;28;01mtry\u001b[39;00m:\n",
      "\u001b[36mFile \u001b[39m\u001b[32mc:\\Users\\gokde\\anaconda3\\envs\\torch_gpu\\Lib\\site-packages\\torch\\utils\\data\\_utils\\collate.py:155\u001b[39m, in \u001b[36mcollate\u001b[39m\u001b[34m(batch, collate_fn_map)\u001b[39m\n\u001b[32m    153\u001b[39m \u001b[38;5;28;01mif\u001b[39;00m collate_fn_map \u001b[38;5;129;01mis\u001b[39;00m \u001b[38;5;129;01mnot\u001b[39;00m \u001b[38;5;28;01mNone\u001b[39;00m:\n\u001b[32m    154\u001b[39m     \u001b[38;5;28;01mif\u001b[39;00m elem_type \u001b[38;5;129;01min\u001b[39;00m collate_fn_map:\n\u001b[32m--> \u001b[39m\u001b[32m155\u001b[39m         \u001b[38;5;28;01mreturn\u001b[39;00m \u001b[43mcollate_fn_map\u001b[49m\u001b[43m[\u001b[49m\u001b[43melem_type\u001b[49m\u001b[43m]\u001b[49m\u001b[43m(\u001b[49m\u001b[43mbatch\u001b[49m\u001b[43m,\u001b[49m\u001b[43m \u001b[49m\u001b[43mcollate_fn_map\u001b[49m\u001b[43m=\u001b[49m\u001b[43mcollate_fn_map\u001b[49m\u001b[43m)\u001b[49m\n\u001b[32m    157\u001b[39m     \u001b[38;5;28;01mfor\u001b[39;00m collate_type \u001b[38;5;129;01min\u001b[39;00m collate_fn_map:\n\u001b[32m    158\u001b[39m         \u001b[38;5;28;01mif\u001b[39;00m \u001b[38;5;28misinstance\u001b[39m(elem, collate_type):\n",
      "\u001b[36mFile \u001b[39m\u001b[32mc:\\Users\\gokde\\anaconda3\\envs\\torch_gpu\\Lib\\site-packages\\torch\\utils\\data\\_utils\\collate.py:272\u001b[39m, in \u001b[36mcollate_tensor_fn\u001b[39m\u001b[34m(batch, collate_fn_map)\u001b[39m\n\u001b[32m    270\u001b[39m     storage = elem._typed_storage()._new_shared(numel, device=elem.device)\n\u001b[32m    271\u001b[39m     out = elem.new(storage).resize_(\u001b[38;5;28mlen\u001b[39m(batch), *\u001b[38;5;28mlist\u001b[39m(elem.size()))\n\u001b[32m--> \u001b[39m\u001b[32m272\u001b[39m \u001b[38;5;28;01mreturn\u001b[39;00m \u001b[43mtorch\u001b[49m\u001b[43m.\u001b[49m\u001b[43mstack\u001b[49m\u001b[43m(\u001b[49m\u001b[43mbatch\u001b[49m\u001b[43m,\u001b[49m\u001b[43m \u001b[49m\u001b[32;43m0\u001b[39;49m\u001b[43m,\u001b[49m\u001b[43m \u001b[49m\u001b[43mout\u001b[49m\u001b[43m=\u001b[49m\u001b[43mout\u001b[49m\u001b[43m)\u001b[49m\n",
      "\u001b[31mKeyboardInterrupt\u001b[39m: "
     ]
    }
   ],
   "source": [
    "import torch\n",
    "from torch.utils.data import DataLoader, TensorDataset\n",
    "import numpy as np\n",
    "\n",
    "def debug_data_differences():\n",
    "    \"\"\"\n",
    "    Debug function to identify exactly what's different between the two testing approaches.\n",
    "    \"\"\"\n",
    "    print(\"=\" * 80)\n",
    "    print(\"DEBUGGING DATA DIFFERENCES\")\n",
    "    print(\"=\" * 80)\n",
    "    \n",
    "    # Method 1: Full dataset (like your \"corrected model loading and testing v3\")\n",
    "    print(\"\\nMethod 1: Full Dataset Approach\")\n",
    "    print(\"-\" * 40)\n",
    "    \n",
    "    X_full_1 = datadf.drop(columns=[\"Label\"]).to_numpy(dtype=np.float32)\n",
    "    y_full_1 = datadf[\"Label\"].to_numpy(dtype=np.int32)\n",
    "    \n",
    "    X_test_seq_1, y_test_seq_1 = create_sequences(\n",
    "        X_full_1, \n",
    "        y_full_1, \n",
    "        sequence_length=seq_length,\n",
    "        label_strategy='last'\n",
    "    )\n",
    "    \n",
    "    print(f\"Full dataset raw shape: {X_full_1.shape}\")\n",
    "    print(f\"Full dataset sequences: {X_test_seq_1.shape}\")\n",
    "    print(f\"Full dataset labels: {y_test_seq_1.shape}\")\n",
    "    print(f\"Label distribution: {np.bincount(y_test_seq_1.astype(int))}\")\n",
    "    print(f\"Attack percentage: {np.mean(y_test_seq_1):.4f}\")\n",
    "    print(f\"First 10 labels: {y_test_seq_1[:10]}\")\n",
    "    print(f\"Last 10 labels: {y_test_seq_1[-10:]}\")\n",
    "    \n",
    "    # Method 2: Chronological split (like universal tester)\n",
    "    print(\"\\nMethod 2: Chronological Split Approach\")\n",
    "    print(\"-\" * 40)\n",
    "    \n",
    "    (X_train, y_train), (X_val, y_val), (X_test, y_test) = chrono_split_train_val_test(\n",
    "        datadf, \n",
    "        label_col=\"Label\", \n",
    "        train_ratio=0.7, \n",
    "        val_ratio=0.15\n",
    "    )\n",
    "    \n",
    "    X_test_seq_2, y_test_seq_2 = create_sequences(\n",
    "        X_test, \n",
    "        y_test, \n",
    "        sequence_length=seq_length,\n",
    "        label_strategy='last'\n",
    "    )\n",
    "    \n",
    "    print(f\"Test split raw shape: {X_test.shape}\")\n",
    "    print(f\"Test split sequences: {X_test_seq_2.shape}\")\n",
    "    print(f\"Test split labels: {y_test_seq_2.shape}\")\n",
    "    print(f\"Label distribution: {np.bincount(y_test_seq_2.astype(int))}\")\n",
    "    print(f\"Attack percentage: {np.mean(y_test_seq_2):.4f}\")\n",
    "    print(f\"First 10 labels: {y_test_seq_2[:10]}\")\n",
    "    print(f\"Last 10 labels: {y_test_seq_2[-10:]}\")\n",
    "    \n",
    "    # Compare the data\n",
    "    print(\"\\nCOMPARISON\")\n",
    "    print(\"-\" * 40)\n",
    "    print(f\"Size difference: {X_test_seq_1.shape[0]} vs {X_test_seq_2.shape[0]}\")\n",
    "    print(f\"Attack rate difference: {np.mean(y_test_seq_1):.4f} vs {np.mean(y_test_seq_2):.4f}\")\n",
    "    \n",
    "    if X_test_seq_1.shape[0] == X_test_seq_2.shape[0]:\n",
    "        print(\"Same number of sequences - checking if data is identical...\")\n",
    "        if np.array_equal(X_test_seq_1, X_test_seq_2):\n",
    "            print(\"✅ Features are identical\")\n",
    "        else:\n",
    "            print(\"❌ Features are different!\")\n",
    "            \n",
    "        if np.array_equal(y_test_seq_1, y_test_seq_2):\n",
    "            print(\"✅ Labels are identical\")\n",
    "        else:\n",
    "            print(\"❌ Labels are different!\")\n",
    "    else:\n",
    "        print(\"❌ Different dataset sizes - this explains the discrepancy!\")\n",
    "    \n",
    "    return X_test_seq_1, y_test_seq_1, X_test_seq_2, y_test_seq_2\n",
    "\n",
    "def test_model_on_both_datasets(model, X_seq_1, y_seq_1, X_seq_2, y_seq_2, device):\n",
    "    \"\"\"\n",
    "    Test the same model on both datasets to see prediction differences.\n",
    "    \"\"\"\n",
    "    print(\"\\n\" + \"=\" * 80)\n",
    "    print(\"TESTING SAME MODEL ON BOTH DATASETS\")\n",
    "    print(\"=\" * 80)\n",
    "    \n",
    "    model.eval()\n",
    "    \n",
    "    def evaluate_dataset(X_seq, y_seq, dataset_name):\n",
    "        print(f\"\\nTesting on {dataset_name}...\")\n",
    "        \n",
    "        X_tensor = torch.tensor(X_seq, dtype=torch.float32)\n",
    "        y_tensor = torch.tensor(y_seq, dtype=torch.float32)\n",
    "        \n",
    "        dataset = TensorDataset(X_tensor, y_tensor)\n",
    "        loader = DataLoader(dataset, batch_size=64, shuffle=False)\n",
    "        \n",
    "        all_preds = []\n",
    "        all_labels = []\n",
    "        all_probs = []\n",
    "        \n",
    "        with torch.no_grad():\n",
    "            for X_batch, y_batch in loader:\n",
    "                X_batch, y_batch = X_batch.to(device), y_batch.to(device)\n",
    "                outputs = model(X_batch)\n",
    "                probs = torch.sigmoid(outputs)\n",
    "                preds = torch.round(probs)\n",
    "                \n",
    "                all_preds.extend(preds.cpu().numpy())\n",
    "                all_labels.extend(y_batch.cpu().numpy())\n",
    "                all_probs.extend(probs.cpu().numpy())\n",
    "        \n",
    "        all_preds = np.array(all_preds)\n",
    "        all_labels = np.array(all_labels)\n",
    "        all_probs = np.array(all_probs)\n",
    "        \n",
    "        accuracy = np.mean(all_preds == all_labels)\n",
    "        \n",
    "        print(f\"  Samples: {len(all_labels):,}\")\n",
    "        print(f\"  Accuracy: {accuracy:.4f}\")\n",
    "        print(f\"  Attack rate (true): {np.mean(all_labels):.4f}\")\n",
    "        print(f\"  Attack rate (pred): {np.mean(all_preds):.4f}\")\n",
    "        print(f\"  Mean probability: {np.mean(all_probs):.4f}\")\n",
    "        print(f\"  Prob std: {np.std(all_probs):.4f}\")\n",
    "        \n",
    "        return all_preds, all_labels, all_probs\n",
    "    \n",
    "    # Test on both datasets\n",
    "    preds_1, labels_1, probs_1 = evaluate_dataset(X_seq_1, y_seq_1, \"Full Dataset\")\n",
    "    preds_2, labels_2, probs_2 = evaluate_dataset(X_seq_2, y_seq_2, \"Chronological Test Split\")\n",
    "    \n",
    "    return preds_1, labels_1, probs_1, preds_2, labels_2, probs_2\n",
    "\n",
    "# Run the debugging\n",
    "print(\"Starting systematic debugging...\")\n",
    "\n",
    "# Step 1: Compare the datasets\n",
    "X_seq_1, y_seq_1, X_seq_2, y_seq_2 = debug_data_differences()\n",
    "\n",
    "# Step 2: Test same model on both datasets\n",
    "if 'model2' in globals():\n",
    "    preds_1, labels_1, probs_1, preds_2, labels_2, probs_2 = test_model_on_both_datasets(\n",
    "        model2, X_seq_1, y_seq_1, X_seq_2, y_seq_2, device\n",
    "    )\n",
    "    \n",
    "    print(\"\\n\" + \"=\" * 80)\n",
    "    print(\"SUMMARY OF DIFFERENCES\")\n",
    "    print(\"=\" * 80)\n",
    "    \n",
    "    print(f\"\\nDataset sizes:\")\n",
    "    print(f\"  Full dataset: {len(y_seq_1):,} sequences\")\n",
    "    print(f\"  Test split: {len(y_seq_2):,} sequences\")\n",
    "    print(f\"  Ratio: {len(y_seq_2)/len(y_seq_1):.3f}\")\n",
    "    \n",
    "    print(f\"\\nClass distributions:\")\n",
    "    print(f\"  Full dataset - Attack rate: {np.mean(y_seq_1):.4f}\")\n",
    "    print(f\"  Test split - Attack rate: {np.mean(y_seq_2):.4f}\")\n",
    "    \n",
    "    print(f\"\\nModel performance:\")\n",
    "    print(f\"  Full dataset - Accuracy: {np.mean(preds_1 == labels_1):.4f}\")\n",
    "    print(f\"  Test split - Accuracy: {np.mean(preds_2 == labels_2):.4f}\")\n",
    "    \n",
    "    print(f\"\\nPrediction characteristics:\")\n",
    "    print(f\"  Full dataset - Mean pred prob: {np.mean(probs_1):.4f}\")\n",
    "    print(f\"  Test split - Mean pred prob: {np.mean(probs_2):.4f}\")\n",
    "    \n",
    "    # Check temporal distribution\n",
    "    if len(y_seq_1) > len(y_seq_2):\n",
    "        test_start_idx = len(y_seq_1) - len(y_seq_2)\n",
    "        print(f\"\\nTemporal check:\")\n",
    "        print(f\"  Test split should be the LAST {len(y_seq_2)} sequences from full dataset\")\n",
    "        print(f\"  Checking if test split matches full dataset[{test_start_idx}:]...\")\n",
    "        \n",
    "        # Compare the tail of full dataset with test split\n",
    "        if np.array_equal(y_seq_1[test_start_idx:], y_seq_2):\n",
    "            print(\"  ✅ Test split correctly matches the tail of full dataset\")\n",
    "        else:\n",
    "            print(\"  ❌ Test split does NOT match the tail of full dataset\")\n",
    "            print(\"     This indicates different preprocessing or splitting!\")\n",
    "    \n",
    "else:\n",
    "    print(\"❌ model2 not found. Please load your model first.\")\n",
    "\n",
    "print(\"\\n\" + \"=\" * 80)\n",
    "print(\"CONCLUSION:\")\n",
    "print(\"The results should be different because:\")\n",
    "print(\"1. Full dataset includes training data (data leakage)\")\n",
    "print(\"2. Test split uses only unseen chronological test data\")\n",
    "print(\"3. Different class distributions between full vs test\")\n",
    "print(\"\\nThe UNIVERSAL TESTER result is correct for model evaluation.\")\n",
    "print(\"=\" * 80)"
   ]
  },
  {
   "cell_type": "code",
   "execution_count": 23,
   "id": "efdf0a7e",
   "metadata": {},
   "outputs": [
    {
     "name": "stdout",
     "output_type": "stream",
     "text": [
      "=== TRAINING FINAL MODEL WITH SPECIFIC HYPERPARAMETERS ===\n",
      "Hyperparameters:\n",
      "   epochs: 100\n",
      "   sequence_length: 128\n",
      "   pos_weight: 0.88654\n",
      "   num_layers: 1\n",
      "   min_delta: 1.4444e-06\n",
      "   lr: 0.00011505\n",
      "   l2_reg: 3.4745e-05\n",
      "   l1_reg: 7.2167e-05\n",
      "   early_stopping_patience: 35\n",
      "   hidden_dim: 4\n",
      "   gradient_clip: 4.21752\n",
      "   dropout: 0.29761\n",
      "   batch_size: 512\n",
      "   bidirectional: True\n",
      "   use_attention: True\n",
      "   wandb_project: lstm-cybersecurity-fixed\n",
      "\n",
      "Data shapes after sequence adjustment:\n",
      "Train: (13675, 128, 50), Val: (7264, 128, 50), Test: (7264, 128, 50)\n",
      "=== FIXED Data Preprocessing ===\n",
      "After cleaning - Train: 13675, Val: 7264, Test: 7264\n",
      "Class balance - Train: 0.560, Val: 0.365\n",
      "Calculated pos_weight: 0.89\n",
      "Using specified pos_weight: 0.88654 (calculated: 0.88654)\n",
      "Initializing AdvancedLSTM:\n",
      "  Input dim: 50\n",
      "  Hidden dim: 4\n",
      "  Num layers: 1\n",
      "  Dropout: 0.29761\n",
      "  Attention: True\n",
      "  Bidirectional: True\n",
      "  Total parameters: 2,137\n",
      "  Trainable parameters: 2,137\n",
      "\n",
      "Model created with 2137 parameters\n"
     ]
    },
    {
     "data": {
      "text/html": [
       "Changes to your `wandb` environment variables will be ignored because your `wandb` session has already started. For more information on how to modify your settings with `wandb.init()` arguments, please refer to <a href='https://wandb.me/wandb-init' target=\"_blank\">the W&B docs</a>."
      ],
      "text/plain": [
       "<IPython.core.display.HTML object>"
      ]
     },
     "metadata": {},
     "output_type": "display_data"
    },
    {
     "data": {
      "text/html": [
       "Finishing previous runs because reinit is set to True."
      ],
      "text/plain": [
       "<IPython.core.display.HTML object>"
      ]
     },
     "metadata": {},
     "output_type": "display_data"
    },
    {
     "data": {
      "text/html": [],
      "text/plain": [
       "<IPython.core.display.HTML object>"
      ]
     },
     "metadata": {},
     "output_type": "display_data"
    },
    {
     "data": {
      "text/html": [
       " View run <strong style=\"color:#cdcd00\">experiment_run</strong> at: <a href='https://wandb.ai/derelioglugokdeniz-bilkent-university/AnomalyDetectionInSDNs/runs/gniy7pjk' target=\"_blank\">https://wandb.ai/derelioglugokdeniz-bilkent-university/AnomalyDetectionInSDNs/runs/gniy7pjk</a><br> View project at: <a href='https://wandb.ai/derelioglugokdeniz-bilkent-university/AnomalyDetectionInSDNs' target=\"_blank\">https://wandb.ai/derelioglugokdeniz-bilkent-university/AnomalyDetectionInSDNs</a><br>Synced 5 W&B file(s), 0 media file(s), 0 artifact file(s) and 0 other file(s)"
      ],
      "text/plain": [
       "<IPython.core.display.HTML object>"
      ]
     },
     "metadata": {},
     "output_type": "display_data"
    },
    {
     "data": {
      "text/html": [
       "Find logs at: <code>.\\wandb\\run-20250902_114617-gniy7pjk\\logs</code>"
      ],
      "text/plain": [
       "<IPython.core.display.HTML object>"
      ]
     },
     "metadata": {},
     "output_type": "display_data"
    },
    {
     "data": {
      "text/html": [
       "creating run (0.1s)"
      ],
      "text/plain": [
       "<IPython.core.display.HTML object>"
      ]
     },
     "metadata": {},
     "output_type": "display_data"
    },
    {
     "data": {
      "text/html": [
       "Tracking run with wandb version 0.21.2"
      ],
      "text/plain": [
       "<IPython.core.display.HTML object>"
      ]
     },
     "metadata": {},
     "output_type": "display_data"
    },
    {
     "data": {
      "text/html": [
       "Run data is saved locally in <code>c:\\Users\\gokde\\OneDrive\\Masaüstü\\Anomaly-Detection-and-Network-Optimization-in-SDNs\\real_project\\wandb\\run-20250902_114811-lokxz6u8</code>"
      ],
      "text/plain": [
       "<IPython.core.display.HTML object>"
      ]
     },
     "metadata": {},
     "output_type": "display_data"
    },
    {
     "data": {
      "text/html": [
       "Syncing run <strong><a href='https://wandb.ai/derelioglugokdeniz-bilkent-university/lstm-cybersecurity-fixed/runs/lokxz6u8' target=\"_blank\">best_model_final_test</a></strong> to <a href='https://wandb.ai/derelioglugokdeniz-bilkent-university/lstm-cybersecurity-fixed' target=\"_blank\">Weights & Biases</a> (<a href='https://wandb.me/developer-guide' target=\"_blank\">docs</a>)<br>"
      ],
      "text/plain": [
       "<IPython.core.display.HTML object>"
      ]
     },
     "metadata": {},
     "output_type": "display_data"
    },
    {
     "data": {
      "text/html": [
       " View project at <a href='https://wandb.ai/derelioglugokdeniz-bilkent-university/lstm-cybersecurity-fixed' target=\"_blank\">https://wandb.ai/derelioglugokdeniz-bilkent-university/lstm-cybersecurity-fixed</a>"
      ],
      "text/plain": [
       "<IPython.core.display.HTML object>"
      ]
     },
     "metadata": {},
     "output_type": "display_data"
    },
    {
     "data": {
      "text/html": [
       " View run at <a href='https://wandb.ai/derelioglugokdeniz-bilkent-university/lstm-cybersecurity-fixed/runs/lokxz6u8' target=\"_blank\">https://wandb.ai/derelioglugokdeniz-bilkent-university/lstm-cybersecurity-fixed/runs/lokxz6u8</a>"
      ],
      "text/plain": [
       "<IPython.core.display.HTML object>"
      ]
     },
     "metadata": {},
     "output_type": "display_data"
    },
    {
     "name": "stdout",
     "output_type": "stream",
     "text": [
      "\n",
      "Starting training - logging to W&B project: lstm-cybersecurity-fixed\n",
      "Run name: best_model_final_test\n",
      "Epoch  1/100 | Loss: T=0.7131 V=0.6426 Gap=-0.0705\n",
      "         | F1: T=0.0000 V=0.5347 | AUC: 0.6060 | Perf: 0.3802\n",
      "    ✓ New best F1: 0.5347\n",
      "Epoch  2/100 | Loss: T=0.7070 V=0.6419 Gap=-0.0651\n",
      "         | F1: T=0.0000 V=0.5427 | AUC: 0.6947 | Perf: 0.4125\n",
      "    ✓ New best F1: 0.5427\n",
      "Epoch  3/100 | Loss: T=0.7015 V=0.6378 Gap=-0.0637\n",
      "         | F1: T=0.0000 V=0.6229 | AUC: 0.7962 | Perf: 0.4730\n",
      "    ✓ New best F1: 0.6229\n",
      "Epoch  4/100 | Loss: T=0.6957 V=0.6329 Gap=-0.0628\n",
      "         | F1: T=0.0000 V=0.7153 | AUC: 0.8322 | Perf: 0.5158\n",
      "    ✓ New best F1: 0.7153\n",
      "Epoch  5/100 | Loss: T=0.6885 V=0.6279 Gap=-0.0606\n",
      "         | F1: T=0.0000 V=0.7681 | AUC: 0.8531 | Perf: 0.5404\n",
      "    ✓ New best F1: 0.7681\n",
      "Epoch  6/100 | Loss: T=0.6824 V=0.6234 Gap=-0.0589\n",
      "         | F1: T=0.0000 V=0.7936 | AUC: 0.8640 | Perf: 0.5525\n",
      "    ✓ New best F1: 0.7936\n",
      "Epoch  7/100 | Loss: T=0.6776 V=0.6194 Gap=-0.0581\n",
      "         | F1: T=0.0000 V=0.8055 | AUC: 0.8674 | Perf: 0.5576\n",
      "    ✓ New best F1: 0.8055\n",
      "Epoch  8/100 | Loss: T=0.6738 V=0.6160 Gap=-0.0577\n",
      "         | F1: T=0.0000 V=0.8154 | AUC: 0.8676 | Perf: 0.5610\n",
      "    ✓ New best F1: 0.8154\n",
      "Epoch  9/100 | Loss: T=0.6710 V=0.6130 Gap=-0.0580\n",
      "         | F1: T=0.0000 V=0.8228 | AUC: 0.8675 | Perf: 0.5634\n",
      "    ✓ New best F1: 0.8228\n",
      "Epoch 10/100 | Loss: T=0.6679 V=0.6093 Gap=-0.0587\n",
      "         | F1: T=0.0000 V=0.8288 | AUC: 0.8681 | Perf: 0.5656\n",
      "    ✓ New best F1: 0.8288\n",
      "Epoch 11/100 | Loss: T=0.6655 V=0.6061 Gap=-0.0595\n",
      "         | F1: T=0.0000 V=0.8322 | AUC: 0.8706 | Perf: 0.5676\n",
      "    ✓ New best F1: 0.8322\n",
      "Epoch 12/100 | Loss: T=0.6625 V=0.6033 Gap=-0.0592\n",
      "         | F1: T=0.0000 V=0.8343 | AUC: 0.8701 | Perf: 0.5681\n",
      "    ✓ New best F1: 0.8343\n",
      "Epoch 13/100 | Loss: T=0.6601 V=0.6008 Gap=-0.0593\n",
      "         | F1: T=0.0000 V=0.8360 | AUC: 0.8716 | Perf: 0.5692\n",
      "    ✓ New best F1: 0.8360\n",
      "Epoch 14/100 | Loss: T=0.6571 V=0.5976 Gap=-0.0595\n",
      "         | F1: T=0.0000 V=0.8376 | AUC: 0.8735 | Perf: 0.5704\n",
      "    ✓ New best F1: 0.8376\n",
      "Epoch 15/100 | Loss: T=0.6550 V=0.5947 Gap=-0.0603\n",
      "         | F1: T=0.0000 V=0.8388 | AUC: 0.8756 | Perf: 0.5715\n",
      "    ✓ New best F1: 0.8388\n",
      "Epoch 16/100 | Loss: T=0.6523 V=0.5926 Gap=-0.0597\n",
      "         | F1: T=0.0000 V=0.8396 | AUC: 0.8767 | Perf: 0.5721\n",
      "    ✓ New best F1: 0.8396\n",
      "Epoch 17/100 | Loss: T=0.6489 V=0.5887 Gap=-0.0603\n",
      "         | F1: T=0.0000 V=0.8399 | AUC: 0.8861 | Perf: 0.5753\n",
      "    ✓ New best F1: 0.8399\n",
      "Epoch 18/100 | Loss: T=0.6461 V=0.5864 Gap=-0.0597\n",
      "         | F1: T=0.0000 V=0.8410 | AUC: 0.8909 | Perf: 0.5773\n",
      "    ✓ New best F1: 0.8410\n",
      "Epoch 19/100 | Loss: T=0.6437 V=0.5830 Gap=-0.0608\n",
      "         | F1: T=0.0000 V=0.8406 | AUC: 0.8944 | Perf: 0.5783\n",
      "Epoch 20/100 | Loss: T=0.6406 V=0.5795 Gap=-0.0611\n",
      "         | F1: T=0.0000 V=0.8410 | AUC: 0.9022 | Perf: 0.5810\n",
      "Epoch 21/100 | Loss: T=0.6371 V=0.5768 Gap=-0.0603\n",
      "         | F1: T=0.0000 V=0.8411 | AUC: 0.9037 | Perf: 0.5816\n",
      "    ✓ New best F1: 0.8411\n",
      "Epoch 22/100 | Loss: T=0.6355 V=0.5742 Gap=-0.0613\n",
      "         | F1: T=0.0000 V=0.8411 | AUC: 0.9048 | Perf: 0.5820\n",
      "Epoch 23/100 | Loss: T=0.6308 V=0.5708 Gap=-0.0600\n",
      "         | F1: T=0.0000 V=0.8416 | AUC: 0.9044 | Perf: 0.5820\n",
      "    ✓ New best F1: 0.8416\n",
      "Epoch 24/100 | Loss: T=0.6275 V=0.5673 Gap=-0.0602\n",
      "         | F1: T=0.0000 V=0.8417 | AUC: 0.9048 | Perf: 0.5822\n",
      "    ✓ New best F1: 0.8417\n",
      "Epoch 25/100 | Loss: T=0.6255 V=0.5635 Gap=-0.0620\n",
      "         | F1: T=0.0000 V=0.8417 | AUC: 0.9081 | Perf: 0.5833\n",
      "    ✓ New best F1: 0.8417\n",
      "Epoch 26/100 | Loss: T=0.6224 V=0.5608 Gap=-0.0615\n",
      "         | F1: T=0.0000 V=0.8424 | AUC: 0.9035 | Perf: 0.5819\n",
      "    ✓ New best F1: 0.8424\n",
      "Epoch 27/100 | Loss: T=0.6183 V=0.5579 Gap=-0.0604\n",
      "         | F1: T=0.0000 V=0.8427 | AUC: 0.9026 | Perf: 0.5818\n",
      "    ✓ New best F1: 0.8427\n",
      "Epoch 28/100 | Loss: T=0.6164 V=0.5548 Gap=-0.0615\n",
      "         | F1: T=0.0000 V=0.8436 | AUC: 0.9008 | Perf: 0.5815\n",
      "    ✓ New best F1: 0.8436\n",
      "Epoch 29/100 | Loss: T=0.6125 V=0.5503 Gap=-0.0622\n",
      "         | F1: T=0.0000 V=0.8434 | AUC: 0.9002 | Perf: 0.5812\n",
      "Epoch 30/100 | Loss: T=0.6103 V=0.5466 Gap=-0.0637\n",
      "         | F1: T=0.0000 V=0.8437 | AUC: 0.9018 | Perf: 0.5818\n",
      "    ✓ New best F1: 0.8437\n",
      "Epoch 31/100 | Loss: T=0.6071 V=0.5440 Gap=-0.0631\n",
      "         | F1: T=0.0000 V=0.8437 | AUC: 0.9009 | Perf: 0.5816\n",
      "Epoch 32/100 | Loss: T=0.6024 V=0.5418 Gap=-0.0605\n",
      "         | F1: T=0.0000 V=0.8432 | AUC: 0.8996 | Perf: 0.5809\n",
      "Epoch 33/100 | Loss: T=0.5992 V=0.5373 Gap=-0.0618\n",
      "         | F1: T=0.0000 V=0.8431 | AUC: 0.9004 | Perf: 0.5812\n",
      "Epoch 34/100 | Loss: T=0.5965 V=0.5335 Gap=-0.0630\n",
      "         | F1: T=0.0000 V=0.8433 | AUC: 0.9019 | Perf: 0.5818\n",
      "Epoch 35/100 | Loss: T=0.5948 V=0.5327 Gap=-0.0621\n",
      "         | F1: T=0.0000 V=0.8433 | AUC: 0.9013 | Perf: 0.5815\n",
      "Epoch 36/100 | Loss: T=0.5910 V=0.5298 Gap=-0.0612\n",
      "         | F1: T=0.0000 V=0.8436 | AUC: 0.9019 | Perf: 0.5818\n",
      "Epoch 37/100 | Loss: T=0.5878 V=0.5279 Gap=-0.0600\n",
      "         | F1: T=0.0000 V=0.8437 | AUC: 0.9026 | Perf: 0.5821\n",
      "Epoch 38/100 | Loss: T=0.5862 V=0.5257 Gap=-0.0605\n",
      "         | F1: T=0.0000 V=0.8437 | AUC: 0.9031 | Perf: 0.5823\n",
      "Epoch 39/100 | Loss: T=0.5846 V=0.5238 Gap=-0.0608\n",
      "         | F1: T=0.0000 V=0.8437 | AUC: 0.9029 | Perf: 0.5822\n",
      "Epoch 40/100 | Loss: T=0.5828 V=0.5213 Gap=-0.0615\n",
      "         | F1: T=0.0000 V=0.8435 | AUC: 0.9036 | Perf: 0.5824\n",
      "Epoch 41/100 | Loss: T=0.5808 V=0.5191 Gap=-0.0618\n",
      "         | F1: T=0.0000 V=0.8437 | AUC: 0.9032 | Perf: 0.5823\n",
      "Epoch 42/100 | Loss: T=0.5804 V=0.5171 Gap=-0.0632\n",
      "         | F1: T=0.0000 V=0.8436 | AUC: 0.9034 | Perf: 0.5824\n",
      "Epoch 43/100 | Loss: T=0.5774 V=0.5161 Gap=-0.0613\n",
      "         | F1: T=0.0000 V=0.8435 | AUC: 0.9033 | Perf: 0.5823\n",
      "Epoch 44/100 | Loss: T=0.5757 V=0.5135 Gap=-0.0622\n",
      "         | F1: T=0.0000 V=0.8437 | AUC: 0.9052 | Perf: 0.5830\n",
      "Epoch 45/100 | Loss: T=0.5739 V=0.5127 Gap=-0.0612\n",
      "         | F1: T=0.0000 V=0.8441 | AUC: 0.9054 | Perf: 0.5832\n",
      "    ✓ New best F1: 0.8441\n",
      "Epoch 46/100 | Loss: T=0.5740 V=0.5116 Gap=-0.0623\n",
      "         | F1: T=0.0000 V=0.8438 | AUC: 0.9052 | Perf: 0.5830\n",
      "Epoch 47/100 | Loss: T=0.5722 V=0.5099 Gap=-0.0623\n",
      "         | F1: T=0.0000 V=0.8440 | AUC: 0.9057 | Perf: 0.5832\n",
      "Epoch 48/100 | Loss: T=0.5712 V=0.5083 Gap=-0.0629\n",
      "         | F1: T=0.0000 V=0.8442 | AUC: 0.9059 | Perf: 0.5834\n",
      "    ✓ New best F1: 0.8442\n",
      "Epoch 49/100 | Loss: T=0.5676 V=0.5060 Gap=-0.0616\n",
      "         | F1: T=0.0000 V=0.8443 | AUC: 0.9072 | Perf: 0.5838\n",
      "    ✓ New best F1: 0.8443\n",
      "Epoch 50/100 | Loss: T=0.5673 V=0.5058 Gap=-0.0615\n",
      "         | F1: T=0.3768 V=0.8444 | AUC: 0.9076 | Perf: 0.7096\n",
      "    ✓ New best F1: 0.8444\n",
      "Epoch 51/100 | Loss: T=0.5667 V=0.5053 Gap=-0.0614\n",
      "         | F1: T=0.7524 V=0.8442 | AUC: 0.9068 | Perf: 0.8345\n",
      "Epoch 52/100 | Loss: T=0.5648 V=0.5029 Gap=-0.0619\n",
      "         | F1: T=0.7618 V=0.8444 | AUC: 0.9087 | Perf: 0.8383\n",
      "Epoch 53/100 | Loss: T=0.5656 V=0.5002 Gap=-0.0655\n",
      "         | F1: T=0.7591 V=0.8447 | AUC: 0.9087 | Perf: 0.8375\n",
      "    ✓ New best F1: 0.8447\n",
      "Epoch 54/100 | Loss: T=0.5621 V=0.4987 Gap=-0.0634\n",
      "         | F1: T=0.7607 V=0.8446 | AUC: 0.9134 | Perf: 0.8396\n",
      "Epoch 55/100 | Loss: T=0.5614 V=0.4983 Gap=-0.0630\n",
      "         | F1: T=0.7627 V=0.8446 | AUC: 0.9132 | Perf: 0.8402\n",
      "Epoch 56/100 | Loss: T=0.5596 V=0.4964 Gap=-0.0632\n",
      "         | F1: T=0.7697 V=0.8444 | AUC: 0.9144 | Perf: 0.8428\n",
      "Epoch 57/100 | Loss: T=0.5595 V=0.4951 Gap=-0.0645\n",
      "         | F1: T=0.7711 V=0.8446 | AUC: 0.9115 | Perf: 0.8424\n",
      "Epoch 58/100 | Loss: T=0.5580 V=0.4931 Gap=-0.0649\n",
      "         | F1: T=0.7758 V=0.8444 | AUC: 0.9134 | Perf: 0.8445\n",
      "Epoch 59/100 | Loss: T=0.5546 V=0.4925 Gap=-0.0622\n",
      "         | F1: T=0.7840 V=0.8445 | AUC: 0.9174 | Perf: 0.8486\n",
      "Epoch 60/100 | Loss: T=0.5548 V=0.4916 Gap=-0.0632\n",
      "         | F1: T=0.7811 V=0.8447 | AUC: 0.9161 | Perf: 0.8473\n",
      "Epoch 61/100 | Loss: T=0.5529 V=0.4898 Gap=-0.0632\n",
      "         | F1: T=0.7874 V=0.8443 | AUC: 0.9183 | Perf: 0.8500\n",
      "Epoch 62/100 | Loss: T=0.5526 V=0.4880 Gap=-0.0646\n",
      "         | F1: T=0.7868 V=0.8444 | AUC: 0.9201 | Perf: 0.8504\n",
      "Epoch 63/100 | Loss: T=0.5506 V=0.4881 Gap=-0.0625\n",
      "         | F1: T=0.7953 V=0.8445 | AUC: 0.9163 | Perf: 0.8520\n",
      "Epoch 64/100 | Loss: T=0.5510 V=0.4858 Gap=-0.0653\n",
      "         | F1: T=0.7983 V=0.8444 | AUC: 0.9179 | Perf: 0.8536\n",
      "Epoch 65/100 | Loss: T=0.5494 V=0.4847 Gap=-0.0647\n",
      "         | F1: T=0.7932 V=0.8444 | AUC: 0.9177 | Perf: 0.8518\n",
      "Epoch 66/100 | Loss: T=0.5479 V=0.4846 Gap=-0.0633\n",
      "         | F1: T=0.7994 V=0.8445 | AUC: 0.9151 | Perf: 0.8530\n",
      "Epoch 67/100 | Loss: T=0.5451 V=0.4832 Gap=-0.0619\n",
      "         | F1: T=0.8012 V=0.8444 | AUC: 0.9181 | Perf: 0.8546\n",
      "Epoch 68/100 | Loss: T=0.5456 V=0.4801 Gap=-0.0655\n",
      "         | F1: T=0.8060 V=0.8444 | AUC: 0.9205 | Perf: 0.8569\n",
      "Epoch 69/100 | Loss: T=0.5425 V=0.4806 Gap=-0.0619\n",
      "         | F1: T=0.8112 V=0.8445 | AUC: 0.9164 | Perf: 0.8574\n",
      "Epoch 70/100 | Loss: T=0.5442 V=0.4789 Gap=-0.0653\n",
      "         | F1: T=0.8125 V=0.8444 | AUC: 0.9194 | Perf: 0.8588\n",
      "Epoch 71/100 | Loss: T=0.5424 V=0.4754 Gap=-0.0670\n",
      "         | F1: T=0.8131 V=0.8443 | AUC: 0.9233 | Perf: 0.8602\n",
      "Epoch 72/100 | Loss: T=0.5396 V=0.4765 Gap=-0.0631\n",
      "         | F1: T=0.8162 V=0.8444 | AUC: 0.9210 | Perf: 0.8605\n",
      "Epoch 73/100 | Loss: T=0.5399 V=0.4769 Gap=-0.0631\n",
      "         | F1: T=0.8205 V=0.8445 | AUC: 0.9132 | Perf: 0.8594\n",
      "Epoch 74/100 | Loss: T=0.5382 V=0.4754 Gap=-0.0628\n",
      "         | F1: T=0.8197 V=0.8443 | AUC: 0.9155 | Perf: 0.8598\n",
      "Epoch 75/100 | Loss: T=0.5377 V=0.4721 Gap=-0.0657\n",
      "         | F1: T=0.8240 V=0.8443 | AUC: 0.9211 | Perf: 0.8631\n",
      "Epoch 76/100 | Loss: T=0.5357 V=0.4711 Gap=-0.0646\n",
      "         | F1: T=0.8254 V=0.8443 | AUC: 0.9208 | Perf: 0.8635\n",
      "Epoch 77/100 | Loss: T=0.5359 V=0.4703 Gap=-0.0656\n",
      "         | F1: T=0.8262 V=0.8443 | AUC: 0.9217 | Perf: 0.8640\n",
      "Epoch 78/100 | Loss: T=0.5345 V=0.4735 Gap=-0.0609\n",
      "         | F1: T=0.8306 V=0.8439 | AUC: 0.9083 | Perf: 0.8609\n",
      "Epoch 79/100 | Loss: T=0.5333 V=0.4691 Gap=-0.0641\n",
      "         | F1: T=0.8432 V=0.8438 | AUC: 0.9079 | Perf: 0.8649\n",
      "Epoch 80/100 | Loss: T=0.5295 V=0.4678 Gap=-0.0617\n",
      "         | F1: T=0.8433 V=0.8439 | AUC: 0.9075 | Perf: 0.8649\n",
      "Epoch 81/100 | Loss: T=0.5317 V=0.4667 Gap=-0.0650\n",
      "         | F1: T=0.8438 V=0.8438 | AUC: 0.9062 | Perf: 0.8646\n",
      "Epoch 82/100 | Loss: T=0.5310 V=0.4644 Gap=-0.0666\n",
      "         | F1: T=0.8406 V=0.8440 | AUC: 0.9056 | Perf: 0.8634\n",
      "Epoch 83/100 | Loss: T=0.5283 V=0.4638 Gap=-0.0644\n",
      "         | F1: T=0.8445 V=0.8441 | AUC: 0.9051 | Perf: 0.8646\n",
      "Epoch 84/100 | Loss: T=0.5261 V=0.4631 Gap=-0.0630\n",
      "         | F1: T=0.8543 V=0.8442 | AUC: 0.9050 | Perf: 0.8678\n",
      "Epoch 85/100 | Loss: T=0.5245 V=0.4613 Gap=-0.0631\n",
      "         | F1: T=0.8522 V=0.8443 | AUC: 0.9050 | Perf: 0.8672\n",
      "Epoch 86/100 | Loss: T=0.5222 V=0.4622 Gap=-0.0600\n",
      "         | F1: T=0.8595 V=0.8440 | AUC: 0.9046 | Perf: 0.8694\n",
      "Epoch 87/100 | Loss: T=0.5233 V=0.4624 Gap=-0.0609\n",
      "         | F1: T=0.8577 V=0.8440 | AUC: 0.9045 | Perf: 0.8687\n",
      "Epoch 88/100 | Loss: T=0.5224 V=0.4594 Gap=-0.0631\n",
      "         | F1: T=0.8626 V=0.8441 | AUC: 0.9044 | Perf: 0.8704\n",
      "Early stopping after 35 epochs without improvement\n",
      "\n",
      "Restored best model with validation F1: 0.8447\n",
      "\n",
      "=== FINAL TEST EVALUATION ===\n",
      "Final Test Results:\n",
      "   F1 Score: 0.4812\n",
      "   AUC Score: 0.7503\n",
      "   Best Threshold: 0.450\n",
      "   Test Samples: 7264\n",
      "\n",
      "✓ Training completed and logged to W&B run: best_model_final_test\n",
      "✓ All results saved to W&B project: lstm-cybersecurity-fixed\n"
     ]
    },
    {
     "data": {
      "text/html": [],
      "text/plain": [
       "<IPython.core.display.HTML object>"
      ]
     },
     "metadata": {},
     "output_type": "display_data"
    },
    {
     "data": {
      "text/html": [
       "<br>    <style><br>        .wandb-row {<br>            display: flex;<br>            flex-direction: row;<br>            flex-wrap: wrap;<br>            justify-content: flex-start;<br>            width: 100%;<br>        }<br>        .wandb-col {<br>            display: flex;<br>            flex-direction: column;<br>            flex-basis: 100%;<br>            flex: 1;<br>            padding: 10px;<br>        }<br>    </style><br><div class=\"wandb-row\"><div class=\"wandb-col\"><h3>Run history:</h3><br/><table class=\"wandb\"><tr><td>best_epoch</td><td>▁▁▁▁▂▂▂▂▂▂▂▂▃▃▃▃▃▃▄▄▄▄▄▅▅▅▇▇▇██</td></tr><tr><td>best_model_saved</td><td>▁▁▁▁▁▁▁▁▁▁▁▁▁▁▁▁▁▁▁▁▁▁▁▁▁▁▁▁▁▁▁</td></tr><tr><td>best_val_f1</td><td>▁▁▃▅▆▇▇▇███████████████████████</td></tr><tr><td>combined_performance</td><td>▁▁▃▄▄▄▄▄▄▄▄▄▄▄▄▄▄▄▄▄▄███████████████████</td></tr><tr><td>early_stop</td><td>▁</td></tr><tr><td>early_stop_epoch</td><td>▁</td></tr><tr><td>epoch</td><td>▁▁▁▁▂▂▂▂▂▂▂▃▃▃▃▄▄▄▄▅▅▅▅▆▆▆▆▆▆▆▇▇▇▇▇█████</td></tr><tr><td>final_test/auc_score</td><td>▁</td></tr><tr><td>final_test/best_threshold</td><td>▁</td></tr><tr><td>final_test/completed</td><td>▁</td></tr><tr><td>+34</td><td>...</td></tr></table><br/></div><div class=\"wandb-col\"><h3>Run summary:</h3><br/><table class=\"wandb\"><tr><td>best_epoch</td><td>53</td></tr><tr><td>best_model_saved</td><td>1</td></tr><tr><td>best_val_f1</td><td>0.84467</td></tr><tr><td>combined_performance</td><td>0.87036</td></tr><tr><td>early_stop</td><td>1</td></tr><tr><td>early_stop_epoch</td><td>88</td></tr><tr><td>epoch</td><td>88</td></tr><tr><td>final_test/auc_score</td><td>0.75034</td></tr><tr><td>final_test/best_threshold</td><td>0.45</td></tr><tr><td>final_test/completed</td><td>1</td></tr><tr><td>+37</td><td>...</td></tr></table><br/></div></div>"
      ],
      "text/plain": [
       "<IPython.core.display.HTML object>"
      ]
     },
     "metadata": {},
     "output_type": "display_data"
    },
    {
     "data": {
      "text/html": [
       " View run <strong style=\"color:#cdcd00\">best_model_final_test</strong> at: <a href='https://wandb.ai/derelioglugokdeniz-bilkent-university/lstm-cybersecurity-fixed/runs/lokxz6u8' target=\"_blank\">https://wandb.ai/derelioglugokdeniz-bilkent-university/lstm-cybersecurity-fixed/runs/lokxz6u8</a><br> View project at: <a href='https://wandb.ai/derelioglugokdeniz-bilkent-university/lstm-cybersecurity-fixed' target=\"_blank\">https://wandb.ai/derelioglugokdeniz-bilkent-university/lstm-cybersecurity-fixed</a><br>Synced 5 W&B file(s), 0 media file(s), 0 artifact file(s) and 0 other file(s)"
      ],
      "text/plain": [
       "<IPython.core.display.HTML object>"
      ]
     },
     "metadata": {},
     "output_type": "display_data"
    },
    {
     "data": {
      "text/html": [
       "Find logs at: <code>.\\wandb\\run-20250902_114811-lokxz6u8\\logs</code>"
      ],
      "text/plain": [
       "<IPython.core.display.HTML object>"
      ]
     },
     "metadata": {},
     "output_type": "display_data"
    },
    {
     "name": "stdout",
     "output_type": "stream",
     "text": [
      "\n",
      "✓ Model saved locally as: saved_model.pth\n",
      "✓ Hyperparameters saved locally as: saved_parameters.json\n",
      "\n",
      "============================================================\n",
      "FINAL MODEL TRAINING COMPLETED\n",
      "============================================================\n"
     ]
    }
   ],
   "source": [
    "# ==============================\n",
    "# FINAL LSTM MODEL TRAINING WITH SPECIFIC HYPERPARAMETERS\n",
    "# ==============================\n",
    "\n",
    "import numpy as np\n",
    "import torch\n",
    "import torch.nn as nn\n",
    "from torch.utils.data import DataLoader, TensorDataset\n",
    "from sklearn.metrics import f1_score, roc_auc_score\n",
    "import wandb\n",
    "import pickle\n",
    "\n",
    "\n",
    "# Your specific hyperparameters\n",
    "final_params = {\n",
    "    'epochs': 100,\n",
    "    'sequence_length': 128,\n",
    "    'pos_weight': 0.88654,\n",
    "    'num_layers': 1,\n",
    "    'min_delta': 0.0000014444,\n",
    "    'lr': 0.00011505,\n",
    "    'l2_reg': 0.000034745,\n",
    "    'l1_reg': 0.000072167,\n",
    "    'early_stopping_patience': 35,\n",
    "    'hidden_dim': 4,\n",
    "    'gradient_clip': 4.21752,\n",
    "    'dropout': 0.29761,\n",
    "    'batch_size': 512,\n",
    "    'bidirectional': True,  # Default choice\n",
    "    'use_attention': True,  # Default choice\n",
    "    'wandb_project': \"lstm-cybersecurity-fixed\"\n",
    "}\n",
    "\n",
    "print(\"=== TRAINING FINAL MODEL WITH SPECIFIC HYPERPARAMETERS ===\")\n",
    "print(\"Hyperparameters:\")\n",
    "for k, v in final_params.items():\n",
    "    print(f\"   {k}: {v}\")\n",
    "\n",
    "# Prepare data with the specified sequence length\n",
    "def adjust_seq(x, target_len):\n",
    "    \"\"\"Adjust sequence length by padding or truncating\"\"\"\n",
    "    cur = x.shape[1]\n",
    "    if target_len == cur:\n",
    "        return x\n",
    "    if target_len < cur:\n",
    "        return x[:, -target_len:, :]  # Take last target_len timesteps\n",
    "    pad = target_len - cur\n",
    "    return np.pad(x, ((0,0), (pad,0), (0,0)), mode='constant')  # Pad at beginning\n",
    "\n",
    "# Adjust sequence lengths for all datasets\n",
    "seq_len = final_params['sequence_length']\n",
    "X_train_final = adjust_seq(X_train_seq, seq_len)\n",
    "X_val_final = adjust_seq(X_val_seq, seq_len)\n",
    "X_test_final = adjust_seq(X_test_seq, seq_len)\n",
    "\n",
    "print(f\"\\nData shapes after sequence adjustment:\")\n",
    "print(f\"Train: {X_train_final.shape}, Val: {X_val_final.shape}, Test: {X_test_final.shape}\")\n",
    "\n",
    "def preprocess_data_fixed(X_train, X_val, X_test, y_train, y_val, y_test):\n",
    "    \"\"\"\n",
    "    FIXED: More conservative preprocessing to preserve signal\n",
    "    \"\"\"\n",
    "    print(\"=== FIXED Data Preprocessing ===\")\n",
    "    \n",
    "    # Convert to numpy if needed\n",
    "    X_train = np.array(X_train, dtype=np.float32)\n",
    "    X_val = np.array(X_val, dtype=np.float32)\n",
    "    X_test = np.array(X_test, dtype=np.float32)\n",
    "    y_train = np.array(y_train, dtype=np.float32)\n",
    "    y_val = np.array(y_val, dtype=np.float32)\n",
    "    y_test = np.array(y_test, dtype=np.float32)\n",
    "    \n",
    "    # Clean data\n",
    "    def clean_sequences(X, y):\n",
    "        valid_mask = ~(np.isnan(X).any(axis=(1,2)) | np.isinf(X).any(axis=(1,2)) | \n",
    "                      np.isnan(y) | np.isinf(y))\n",
    "        return X[valid_mask], y[valid_mask]\n",
    "    \n",
    "    X_train, y_train = clean_sequences(X_train, y_train)\n",
    "    X_val, y_val = clean_sequences(X_val, y_val)\n",
    "    X_test, y_test = clean_sequences(X_test, y_test)\n",
    "    \n",
    "    print(f\"After cleaning - Train: {len(X_train)}, Val: {len(X_val)}, Test: {len(X_test)}\")\n",
    "    \n",
    "    # CONSERVATIVE scaling - preserve more signal\n",
    "    original_shape_train = X_train.shape\n",
    "    original_shape_val = X_val.shape\n",
    "    original_shape_test = X_test.shape\n",
    "    \n",
    "    # Reshape to (samples * timesteps, features)\n",
    "    X_train_flat = X_train.reshape(-1, X_train.shape[-1])\n",
    "    X_val_flat = X_val.reshape(-1, X_val.shape[-1])\n",
    "    X_test_flat = X_test.reshape(-1, X_test.shape[-1])\n",
    "    \n",
    "    # Use StandardScaler (less aggressive than RobustScaler)\n",
    "    scaler = StandardScaler()\n",
    "    X_train_flat = scaler.fit_transform(X_train_flat)\n",
    "    X_val_flat = scaler.transform(X_val_flat)\n",
    "    X_test_flat = scaler.transform(X_test_flat)\n",
    "    \n",
    "    pickle.dump(scaler, open('saved_scaler.pkl', 'wb'))\n",
    "\n",
    "    # Reshape back\n",
    "    X_train = X_train_flat.reshape(original_shape_train)\n",
    "    X_val = X_val_flat.reshape(original_shape_val)\n",
    "    X_test = X_test_flat.reshape(original_shape_test)\n",
    "    \n",
    "    # REMOVED: Aggressive clipping that can remove signal\n",
    "    # Only clip extreme outliers (>6 sigma)\n",
    "    clip_value = 6.0\n",
    "    X_train = np.clip(X_train, -clip_value, clip_value)\n",
    "    X_val = np.clip(X_val, -clip_value, clip_value)\n",
    "    X_test = np.clip(X_test, -clip_value, clip_value)\n",
    "    \n",
    "    # Ensure labels are properly shaped\n",
    "    y_train = y_train.reshape(-1)\n",
    "    y_val = y_val.reshape(-1)\n",
    "    y_test = y_test.reshape(-1)\n",
    "    \n",
    "    # More conservative pos_weight calculation\n",
    "    train_pos_ratio = np.mean(y_train)\n",
    "    val_pos_ratio = np.mean(y_val)\n",
    "    \n",
    "    print(f\"Class balance - Train: {train_pos_ratio:.3f}, Val: {val_pos_ratio:.3f}\")\n",
    "    \n",
    "    # Less aggressive pos_weight\n",
    "    if train_pos_ratio > 0:\n",
    "        pos_weight = np.sqrt((1 - train_pos_ratio) / train_pos_ratio)  # Square root for less aggressive weighting\n",
    "        pos_weight = np.clip(pos_weight, 0.8, 3.0)  # Much tighter bounds\n",
    "    else:\n",
    "        pos_weight = 1.0\n",
    "    \n",
    "    print(f\"Calculated pos_weight: {pos_weight:.2f}\")\n",
    "    \n",
    "    return X_train, X_val, X_test, y_train, y_val, y_test, scaler, pos_weight\n",
    "\n",
    "# Preprocess data\n",
    "X_train_c, X_val_c, X_test_c, y_train_c, y_val_c, y_test_c, scaler, calculated_pos_weight = preprocess_data_fixed(\n",
    "    X_train_final, X_val_final, X_test_final, y_train_seq, y_val_seq, y_test_seq\n",
    ")\n",
    "\n",
    "print(f\"Using specified pos_weight: {final_params['pos_weight']} (calculated: {calculated_pos_weight:.5f})\")\n",
    "\n",
    "# Create the model\n",
    "final_model = AdvancedLSTM(\n",
    "    input_dim=X_train_c.shape[2],\n",
    "    hidden_dim=final_params['hidden_dim'],\n",
    "    num_layers=final_params['num_layers'],\n",
    "    dropout=final_params['dropout'],\n",
    "    bidirectional=final_params['bidirectional'],\n",
    "    use_attention=final_params['use_attention']\n",
    ").to(device)\n",
    "\n",
    "print(f\"\\nModel created with {sum(p.numel() for p in final_model.parameters())} parameters\")\n",
    "\n",
    "# Initialize W&B with comprehensive config\n",
    "wandb_config = {\n",
    "    # Specified hyperparameters\n",
    "    'sequence_length': final_params['sequence_length'],\n",
    "    'pos_weight': final_params['pos_weight'],\n",
    "    'num_layers': final_params['num_layers'],\n",
    "    'lr': final_params['lr'],\n",
    "    'l2_reg': final_params['l2_reg'],\n",
    "    'l1_reg': final_params['l1_reg'],\n",
    "    'hidden_dim': final_params['hidden_dim'],\n",
    "    'gradient_clip': final_params['gradient_clip'],\n",
    "    'early_stopping_patience': final_params['early_stopping_patience'],\n",
    "    'dropout': final_params['dropout'],\n",
    "    'batch_size': final_params['batch_size'],\n",
    "    'bidirectional': final_params['bidirectional'],\n",
    "    'use_attention': final_params['use_attention'],\n",
    "    'epochs': final_params['epochs'],\n",
    "    \n",
    "    # Model and data info\n",
    "    'model_params': sum(p.numel() for p in final_model.parameters()),\n",
    "    'device': str(device),\n",
    "    'train_samples': len(X_train_c),\n",
    "    'val_samples': len(X_val_c),\n",
    "    'test_samples': len(X_test_c),\n",
    "    'input_features': X_train_c.shape[2],\n",
    "    'sequence_length_actual': X_train_c.shape[1],\n",
    "    'train_pos_ratio': float(np.mean(y_train_c)),\n",
    "    'val_pos_ratio': float(np.mean(y_val_c)),\n",
    "    'test_pos_ratio': float(np.mean(y_test_c)),\n",
    "    \n",
    "    # Training setup\n",
    "    'model_type': 'FixedLSTM',\n",
    "    'optimizer_type': 'Adam',\n",
    "    'loss_function': 'BCEWithLogitsLoss',\n",
    "    'scheduler_type': 'ReduceLROnPlateau',\n",
    "    'data_normalization': 'StandardScaler',\n",
    "    'training_mode': 'final_model_specific_hyperparams'\n",
    "}\n",
    "\n",
    "# Initialize W&B run\n",
    "run = wandb.init(\n",
    "    project=final_params[\"wandb_project\"],\n",
    "    name=\"best_model_final_test\",\n",
    "    config=wandb_config,\n",
    "    tags=[\"final_model\", \"specific_hyperparams\", \"best_model_final_test\"],\n",
    "    reinit=True\n",
    ")\n",
    "\n",
    "wandb.watch(final_model, log=\"all\", log_freq=100)\n",
    "\n",
    "print(f\"\\nStarting training - logging to W&B project: {final_params['wandb_project']}\")\n",
    "print(f\"Run name: best_model_final_test\")\n",
    "\n",
    "try:\n",
    "    # Prepare data loaders\n",
    "    X_train_c = X_train_c.astype(np.float32)\n",
    "    X_val_c = X_val_c.astype(np.float32)\n",
    "    y_train_c = y_train_c.astype(np.float32)\n",
    "    y_val_c = y_val_c.astype(np.float32)\n",
    "\n",
    "    train_loader = DataLoader(\n",
    "        TensorDataset(torch.from_numpy(X_train_c), torch.from_numpy(y_train_c)),\n",
    "        batch_size=final_params['batch_size'], \n",
    "        shuffle=True\n",
    "    )\n",
    "    val_loader = DataLoader(\n",
    "        TensorDataset(torch.from_numpy(X_val_c), torch.from_numpy(y_val_c)),\n",
    "        batch_size=final_params['batch_size'], \n",
    "        shuffle=False\n",
    "    )\n",
    "\n",
    "    # Setup optimizer and scheduler\n",
    "    optimizer = torch.optim.Adam(\n",
    "        final_model.parameters(),\n",
    "        lr=final_params['lr'],\n",
    "        weight_decay=final_params['l2_reg'],\n",
    "        betas=(0.9, 0.999)\n",
    "    )\n",
    "\n",
    "    scheduler = torch.optim.lr_scheduler.ReduceLROnPlateau(\n",
    "        optimizer, mode='max', factor=0.7, patience=7, verbose=True, min_lr=5e-6\n",
    "    )\n",
    "\n",
    "    criterion = nn.BCEWithLogitsLoss(\n",
    "        pos_weight=torch.tensor([final_params['pos_weight']], device=device)\n",
    "    )\n",
    "\n",
    "    # Training loop\n",
    "    train_losses, val_losses = [], []\n",
    "    train_f1s, val_f1s, val_aucs = [], [], []\n",
    "    best_val_f1, patience_counter = 0.0, 0\n",
    "    best_model_state = None\n",
    "    performance_history = []\n",
    "\n",
    "    final_model.to(device)\n",
    "\n",
    "    for epoch in range(final_params['epochs']):\n",
    "        # --- TRAINING PHASE ---\n",
    "        final_model.train()\n",
    "        epoch_loss = 0.0\n",
    "        train_preds_all, train_targets_all = [], []\n",
    "\n",
    "        for batch_idx, (Xb, yb) in enumerate(train_loader):\n",
    "            Xb = Xb.to(device)\n",
    "            yb = yb.to(device)\n",
    "\n",
    "            optimizer.zero_grad()\n",
    "            logits = final_model(Xb).view(-1)\n",
    "            loss = criterion(logits, yb.view(-1))\n",
    "            \n",
    "            # Add L1 regularization if specified\n",
    "            if final_params['l1_reg'] > 0:\n",
    "                l1_penalty = sum(p.abs().sum() for p in final_model.parameters())\n",
    "                loss = loss + final_params['l1_reg'] * l1_penalty\n",
    "\n",
    "            loss.backward()\n",
    "            torch.nn.utils.clip_grad_norm_(final_model.parameters(), final_params['gradient_clip'])\n",
    "            optimizer.step()\n",
    "\n",
    "            epoch_loss += loss.item()\n",
    "\n",
    "            # Collect predictions for F1 calculation\n",
    "            with torch.no_grad():\n",
    "                probs = torch.sigmoid(logits).detach().cpu().numpy().flatten()\n",
    "                preds = (probs >= 0.5).astype(int)\n",
    "                train_preds_all.extend(preds.tolist())\n",
    "                train_targets_all.extend(yb.detach().cpu().numpy().flatten().tolist())\n",
    "\n",
    "        avg_train_loss = epoch_loss / len(train_loader)\n",
    "        train_losses.append(avg_train_loss)\n",
    "        \n",
    "        # Calculate training F1\n",
    "        if len(set(train_targets_all)) > 1:\n",
    "            train_f1 = f1_score(train_targets_all, train_preds_all, zero_division=0)\n",
    "        else:\n",
    "            train_f1 = 0.0\n",
    "        train_f1s.append(train_f1)\n",
    "\n",
    "        # --- VALIDATION PHASE ---\n",
    "        final_model.eval()\n",
    "        val_loss_sum = 0.0\n",
    "        val_probs_all, val_targets_all = [], []\n",
    "        \n",
    "        with torch.no_grad():\n",
    "            for Xb, yb in val_loader:\n",
    "                Xb = Xb.to(device)\n",
    "                yb = yb.to(device)\n",
    "                logits = final_model(Xb).view(-1)\n",
    "                val_loss_sum += criterion(logits, yb.view(-1)).item()\n",
    "                \n",
    "                probs = torch.sigmoid(logits).detach().cpu().numpy().flatten()\n",
    "                val_probs_all.extend(probs.tolist())\n",
    "                val_targets_all.extend(yb.detach().cpu().numpy().flatten().tolist())\n",
    "\n",
    "        avg_val_loss = val_loss_sum / len(val_loader)\n",
    "        val_losses.append(avg_val_loss)\n",
    "\n",
    "        # Calculate validation metrics\n",
    "        if len(np.unique(val_targets_all)) > 1:\n",
    "            val_auc = roc_auc_score(val_targets_all, val_probs_all)\n",
    "        else:\n",
    "            val_auc = 0.5\n",
    "        val_aucs.append(val_auc)\n",
    "\n",
    "        # Find best validation F1 across thresholds\n",
    "        best_val_f1_epoch = 0.0\n",
    "        vp = np.array(val_probs_all)\n",
    "        vt = np.array(val_targets_all)\n",
    "        for thresh in np.arange(0.3, 0.7, 0.05):\n",
    "            preds = (vp >= thresh).astype(int)\n",
    "            f1 = f1_score(vt, preds, zero_division=0)\n",
    "            if f1 > best_val_f1_epoch:\n",
    "                best_val_f1_epoch = f1\n",
    "        val_f1s.append(best_val_f1_epoch)\n",
    "\n",
    "        # Combined performance metric\n",
    "        current_perf = (train_f1 + best_val_f1_epoch + val_auc) / 3.0\n",
    "        performance_history.append(current_perf)\n",
    "\n",
    "        # Calculate metrics for logging\n",
    "        loss_gap = avg_val_loss - avg_train_loss\n",
    "        grad_norms = [p.grad.norm().item() for p in final_model.parameters() if p.grad is not None]\n",
    "        avg_grad_norm = np.mean(grad_norms) if grad_norms else 0.0\n",
    "        max_grad_norm = np.max(grad_norms) if grad_norms else 0.0\n",
    "\n",
    "        # Log to console\n",
    "        print(f\"Epoch {epoch+1:2d}/{final_params['epochs']} | \"\n",
    "              f\"Loss: T={avg_train_loss:.4f} V={avg_val_loss:.4f} Gap={loss_gap:.4f}\")\n",
    "        print(f\"         | F1: T={train_f1:.4f} V={best_val_f1_epoch:.4f} | \"\n",
    "              f\"AUC: {val_auc:.4f} | Perf: {current_perf:.4f}\")\n",
    "\n",
    "        # Comprehensive logging to W&B\n",
    "        log_dict = {\n",
    "            \"epoch\": epoch + 1,\n",
    "            \"train_loss\": avg_train_loss,\n",
    "            \"val_loss\": avg_val_loss,\n",
    "            \"loss_gap\": loss_gap,\n",
    "            \"train_f1\": train_f1,\n",
    "            \"val_f1\": best_val_f1_epoch,\n",
    "            \"val_auc\": val_auc,\n",
    "            \"combined_performance\": current_perf,\n",
    "            \"learning_rate\": optimizer.param_groups[0]['lr'],\n",
    "            \"patience_counter\": patience_counter,\n",
    "            \"gradients/avg_norm\": avg_grad_norm,\n",
    "            \"gradients/max_norm\": max_grad_norm,\n",
    "            \"training/overfitting_gap\": loss_gap,\n",
    "            \"model_state/weight_norm\": sum(p.norm().item() for p in final_model.parameters()),\n",
    "            \"predictions/val_prob_mean\": np.mean(val_probs_all),\n",
    "            \"predictions/val_prob_std\": np.std(val_probs_all),\n",
    "        }\n",
    "        wandb.log(log_dict)\n",
    "\n",
    "        # Early stopping and best model tracking\n",
    "        if best_val_f1_epoch > best_val_f1:\n",
    "            best_val_f1 = best_val_f1_epoch\n",
    "            best_model_state = {k: v.detach().cpu().clone() for k, v in final_model.state_dict().items()}\n",
    "            patience_counter = 0\n",
    "            print(f\"    ✓ New best F1: {best_val_f1:.4f}\")\n",
    "            wandb.log({\n",
    "                \"best_val_f1\": best_val_f1,\n",
    "                \"best_epoch\": epoch + 1,\n",
    "                \"best_model_saved\": 1\n",
    "            })\n",
    "        else:\n",
    "            patience_counter += 1\n",
    "\n",
    "        # Early stopping check\n",
    "        if patience_counter >= final_params['early_stopping_patience']:\n",
    "            print(f\"Early stopping after {patience_counter} epochs without improvement\")\n",
    "            wandb.log({\"early_stop\": 1, \"early_stop_epoch\": epoch + 1})\n",
    "            break\n",
    "\n",
    "        scheduler.step(current_perf)\n",
    "\n",
    "    # Restore best model\n",
    "    if best_model_state is not None:\n",
    "        final_model.load_state_dict({k: v.to(device) for k, v in best_model_state.items()})\n",
    "        print(f\"\\nRestored best model with validation F1: {best_val_f1:.4f}\")\n",
    "\n",
    "    # --- FINAL TEST EVALUATION ---\n",
    "    print(\"\\n=== FINAL TEST EVALUATION ===\")\n",
    "    final_model.eval()\n",
    "\n",
    "    with torch.no_grad():\n",
    "        # Get test predictions\n",
    "        X_test_tensor = torch.from_numpy(X_test_c.astype(np.float32)).to(device)\n",
    "        test_logits = final_model(X_test_tensor)\n",
    "        test_probs = torch.sigmoid(test_logits).detach().cpu().numpy().flatten()\n",
    "\n",
    "        # Get validation predictions for threshold optimization\n",
    "        X_val_tensor = torch.from_numpy(X_val_c.astype(np.float32)).to(device)\n",
    "        val_probs = torch.sigmoid(final_model(X_val_tensor)).detach().cpu().numpy().flatten()\n",
    "\n",
    "        # Find best threshold on validation set\n",
    "        best_threshold, best_val_f1_thresh = 0.5, 0.0\n",
    "        for th in np.arange(0.3, 0.7, 0.05):\n",
    "            vpred = (val_probs >= th).astype(int)\n",
    "            vf1 = f1_score(y_val_c, vpred, zero_division=0)\n",
    "            if vf1 > best_val_f1_thresh:\n",
    "                best_val_f1_thresh = vf1\n",
    "                best_threshold = float(th)\n",
    "\n",
    "        # Apply best threshold to test set\n",
    "        test_preds = (test_probs >= best_threshold).astype(int)\n",
    "        test_f1 = f1_score(y_test_c, test_preds, zero_division=0)\n",
    "        test_auc = roc_auc_score(y_test_c, test_probs) if len(np.unique(y_test_c)) > 1 else 0.5\n",
    "\n",
    "        print(f\"Final Test Results:\")\n",
    "        print(f\"   F1 Score: {test_f1:.4f}\")\n",
    "        print(f\"   AUC Score: {test_auc:.4f}\")\n",
    "        print(f\"   Best Threshold: {best_threshold:.3f}\")\n",
    "        print(f\"   Test Samples: {len(y_test_c)}\")\n",
    "\n",
    "        # Log final test results\n",
    "        final_test_results = {\n",
    "            \"final_test/f1_score\": test_f1,\n",
    "            \"final_test/auc_score\": test_auc,\n",
    "            \"final_test/best_threshold\": best_threshold,\n",
    "            \"final_test/test_samples\": len(y_test_c),\n",
    "            \"final_test/test_pos_ratio\": float(np.mean(y_test_c)),\n",
    "            \"final_test/completed\": 1,\n",
    "            \"summary/total_epochs_trained\": epoch + 1,\n",
    "            \"summary/best_val_f1\": best_val_f1,\n",
    "            \"summary/early_stopped\": int(patience_counter >= final_params['early_stopping_patience']),\n",
    "            \"summary/final_lr\": optimizer.param_groups[0]['lr']\n",
    "        }\n",
    "\n",
    "        # Include all hyperparameters in final results\n",
    "        for k, v in final_params.items():\n",
    "            if isinstance(v, (int, float, bool, str)):\n",
    "                final_test_results[f\"hyperparams/{k}\"] = v\n",
    "\n",
    "        wandb.log(final_test_results)\n",
    "\n",
    "        print(f\"\\n✓ Training completed and logged to W&B run: best_model_final_test\")\n",
    "        print(f\"✓ All results saved to W&B project: {final_params['wandb_project']}\")\n",
    "except Exception as e: \n",
    "        print(f\"Error during training: {e}\") \n",
    "        wandb.log({\"training_error\": str(e)}) \n",
    "        raise \n",
    "finally: \n",
    "    wandb.finish()\n",
    "    # --- SAVE MODEL AND HYPERPARAMETERS LOCALLY ---\n",
    "    # Save model\n",
    "    torch.save(final_model.state_dict(), \"saved_model.pth\")\n",
    "    print(f\"\\n✓ Model saved locally as: saved_model.pth\")\n",
    "\n",
    "    # Save hyperparameters\n",
    "    import json\n",
    "    with open(\"saved_parameters.json\", \"w\") as f:\n",
    "        json.dump(final_params, f, indent=4)\n",
    "    print(\"✓ Hyperparameters saved locally as: saved_parameters.json\")\n",
    "\n",
    "    print(\"\\n\" + \"=\"*60)\n",
    "    print(\"FINAL MODEL TRAINING COMPLETED\")\n",
    "    print(\"=\"*60)\n"
   ]
  }
 ],
 "metadata": {
  "kernelspec": {
   "display_name": "torch_gpu",
   "language": "python",
   "name": "python3"
  },
  "language_info": {
   "codemirror_mode": {
    "name": "ipython",
    "version": 3
   },
   "file_extension": ".py",
   "mimetype": "text/x-python",
   "name": "python",
   "nbconvert_exporter": "python",
   "pygments_lexer": "ipython3",
   "version": "3.11.13"
  }
 },
 "nbformat": 4,
 "nbformat_minor": 5
}
